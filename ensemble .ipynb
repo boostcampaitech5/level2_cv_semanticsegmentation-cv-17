{
 "cells": [
  {
   "cell_type": "code",
   "execution_count": 1,
   "metadata": {},
   "outputs": [],
   "source": [
    "import os\n",
    "import numpy as np\n",
    "import pandas as pd\n",
    "from tqdm import tqdm"
   ]
  },
  {
   "cell_type": "code",
   "execution_count": 2,
   "metadata": {},
   "outputs": [],
   "source": [
    "# csv가 홀수개가 있어야 함 \n",
    "# (다수결로 정하는데 동률이 나오면 안되므로)\n",
    "\n",
    "# ensemble할 csv 파일이 모여있는 폴더 위치\n",
    "# 그 폴더에 다른 용도의 csv 파일이 있으면 안됨\n",
    "CSV_ROOT = \"./make_ensemble\"\n",
    "\n",
    "# 이미지 크기\n",
    "img_size = (2048, 2048)\n",
    "\n",
    "# ensemble한 csv 파일을 저장할 위치와 파일 이름\n",
    "SAVED_DIR = \"./ensemble.csv\""
   ]
  },
  {
   "cell_type": "code",
   "execution_count": 3,
   "metadata": {},
   "outputs": [],
   "source": [
    "def mask_to_rle(mask):\n",
    "\n",
    "    pixels = mask.flatten()\n",
    "    pixels = np.concatenate([[0], pixels, [0]])\n",
    "    runs = np.where(pixels[1:] != pixels[:-1])[0] + 1\n",
    "    runs[1::2] -= runs[::2]\n",
    "    return ' '.join(str(x) for x in runs)\n",
    "\n",
    "def rle_to_mask(rle, height, width):\n",
    "    s = rle.split()\n",
    "    starts, lengths = [np.asarray(x, dtype=int) for x in (s[0:][::2], s[1:][::2])]\n",
    "    starts -= 1\n",
    "    ends = starts + lengths\n",
    "    img = np.zeros(height * width, dtype=np.uint8)\n",
    "    \n",
    "    for lo, hi in zip(starts, ends):\n",
    "        img[lo:hi] = 1\n",
    "    \n",
    "    return img.reshape(height, width)"
   ]
  },
  {
   "cell_type": "code",
   "execution_count": 4,
   "metadata": {},
   "outputs": [
    {
     "name": "stdout",
     "output_type": "stream",
     "text": [
      "./make_ensemble\n"
     ]
    },
    {
     "ename": "FileNotFoundError",
     "evalue": "[Errno 2] No such file or directory: './make_ensemble'",
     "output_type": "error",
     "traceback": [
      "\u001b[0;31m---------------------------------------------------------------------------\u001b[0m",
      "\u001b[0;31mFileNotFoundError\u001b[0m                         Traceback (most recent call last)",
      "Cell \u001b[0;32mIn[4], line 3\u001b[0m\n\u001b[1;32m      1\u001b[0m \u001b[39mprint\u001b[39m(CSV_ROOT)\n\u001b[1;32m      2\u001b[0m csv_list \u001b[39m=\u001b[39m []\n\u001b[0;32m----> 3\u001b[0m \u001b[39mfor\u001b[39;00m file \u001b[39min\u001b[39;00m os\u001b[39m.\u001b[39;49mlistdir(CSV_ROOT):\n\u001b[1;32m      4\u001b[0m     \u001b[39mif\u001b[39;00m file[\u001b[39m-\u001b[39m\u001b[39m4\u001b[39m:] \u001b[39m==\u001b[39m \u001b[39m\"\u001b[39m\u001b[39m.csv\u001b[39m\u001b[39m\"\u001b[39m:\n\u001b[1;32m      5\u001b[0m         \u001b[39mprint\u001b[39m(file)\n",
      "\u001b[0;31mFileNotFoundError\u001b[0m: [Errno 2] No such file or directory: './make_ensemble'"
     ]
    }
   ],
   "source": [
    "print(CSV_ROOT)\n",
    "csv_list = []\n",
    "for file in os.listdir(CSV_ROOT):\n",
    "    if file[-4:] == \".csv\":\n",
    "        print(file)\n",
    "        csv_dir = CSV_ROOT +\"/\"+ file\n",
    "        csv_list.append(csv_dir)\n",
    "\n",
    "print(\".\")\n",
    "print(\".\")\n",
    "\n",
    "csv_num = len(csv_list)\n",
    "\n",
    "df = pd.DataFrame()\n",
    "for csv in csv_list:\n",
    "    df_tmp = pd.read_csv(csv)\n",
    "    df_tmp[\"csv\"] = csv\n",
    "    df = pd.concat([df, df_tmp], ignore_index=True)\n",
    "\n",
    "IMAGE = df['image_name'].unique()\n",
    "CLASS = df['class'].unique()\n",
    "\n",
    "\n",
    "image_name_list = []\n",
    "class_list = []\n",
    "rle_list = []\n",
    "\n",
    "with tqdm(total=len(IMAGE)) as pbar:\n",
    "    for ima in IMAGE:\n",
    "        for cla in CLASS:\n",
    "            mask = np.zeros(img_size[0]*img_size[1], dtype=np.uint8)\n",
    "            mask = mask.reshape(img_size[0], img_size[1])\n",
    "            for csv in csv_list:\n",
    "                rle_part = df[(df['image_name'] == ima) & (df['class'] == cla) & (df['csv'] == csv)]['rle'].values[0]\n",
    "\n",
    "                if str(type(rle_part)) !=  \"<class 'str'>\":\n",
    "                    continue\n",
    "                mask_part = rle_to_mask(rle_part, img_size[0], img_size[1])\n",
    "                mask += mask_part\n",
    "            \n",
    "            mask = mask // (csv_num//2 +1)\n",
    "            rle = mask_to_rle(mask)\n",
    "\n",
    "            image_name_list.append(ima)\n",
    "            class_list.append(cla)\n",
    "            rle_list.append(rle)\n",
    "        pbar.update(1)\n",
    "\n",
    "print(\".\")\n",
    "ensemble_df = pd.DataFrame({\"image_name\": image_name_list, \"class\": class_list, \"rle\": rle_list,})\n",
    "print(\".\")\n",
    "ensemble_df.to_csv(SAVED_DIR , index=False)\n",
    "print('Ensemble Done...!')"
   ]
  },
  {
   "cell_type": "code",
   "execution_count": null,
   "metadata": {},
   "outputs": [],
   "source": []
  }
 ],
 "metadata": {
  "kernelspec": {
   "display_name": "Python 3",
   "language": "python",
   "name": "python3"
  },
  "language_info": {
   "codemirror_mode": {
    "name": "ipython",
    "version": 3
   },
   "file_extension": ".py",
   "mimetype": "text/x-python",
   "name": "python",
   "nbconvert_exporter": "python",
   "pygments_lexer": "ipython3",
   "version": "3.8.5"
  },
  "orig_nbformat": 4
 },
 "nbformat": 4,
 "nbformat_minor": 2
}
