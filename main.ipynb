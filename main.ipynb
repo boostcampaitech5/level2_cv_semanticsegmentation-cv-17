{
 "cells": [
  {
   "cell_type": "code",
   "execution_count": 1,
   "id": "6b629c8a-1bb5-4514-8da2-580055a064be",
   "metadata": {},
   "outputs": [],
   "source": [
    "import os\n",
    "import random\n",
    "from functools import partial\n",
    "from typing import List\n",
    "\n",
    "import torch\n",
    "import torch.nn as nn\n",
    "\n",
    "import numpy as np\n",
    "import albumentations as A"
   ]
  },
  {
   "cell_type": "code",
   "execution_count": 2,
   "id": "16e3f182-0a11-44d9-9f5b-66fb66479ce5",
   "metadata": {},
   "outputs": [],
   "source": [
    "from torch.utils.data import DataLoader\n",
    "from resized_dataset import make_dataset\n",
    "from setseed import set_seed\n",
    "\n",
    "BATCH_SIZE = 8\n",
    "resize = 512\n",
    "RANDOM_SEED = 21\n",
    "augmentation = None\n",
    "set_seed(RANDOM_SEED)\n",
    "\n",
    "train_dataset, valid_dataset = make_dataset(RANDOM_SEED = RANDOM_SEED, augmentation=augmentation)\n",
    "\n",
    "train_loader = DataLoader(\n",
    "    dataset=train_dataset, \n",
    "    batch_size=BATCH_SIZE,\n",
    "    shuffle=True,\n",
    "    num_workers=6,\n",
    "    drop_last=True,\n",
    ")\n",
    "\n",
    "valid_loader = DataLoader(\n",
    "    dataset=valid_dataset, \n",
    "    batch_size=2,\n",
    "    shuffle=False,\n",
    "    num_workers=2,\n",
    "    drop_last=False\n",
    ")"
   ]
  },
  {
   "cell_type": "code",
   "execution_count": 3,
   "id": "f52ebad2-8777-4ac1-a814-0b22bb56f4f3",
   "metadata": {},
   "outputs": [],
   "source": [
    "import timm\n",
    "import segmentation_models_pytorch as smp\n",
    "from segmentation_models_pytorch.encoders._base import EncoderMixin\n",
    "\n",
    "class hrnet_encoder(nn.Module, EncoderMixin):\n",
    "    def __init__(self, **kwargs):\n",
    "        super().__init__()\n",
    "        self.net = timm.create_model('hrnet_w18', pretrained=False, num_classes=29)\n",
    "\n",
    "    def forward(self, x):\n",
    "        out = self.net(x)\n",
    "\n",
    "        return out\n",
    "\n",
    "smp.encoders.encoders[\"hrnet_w18\"] = {\n",
    "    \"encoder\": hrnet_encoder, # encoder class here\n",
    "    \"pretrained_settings\": {\n",
    "        \"imagenet\": {\n",
    "            \"mean\": [0.485, 0.456, 0.406],\n",
    "            \"std\": [0.229, 0.224, 0.225],\n",
    "            \"url\": 'https://github.com/rwightman/pytorch-image-models/releases/download/v0.1-hrnet/hrnetv2_w18-8cb57bb9.pth',\n",
    "            \"input_space\": \"RGB\",\n",
    "            \"input_range\": [0, 1],\n",
    "        },\n",
    "    },\n",
    "    \"params\": {\n",
    "        \"pretrain_img_size\": 224,\n",
    "        \"crop_pct\": 0.95\n",
    "    }\n",
    "}"
   ]
  },
  {
   "cell_type": "code",
   "execution_count": 4,
   "id": "5f966480-00a6-45e3-97c5-d591b91150f4",
   "metadata": {},
   "outputs": [],
   "source": [
    "import segmentation_models_pytorch as smp\n",
    "\n",
    "set_seed(RANDOM_SEED)\n",
    "\n",
    "model = smp.DeepLabV3Plus(\n",
    "    encoder_name=\"resnet50\",        # choose encoder, e.g. mobilenet_v2 or efficientnet-b7\n",
    "    encoder_weights=\"imagenet\",     # use `imagenet` pre-trained weights for encoder initialization\n",
    "    in_channels=3,                  # model input channels (1 for gray-scale images, 3 for RGB, etc.)\n",
    "    classes=29,                      # model output channels (number of classes in your dataset)\n",
    ")\n",
    "model.name = 'DeepLabV3Plus_resnet50'"
   ]
  },
  {
   "cell_type": "code",
   "execution_count": 5,
   "id": "6e4e8b85-08b9-4b5a-883c-933fa6cd5b66",
   "metadata": {},
   "outputs": [],
   "source": [
    "LR = 1e-4\n",
    "epoch = 50\n",
    "VAL_EVERY = 1 # validation 주기"
   ]
  },
  {
   "cell_type": "code",
   "execution_count": 6,
   "id": "0e982eb6-b744-498c-8cad-a81c9e944214",
   "metadata": {},
   "outputs": [],
   "source": [
    "import torch.optim as optim\n",
    "\n",
    "set_seed(RANDOM_SEED)\n",
    "\n",
    "optimizer = optim.Adam(params=model.parameters(), lr=LR, weight_decay=1e-6)"
   ]
  },
  {
   "cell_type": "code",
   "execution_count": 7,
   "id": "b15bbccd-ffef-4645-b2c3-495f7ec26374",
   "metadata": {},
   "outputs": [],
   "source": [
    "from loss import FocalLoss, DiceLoss\n",
    "\n",
    "set_seed(RANDOM_SEED)\n",
    "\n",
    "#criterion = nn.BCEWithLogitsLoss()\n",
    "#criterion = nn.SmoothL1Loss()\n",
    "criterion = [(nn.BCEWithLogitsLoss(), 0.75), (DiceLoss(), 0.25)]\n",
    "#criterion = [(nn.BCEWithLogitsLoss(), 0.5), (nn.SmoothL1Loss(), 0.5)]"
   ]
  },
  {
   "cell_type": "code",
   "execution_count": 8,
   "id": "22addc8d-99fc-49b5-b78c-c1f31b1556ef",
   "metadata": {},
   "outputs": [],
   "source": [
    "#모델 저장 경로 설정\n",
    "try:\n",
    "    folder_name = \"[{}]_[size:{}]_[loss:{}]_[LR:{}]_[seed:{}]_[epoch:{}]\".format(model.name, (resize, resize), criterion, LR, RANDOM_SEED, epoch)\n",
    "except:\n",
    "    folder_name = \"[{}]_[size:{}]_[loss:{}]_[LR:{}]_[seed:{}]_[epoch:{}]\".format(\"model\", (resize, resize), criterion, LR, RANDOM_SEED, epoch)"
   ]
  },
  {
   "cell_type": "code",
   "execution_count": 9,
   "id": "2c36fe90-2e73-4f92-90e7-02a93078b84b",
   "metadata": {
    "scrolled": true
   },
   "outputs": [
    {
     "name": "stdout",
     "output_type": "stream",
     "text": [
      "Start training..\n",
      "\n",
      "result model will be saved in /opt/ml/input/code/trained_model/[DeepLabV3Plus_resnet50]_[size:(512, 512)]_[loss:[(BCEWithLogitsLoss(), 0.75), (DiceLoss(), 0.25)]]_[LR:0.0001]_[seed:21]_[epoch:50]_2\n"
     ]
    },
    {
     "name": "stderr",
     "output_type": "stream",
     "text": [
      "Failed to detect the name of this notebook, you can set it manually with the WANDB_NOTEBOOK_NAME environment variable to enable code saving.\n",
      "\u001b[34m\u001b[1mwandb\u001b[0m: Currently logged in as: \u001b[33mtksxkaos369\u001b[0m. Use \u001b[1m`wandb login --relogin`\u001b[0m to force relogin\n"
     ]
    },
    {
     "data": {
      "text/html": [
       "Tracking run with wandb version 0.15.4"
      ],
      "text/plain": [
       "<IPython.core.display.HTML object>"
      ]
     },
     "metadata": {},
     "output_type": "display_data"
    },
    {
     "data": {
      "text/html": [
       "Run data is saved locally in <code>/opt/ml/input/level2_cv_semanticsegmentation-cv-17-1/wandb/run-20230616_151554-wai8k5a7</code>"
      ],
      "text/plain": [
       "<IPython.core.display.HTML object>"
      ]
     },
     "metadata": {},
     "output_type": "display_data"
    },
    {
     "data": {
      "text/html": [
       "Syncing run <strong><a href='https://wandb.ai/tksxkaos369/boostcamp_level2_semantic_segmentation/runs/wai8k5a7' target=\"_blank\">[DeepLabV3Plus_resnet50]_[size:(512, 512)]_[loss:[(BCEWithLogitsLoss(), 0.75), (DiceLoss(), 0.25)]]_[LR:0.0001]_[seed:21]_[epoch:50]_2</a></strong> to <a href='https://wandb.ai/tksxkaos369/boostcamp_level2_semantic_segmentation' target=\"_blank\">Weights & Biases</a> (<a href='https://wandb.me/run' target=\"_blank\">docs</a>)<br/>"
      ],
      "text/plain": [
       "<IPython.core.display.HTML object>"
      ]
     },
     "metadata": {},
     "output_type": "display_data"
    },
    {
     "data": {
      "text/html": [
       " View project at <a href='https://wandb.ai/tksxkaos369/boostcamp_level2_semantic_segmentation' target=\"_blank\">https://wandb.ai/tksxkaos369/boostcamp_level2_semantic_segmentation</a>"
      ],
      "text/plain": [
       "<IPython.core.display.HTML object>"
      ]
     },
     "metadata": {},
     "output_type": "display_data"
    },
    {
     "data": {
      "text/html": [
       " View run at <a href='https://wandb.ai/tksxkaos369/boostcamp_level2_semantic_segmentation/runs/wai8k5a7' target=\"_blank\">https://wandb.ai/tksxkaos369/boostcamp_level2_semantic_segmentation/runs/wai8k5a7</a>"
      ],
      "text/plain": [
       "<IPython.core.display.HTML object>"
      ]
     },
     "metadata": {},
     "output_type": "display_data"
    },
    {
     "name": "stdout",
     "output_type": "stream",
     "text": [
      "2023-06-16 15:16:01 | Epoch [1/50], Step [0/80]\n",
      "2023-06-16 15:16:15 | Epoch [1/50], Step [25/80], Loss: 0.6709\n",
      "2023-06-16 15:16:24 | Epoch [1/50], Step [50/80], Loss: 0.5932\n",
      "2023-06-16 15:16:33 | Epoch [1/50], Step [75/80], Loss: 0.5256\n",
      "Start validation # 1\n"
     ]
    },
    {
     "data": {
      "application/vnd.jupyter.widget-view+json": {
       "model_id": "eabb003b17ea41d9807cccbbdf0c37fe",
       "version_major": 2,
       "version_minor": 0
      },
      "text/plain": [
       "HBox(children=(HTML(value=''), FloatProgress(value=0.0, max=80.0), HTML(value='')))"
      ]
     },
     "metadata": {},
     "output_type": "display_data"
    },
    {
     "name": "stdout",
     "output_type": "stream",
     "text": [
      "\n",
      "finger-1    : 0.0000\n",
      "finger-2    : 0.0000\n",
      "finger-3    : 0.0000\n",
      "finger-4    : 0.0000\n",
      "finger-5    : 0.0000\n",
      "finger-6    : 0.0000\n",
      "finger-7    : 0.0001\n",
      "finger-8    : 0.0000\n",
      "finger-9    : 0.0000\n",
      "finger-10   : 0.3619\n",
      "finger-11   : 0.0003\n",
      "finger-12   : 0.0000\n",
      "finger-13   : 0.0000\n",
      "finger-14   : 0.0000\n",
      "finger-15   : 0.0010\n",
      "finger-16   : 0.0000\n",
      "finger-17   : 0.0000\n",
      "finger-18   : 0.0000\n",
      "finger-19   : 0.1434\n",
      "Trapezium   : 0.0130\n",
      "Trapezoid   : 0.0000\n",
      "Capitate    : 0.0000\n",
      "Hamate      : 0.0004\n",
      "Scaphoid    : 0.1752\n",
      "Lunate      : 0.1106\n",
      "Triquetrum  : 0.0000\n",
      "Pisiform    : 0.0000\n",
      "Radius      : 0.6249\n",
      "Ulna        : 0.2296\n",
      "Best performance at epoch: 1, 0.0000 -> 0.0573\n",
      "Save model in /opt/ml/input/code/trained_model/[DeepLabV3Plus_resnet50]_[size:(512, 512)]_[loss:[(BCEWithLogitsLoss(), 0.75), (DiceLoss(), 0.25)]]_[LR:0.0001]_[seed:21]_[epoch:50]_2\n",
      "2023-06-16 15:16:52 | Epoch [2/50], Step [0/80]\n",
      "2023-06-16 15:17:02 | Epoch [2/50], Step [25/80], Loss: 0.4634\n"
     ]
    },
    {
     "ename": "KeyboardInterrupt",
     "evalue": "",
     "output_type": "error",
     "traceback": [
      "\u001b[0;31m---------------------------------------------------------------------------\u001b[0m",
      "\u001b[0;31mKeyboardInterrupt\u001b[0m                         Traceback (most recent call last)",
      "Cell \u001b[0;32mIn[9], line 5\u001b[0m\n\u001b[1;32m      1\u001b[0m \u001b[39mfrom\u001b[39;00m \u001b[39mtrain\u001b[39;00m \u001b[39mimport\u001b[39;00m train\n\u001b[1;32m      3\u001b[0m set_seed(RANDOM_SEED)\n\u001b[0;32m----> 5\u001b[0m folder_name \u001b[39m=\u001b[39m train(model, train_loader, valid_loader, criterion, optimizer, epoch, VAL_EVERY, folder_name)\n",
      "File \u001b[0;32m~/input/level2_cv_semanticsegmentation-cv-17-1/train.py:62\u001b[0m, in \u001b[0;36mtrain\u001b[0;34m(model, train_loader, val_loader, criterion, optimizer, NUM_EPOCHS, VAL_EVERY, folder_name, RANDOM_SEED, PATIENCE)\u001b[0m\n\u001b[1;32m     58\u001b[0m model\u001b[39m.\u001b[39mtrain()\n\u001b[1;32m     60\u001b[0m \u001b[39mfor\u001b[39;00m step, (images, masks) \u001b[39min\u001b[39;00m \u001b[39menumerate\u001b[39m(train_loader):\n\u001b[1;32m     61\u001b[0m     \u001b[39m# gpu 연산을 위해 device 할당\u001b[39;00m\n\u001b[0;32m---> 62\u001b[0m     images, masks \u001b[39m=\u001b[39m images\u001b[39m.\u001b[39;49mcuda(), masks\u001b[39m.\u001b[39mcuda()\n\u001b[1;32m     63\u001b[0m     model \u001b[39m=\u001b[39m model\u001b[39m.\u001b[39mcuda()\n\u001b[1;32m     65\u001b[0m     \u001b[39m# inference\u001b[39;00m\n",
      "\u001b[0;31mKeyboardInterrupt\u001b[0m: "
     ]
    }
   ],
   "source": [
    "from train import train\n",
    "\n",
    "set_seed(RANDOM_SEED)\n",
    "\n",
    "folder_name = train(model, train_loader, valid_loader, criterion, optimizer, epoch, VAL_EVERY, folder_name)"
   ]
  },
  {
   "cell_type": "code",
   "execution_count": 10,
   "id": "f2ae3415-43a2-4fb5-b566-2bab70e3cf42",
   "metadata": {},
   "outputs": [
    {
     "data": {
      "application/vnd.jupyter.widget-view+json": {
       "model_id": "e099491ba7524575a43ec2ef8e2c0c32",
       "version_major": 2,
       "version_minor": 0
      },
      "text/plain": [
       "HBox(children=(HTML(value=''), FloatProgress(value=0.0, max=150.0), HTML(value='')))"
      ]
     },
     "metadata": {},
     "output_type": "display_data"
    },
    {
     "name": "stdout",
     "output_type": "stream",
     "text": [
      "\n"
     ]
    }
   ],
   "source": [
    "from inference import inference\n",
    "\n",
    "inference(folder_name, A.Resize(resize, resize))"
   ]
  },
  {
   "cell_type": "code",
   "execution_count": 11,
   "id": "4498a594-b451-419f-9e57-b8012caa6e9a",
   "metadata": {},
   "outputs": [],
   "source": [
    "set_seed(RANDOM_SEED)\n",
    "\n",
    "model = smp.DeepLabV3Plus(\n",
    "    encoder_name=\"timm-efficientnet-b4\",        # choose encoder, e.g. mobilenet_v2 or efficientnet-b7\n",
    "    encoder_weights=\"imagenet\",     # use `imagenet` pre-trained weights for encoder initialization\n",
    "    in_channels=3,                  # model input channels (1 for gray-scale images, 3 for RGB, etc.)\n",
    "    classes=29,                      # model output channels (number of classes in your dataset)\n",
    ")\n",
    "model.name = 'DeepLabV3Plus_efficientnet-b4'\n",
    "\n",
    "optimizer = optim.Adam(params=model.parameters(), lr=LR, weight_decay=1e-6)\n",
    "\n",
    "criterion = [(nn.BCEWithLogitsLoss(), 0.5), (nn.SmoothL1Loss(), 0.5)]"
   ]
  },
  {
   "cell_type": "code",
   "execution_count": 12,
   "id": "dd6ec680-76f3-4480-b2ab-9be0f5f6ce1a",
   "metadata": {},
   "outputs": [],
   "source": [
    "#모델 저장 경로 설정\n",
    "try:\n",
    "    folder_name = \"[{}]_[size:{}]_[loss:{}]_[LR:{}]_[seed:{}]_[epoch:{}]\".format(model.name, (resize, resize), criterion, LR, RANDOM_SEED, epoch)\n",
    "except:\n",
    "    folder_name = \"[{}]_[size:{}]_[loss:{}]_[LR:{}]_[seed:{}]_[epoch:{}]\".format(\"model\", (resize, resize), criterion, LR, RANDOM_SEED, epoch)"
   ]
  },
  {
   "cell_type": "code",
   "execution_count": 13,
   "id": "24a0470e-f82c-4363-91b7-fdccf2498be4",
   "metadata": {
    "scrolled": true
   },
   "outputs": [
    {
     "name": "stdout",
     "output_type": "stream",
     "text": [
      "Start training..\n",
      "result model will be saved in /opt/ml/input/code/trained_model/[DeepLabV3Plus_efficientnet-b4]_[size:(512, 512)]_[loss:[(BCEWithLogitsLoss(), 0.5), (SmoothL1Loss(), 0.5)]]_[LR:0.0001]_[seed:21]_[epoch:50]\n"
     ]
    },
    {
     "data": {
      "text/html": [
       "Finishing last run (ID:rouz2h30) before initializing another..."
      ],
      "text/plain": [
       "<IPython.core.display.HTML object>"
      ]
     },
     "metadata": {},
     "output_type": "display_data"
    },
    {
     "data": {
      "text/html": [
       "Waiting for W&B process to finish... <strong style=\"color:green\">(success).</strong>"
      ],
      "text/plain": [
       "<IPython.core.display.HTML object>"
      ]
     },
     "metadata": {},
     "output_type": "display_data"
    },
    {
     "data": {
      "application/vnd.jupyter.widget-view+json": {
       "model_id": "50ebea6264d94a7784f3fe0caaaeaf7c",
       "version_major": 2,
       "version_minor": 0
      },
      "text/plain": [
       "VBox(children=(Label(value='0.002 MB of 0.002 MB uploaded (0.000 MB deduped)\\r'), FloatProgress(value=1.0, max…"
      ]
     },
     "metadata": {},
     "output_type": "display_data"
    },
    {
     "data": {
      "text/html": [
       "<style>\n",
       "    table.wandb td:nth-child(1) { padding: 0 10px; text-align: left ; width: auto;} td:nth-child(2) {text-align: left ; width: 100%}\n",
       "    .wandb-row { display: flex; flex-direction: row; flex-wrap: wrap; justify-content: flex-start; width: 100% }\n",
       "    .wandb-col { display: flex; flex-direction: column; flex-basis: 100%; flex: 1; padding: 10px; }\n",
       "    </style>\n",
       "<div class=\"wandb-row\"><div class=\"wandb-col\"><h3>Run history:</h3><br/><table class=\"wandb\"><tr><td>parameter/lr</td><td>▁▁▁▁▁▁▁▁▁▁▁▁▁▁▁▁▁▁▁▁▁▁▁▁▁▁▁▁▁▁▁▁▁▁▁▁▁▁▁▁</td></tr><tr><td>sum/dice_coef</td><td>▁▁▁▂▅▅▆▆▆▆▆▆▆▆▆▆▇▇▇▇▇▇▇▇████████████████</td></tr><tr><td>sum/train_loss</td><td>█▆▅▅▄▄▃▃▂▂▂▂▂▂▁▁▁▁▁▁▁▁▁▁▁▁▁▁▁▁▁▁▁▁▁▁▁▁▁▁</td></tr><tr><td>sum/valid loss</td><td>█▆▆▅▄▄▃▃▂▂▂▂▁▁▁▁▁▁▁▁▁▁▁▁▁▁▁▁▁▁▁▁▁▁▁▁▁▁▁▁</td></tr></table><br/></div><div class=\"wandb-col\"><h3>Run summary:</h3><br/><table class=\"wandb\"><tr><td>parameter/lr</td><td>0.0001</td></tr><tr><td>sum/dice_coef</td><td>0.93766</td></tr><tr><td>sum/train_loss</td><td>0.01324</td></tr><tr><td>sum/valid loss</td><td>0.01492</td></tr></table><br/></div></div>"
      ],
      "text/plain": [
       "<IPython.core.display.HTML object>"
      ]
     },
     "metadata": {},
     "output_type": "display_data"
    },
    {
     "data": {
      "text/html": [
       " View run <strong style=\"color:#cdcd00\">[DeepLabV3Plus_efficientnet-b4]_[size:(512, 512)]_[loss:[(BCEWithLogitsLoss(), 0.75), (DiceLoss(), 0.25)]]_[LR:0.0001]_[seed:21]_[epoch:50]</strong> at: <a href='https://wandb.ai/sixseg/boostcamp_level2_semantic_segmentation/runs/rouz2h30' target=\"_blank\">https://wandb.ai/sixseg/boostcamp_level2_semantic_segmentation/runs/rouz2h30</a><br/>Synced 5 W&B file(s), 0 media file(s), 0 artifact file(s) and 0 other file(s)"
      ],
      "text/plain": [
       "<IPython.core.display.HTML object>"
      ]
     },
     "metadata": {},
     "output_type": "display_data"
    },
    {
     "data": {
      "text/html": [
       "Find logs at: <code>./wandb/run-20230609_173258-rouz2h30/logs</code>"
      ],
      "text/plain": [
       "<IPython.core.display.HTML object>"
      ]
     },
     "metadata": {},
     "output_type": "display_data"
    },
    {
     "data": {
      "text/html": [
       "Successfully finished last run (ID:rouz2h30). Initializing new run:<br/>"
      ],
      "text/plain": [
       "<IPython.core.display.HTML object>"
      ]
     },
     "metadata": {},
     "output_type": "display_data"
    },
    {
     "data": {
      "application/vnd.jupyter.widget-view+json": {
       "model_id": "74df302ae1f74c018fa20ea1d5b8ca3b",
       "version_major": 2,
       "version_minor": 0
      },
      "text/plain": [
       "VBox(children=(Label(value='Waiting for wandb.init()...\\r'), FloatProgress(value=0.016668696080644925, max=1.0…"
      ]
     },
     "metadata": {},
     "output_type": "display_data"
    },
    {
     "data": {
      "text/html": [
       "Tracking run with wandb version 0.15.4"
      ],
      "text/plain": [
       "<IPython.core.display.HTML object>"
      ]
     },
     "metadata": {},
     "output_type": "display_data"
    },
    {
     "data": {
      "text/html": [
       "Run data is saved locally in <code>/opt/ml/input/code/wandb/run-20230609_215710-4wju15wi</code>"
      ],
      "text/plain": [
       "<IPython.core.display.HTML object>"
      ]
     },
     "metadata": {},
     "output_type": "display_data"
    },
    {
     "data": {
      "text/html": [
       "Syncing run <strong><a href='https://wandb.ai/sixseg/boostcamp_level2_semantic_segmentation/runs/4wju15wi' target=\"_blank\">[DeepLabV3Plus_efficientnet-b4]_[size:(512, 512)]_[loss:[(BCEWithLogitsLoss(), 0.5), (SmoothL1Loss(), 0.5)]]_[LR:0.0001]_[seed:21]_[epoch:50]</a></strong> to <a href='https://wandb.ai/sixseg/boostcamp_level2_semantic_segmentation' target=\"_blank\">Weights & Biases</a> (<a href='https://wandb.me/run' target=\"_blank\">docs</a>)<br/>"
      ],
      "text/plain": [
       "<IPython.core.display.HTML object>"
      ]
     },
     "metadata": {},
     "output_type": "display_data"
    },
    {
     "data": {
      "text/html": [
       " View project at <a href='https://wandb.ai/sixseg/boostcamp_level2_semantic_segmentation' target=\"_blank\">https://wandb.ai/sixseg/boostcamp_level2_semantic_segmentation</a>"
      ],
      "text/plain": [
       "<IPython.core.display.HTML object>"
      ]
     },
     "metadata": {},
     "output_type": "display_data"
    },
    {
     "data": {
      "text/html": [
       " View run at <a href='https://wandb.ai/sixseg/boostcamp_level2_semantic_segmentation/runs/4wju15wi' target=\"_blank\">https://wandb.ai/sixseg/boostcamp_level2_semantic_segmentation/runs/4wju15wi</a>"
      ],
      "text/plain": [
       "<IPython.core.display.HTML object>"
      ]
     },
     "metadata": {},
     "output_type": "display_data"
    },
    {
     "name": "stdout",
     "output_type": "stream",
     "text": [
      "2023-06-09 21:57:20 | Epoch [1/50], Step [0/80]\n",
      "2023-06-09 21:58:38 | Epoch [1/50], Step [25/80], Loss: 3.0925\n",
      "2023-06-09 21:59:56 | Epoch [1/50], Step [50/80], Loss: 2.4369\n",
      "2023-06-09 22:01:13 | Epoch [1/50], Step [75/80], Loss: 1.7549\n",
      "Start validation # 1\n"
     ]
    },
    {
     "data": {
      "application/vnd.jupyter.widget-view+json": {
       "model_id": "ebdaf8b581be486e993ca316bcdc417d",
       "version_major": 2,
       "version_minor": 0
      },
      "text/plain": [
       "HBox(children=(HTML(value=''), FloatProgress(value=0.0, max=80.0), HTML(value='')))"
      ]
     },
     "metadata": {},
     "output_type": "display_data"
    },
    {
     "name": "stdout",
     "output_type": "stream",
     "text": [
      "\n",
      "finger-1    : 0.0000\n",
      "finger-2    : 0.0000\n",
      "finger-3    : 0.0000\n",
      "finger-4    : 0.0000\n",
      "finger-5    : 0.0000\n",
      "finger-6    : 0.0000\n",
      "finger-7    : 0.0006\n",
      "finger-8    : 0.0000\n",
      "finger-9    : 0.0000\n",
      "finger-10   : 0.0000\n",
      "finger-11   : 0.0022\n",
      "finger-12   : 0.0000\n",
      "finger-13   : 0.0000\n",
      "finger-14   : 0.0000\n",
      "finger-15   : 0.0001\n",
      "finger-16   : 0.0000\n",
      "finger-17   : 0.0000\n",
      "finger-18   : 0.0000\n",
      "finger-19   : 0.0000\n",
      "Trapezium   : 0.0000\n",
      "Trapezoid   : 0.0000\n",
      "Capitate    : 0.0000\n",
      "Hamate      : 0.0000\n",
      "Scaphoid    : 0.0000\n",
      "Lunate      : 0.0000\n",
      "Triquetrum  : 0.0012\n",
      "Pisiform    : 0.0000\n",
      "Radius      : 0.0207\n",
      "Ulna        : 0.0096\n",
      "Best performance at epoch: 1, 0.0000 -> 0.0012\n",
      "Save model in /opt/ml/input/code/trained_model/[DeepLabV3Plus_efficientnet-b4]_[size:(512, 512)]_[loss:[(BCEWithLogitsLoss(), 0.5), (SmoothL1Loss(), 0.5)]]_[LR:0.0001]_[seed:21]_[epoch:50]\n",
      "2023-06-09 22:02:34 | Epoch [2/50], Step [0/80]\n",
      "2023-06-09 22:03:52 | Epoch [2/50], Step [25/80], Loss: 1.4739\n",
      "2023-06-09 22:05:09 | Epoch [2/50], Step [50/80], Loss: 1.2868\n",
      "2023-06-09 22:06:25 | Epoch [2/50], Step [75/80], Loss: 1.2153\n",
      "Start validation # 2\n"
     ]
    },
    {
     "data": {
      "application/vnd.jupyter.widget-view+json": {
       "model_id": "c1a39d2fc1804672baf5e607714bcb23",
       "version_major": 2,
       "version_minor": 0
      },
      "text/plain": [
       "HBox(children=(HTML(value=''), FloatProgress(value=0.0, max=80.0), HTML(value='')))"
      ]
     },
     "metadata": {},
     "output_type": "display_data"
    },
    {
     "name": "stdout",
     "output_type": "stream",
     "text": [
      "\n",
      "finger-1    : 0.0000\n",
      "finger-2    : 0.0000\n",
      "finger-3    : 0.0010\n",
      "finger-4    : 0.0000\n",
      "finger-5    : 0.0000\n",
      "finger-6    : 0.0000\n",
      "finger-7    : 0.0000\n",
      "finger-8    : 0.0000\n",
      "finger-9    : 0.0000\n",
      "finger-10   : 0.0000\n",
      "finger-11   : 0.0023\n",
      "finger-12   : 0.0000\n",
      "finger-13   : 0.0000\n",
      "finger-14   : 0.0000\n",
      "finger-15   : 0.0000\n",
      "finger-16   : 0.0000\n",
      "finger-17   : 0.0000\n",
      "finger-18   : 0.0005\n",
      "finger-19   : 0.0001\n",
      "Trapezium   : 0.0000\n",
      "Trapezoid   : 0.0000\n",
      "Capitate    : 0.0000\n",
      "Hamate      : 0.0000\n",
      "Scaphoid    : 0.0000\n",
      "Lunate      : 0.0000\n",
      "Triquetrum  : 0.0000\n",
      "Pisiform    : 0.0000\n",
      "Radius      : 0.0017\n",
      "Ulna        : 0.0038\n",
      "2023-06-09 22:07:57 | Epoch [3/50], Step [0/80]\n",
      "2023-06-09 22:09:14 | Epoch [3/50], Step [25/80], Loss: 1.1325\n",
      "2023-06-09 22:10:30 | Epoch [3/50], Step [50/80], Loss: 1.0457\n",
      "2023-06-09 22:11:47 | Epoch [3/50], Step [75/80], Loss: 0.9839\n",
      "Start validation # 3\n"
     ]
    },
    {
     "data": {
      "application/vnd.jupyter.widget-view+json": {
       "model_id": "a20aa70c58114b3b9c2e105ee8212243",
       "version_major": 2,
       "version_minor": 0
      },
      "text/plain": [
       "HBox(children=(HTML(value=''), FloatProgress(value=0.0, max=80.0), HTML(value='')))"
      ]
     },
     "metadata": {},
     "output_type": "display_data"
    },
    {
     "name": "stdout",
     "output_type": "stream",
     "text": [
      "\n",
      "finger-1    : 0.0000\n",
      "finger-2    : 0.0000\n",
      "finger-3    : 0.0005\n",
      "finger-4    : 0.0000\n",
      "finger-5    : 0.0000\n",
      "finger-6    : 0.0000\n",
      "finger-7    : 0.0000\n",
      "finger-8    : 0.0000\n",
      "finger-9    : 0.0000\n",
      "finger-10   : 0.0000\n",
      "finger-11   : 0.0010\n",
      "finger-12   : 0.0000\n",
      "finger-13   : 0.0000\n",
      "finger-14   : 0.0000\n",
      "finger-15   : 0.0000\n",
      "finger-16   : 0.0000\n",
      "finger-17   : 0.0000\n",
      "finger-18   : 0.0068\n",
      "finger-19   : 0.0007\n",
      "Trapezium   : 0.0000\n",
      "Trapezoid   : 0.0000\n",
      "Capitate    : 0.0000\n",
      "Hamate      : 0.0000\n",
      "Scaphoid    : 0.0000\n",
      "Lunate      : 0.0000\n",
      "Triquetrum  : 0.0000\n",
      "Pisiform    : 0.0000\n",
      "Radius      : 0.0014\n",
      "Ulna        : 0.0272\n",
      "Best performance at epoch: 3, 0.0012 -> 0.0013\n",
      "Save model in /opt/ml/input/code/trained_model/[DeepLabV3Plus_efficientnet-b4]_[size:(512, 512)]_[loss:[(BCEWithLogitsLoss(), 0.5), (SmoothL1Loss(), 0.5)]]_[LR:0.0001]_[seed:21]_[epoch:50]\n",
      "2023-06-09 22:13:08 | Epoch [4/50], Step [0/80]\n",
      "2023-06-09 22:14:27 | Epoch [4/50], Step [25/80], Loss: 0.9162\n",
      "2023-06-09 22:15:43 | Epoch [4/50], Step [50/80], Loss: 0.8619\n",
      "2023-06-09 22:17:00 | Epoch [4/50], Step [75/80], Loss: 0.8108\n",
      "Start validation # 4\n"
     ]
    },
    {
     "data": {
      "application/vnd.jupyter.widget-view+json": {
       "model_id": "7090f0ea609a4885b1f3f971191016eb",
       "version_major": 2,
       "version_minor": 0
      },
      "text/plain": [
       "HBox(children=(HTML(value=''), FloatProgress(value=0.0, max=80.0), HTML(value='')))"
      ]
     },
     "metadata": {},
     "output_type": "display_data"
    },
    {
     "name": "stdout",
     "output_type": "stream",
     "text": [
      "\n",
      "finger-1    : 0.0001\n",
      "finger-2    : 0.0000\n",
      "finger-3    : 0.0003\n",
      "finger-4    : 0.0000\n",
      "finger-5    : 0.0000\n",
      "finger-6    : 0.0000\n",
      "finger-7    : 0.0004\n",
      "finger-8    : 0.0000\n",
      "finger-9    : 0.0000\n",
      "finger-10   : 0.0000\n",
      "finger-11   : 0.0066\n",
      "finger-12   : 0.0000\n",
      "finger-13   : 0.0084\n",
      "finger-14   : 0.0022\n",
      "finger-15   : 0.0000\n",
      "finger-16   : 0.0001\n",
      "finger-17   : 0.0000\n",
      "finger-18   : 0.0035\n",
      "finger-19   : 0.0002\n",
      "Trapezium   : 0.0000\n",
      "Trapezoid   : 0.0000\n",
      "Capitate    : 0.0000\n",
      "Hamate      : 0.0000\n",
      "Scaphoid    : 0.0000\n",
      "Lunate      : 0.0000\n",
      "Triquetrum  : 0.0000\n",
      "Pisiform    : 0.0000\n",
      "Radius      : 0.0229\n",
      "Ulna        : 0.1646\n",
      "Best performance at epoch: 4, 0.0013 -> 0.0072\n",
      "Save model in /opt/ml/input/code/trained_model/[DeepLabV3Plus_efficientnet-b4]_[size:(512, 512)]_[loss:[(BCEWithLogitsLoss(), 0.5), (SmoothL1Loss(), 0.5)]]_[LR:0.0001]_[seed:21]_[epoch:50]\n",
      "2023-06-09 22:18:19 | Epoch [5/50], Step [0/80]\n",
      "2023-06-09 22:19:38 | Epoch [5/50], Step [25/80], Loss: 0.7591\n",
      "2023-06-09 22:20:56 | Epoch [5/50], Step [50/80], Loss: 0.7045\n",
      "2023-06-09 22:22:13 | Epoch [5/50], Step [75/80], Loss: 0.6698\n",
      "Start validation # 5\n"
     ]
    },
    {
     "data": {
      "application/vnd.jupyter.widget-view+json": {
       "model_id": "030866b00615436baa04db95d738b3a6",
       "version_major": 2,
       "version_minor": 0
      },
      "text/plain": [
       "HBox(children=(HTML(value=''), FloatProgress(value=0.0, max=80.0), HTML(value='')))"
      ]
     },
     "metadata": {},
     "output_type": "display_data"
    },
    {
     "name": "stdout",
     "output_type": "stream",
     "text": [
      "\n",
      "finger-1    : 0.0028\n",
      "finger-2    : 0.0000\n",
      "finger-3    : 0.0010\n",
      "finger-4    : 0.0000\n",
      "finger-5    : 0.0002\n",
      "finger-6    : 0.0037\n",
      "finger-7    : 0.0048\n",
      "finger-8    : 0.0000\n",
      "finger-9    : 0.0000\n",
      "finger-10   : 0.0000\n",
      "finger-11   : 0.0135\n",
      "finger-12   : 0.0002\n",
      "finger-13   : 0.0425\n",
      "finger-14   : 0.0035\n",
      "finger-15   : 0.0000\n",
      "finger-16   : 0.0004\n",
      "finger-17   : 0.0000\n",
      "finger-18   : 0.0176\n",
      "finger-19   : 0.0014\n",
      "Trapezium   : 0.0000\n",
      "Trapezoid   : 0.0000\n",
      "Capitate    : 0.0000\n",
      "Hamate      : 0.0000\n",
      "Scaphoid    : 0.0000\n",
      "Lunate      : 0.0000\n",
      "Triquetrum  : 0.0000\n",
      "Pisiform    : 0.0000\n",
      "Radius      : 0.0786\n",
      "Ulna        : 0.2008\n",
      "Best performance at epoch: 5, 0.0072 -> 0.0128\n",
      "Save model in /opt/ml/input/code/trained_model/[DeepLabV3Plus_efficientnet-b4]_[size:(512, 512)]_[loss:[(BCEWithLogitsLoss(), 0.5), (SmoothL1Loss(), 0.5)]]_[LR:0.0001]_[seed:21]_[epoch:50]\n",
      "2023-06-09 22:23:33 | Epoch [6/50], Step [0/80]\n",
      "2023-06-09 22:24:52 | Epoch [6/50], Step [25/80], Loss: 0.6131\n",
      "2023-06-09 22:26:09 | Epoch [6/50], Step [50/80], Loss: 0.5762\n",
      "2023-06-09 22:27:38 | Epoch [6/50], Step [75/80], Loss: 0.544\n",
      "Start validation # 6\n"
     ]
    },
    {
     "data": {
      "application/vnd.jupyter.widget-view+json": {
       "model_id": "58d0a29bab80412ab0f0a146c0419e9f",
       "version_major": 2,
       "version_minor": 0
      },
      "text/plain": [
       "HBox(children=(HTML(value=''), FloatProgress(value=0.0, max=80.0), HTML(value='')))"
      ]
     },
     "metadata": {},
     "output_type": "display_data"
    },
    {
     "name": "stdout",
     "output_type": "stream",
     "text": [
      "\n",
      "finger-1    : 0.0062\n",
      "finger-2    : 0.0001\n",
      "finger-3    : 0.0065\n",
      "finger-4    : 0.0000\n",
      "finger-5    : 0.0011\n",
      "finger-6    : 0.0124\n",
      "finger-7    : 0.0181\n",
      "finger-8    : 0.0000\n",
      "finger-9    : 0.0002\n",
      "finger-10   : 0.0000\n",
      "finger-11   : 0.0283\n",
      "finger-12   : 0.0163\n",
      "finger-13   : 0.0517\n",
      "finger-14   : 0.0119\n",
      "finger-15   : 0.0000\n",
      "finger-16   : 0.0169\n",
      "finger-17   : 0.0000\n",
      "finger-18   : 0.0286\n",
      "finger-19   : 0.0166\n",
      "Trapezium   : 0.0000\n",
      "Trapezoid   : 0.0000\n",
      "Capitate    : 0.0000\n",
      "Hamate      : 0.0000\n",
      "Scaphoid    : 0.0000\n",
      "Lunate      : 0.0000\n",
      "Triquetrum  : 0.0000\n",
      "Pisiform    : 0.0000\n",
      "Radius      : 0.1336\n",
      "Ulna        : 0.2057\n",
      "Best performance at epoch: 6, 0.0128 -> 0.0191\n",
      "Save model in /opt/ml/input/code/trained_model/[DeepLabV3Plus_efficientnet-b4]_[size:(512, 512)]_[loss:[(BCEWithLogitsLoss(), 0.5), (SmoothL1Loss(), 0.5)]]_[LR:0.0001]_[seed:21]_[epoch:50]\n",
      "2023-06-09 22:28:59 | Epoch [7/50], Step [0/80]\n",
      "2023-06-09 22:30:15 | Epoch [7/50], Step [25/80], Loss: 0.507\n",
      "2023-06-09 22:31:35 | Epoch [7/50], Step [50/80], Loss: 0.4815\n",
      "2023-06-09 22:32:53 | Epoch [7/50], Step [75/80], Loss: 0.4617\n",
      "Start validation # 7\n"
     ]
    },
    {
     "data": {
      "application/vnd.jupyter.widget-view+json": {
       "model_id": "c3de1d67f42944e28977617ea77ac0db",
       "version_major": 2,
       "version_minor": 0
      },
      "text/plain": [
       "HBox(children=(HTML(value=''), FloatProgress(value=0.0, max=80.0), HTML(value='')))"
      ]
     },
     "metadata": {},
     "output_type": "display_data"
    },
    {
     "name": "stdout",
     "output_type": "stream",
     "text": [
      "\n",
      "finger-1    : 0.0039\n",
      "finger-2    : 0.0005\n",
      "finger-3    : 0.0237\n",
      "finger-4    : 0.0000\n",
      "finger-5    : 0.0135\n",
      "finger-6    : 0.0374\n",
      "finger-7    : 0.0376\n",
      "finger-8    : 0.0013\n",
      "finger-9    : 0.0027\n",
      "finger-10   : 0.0005\n",
      "finger-11   : 0.0463\n",
      "finger-12   : 0.1091\n",
      "finger-13   : 0.0458\n",
      "finger-14   : 0.0297\n",
      "finger-15   : 0.0011\n",
      "finger-16   : 0.0972\n",
      "finger-17   : 0.0001\n",
      "finger-18   : 0.0078\n",
      "finger-19   : 0.0620\n",
      "Trapezium   : 0.0001\n",
      "Trapezoid   : 0.0000\n",
      "Capitate    : 0.0000\n",
      "Hamate      : 0.0039\n",
      "Scaphoid    : 0.0000\n",
      "Lunate      : 0.0000\n",
      "Triquetrum  : 0.0003\n",
      "Pisiform    : 0.0000\n",
      "Radius      : 0.3544\n",
      "Ulna        : 0.2229\n",
      "Best performance at epoch: 7, 0.0191 -> 0.0380\n",
      "Save model in /opt/ml/input/code/trained_model/[DeepLabV3Plus_efficientnet-b4]_[size:(512, 512)]_[loss:[(BCEWithLogitsLoss(), 0.5), (SmoothL1Loss(), 0.5)]]_[LR:0.0001]_[seed:21]_[epoch:50]\n",
      "2023-06-09 22:34:16 | Epoch [8/50], Step [0/80]\n",
      "2023-06-09 22:35:35 | Epoch [8/50], Step [25/80], Loss: 0.444\n",
      "2023-06-09 22:36:54 | Epoch [8/50], Step [50/80], Loss: 0.4223\n",
      "2023-06-09 22:38:13 | Epoch [8/50], Step [75/80], Loss: 0.4069\n",
      "Start validation # 8\n"
     ]
    },
    {
     "data": {
      "application/vnd.jupyter.widget-view+json": {
       "model_id": "a20412c6f3bb493d8550cc5ae1b3129e",
       "version_major": 2,
       "version_minor": 0
      },
      "text/plain": [
       "HBox(children=(HTML(value=''), FloatProgress(value=0.0, max=80.0), HTML(value='')))"
      ]
     },
     "metadata": {},
     "output_type": "display_data"
    },
    {
     "name": "stdout",
     "output_type": "stream",
     "text": [
      "\n",
      "finger-1    : 0.0026\n",
      "finger-2    : 0.0002\n",
      "finger-3    : 0.0317\n",
      "finger-4    : 0.0116\n",
      "finger-5    : 0.0434\n",
      "finger-6    : 0.0713\n",
      "finger-7    : 0.0542\n",
      "finger-8    : 0.0402\n",
      "finger-9    : 0.0059\n",
      "finger-10   : 0.0030\n",
      "finger-11   : 0.0731\n",
      "finger-12   : 0.1843\n",
      "finger-13   : 0.0270\n",
      "finger-14   : 0.0331\n",
      "finger-15   : 0.0132\n",
      "finger-16   : 0.1368\n",
      "finger-17   : 0.0007\n",
      "finger-18   : 0.0004\n",
      "finger-19   : 0.0700\n",
      "Trapezium   : 0.0003\n",
      "Trapezoid   : 0.0000\n",
      "Capitate    : 0.0001\n",
      "Hamate      : 0.0002\n",
      "Scaphoid    : 0.0000\n",
      "Lunate      : 0.0000\n",
      "Triquetrum  : 0.0633\n",
      "Pisiform    : 0.0113\n",
      "Radius      : 0.4472\n",
      "Ulna        : 0.2262\n",
      "Best performance at epoch: 8, 0.0380 -> 0.0535\n",
      "Save model in /opt/ml/input/code/trained_model/[DeepLabV3Plus_efficientnet-b4]_[size:(512, 512)]_[loss:[(BCEWithLogitsLoss(), 0.5), (SmoothL1Loss(), 0.5)]]_[LR:0.0001]_[seed:21]_[epoch:50]\n",
      "2023-06-09 22:39:33 | Epoch [9/50], Step [0/80]\n",
      "2023-06-09 22:40:52 | Epoch [9/50], Step [25/80], Loss: 0.4003\n",
      "2023-06-09 22:42:09 | Epoch [9/50], Step [50/80], Loss: 0.3863\n",
      "2023-06-09 22:43:28 | Epoch [9/50], Step [75/80], Loss: 0.3788\n",
      "Start validation # 9\n"
     ]
    },
    {
     "data": {
      "application/vnd.jupyter.widget-view+json": {
       "model_id": "05eb31b2fb434cc79549800b839ea757",
       "version_major": 2,
       "version_minor": 0
      },
      "text/plain": [
       "HBox(children=(HTML(value=''), FloatProgress(value=0.0, max=80.0), HTML(value='')))"
      ]
     },
     "metadata": {},
     "output_type": "display_data"
    },
    {
     "name": "stdout",
     "output_type": "stream",
     "text": [
      "\n",
      "finger-1    : 0.0075\n",
      "finger-2    : 0.0002\n",
      "finger-3    : 0.0664\n",
      "finger-4    : 0.1257\n",
      "finger-5    : 0.0530\n",
      "finger-6    : 0.0847\n",
      "finger-7    : 0.0722\n",
      "finger-8    : 0.1464\n",
      "finger-9    : 0.0197\n",
      "finger-10   : 0.0191\n",
      "finger-11   : 0.1224\n",
      "finger-12   : 0.2053\n",
      "finger-13   : 0.0225\n",
      "finger-14   : 0.0483\n",
      "finger-15   : 0.0400\n",
      "finger-16   : 0.1748\n",
      "finger-17   : 0.0024\n",
      "finger-18   : 0.0009\n",
      "finger-19   : 0.0702\n",
      "Trapezium   : 0.0006\n",
      "Trapezoid   : 0.0000\n",
      "Capitate    : 0.0030\n",
      "Hamate      : 0.0063\n",
      "Scaphoid    : 0.0009\n",
      "Lunate      : 0.0000\n",
      "Triquetrum  : 0.0947\n",
      "Pisiform    : 0.2199\n",
      "Radius      : 0.4925\n",
      "Ulna        : 0.2597\n",
      "Best performance at epoch: 9, 0.0535 -> 0.0814\n",
      "Save model in /opt/ml/input/code/trained_model/[DeepLabV3Plus_efficientnet-b4]_[size:(512, 512)]_[loss:[(BCEWithLogitsLoss(), 0.5), (SmoothL1Loss(), 0.5)]]_[LR:0.0001]_[seed:21]_[epoch:50]\n",
      "2023-06-09 22:44:51 | Epoch [10/50], Step [0/80]\n",
      "2023-06-09 22:46:09 | Epoch [10/50], Step [25/80], Loss: 0.3947\n",
      "2023-06-09 22:47:26 | Epoch [10/50], Step [50/80], Loss: 0.3683\n",
      "2023-06-09 22:48:44 | Epoch [10/50], Step [75/80], Loss: 0.3605\n",
      "Start validation #10\n"
     ]
    },
    {
     "data": {
      "application/vnd.jupyter.widget-view+json": {
       "model_id": "d156742bda1b496db96cea75ea4475ff",
       "version_major": 2,
       "version_minor": 0
      },
      "text/plain": [
       "HBox(children=(HTML(value=''), FloatProgress(value=0.0, max=80.0), HTML(value='')))"
      ]
     },
     "metadata": {},
     "output_type": "display_data"
    },
    {
     "name": "stdout",
     "output_type": "stream",
     "text": [
      "\n",
      "finger-1    : 0.0048\n",
      "finger-2    : 0.0001\n",
      "finger-3    : 0.0911\n",
      "finger-4    : 0.2044\n",
      "finger-5    : 0.0510\n",
      "finger-6    : 0.0662\n",
      "finger-7    : 0.0881\n",
      "finger-8    : 0.1843\n",
      "finger-9    : 0.0275\n",
      "finger-10   : 0.0401\n",
      "finger-11   : 0.0950\n",
      "finger-12   : 0.2053\n",
      "finger-13   : 0.0107\n",
      "finger-14   : 0.0409\n",
      "finger-15   : 0.0737\n",
      "finger-16   : 0.1946\n",
      "finger-17   : 0.0014\n",
      "finger-18   : 0.0013\n",
      "finger-19   : 0.0421\n",
      "Trapezium   : 0.0046\n",
      "Trapezoid   : 0.0004\n",
      "Capitate    : 0.0133\n",
      "Hamate      : 0.0220\n",
      "Scaphoid    : 0.0129\n",
      "Lunate      : 0.0028\n",
      "Triquetrum  : 0.0340\n",
      "Pisiform    : 0.3466\n",
      "Radius      : 0.5116\n",
      "Ulna        : 0.1846\n",
      "Best performance at epoch: 10, 0.0814 -> 0.0881\n",
      "Save model in /opt/ml/input/code/trained_model/[DeepLabV3Plus_efficientnet-b4]_[size:(512, 512)]_[loss:[(BCEWithLogitsLoss(), 0.5), (SmoothL1Loss(), 0.5)]]_[LR:0.0001]_[seed:21]_[epoch:50]\n",
      "2023-06-09 22:50:04 | Epoch [11/50], Step [0/80]\n",
      "2023-06-09 22:51:23 | Epoch [11/50], Step [25/80], Loss: 0.3568\n",
      "2023-06-09 22:52:40 | Epoch [11/50], Step [50/80], Loss: 0.3556\n",
      "2023-06-09 22:53:58 | Epoch [11/50], Step [75/80], Loss: 0.3499\n",
      "Start validation #11\n"
     ]
    },
    {
     "data": {
      "application/vnd.jupyter.widget-view+json": {
       "model_id": "3b468d0c214b4671aad8090eb1e9f9f1",
       "version_major": 2,
       "version_minor": 0
      },
      "text/plain": [
       "HBox(children=(HTML(value=''), FloatProgress(value=0.0, max=80.0), HTML(value='')))"
      ]
     },
     "metadata": {},
     "output_type": "display_data"
    },
    {
     "name": "stdout",
     "output_type": "stream",
     "text": [
      "\n",
      "finger-1    : 0.0108\n",
      "finger-2    : 0.0003\n",
      "finger-3    : 0.1283\n",
      "finger-4    : 0.2260\n",
      "finger-5    : 0.0513\n",
      "finger-6    : 0.0951\n",
      "finger-7    : 0.1114\n",
      "finger-8    : 0.1994\n",
      "finger-9    : 0.0380\n",
      "finger-10   : 0.0967\n",
      "finger-11   : 0.1978\n",
      "finger-12   : 0.2077\n",
      "finger-13   : 0.0058\n",
      "finger-14   : 0.0512\n",
      "finger-15   : 0.1200\n",
      "finger-16   : 0.2247\n",
      "finger-17   : 0.0016\n",
      "finger-18   : 0.0024\n",
      "finger-19   : 0.0315\n",
      "Trapezium   : 0.0006\n",
      "Trapezoid   : 0.0001\n",
      "Capitate    : 0.0156\n",
      "Hamate      : 0.0101\n",
      "Scaphoid    : 0.0095\n",
      "Lunate      : 0.0001\n",
      "Triquetrum  : 0.0109\n",
      "Pisiform    : 0.4582\n",
      "Radius      : 0.5596\n",
      "Ulna        : 0.3341\n",
      "Best performance at epoch: 11, 0.0881 -> 0.1103\n",
      "Save model in /opt/ml/input/code/trained_model/[DeepLabV3Plus_efficientnet-b4]_[size:(512, 512)]_[loss:[(BCEWithLogitsLoss(), 0.5), (SmoothL1Loss(), 0.5)]]_[LR:0.0001]_[seed:21]_[epoch:50]\n",
      "2023-06-09 22:55:18 | Epoch [12/50], Step [0/80]\n",
      "2023-06-09 22:56:36 | Epoch [12/50], Step [25/80], Loss: 0.3477\n",
      "2023-06-09 22:57:55 | Epoch [12/50], Step [50/80], Loss: 0.3454\n",
      "2023-06-09 22:59:13 | Epoch [12/50], Step [75/80], Loss: 0.3428\n",
      "Start validation #12\n"
     ]
    },
    {
     "data": {
      "application/vnd.jupyter.widget-view+json": {
       "model_id": "ed4773d79191492eb60426abc88e339b",
       "version_major": 2,
       "version_minor": 0
      },
      "text/plain": [
       "HBox(children=(HTML(value=''), FloatProgress(value=0.0, max=80.0), HTML(value='')))"
      ]
     },
     "metadata": {},
     "output_type": "display_data"
    },
    {
     "name": "stdout",
     "output_type": "stream",
     "text": [
      "\n",
      "finger-1    : 0.0056\n",
      "finger-2    : 0.0004\n",
      "finger-3    : 0.1515\n",
      "finger-4    : 0.2251\n",
      "finger-5    : 0.0558\n",
      "finger-6    : 0.0978\n",
      "finger-7    : 0.1497\n",
      "finger-8    : 0.2002\n",
      "finger-9    : 0.0433\n",
      "finger-10   : 0.1736\n",
      "finger-11   : 0.3652\n",
      "finger-12   : 0.1911\n",
      "finger-13   : 0.0026\n",
      "finger-14   : 0.0612\n",
      "finger-15   : 0.1353\n",
      "finger-16   : 0.2347\n",
      "finger-17   : 0.0009\n",
      "finger-18   : 0.0007\n",
      "finger-19   : 0.0258\n",
      "Trapezium   : 0.0022\n",
      "Trapezoid   : 0.0001\n",
      "Capitate    : 0.0225\n",
      "Hamate      : 0.0091\n",
      "Scaphoid    : 0.0127\n",
      "Lunate      : 0.0006\n",
      "Triquetrum  : 0.0086\n",
      "Pisiform    : 0.4749\n",
      "Radius      : 0.5717\n",
      "Ulna        : 0.4347\n",
      "Best performance at epoch: 12, 0.1103 -> 0.1261\n",
      "Save model in /opt/ml/input/code/trained_model/[DeepLabV3Plus_efficientnet-b4]_[size:(512, 512)]_[loss:[(BCEWithLogitsLoss(), 0.5), (SmoothL1Loss(), 0.5)]]_[LR:0.0001]_[seed:21]_[epoch:50]\n",
      "2023-06-09 23:00:32 | Epoch [13/50], Step [0/80]\n",
      "2023-06-09 23:01:54 | Epoch [13/50], Step [25/80], Loss: 0.3409\n",
      "2023-06-09 23:03:11 | Epoch [13/50], Step [50/80], Loss: 0.3388\n",
      "2023-06-09 23:04:28 | Epoch [13/50], Step [75/80], Loss: 0.3476\n",
      "Start validation #13\n"
     ]
    },
    {
     "data": {
      "application/vnd.jupyter.widget-view+json": {
       "model_id": "8cd3ae24b8cc47669330a3266819084b",
       "version_major": 2,
       "version_minor": 0
      },
      "text/plain": [
       "HBox(children=(HTML(value=''), FloatProgress(value=0.0, max=80.0), HTML(value='')))"
      ]
     },
     "metadata": {},
     "output_type": "display_data"
    },
    {
     "name": "stdout",
     "output_type": "stream",
     "text": [
      "\n",
      "finger-1    : 0.0017\n",
      "finger-2    : 0.0001\n",
      "finger-3    : 0.0870\n",
      "finger-4    : 0.2203\n",
      "finger-5    : 0.0267\n",
      "finger-6    : 0.0557\n",
      "finger-7    : 0.0509\n",
      "finger-8    : 0.1963\n",
      "finger-9    : 0.0152\n",
      "finger-10   : 0.0551\n",
      "finger-11   : 0.1024\n",
      "finger-12   : 0.1625\n",
      "finger-13   : 0.0004\n",
      "finger-14   : 0.0177\n",
      "finger-15   : 0.0342\n",
      "finger-16   : 0.1941\n",
      "finger-17   : 0.0001\n",
      "finger-18   : 0.0001\n",
      "finger-19   : 0.0035\n",
      "Trapezium   : 0.0000\n",
      "Trapezoid   : 0.0000\n",
      "Capitate    : 0.0009\n",
      "Hamate      : 0.0013\n",
      "Scaphoid    : 0.0010\n",
      "Lunate      : 0.0000\n",
      "Triquetrum  : 0.0000\n",
      "Pisiform    : 0.2378\n",
      "Radius      : 0.6274\n",
      "Ulna        : 0.4191\n",
      "2023-06-09 23:05:46 | Epoch [14/50], Step [0/80]\n",
      "2023-06-09 23:07:03 | Epoch [14/50], Step [25/80], Loss: 0.346\n",
      "2023-06-09 23:08:18 | Epoch [14/50], Step [50/80], Loss: 0.3418\n",
      "2023-06-09 23:09:34 | Epoch [14/50], Step [75/80], Loss: 0.336\n",
      "Start validation #14\n"
     ]
    },
    {
     "data": {
      "application/vnd.jupyter.widget-view+json": {
       "model_id": "0c0a15ad586a49eaa1255076db45a5de",
       "version_major": 2,
       "version_minor": 0
      },
      "text/plain": [
       "HBox(children=(HTML(value=''), FloatProgress(value=0.0, max=80.0), HTML(value='')))"
      ]
     },
     "metadata": {},
     "output_type": "display_data"
    },
    {
     "name": "stdout",
     "output_type": "stream",
     "text": [
      "\n",
      "finger-1    : 0.0070\n",
      "finger-2    : 0.0003\n",
      "finger-3    : 0.1361\n",
      "finger-4    : 0.2269\n",
      "finger-5    : 0.0590\n",
      "finger-6    : 0.0939\n",
      "finger-7    : 0.0998\n",
      "finger-8    : 0.2022\n",
      "finger-9    : 0.0244\n",
      "finger-10   : 0.1337\n",
      "finger-11   : 0.1883\n",
      "finger-12   : 0.2179\n",
      "finger-13   : 0.0010\n",
      "finger-14   : 0.0629\n",
      "finger-15   : 0.0706\n",
      "finger-16   : 0.2571\n",
      "finger-17   : 0.0003\n",
      "finger-18   : 0.0002\n",
      "finger-19   : 0.0187\n",
      "Trapezium   : 0.0007\n",
      "Trapezoid   : 0.0000\n",
      "Capitate    : 0.0040\n",
      "Hamate      : 0.0040\n",
      "Scaphoid    : 0.0082\n",
      "Lunate      : 0.0021\n",
      "Triquetrum  : 0.0009\n",
      "Pisiform    : 0.4401\n",
      "Radius      : 0.5514\n",
      "Ulna        : 0.3909\n",
      "2023-06-09 23:10:53 | Epoch [15/50], Step [0/80]\n",
      "2023-06-09 23:12:09 | Epoch [15/50], Step [25/80], Loss: 0.3352\n",
      "2023-06-09 23:13:27 | Epoch [15/50], Step [50/80], Loss: 0.3336\n",
      "2023-06-09 23:14:43 | Epoch [15/50], Step [75/80], Loss: 0.3286\n",
      "Start validation #15\n"
     ]
    },
    {
     "data": {
      "application/vnd.jupyter.widget-view+json": {
       "model_id": "51fdac5dfc734801bc1cdec625f77ba5",
       "version_major": 2,
       "version_minor": 0
      },
      "text/plain": [
       "HBox(children=(HTML(value=''), FloatProgress(value=0.0, max=80.0), HTML(value='')))"
      ]
     },
     "metadata": {},
     "output_type": "display_data"
    },
    {
     "name": "stdout",
     "output_type": "stream",
     "text": [
      "\n",
      "finger-1    : 0.0130\n",
      "finger-2    : 0.0006\n",
      "finger-3    : 0.1269\n",
      "finger-4    : 0.2257\n",
      "finger-5    : 0.0583\n",
      "finger-6    : 0.1080\n",
      "finger-7    : 0.1767\n",
      "finger-8    : 0.1979\n",
      "finger-9    : 0.0275\n",
      "finger-10   : 0.1511\n",
      "finger-11   : 0.1893\n",
      "finger-12   : 0.2157\n",
      "finger-13   : 0.0012\n",
      "finger-14   : 0.0683\n",
      "finger-15   : 0.0662\n",
      "finger-16   : 0.2637\n",
      "finger-17   : 0.0002\n",
      "finger-18   : 0.0007\n",
      "finger-19   : 0.0214\n",
      "Trapezium   : 0.0001\n",
      "Trapezoid   : 0.0000\n",
      "Capitate    : 0.0053\n",
      "Hamate      : 0.0080\n",
      "Scaphoid    : 0.0089\n",
      "Lunate      : 0.0112\n",
      "Triquetrum  : 0.0066\n",
      "Pisiform    : 0.4567\n",
      "Radius      : 0.5890\n",
      "Ulna        : 0.4067\n",
      "2023-06-09 23:16:00 | Epoch [16/50], Step [0/80]\n",
      "2023-06-09 23:17:16 | Epoch [16/50], Step [25/80], Loss: 0.3222\n",
      "2023-06-09 23:18:34 | Epoch [16/50], Step [50/80], Loss: 0.3173\n",
      "2023-06-09 23:19:51 | Epoch [16/50], Step [75/80], Loss: 0.3142\n",
      "Start validation #16\n"
     ]
    },
    {
     "data": {
      "application/vnd.jupyter.widget-view+json": {
       "model_id": "9f7f7f2deeb141b7a1d24c369839ae16",
       "version_major": 2,
       "version_minor": 0
      },
      "text/plain": [
       "HBox(children=(HTML(value=''), FloatProgress(value=0.0, max=80.0), HTML(value='')))"
      ]
     },
     "metadata": {},
     "output_type": "display_data"
    },
    {
     "name": "stdout",
     "output_type": "stream",
     "text": [
      "\n",
      "finger-1    : 0.0234\n",
      "finger-2    : 0.0006\n",
      "finger-3    : 0.1291\n",
      "finger-4    : 0.2283\n",
      "finger-5    : 0.0716\n",
      "finger-6    : 0.1174\n",
      "finger-7    : 0.1177\n",
      "finger-8    : 0.2004\n",
      "finger-9    : 0.0236\n",
      "finger-10   : 0.1692\n",
      "finger-11   : 0.2258\n",
      "finger-12   : 0.2215\n",
      "finger-13   : 0.0018\n",
      "finger-14   : 0.0833\n",
      "finger-15   : 0.0869\n",
      "finger-16   : 0.2410\n",
      "finger-17   : 0.0009\n",
      "finger-18   : 0.0029\n",
      "finger-19   : 0.0364\n",
      "Trapezium   : 0.0017\n",
      "Trapezoid   : 0.0002\n",
      "Capitate    : 0.0426\n",
      "Hamate      : 0.0215\n",
      "Scaphoid    : 0.0450\n",
      "Lunate      : 0.0379\n",
      "Triquetrum  : 0.0461\n",
      "Pisiform    : 0.4057\n",
      "Radius      : 0.5772\n",
      "Ulna        : 0.3849\n",
      "2023-06-09 23:21:09 | Epoch [17/50], Step [0/80]\n",
      "2023-06-09 23:22:27 | Epoch [17/50], Step [25/80], Loss: 0.3112\n",
      "2023-06-09 23:23:43 | Epoch [17/50], Step [50/80], Loss: 0.3106\n",
      "2023-06-09 23:24:58 | Epoch [17/50], Step [75/80], Loss: 0.3049\n",
      "Start validation #17\n"
     ]
    },
    {
     "data": {
      "application/vnd.jupyter.widget-view+json": {
       "model_id": "c2d67d42486f4274a875e447458818bb",
       "version_major": 2,
       "version_minor": 0
      },
      "text/plain": [
       "HBox(children=(HTML(value=''), FloatProgress(value=0.0, max=80.0), HTML(value='')))"
      ]
     },
     "metadata": {},
     "output_type": "display_data"
    },
    {
     "name": "stdout",
     "output_type": "stream",
     "text": [
      "\n",
      "finger-1    : 0.0079\n",
      "finger-2    : 0.0001\n",
      "finger-3    : 0.1015\n",
      "finger-4    : 0.2266\n",
      "finger-5    : 0.0442\n",
      "finger-6    : 0.0537\n",
      "finger-7    : 0.1291\n",
      "finger-8    : 0.2065\n",
      "finger-9    : 0.0100\n",
      "finger-10   : 0.1484\n",
      "finger-11   : 0.3650\n",
      "finger-12   : 0.1909\n",
      "finger-13   : 0.0005\n",
      "finger-14   : 0.0480\n",
      "finger-15   : 0.0623\n",
      "finger-16   : 0.2485\n",
      "finger-17   : 0.0002\n",
      "finger-18   : 0.0001\n",
      "finger-19   : 0.0198\n",
      "Trapezium   : 0.0009\n",
      "Trapezoid   : 0.0014\n",
      "Capitate    : 0.0371\n",
      "Hamate      : 0.0165\n",
      "Scaphoid    : 0.0316\n",
      "Lunate      : 0.0407\n",
      "Triquetrum  : 0.0323\n",
      "Pisiform    : 0.4515\n",
      "Radius      : 0.6343\n",
      "Ulna        : 0.4689\n",
      "2023-06-09 23:26:18 | Epoch [18/50], Step [0/80]\n",
      "2023-06-09 23:27:35 | Epoch [18/50], Step [25/80], Loss: 0.3037\n",
      "2023-06-09 23:28:50 | Epoch [18/50], Step [50/80], Loss: 0.3036\n",
      "2023-06-09 23:30:06 | Epoch [18/50], Step [75/80], Loss: 0.3025\n",
      "Start validation #18\n"
     ]
    },
    {
     "data": {
      "application/vnd.jupyter.widget-view+json": {
       "model_id": "dfa29614303b4ed1a0b74b6f67380ae6",
       "version_major": 2,
       "version_minor": 0
      },
      "text/plain": [
       "HBox(children=(HTML(value=''), FloatProgress(value=0.0, max=80.0), HTML(value='')))"
      ]
     },
     "metadata": {},
     "output_type": "display_data"
    },
    {
     "name": "stdout",
     "output_type": "stream",
     "text": [
      "\n",
      "finger-1    : 0.0023\n",
      "finger-2    : 0.0000\n",
      "finger-3    : 0.0762\n",
      "finger-4    : 0.2015\n",
      "finger-5    : 0.0191\n",
      "finger-6    : 0.0216\n",
      "finger-7    : 0.1809\n",
      "finger-8    : 0.1915\n",
      "finger-9    : 0.0041\n",
      "finger-10   : 0.1397\n",
      "finger-11   : 0.4530\n",
      "finger-12   : 0.1580\n",
      "finger-13   : 0.0000\n",
      "finger-14   : 0.0247\n",
      "finger-15   : 0.0451\n",
      "finger-16   : 0.2141\n",
      "finger-17   : 0.0000\n",
      "finger-18   : 0.0000\n",
      "finger-19   : 0.0068\n",
      "Trapezium   : 0.0023\n",
      "Trapezoid   : 0.0062\n",
      "Capitate    : 0.0358\n",
      "Hamate      : 0.0146\n",
      "Scaphoid    : 0.0254\n",
      "Lunate      : 0.0205\n",
      "Triquetrum  : 0.0152\n",
      "Pisiform    : 0.4583\n",
      "Radius      : 0.6782\n",
      "Ulna        : 0.5663\n",
      "2023-06-09 23:31:25 | Epoch [19/50], Step [0/80]\n",
      "2023-06-09 23:32:42 | Epoch [19/50], Step [25/80], Loss: 0.3023\n",
      "2023-06-09 23:33:58 | Epoch [19/50], Step [50/80], Loss: 0.3025\n",
      "2023-06-09 23:35:13 | Epoch [19/50], Step [75/80], Loss: 0.3013\n",
      "Start validation #19\n"
     ]
    },
    {
     "data": {
      "application/vnd.jupyter.widget-view+json": {
       "model_id": "3919cbf206aa4516b16bca0fe5dca530",
       "version_major": 2,
       "version_minor": 0
      },
      "text/plain": [
       "HBox(children=(HTML(value=''), FloatProgress(value=0.0, max=80.0), HTML(value='')))"
      ]
     },
     "metadata": {},
     "output_type": "display_data"
    },
    {
     "name": "stdout",
     "output_type": "stream",
     "text": [
      "\n",
      "finger-1    : 0.0002\n",
      "finger-2    : 0.0000\n",
      "finger-3    : 0.0537\n",
      "finger-4    : 0.1607\n",
      "finger-5    : 0.0103\n",
      "finger-6    : 0.0091\n",
      "finger-7    : 0.2948\n",
      "finger-8    : 0.1685\n",
      "finger-9    : 0.0017\n",
      "finger-10   : 0.1691\n",
      "finger-11   : 0.5125\n",
      "finger-12   : 0.1276\n",
      "finger-13   : 0.0000\n",
      "finger-14   : 0.0157\n",
      "finger-15   : 0.0313\n",
      "finger-16   : 0.1726\n",
      "finger-17   : 0.0000\n",
      "finger-18   : 0.0000\n",
      "finger-19   : 0.0027\n",
      "Trapezium   : 0.0045\n",
      "Trapezoid   : 0.0094\n",
      "Capitate    : 0.0373\n",
      "Hamate      : 0.0150\n",
      "Scaphoid    : 0.0276\n",
      "Lunate      : 0.0107\n",
      "Triquetrum  : 0.0072\n",
      "Pisiform    : 0.4395\n",
      "Radius      : 0.6964\n",
      "Ulna        : 0.6508\n",
      "2023-06-09 23:36:33 | Epoch [20/50], Step [0/80]\n",
      "2023-06-09 23:37:50 | Epoch [20/50], Step [25/80], Loss: 0.3014\n",
      "2023-06-09 23:39:06 | Epoch [20/50], Step [50/80], Loss: 0.3013\n",
      "2023-06-09 23:40:22 | Epoch [20/50], Step [75/80], Loss: 0.3006\n",
      "Start validation #20\n"
     ]
    },
    {
     "data": {
      "application/vnd.jupyter.widget-view+json": {
       "model_id": "164b351a52dc4425a11552b21911f6dd",
       "version_major": 2,
       "version_minor": 0
      },
      "text/plain": [
       "HBox(children=(HTML(value=''), FloatProgress(value=0.0, max=80.0), HTML(value='')))"
      ]
     },
     "metadata": {},
     "output_type": "display_data"
    },
    {
     "name": "stdout",
     "output_type": "stream",
     "text": [
      "\n",
      "finger-1    : 0.0000\n",
      "finger-2    : 0.0000\n",
      "finger-3    : 0.0410\n",
      "finger-4    : 0.1199\n",
      "finger-5    : 0.0058\n",
      "finger-6    : 0.0046\n",
      "finger-7    : 0.4120\n",
      "finger-8    : 0.1481\n",
      "finger-9    : 0.0009\n",
      "finger-10   : 0.2335\n",
      "finger-11   : 0.5660\n",
      "finger-12   : 0.1012\n",
      "finger-13   : 0.0000\n",
      "finger-14   : 0.0112\n",
      "finger-15   : 0.0240\n",
      "finger-16   : 0.1359\n",
      "finger-17   : 0.0000\n",
      "finger-18   : 0.0000\n",
      "finger-19   : 0.0013\n",
      "Trapezium   : 0.0041\n",
      "Trapezoid   : 0.0113\n",
      "Capitate    : 0.0416\n",
      "Hamate      : 0.0149\n",
      "Scaphoid    : 0.0347\n",
      "Lunate      : 0.0055\n",
      "Triquetrum  : 0.0056\n",
      "Pisiform    : 0.4079\n",
      "Radius      : 0.7146\n",
      "Ulna        : 0.7208\n",
      "Best performance at epoch: 20, 0.1261 -> 0.1299\n",
      "Save model in /opt/ml/input/code/trained_model/[DeepLabV3Plus_efficientnet-b4]_[size:(512, 512)]_[loss:[(BCEWithLogitsLoss(), 0.5), (SmoothL1Loss(), 0.5)]]_[LR:0.0001]_[seed:21]_[epoch:50]\n",
      "2023-06-09 23:41:43 | Epoch [21/50], Step [0/80]\n",
      "2023-06-09 23:43:03 | Epoch [21/50], Step [25/80], Loss: 0.3008\n",
      "2023-06-09 23:44:19 | Epoch [21/50], Step [50/80], Loss: 0.3006\n",
      "2023-06-09 23:45:35 | Epoch [21/50], Step [75/80], Loss: 0.3002\n",
      "Start validation #21\n"
     ]
    },
    {
     "data": {
      "application/vnd.jupyter.widget-view+json": {
       "model_id": "899fe555691e4122946f756abc503910",
       "version_major": 2,
       "version_minor": 0
      },
      "text/plain": [
       "HBox(children=(HTML(value=''), FloatProgress(value=0.0, max=80.0), HTML(value='')))"
      ]
     },
     "metadata": {},
     "output_type": "display_data"
    },
    {
     "name": "stdout",
     "output_type": "stream",
     "text": [
      "\n",
      "finger-1    : 0.0000\n",
      "finger-2    : 0.0000\n",
      "finger-3    : 0.0317\n",
      "finger-4    : 0.0863\n",
      "finger-5    : 0.0035\n",
      "finger-6    : 0.0024\n",
      "finger-7    : 0.5145\n",
      "finger-8    : 0.1303\n",
      "finger-9    : 0.0006\n",
      "finger-10   : 0.3447\n",
      "finger-11   : 0.6076\n",
      "finger-12   : 0.0811\n",
      "finger-13   : 0.0000\n",
      "finger-14   : 0.0078\n",
      "finger-15   : 0.0201\n",
      "finger-16   : 0.1071\n",
      "finger-17   : 0.0000\n",
      "finger-18   : 0.0000\n",
      "finger-19   : 0.0009\n",
      "Trapezium   : 0.0035\n",
      "Trapezoid   : 0.0131\n",
      "Capitate    : 0.0486\n",
      "Hamate      : 0.0145\n",
      "Scaphoid    : 0.0417\n",
      "Lunate      : 0.0033\n",
      "Triquetrum  : 0.0054\n",
      "Pisiform    : 0.3735\n",
      "Radius      : 0.7356\n",
      "Ulna        : 0.7641\n",
      "Best performance at epoch: 21, 0.1299 -> 0.1359\n",
      "Save model in /opt/ml/input/code/trained_model/[DeepLabV3Plus_efficientnet-b4]_[size:(512, 512)]_[loss:[(BCEWithLogitsLoss(), 0.5), (SmoothL1Loss(), 0.5)]]_[LR:0.0001]_[seed:21]_[epoch:50]\n",
      "2023-06-09 23:46:54 | Epoch [22/50], Step [0/80]\n",
      "2023-06-09 23:48:16 | Epoch [22/50], Step [25/80], Loss: 0.3003\n",
      "2023-06-09 23:49:33 | Epoch [22/50], Step [50/80], Loss: 0.3002\n",
      "2023-06-09 23:50:55 | Epoch [22/50], Step [75/80], Loss: 0.2998\n",
      "Start validation #22\n"
     ]
    },
    {
     "data": {
      "application/vnd.jupyter.widget-view+json": {
       "model_id": "7d6737fe90514711b7ed66bce9ef9b50",
       "version_major": 2,
       "version_minor": 0
      },
      "text/plain": [
       "HBox(children=(HTML(value=''), FloatProgress(value=0.0, max=80.0), HTML(value='')))"
      ]
     },
     "metadata": {},
     "output_type": "display_data"
    },
    {
     "name": "stdout",
     "output_type": "stream",
     "text": [
      "\n",
      "finger-1    : 0.0000\n",
      "finger-2    : 0.0000\n",
      "finger-3    : 0.0248\n",
      "finger-4    : 0.0635\n",
      "finger-5    : 0.0022\n",
      "finger-6    : 0.0015\n",
      "finger-7    : 0.5895\n",
      "finger-8    : 0.1150\n",
      "finger-9    : 0.0003\n",
      "finger-10   : 0.4817\n",
      "finger-11   : 0.6396\n",
      "finger-12   : 0.0666\n",
      "finger-13   : 0.0000\n",
      "finger-14   : 0.0067\n",
      "finger-15   : 0.0202\n",
      "finger-16   : 0.0867\n",
      "finger-17   : 0.0000\n",
      "finger-18   : 0.0000\n",
      "finger-19   : 0.0007\n",
      "Trapezium   : 0.0031\n",
      "Trapezoid   : 0.0128\n",
      "Capitate    : 0.0629\n",
      "Hamate      : 0.0142\n",
      "Scaphoid    : 0.0537\n",
      "Lunate      : 0.0023\n",
      "Triquetrum  : 0.0053\n",
      "Pisiform    : 0.3436\n",
      "Radius      : 0.7542\n",
      "Ulna        : 0.7844\n",
      "Best performance at epoch: 22, 0.1359 -> 0.1426\n",
      "Save model in /opt/ml/input/code/trained_model/[DeepLabV3Plus_efficientnet-b4]_[size:(512, 512)]_[loss:[(BCEWithLogitsLoss(), 0.5), (SmoothL1Loss(), 0.5)]]_[LR:0.0001]_[seed:21]_[epoch:50]\n",
      "2023-06-09 23:52:13 | Epoch [23/50], Step [0/80]\n",
      "2023-06-09 23:53:32 | Epoch [23/50], Step [25/80], Loss: 0.3\n",
      "2023-06-09 23:54:50 | Epoch [23/50], Step [50/80], Loss: 0.2999\n",
      "2023-06-09 23:56:06 | Epoch [23/50], Step [75/80], Loss: 0.2996\n",
      "Start validation #23\n"
     ]
    },
    {
     "data": {
      "application/vnd.jupyter.widget-view+json": {
       "model_id": "357f31cc072740549c6e1127646d0697",
       "version_major": 2,
       "version_minor": 0
      },
      "text/plain": [
       "HBox(children=(HTML(value=''), FloatProgress(value=0.0, max=80.0), HTML(value='')))"
      ]
     },
     "metadata": {},
     "output_type": "display_data"
    },
    {
     "name": "stdout",
     "output_type": "stream",
     "text": [
      "\n",
      "finger-1    : 0.0000\n",
      "finger-2    : 0.0000\n",
      "finger-3    : 0.0200\n",
      "finger-4    : 0.0470\n",
      "finger-5    : 0.0014\n",
      "finger-6    : 0.0012\n",
      "finger-7    : 0.6472\n",
      "finger-8    : 0.0994\n",
      "finger-9    : 0.0003\n",
      "finger-10   : 0.6064\n",
      "finger-11   : 0.6637\n",
      "finger-12   : 0.0546\n",
      "finger-13   : 0.0000\n",
      "finger-14   : 0.0084\n",
      "finger-15   : 0.0250\n",
      "finger-16   : 0.0713\n",
      "finger-17   : 0.0000\n",
      "finger-18   : 0.0000\n",
      "finger-19   : 0.0006\n",
      "Trapezium   : 0.0028\n",
      "Trapezoid   : 0.0121\n",
      "Capitate    : 0.0884\n",
      "Hamate      : 0.0143\n",
      "Scaphoid    : 0.0741\n",
      "Lunate      : 0.0018\n",
      "Triquetrum  : 0.0057\n",
      "Pisiform    : 0.3203\n",
      "Radius      : 0.7708\n",
      "Ulna        : 0.7871\n",
      "Best performance at epoch: 23, 0.1426 -> 0.1491\n",
      "Save model in /opt/ml/input/code/trained_model/[DeepLabV3Plus_efficientnet-b4]_[size:(512, 512)]_[loss:[(BCEWithLogitsLoss(), 0.5), (SmoothL1Loss(), 0.5)]]_[LR:0.0001]_[seed:21]_[epoch:50]\n",
      "2023-06-09 23:57:26 | Epoch [24/50], Step [0/80]\n",
      "2023-06-09 23:58:49 | Epoch [24/50], Step [25/80], Loss: 0.2997\n",
      "2023-06-10 00:00:09 | Epoch [24/50], Step [50/80], Loss: 0.2996\n",
      "2023-06-10 00:01:28 | Epoch [24/50], Step [75/80], Loss: 0.2994\n",
      "Start validation #24\n"
     ]
    },
    {
     "data": {
      "application/vnd.jupyter.widget-view+json": {
       "model_id": "1499e0cccda84adda97a398a89c5b937",
       "version_major": 2,
       "version_minor": 0
      },
      "text/plain": [
       "HBox(children=(HTML(value=''), FloatProgress(value=0.0, max=80.0), HTML(value='')))"
      ]
     },
     "metadata": {},
     "output_type": "display_data"
    },
    {
     "name": "stdout",
     "output_type": "stream",
     "text": [
      "\n",
      "finger-1    : 0.0000\n",
      "finger-2    : 0.0000\n",
      "finger-3    : 0.0179\n",
      "finger-4    : 0.0335\n",
      "finger-5    : 0.0008\n",
      "finger-6    : 0.0014\n",
      "finger-7    : 0.6913\n",
      "finger-8    : 0.0843\n",
      "finger-9    : 0.0004\n",
      "finger-10   : 0.6961\n",
      "finger-11   : 0.6802\n",
      "finger-12   : 0.0453\n",
      "finger-13   : 0.0000\n",
      "finger-14   : 0.0155\n",
      "finger-15   : 0.0457\n",
      "finger-16   : 0.0592\n",
      "finger-17   : 0.0000\n",
      "finger-18   : 0.0000\n",
      "finger-19   : 0.0004\n",
      "Trapezium   : 0.0027\n",
      "Trapezoid   : 0.0118\n",
      "Capitate    : 0.1387\n",
      "Hamate      : 0.0147\n",
      "Scaphoid    : 0.1086\n",
      "Lunate      : 0.0017\n",
      "Triquetrum  : 0.0068\n",
      "Pisiform    : 0.3032\n",
      "Radius      : 0.7854\n",
      "Ulna        : 0.7811\n",
      "Best performance at epoch: 24, 0.1491 -> 0.1561\n",
      "Save model in /opt/ml/input/code/trained_model/[DeepLabV3Plus_efficientnet-b4]_[size:(512, 512)]_[loss:[(BCEWithLogitsLoss(), 0.5), (SmoothL1Loss(), 0.5)]]_[LR:0.0001]_[seed:21]_[epoch:50]\n",
      "2023-06-10 00:02:50 | Epoch [25/50], Step [0/80]\n",
      "2023-06-10 00:04:08 | Epoch [25/50], Step [25/80], Loss: 0.2995\n",
      "2023-06-10 00:05:24 | Epoch [25/50], Step [50/80], Loss: 0.2995\n",
      "2023-06-10 00:06:41 | Epoch [25/50], Step [75/80], Loss: 0.2993\n",
      "Start validation #25\n"
     ]
    },
    {
     "data": {
      "application/vnd.jupyter.widget-view+json": {
       "model_id": "75d75f65f61a4765870351c9aa25a41b",
       "version_major": 2,
       "version_minor": 0
      },
      "text/plain": [
       "HBox(children=(HTML(value=''), FloatProgress(value=0.0, max=80.0), HTML(value='')))"
      ]
     },
     "metadata": {},
     "output_type": "display_data"
    },
    {
     "name": "stdout",
     "output_type": "stream",
     "text": [
      "\n",
      "finger-1    : 0.0000\n",
      "finger-2    : 0.0000\n",
      "finger-3    : 0.0174\n",
      "finger-4    : 0.0247\n",
      "finger-5    : 0.0004\n",
      "finger-6    : 0.0021\n",
      "finger-7    : 0.7212\n",
      "finger-8    : 0.0728\n",
      "finger-9    : 0.0017\n",
      "finger-10   : 0.7540\n",
      "finger-11   : 0.6922\n",
      "finger-12   : 0.0372\n",
      "finger-13   : 0.0000\n",
      "finger-14   : 0.0378\n",
      "finger-15   : 0.1202\n",
      "finger-16   : 0.0483\n",
      "finger-17   : 0.0000\n",
      "finger-18   : 0.0000\n",
      "finger-19   : 0.0004\n",
      "Trapezium   : 0.0027\n",
      "Trapezoid   : 0.0116\n",
      "Capitate    : 0.2243\n",
      "Hamate      : 0.0153\n",
      "Scaphoid    : 0.1616\n",
      "Lunate      : 0.0017\n",
      "Triquetrum  : 0.0086\n",
      "Pisiform    : 0.2920\n",
      "Radius      : 0.7973\n",
      "Ulna        : 0.7719\n",
      "Best performance at epoch: 25, 0.1561 -> 0.1661\n",
      "Save model in /opt/ml/input/code/trained_model/[DeepLabV3Plus_efficientnet-b4]_[size:(512, 512)]_[loss:[(BCEWithLogitsLoss(), 0.5), (SmoothL1Loss(), 0.5)]]_[LR:0.0001]_[seed:21]_[epoch:50]\n",
      "2023-06-10 00:08:01 | Epoch [26/50], Step [0/80]\n",
      "2023-06-10 00:09:21 | Epoch [26/50], Step [25/80], Loss: 0.2993\n",
      "2023-06-10 00:10:38 | Epoch [26/50], Step [50/80], Loss: 0.2993\n",
      "2023-06-10 00:11:55 | Epoch [26/50], Step [75/80], Loss: 0.2991\n",
      "Start validation #26\n"
     ]
    },
    {
     "data": {
      "application/vnd.jupyter.widget-view+json": {
       "model_id": "70fcfe3225b0486a81e67d6586758a99",
       "version_major": 2,
       "version_minor": 0
      },
      "text/plain": [
       "HBox(children=(HTML(value=''), FloatProgress(value=0.0, max=80.0), HTML(value='')))"
      ]
     },
     "metadata": {},
     "output_type": "display_data"
    },
    {
     "name": "stdout",
     "output_type": "stream",
     "text": [
      "\n",
      "finger-1    : 0.0000\n",
      "finger-2    : 0.0000\n",
      "finger-3    : 0.0183\n",
      "finger-4    : 0.0185\n",
      "finger-5    : 0.0002\n",
      "finger-6    : 0.0056\n",
      "finger-7    : 0.7384\n",
      "finger-8    : 0.0655\n",
      "finger-9    : 0.0056\n",
      "finger-10   : 0.7797\n",
      "finger-11   : 0.6999\n",
      "finger-12   : 0.0319\n",
      "finger-13   : 0.0000\n",
      "finger-14   : 0.0861\n",
      "finger-15   : 0.2272\n",
      "finger-16   : 0.0400\n",
      "finger-17   : 0.0000\n",
      "finger-18   : 0.0000\n",
      "finger-19   : 0.0003\n",
      "Trapezium   : 0.0029\n",
      "Trapezoid   : 0.0115\n",
      "Capitate    : 0.3377\n",
      "Hamate      : 0.0159\n",
      "Scaphoid    : 0.2313\n",
      "Lunate      : 0.0021\n",
      "Triquetrum  : 0.0116\n",
      "Pisiform    : 0.2833\n",
      "Radius      : 0.8067\n",
      "Ulna        : 0.7647\n",
      "Best performance at epoch: 26, 0.1661 -> 0.1788\n",
      "Save model in /opt/ml/input/code/trained_model/[DeepLabV3Plus_efficientnet-b4]_[size:(512, 512)]_[loss:[(BCEWithLogitsLoss(), 0.5), (SmoothL1Loss(), 0.5)]]_[LR:0.0001]_[seed:21]_[epoch:50]\n",
      "2023-06-10 00:13:13 | Epoch [27/50], Step [0/80]\n",
      "2023-06-10 00:14:32 | Epoch [27/50], Step [25/80], Loss: 0.2992\n",
      "2023-06-10 00:15:49 | Epoch [27/50], Step [50/80], Loss: 0.2992\n",
      "2023-06-10 00:17:06 | Epoch [27/50], Step [75/80], Loss: 0.299\n",
      "Start validation #27\n"
     ]
    },
    {
     "data": {
      "application/vnd.jupyter.widget-view+json": {
       "model_id": "365e62aa6155469dbc9b66a2b95db0f3",
       "version_major": 2,
       "version_minor": 0
      },
      "text/plain": [
       "HBox(children=(HTML(value=''), FloatProgress(value=0.0, max=80.0), HTML(value='')))"
      ]
     },
     "metadata": {},
     "output_type": "display_data"
    },
    {
     "name": "stdout",
     "output_type": "stream",
     "text": [
      "\n",
      "finger-1    : 0.0000\n",
      "finger-2    : 0.0000\n",
      "finger-3    : 0.0218\n",
      "finger-4    : 0.0136\n",
      "finger-5    : 0.0001\n",
      "finger-6    : 0.0182\n",
      "finger-7    : 0.7463\n",
      "finger-8    : 0.0605\n",
      "finger-9    : 0.0191\n",
      "finger-10   : 0.7896\n",
      "finger-11   : 0.7051\n",
      "finger-12   : 0.0279\n",
      "finger-13   : 0.0000\n",
      "finger-14   : 0.1607\n",
      "finger-15   : 0.3036\n",
      "finger-16   : 0.0333\n",
      "finger-17   : 0.0000\n",
      "finger-18   : 0.0000\n",
      "finger-19   : 0.0002\n",
      "Trapezium   : 0.0073\n",
      "Trapezoid   : 0.0117\n",
      "Capitate    : 0.4573\n",
      "Hamate      : 0.0166\n",
      "Scaphoid    : 0.3071\n",
      "Lunate      : 0.0033\n",
      "Triquetrum  : 0.0184\n",
      "Pisiform    : 0.2839\n",
      "Radius      : 0.8138\n",
      "Ulna        : 0.7613\n",
      "Best performance at epoch: 27, 0.1788 -> 0.1924\n",
      "Save model in /opt/ml/input/code/trained_model/[DeepLabV3Plus_efficientnet-b4]_[size:(512, 512)]_[loss:[(BCEWithLogitsLoss(), 0.5), (SmoothL1Loss(), 0.5)]]_[LR:0.0001]_[seed:21]_[epoch:50]\n",
      "2023-06-10 00:18:26 | Epoch [28/50], Step [0/80]\n",
      "2023-06-10 00:19:54 | Epoch [28/50], Step [25/80], Loss: 0.299\n",
      "2023-06-10 00:21:16 | Epoch [28/50], Step [50/80], Loss: 0.2991\n",
      "2023-06-10 00:22:34 | Epoch [28/50], Step [75/80], Loss: 0.2989\n",
      "Start validation #28\n"
     ]
    },
    {
     "data": {
      "application/vnd.jupyter.widget-view+json": {
       "model_id": "f01e44223d7d4641b43c066b440ad697",
       "version_major": 2,
       "version_minor": 0
      },
      "text/plain": [
       "HBox(children=(HTML(value=''), FloatProgress(value=0.0, max=80.0), HTML(value='')))"
      ]
     },
     "metadata": {},
     "output_type": "display_data"
    },
    {
     "name": "stdout",
     "output_type": "stream",
     "text": [
      "\n",
      "finger-1    : 0.0000\n",
      "finger-2    : 0.0000\n",
      "finger-3    : 0.0315\n",
      "finger-4    : 0.0106\n",
      "finger-5    : 0.0000\n",
      "finger-6    : 0.0514\n",
      "finger-7    : 0.7480\n",
      "finger-8    : 0.0573\n",
      "finger-9    : 0.0496\n",
      "finger-10   : 0.7911\n",
      "finger-11   : 0.7099\n",
      "finger-12   : 0.0244\n",
      "finger-13   : 0.0000\n",
      "finger-14   : 0.2538\n",
      "finger-15   : 0.3446\n",
      "finger-16   : 0.0279\n",
      "finger-17   : 0.0000\n",
      "finger-18   : 0.0000\n",
      "finger-19   : 0.0002\n",
      "Trapezium   : 0.0286\n",
      "Trapezoid   : 0.0125\n",
      "Capitate    : 0.5662\n",
      "Hamate      : 0.0177\n",
      "Scaphoid    : 0.3725\n",
      "Lunate      : 0.0075\n",
      "Triquetrum  : 0.0298\n",
      "Pisiform    : 0.2931\n",
      "Radius      : 0.8196\n",
      "Ulna        : 0.7591\n",
      "Best performance at epoch: 28, 0.1924 -> 0.2071\n",
      "Save model in /opt/ml/input/code/trained_model/[DeepLabV3Plus_efficientnet-b4]_[size:(512, 512)]_[loss:[(BCEWithLogitsLoss(), 0.5), (SmoothL1Loss(), 0.5)]]_[LR:0.0001]_[seed:21]_[epoch:50]\n",
      "2023-06-10 00:23:54 | Epoch [29/50], Step [0/80]\n",
      "2023-06-10 00:25:12 | Epoch [29/50], Step [25/80], Loss: 0.2989\n",
      "2023-06-10 00:26:28 | Epoch [29/50], Step [50/80], Loss: 0.2989\n",
      "2023-06-10 00:27:49 | Epoch [29/50], Step [75/80], Loss: 0.2988\n",
      "Start validation #29\n"
     ]
    },
    {
     "data": {
      "application/vnd.jupyter.widget-view+json": {
       "model_id": "ab66fd8ff1b9454d935b216115785087",
       "version_major": 2,
       "version_minor": 0
      },
      "text/plain": [
       "HBox(children=(HTML(value=''), FloatProgress(value=0.0, max=80.0), HTML(value='')))"
      ]
     },
     "metadata": {},
     "output_type": "display_data"
    },
    {
     "name": "stdout",
     "output_type": "stream",
     "text": [
      "\n",
      "finger-1    : 0.0000\n",
      "finger-2    : 0.0000\n",
      "finger-3    : 0.0643\n",
      "finger-4    : 0.0085\n",
      "finger-5    : 0.0000\n",
      "finger-6    : 0.1251\n",
      "finger-7    : 0.7462\n",
      "finger-8    : 0.0567\n",
      "finger-9    : 0.1198\n",
      "finger-10   : 0.7884\n",
      "finger-11   : 0.7128\n",
      "finger-12   : 0.0217\n",
      "finger-13   : 0.0000\n",
      "finger-14   : 0.3472\n",
      "finger-15   : 0.3672\n",
      "finger-16   : 0.0233\n",
      "finger-17   : 0.0000\n",
      "finger-18   : 0.0000\n",
      "finger-19   : 0.0002\n",
      "Trapezium   : 0.1164\n",
      "Trapezoid   : 0.0202\n",
      "Capitate    : 0.6504\n",
      "Hamate      : 0.0196\n",
      "Scaphoid    : 0.4291\n",
      "Lunate      : 0.0205\n",
      "Triquetrum  : 0.0491\n",
      "Pisiform    : 0.3100\n",
      "Radius      : 0.8243\n",
      "Ulna        : 0.7575\n",
      "Best performance at epoch: 29, 0.2071 -> 0.2268\n",
      "Save model in /opt/ml/input/code/trained_model/[DeepLabV3Plus_efficientnet-b4]_[size:(512, 512)]_[loss:[(BCEWithLogitsLoss(), 0.5), (SmoothL1Loss(), 0.5)]]_[LR:0.0001]_[seed:21]_[epoch:50]\n",
      "2023-06-10 00:29:09 | Epoch [30/50], Step [0/80]\n",
      "2023-06-10 00:30:28 | Epoch [30/50], Step [25/80], Loss: 0.2988\n",
      "2023-06-10 00:31:45 | Epoch [30/50], Step [50/80], Loss: 0.2988\n",
      "2023-06-10 00:33:02 | Epoch [30/50], Step [75/80], Loss: 0.2987\n",
      "Start validation #30\n"
     ]
    },
    {
     "data": {
      "application/vnd.jupyter.widget-view+json": {
       "model_id": "fcb50a30ed3d479d8d0bc5f95f9308f8",
       "version_major": 2,
       "version_minor": 0
      },
      "text/plain": [
       "HBox(children=(HTML(value=''), FloatProgress(value=0.0, max=80.0), HTML(value='')))"
      ]
     },
     "metadata": {},
     "output_type": "display_data"
    },
    {
     "name": "stdout",
     "output_type": "stream",
     "text": [
      "\n",
      "finger-1    : 0.0000\n",
      "finger-2    : 0.0000\n",
      "finger-3    : 0.1736\n",
      "finger-4    : 0.0073\n",
      "finger-5    : 0.0000\n",
      "finger-6    : 0.2642\n",
      "finger-7    : 0.7444\n",
      "finger-8    : 0.0570\n",
      "finger-9    : 0.2452\n",
      "finger-10   : 0.7841\n",
      "finger-11   : 0.7152\n",
      "finger-12   : 0.0195\n",
      "finger-13   : 0.0000\n",
      "finger-14   : 0.4565\n",
      "finger-15   : 0.3784\n",
      "finger-16   : 0.0198\n",
      "finger-17   : 0.0000\n",
      "finger-18   : 0.0000\n",
      "finger-19   : 0.0003\n",
      "Trapezium   : 0.2273\n",
      "Trapezoid   : 0.0383\n",
      "Capitate    : 0.7023\n",
      "Hamate      : 0.0240\n",
      "Scaphoid    : 0.4799\n",
      "Lunate      : 0.0428\n",
      "Triquetrum  : 0.0796\n",
      "Pisiform    : 0.3363\n",
      "Radius      : 0.8283\n",
      "Ulna        : 0.7565\n",
      "Best performance at epoch: 30, 0.2268 -> 0.2545\n",
      "Save model in /opt/ml/input/code/trained_model/[DeepLabV3Plus_efficientnet-b4]_[size:(512, 512)]_[loss:[(BCEWithLogitsLoss(), 0.5), (SmoothL1Loss(), 0.5)]]_[LR:0.0001]_[seed:21]_[epoch:50]\n",
      "2023-06-10 00:34:22 | Epoch [31/50], Step [0/80]\n",
      "2023-06-10 00:35:39 | Epoch [31/50], Step [25/80], Loss: 0.2987\n",
      "2023-06-10 00:36:54 | Epoch [31/50], Step [50/80], Loss: 0.2987\n",
      "2023-06-10 00:38:10 | Epoch [31/50], Step [75/80], Loss: 0.2986\n",
      "Start validation #31\n"
     ]
    },
    {
     "data": {
      "application/vnd.jupyter.widget-view+json": {
       "model_id": "47cbbb1d49484795ac323fef28b3b65c",
       "version_major": 2,
       "version_minor": 0
      },
      "text/plain": [
       "HBox(children=(HTML(value=''), FloatProgress(value=0.0, max=80.0), HTML(value='')))"
      ]
     },
     "metadata": {},
     "output_type": "display_data"
    },
    {
     "name": "stdout",
     "output_type": "stream",
     "text": [
      "\n",
      "finger-1    : 0.0000\n",
      "finger-2    : 0.0000\n",
      "finger-3    : 0.3537\n",
      "finger-4    : 0.0067\n",
      "finger-5    : 0.0000\n",
      "finger-6    : 0.4622\n",
      "finger-7    : 0.7446\n",
      "finger-8    : 0.0581\n",
      "finger-9    : 0.3883\n",
      "finger-10   : 0.7792\n",
      "finger-11   : 0.7175\n",
      "finger-12   : 0.0173\n",
      "finger-13   : 0.0000\n",
      "finger-14   : 0.5589\n",
      "finger-15   : 0.3862\n",
      "finger-16   : 0.0171\n",
      "finger-17   : 0.0000\n",
      "finger-18   : 0.0000\n",
      "finger-19   : 0.0005\n",
      "Trapezium   : 0.3311\n",
      "Trapezoid   : 0.0748\n",
      "Capitate    : 0.7270\n",
      "Hamate      : 0.0367\n",
      "Scaphoid    : 0.5255\n",
      "Lunate      : 0.0843\n",
      "Triquetrum  : 0.1260\n",
      "Pisiform    : 0.3697\n",
      "Radius      : 0.8321\n",
      "Ulna        : 0.7561\n",
      "Best performance at epoch: 31, 0.2545 -> 0.2881\n",
      "Save model in /opt/ml/input/code/trained_model/[DeepLabV3Plus_efficientnet-b4]_[size:(512, 512)]_[loss:[(BCEWithLogitsLoss(), 0.5), (SmoothL1Loss(), 0.5)]]_[LR:0.0001]_[seed:21]_[epoch:50]\n",
      "2023-06-10 00:39:28 | Epoch [32/50], Step [0/80]\n",
      "2023-06-10 00:40:47 | Epoch [32/50], Step [25/80], Loss: 0.2986\n",
      "2023-06-10 00:42:04 | Epoch [32/50], Step [50/80], Loss: 0.2986\n",
      "2023-06-10 00:43:21 | Epoch [32/50], Step [75/80], Loss: 0.2985\n",
      "Start validation #32\n"
     ]
    },
    {
     "data": {
      "application/vnd.jupyter.widget-view+json": {
       "model_id": "af5b2f7b12d84abcbab02adbe6aa4b6b",
       "version_major": 2,
       "version_minor": 0
      },
      "text/plain": [
       "HBox(children=(HTML(value=''), FloatProgress(value=0.0, max=80.0), HTML(value='')))"
      ]
     },
     "metadata": {},
     "output_type": "display_data"
    },
    {
     "name": "stdout",
     "output_type": "stream",
     "text": [
      "\n",
      "finger-1    : 0.0000\n",
      "finger-2    : 0.0000\n",
      "finger-3    : 0.5057\n",
      "finger-4    : 0.0061\n",
      "finger-5    : 0.0000\n",
      "finger-6    : 0.6085\n",
      "finger-7    : 0.7461\n",
      "finger-8    : 0.0597\n",
      "finger-9    : 0.5116\n",
      "finger-10   : 0.7745\n",
      "finger-11   : 0.7211\n",
      "finger-12   : 0.0154\n",
      "finger-13   : 0.0000\n",
      "finger-14   : 0.6346\n",
      "finger-15   : 0.4803\n",
      "finger-16   : 0.0141\n",
      "finger-17   : 0.0000\n",
      "finger-18   : 0.0000\n",
      "finger-19   : 0.0011\n",
      "Trapezium   : 0.4194\n",
      "Trapezoid   : 0.1268\n",
      "Capitate    : 0.7377\n",
      "Hamate      : 0.0734\n",
      "Scaphoid    : 0.5653\n",
      "Lunate      : 0.1406\n",
      "Triquetrum  : 0.1831\n",
      "Pisiform    : 0.4024\n",
      "Radius      : 0.8349\n",
      "Ulna        : 0.7568\n",
      "Best performance at epoch: 32, 0.2881 -> 0.3213\n",
      "Save model in /opt/ml/input/code/trained_model/[DeepLabV3Plus_efficientnet-b4]_[size:(512, 512)]_[loss:[(BCEWithLogitsLoss(), 0.5), (SmoothL1Loss(), 0.5)]]_[LR:0.0001]_[seed:21]_[epoch:50]\n",
      "2023-06-10 00:44:42 | Epoch [33/50], Step [0/80]\n",
      "2023-06-10 00:46:01 | Epoch [33/50], Step [25/80], Loss: 0.2985\n",
      "2023-06-10 00:47:17 | Epoch [33/50], Step [50/80], Loss: 0.2985\n",
      "2023-06-10 00:48:33 | Epoch [33/50], Step [75/80], Loss: 0.2984\n",
      "Start validation #33\n"
     ]
    },
    {
     "data": {
      "application/vnd.jupyter.widget-view+json": {
       "model_id": "c925a387ec0f4b1695ecf20b87e52931",
       "version_major": 2,
       "version_minor": 0
      },
      "text/plain": [
       "HBox(children=(HTML(value=''), FloatProgress(value=0.0, max=80.0), HTML(value='')))"
      ]
     },
     "metadata": {},
     "output_type": "display_data"
    },
    {
     "name": "stdout",
     "output_type": "stream",
     "text": [
      "\n",
      "finger-1    : 0.0000\n",
      "finger-2    : 0.0000\n",
      "finger-3    : 0.6396\n",
      "finger-4    : 0.0054\n",
      "finger-5    : 0.0000\n",
      "finger-6    : 0.6765\n",
      "finger-7    : 0.7472\n",
      "finger-8    : 0.0609\n",
      "finger-9    : 0.6013\n",
      "finger-10   : 0.7704\n",
      "finger-11   : 0.7256\n",
      "finger-12   : 0.0136\n",
      "finger-13   : 0.0000\n",
      "finger-14   : 0.6763\n",
      "finger-15   : 0.6275\n",
      "finger-16   : 0.0114\n",
      "finger-17   : 0.0000\n",
      "finger-18   : 0.0000\n",
      "finger-19   : 0.0102\n",
      "Trapezium   : 0.4961\n",
      "Trapezoid   : 0.1768\n",
      "Capitate    : 0.7390\n",
      "Hamate      : 0.1405\n",
      "Scaphoid    : 0.5965\n",
      "Lunate      : 0.2016\n",
      "Triquetrum  : 0.2550\n",
      "Pisiform    : 0.4355\n",
      "Radius      : 0.8380\n",
      "Ulna        : 0.7579\n",
      "Best performance at epoch: 33, 0.3213 -> 0.3518\n",
      "Save model in /opt/ml/input/code/trained_model/[DeepLabV3Plus_efficientnet-b4]_[size:(512, 512)]_[loss:[(BCEWithLogitsLoss(), 0.5), (SmoothL1Loss(), 0.5)]]_[LR:0.0001]_[seed:21]_[epoch:50]\n",
      "2023-06-10 00:49:52 | Epoch [34/50], Step [0/80]\n",
      "2023-06-10 00:51:09 | Epoch [34/50], Step [25/80], Loss: 0.2984\n",
      "2023-06-10 00:52:27 | Epoch [34/50], Step [50/80], Loss: 0.2984\n",
      "2023-06-10 00:53:43 | Epoch [34/50], Step [75/80], Loss: 0.2983\n",
      "Start validation #34\n"
     ]
    },
    {
     "data": {
      "application/vnd.jupyter.widget-view+json": {
       "model_id": "45b0389052214061ae71ea2f95e2f6fc",
       "version_major": 2,
       "version_minor": 0
      },
      "text/plain": [
       "HBox(children=(HTML(value=''), FloatProgress(value=0.0, max=80.0), HTML(value='')))"
      ]
     },
     "metadata": {},
     "output_type": "display_data"
    },
    {
     "name": "stdout",
     "output_type": "stream",
     "text": [
      "\n",
      "finger-1    : 0.0000\n",
      "finger-2    : 0.0015\n",
      "finger-3    : 0.7047\n",
      "finger-4    : 0.0051\n",
      "finger-5    : 0.0001\n",
      "finger-6    : 0.7110\n",
      "finger-7    : 0.7502\n",
      "finger-8    : 0.0628\n",
      "finger-9    : 0.6616\n",
      "finger-10   : 0.7674\n",
      "finger-11   : 0.7316\n",
      "finger-12   : 0.0121\n",
      "finger-13   : 0.0000\n",
      "finger-14   : 0.6981\n",
      "finger-15   : 0.7043\n",
      "finger-16   : 0.0096\n",
      "finger-17   : 0.0000\n",
      "finger-18   : 0.0003\n",
      "finger-19   : 0.1302\n",
      "Trapezium   : 0.5489\n",
      "Trapezoid   : 0.2232\n",
      "Capitate    : 0.7369\n",
      "Hamate      : 0.2654\n",
      "Scaphoid    : 0.6236\n",
      "Lunate      : 0.2669\n",
      "Triquetrum  : 0.3276\n",
      "Pisiform    : 0.4654\n",
      "Radius      : 0.8421\n",
      "Ulna        : 0.7589\n",
      "Best performance at epoch: 34, 0.3518 -> 0.3796\n",
      "Save model in /opt/ml/input/code/trained_model/[DeepLabV3Plus_efficientnet-b4]_[size:(512, 512)]_[loss:[(BCEWithLogitsLoss(), 0.5), (SmoothL1Loss(), 0.5)]]_[LR:0.0001]_[seed:21]_[epoch:50]\n",
      "2023-06-10 00:55:03 | Epoch [35/50], Step [0/80]\n",
      "2023-06-10 00:56:21 | Epoch [35/50], Step [25/80], Loss: 0.2983\n",
      "2023-06-10 00:57:39 | Epoch [35/50], Step [50/80], Loss: 0.2983\n",
      "2023-06-10 00:58:56 | Epoch [35/50], Step [75/80], Loss: 0.2982\n",
      "Start validation #35\n"
     ]
    },
    {
     "data": {
      "application/vnd.jupyter.widget-view+json": {
       "model_id": "e76690da0dcc42f3b9839815813addb0",
       "version_major": 2,
       "version_minor": 0
      },
      "text/plain": [
       "HBox(children=(HTML(value=''), FloatProgress(value=0.0, max=80.0), HTML(value='')))"
      ]
     },
     "metadata": {},
     "output_type": "display_data"
    },
    {
     "name": "stdout",
     "output_type": "stream",
     "text": [
      "\n",
      "finger-1    : 0.0000\n",
      "finger-2    : 0.0199\n",
      "finger-3    : 0.7325\n",
      "finger-4    : 0.0051\n",
      "finger-5    : 0.0004\n",
      "finger-6    : 0.7260\n",
      "finger-7    : 0.7490\n",
      "finger-8    : 0.0652\n",
      "finger-9    : 0.6994\n",
      "finger-10   : 0.7656\n",
      "finger-11   : 0.7376\n",
      "finger-12   : 0.0106\n",
      "finger-13   : 0.0000\n",
      "finger-14   : 0.7116\n",
      "finger-15   : 0.7334\n",
      "finger-16   : 0.0074\n",
      "finger-17   : 0.0000\n",
      "finger-18   : 0.0052\n",
      "finger-19   : 0.3039\n",
      "Trapezium   : 0.5897\n",
      "Trapezoid   : 0.2661\n",
      "Capitate    : 0.7347\n",
      "Hamate      : 0.4403\n",
      "Scaphoid    : 0.6478\n",
      "Lunate      : 0.3266\n",
      "Triquetrum  : 0.3955\n",
      "Pisiform    : 0.4931\n",
      "Radius      : 0.8443\n",
      "Ulna        : 0.7591\n",
      "Best performance at epoch: 35, 0.3796 -> 0.4059\n",
      "Save model in /opt/ml/input/code/trained_model/[DeepLabV3Plus_efficientnet-b4]_[size:(512, 512)]_[loss:[(BCEWithLogitsLoss(), 0.5), (SmoothL1Loss(), 0.5)]]_[LR:0.0001]_[seed:21]_[epoch:50]\n",
      "2023-06-10 01:00:15 | Epoch [36/50], Step [0/80]\n",
      "2023-06-10 01:01:32 | Epoch [36/50], Step [25/80], Loss: 0.2983\n",
      "2023-06-10 01:02:49 | Epoch [36/50], Step [50/80], Loss: 0.2983\n",
      "2023-06-10 01:04:11 | Epoch [36/50], Step [75/80], Loss: 0.2981\n",
      "Start validation #36\n"
     ]
    },
    {
     "data": {
      "application/vnd.jupyter.widget-view+json": {
       "model_id": "dbbc6d71285f4a4c8f6d79fb279a5d2c",
       "version_major": 2,
       "version_minor": 0
      },
      "text/plain": [
       "HBox(children=(HTML(value=''), FloatProgress(value=0.0, max=80.0), HTML(value='')))"
      ]
     },
     "metadata": {},
     "output_type": "display_data"
    },
    {
     "name": "stdout",
     "output_type": "stream",
     "text": [
      "\n",
      "finger-1    : 0.0000\n",
      "finger-2    : 0.0953\n",
      "finger-3    : 0.7462\n",
      "finger-4    : 0.0051\n",
      "finger-5    : 0.0023\n",
      "finger-6    : 0.7339\n",
      "finger-7    : 0.7536\n",
      "finger-8    : 0.0689\n",
      "finger-9    : 0.7227\n",
      "finger-10   : 0.7644\n",
      "finger-11   : 0.7441\n",
      "finger-12   : 0.0097\n",
      "finger-13   : 0.0000\n",
      "finger-14   : 0.7218\n",
      "finger-15   : 0.7448\n",
      "finger-16   : 0.0072\n",
      "finger-17   : 0.0000\n",
      "finger-18   : 0.0287\n",
      "finger-19   : 0.3814\n",
      "Trapezium   : 0.6242\n",
      "Trapezoid   : 0.3324\n",
      "Capitate    : 0.7340\n",
      "Hamate      : 0.5912\n",
      "Scaphoid    : 0.6639\n",
      "Lunate      : 0.3738\n",
      "Triquetrum  : 0.4592\n",
      "Pisiform    : 0.5141\n",
      "Radius      : 0.8469\n",
      "Ulna        : 0.7618\n",
      "Best performance at epoch: 36, 0.4059 -> 0.4287\n",
      "Save model in /opt/ml/input/code/trained_model/[DeepLabV3Plus_efficientnet-b4]_[size:(512, 512)]_[loss:[(BCEWithLogitsLoss(), 0.5), (SmoothL1Loss(), 0.5)]]_[LR:0.0001]_[seed:21]_[epoch:50]\n",
      "2023-06-10 01:05:31 | Epoch [37/50], Step [0/80]\n",
      "2023-06-10 01:06:50 | Epoch [37/50], Step [25/80], Loss: 0.2982\n",
      "2023-06-10 01:08:13 | Epoch [37/50], Step [50/80], Loss: 0.2982\n",
      "2023-06-10 01:09:33 | Epoch [37/50], Step [75/80], Loss: 0.2981\n",
      "Start validation #37\n"
     ]
    },
    {
     "data": {
      "application/vnd.jupyter.widget-view+json": {
       "model_id": "d4cd1e306a594dd7b1f5fecc3450c321",
       "version_major": 2,
       "version_minor": 0
      },
      "text/plain": [
       "HBox(children=(HTML(value=''), FloatProgress(value=0.0, max=80.0), HTML(value='')))"
      ]
     },
     "metadata": {},
     "output_type": "display_data"
    },
    {
     "name": "stdout",
     "output_type": "stream",
     "text": [
      "\n",
      "finger-1    : 0.0000\n",
      "finger-2    : 0.2477\n",
      "finger-3    : 0.7477\n",
      "finger-4    : 0.0062\n",
      "finger-5    : 0.0123\n",
      "finger-6    : 0.7335\n",
      "finger-7    : 0.7588\n",
      "finger-8    : 0.0747\n",
      "finger-9    : 0.7376\n",
      "finger-10   : 0.7628\n",
      "finger-11   : 0.7492\n",
      "finger-12   : 0.0089\n",
      "finger-13   : 0.0000\n",
      "finger-14   : 0.7304\n",
      "finger-15   : 0.7496\n",
      "finger-16   : 0.0061\n",
      "finger-17   : 0.0000\n",
      "finger-18   : 0.0796\n",
      "finger-19   : 0.4611\n",
      "Trapezium   : 0.6444\n",
      "Trapezoid   : 0.4164\n",
      "Capitate    : 0.7349\n",
      "Hamate      : 0.6668\n",
      "Scaphoid    : 0.6722\n",
      "Lunate      : 0.4171\n",
      "Triquetrum  : 0.5258\n",
      "Pisiform    : 0.5364\n",
      "Radius      : 0.8499\n",
      "Ulna        : 0.7635\n",
      "Best performance at epoch: 37, 0.4287 -> 0.4515\n",
      "Save model in /opt/ml/input/code/trained_model/[DeepLabV3Plus_efficientnet-b4]_[size:(512, 512)]_[loss:[(BCEWithLogitsLoss(), 0.5), (SmoothL1Loss(), 0.5)]]_[LR:0.0001]_[seed:21]_[epoch:50]\n",
      "2023-06-10 01:10:53 | Epoch [38/50], Step [0/80]\n",
      "2023-06-10 01:12:12 | Epoch [38/50], Step [25/80], Loss: 0.2981\n",
      "2023-06-10 01:13:32 | Epoch [38/50], Step [50/80], Loss: 0.2981\n",
      "2023-06-10 01:14:49 | Epoch [38/50], Step [75/80], Loss: 0.298\n",
      "Start validation #38\n"
     ]
    },
    {
     "data": {
      "application/vnd.jupyter.widget-view+json": {
       "model_id": "f4abe61cc65c46a3b3bac4f3e6a5c6a0",
       "version_major": 2,
       "version_minor": 0
      },
      "text/plain": [
       "HBox(children=(HTML(value=''), FloatProgress(value=0.0, max=80.0), HTML(value='')))"
      ]
     },
     "metadata": {},
     "output_type": "display_data"
    },
    {
     "name": "stdout",
     "output_type": "stream",
     "text": [
      "\n",
      "finger-1    : 0.0000\n",
      "finger-2    : 0.3991\n",
      "finger-3    : 0.7451\n",
      "finger-4    : 0.0076\n",
      "finger-5    : 0.0535\n",
      "finger-6    : 0.7304\n",
      "finger-7    : 0.7605\n",
      "finger-8    : 0.0833\n",
      "finger-9    : 0.7472\n",
      "finger-10   : 0.7626\n",
      "finger-11   : 0.7543\n",
      "finger-12   : 0.0087\n",
      "finger-13   : 0.0002\n",
      "finger-14   : 0.7359\n",
      "finger-15   : 0.7522\n",
      "finger-16   : 0.0052\n",
      "finger-17   : 0.0000\n",
      "finger-18   : 0.1737\n",
      "finger-19   : 0.6530\n",
      "Trapezium   : 0.6548\n",
      "Trapezoid   : 0.4897\n",
      "Capitate    : 0.7363\n",
      "Hamate      : 0.7016\n",
      "Scaphoid    : 0.6791\n",
      "Lunate      : 0.4538\n",
      "Triquetrum  : 0.5835\n",
      "Pisiform    : 0.5574\n",
      "Radius      : 0.8520\n",
      "Ulna        : 0.7657\n",
      "Best performance at epoch: 38, 0.4515 -> 0.4775\n",
      "Save model in /opt/ml/input/code/trained_model/[DeepLabV3Plus_efficientnet-b4]_[size:(512, 512)]_[loss:[(BCEWithLogitsLoss(), 0.5), (SmoothL1Loss(), 0.5)]]_[LR:0.0001]_[seed:21]_[epoch:50]\n",
      "2023-06-10 01:16:09 | Epoch [39/50], Step [0/80]\n",
      "2023-06-10 01:17:27 | Epoch [39/50], Step [25/80], Loss: 0.298\n",
      "2023-06-10 01:18:45 | Epoch [39/50], Step [50/80], Loss: 0.298\n",
      "2023-06-10 01:20:02 | Epoch [39/50], Step [75/80], Loss: 0.2979\n",
      "Start validation #39\n"
     ]
    },
    {
     "data": {
      "application/vnd.jupyter.widget-view+json": {
       "model_id": "9034c183d24c42d7a9085d6195a907a6",
       "version_major": 2,
       "version_minor": 0
      },
      "text/plain": [
       "HBox(children=(HTML(value=''), FloatProgress(value=0.0, max=80.0), HTML(value='')))"
      ]
     },
     "metadata": {},
     "output_type": "display_data"
    },
    {
     "name": "stdout",
     "output_type": "stream",
     "text": [
      "\n",
      "finger-1    : 0.0000\n",
      "finger-2    : 0.5447\n",
      "finger-3    : 0.7408\n",
      "finger-4    : 0.0105\n",
      "finger-5    : 0.1447\n",
      "finger-6    : 0.7265\n",
      "finger-7    : 0.7622\n",
      "finger-8    : 0.0947\n",
      "finger-9    : 0.7528\n",
      "finger-10   : 0.7625\n",
      "finger-11   : 0.7590\n",
      "finger-12   : 0.0087\n",
      "finger-13   : 0.0009\n",
      "finger-14   : 0.7383\n",
      "finger-15   : 0.7540\n",
      "finger-16   : 0.0042\n",
      "finger-17   : 0.0000\n",
      "finger-18   : 0.3252\n",
      "finger-19   : 0.7478\n",
      "Trapezium   : 0.6624\n",
      "Trapezoid   : 0.5510\n",
      "Capitate    : 0.7381\n",
      "Hamate      : 0.7169\n",
      "Scaphoid    : 0.6838\n",
      "Lunate      : 0.4921\n",
      "Triquetrum  : 0.6395\n",
      "Pisiform    : 0.5789\n",
      "Radius      : 0.8537\n",
      "Ulna        : 0.7677\n",
      "Best performance at epoch: 39, 0.4775 -> 0.5021\n",
      "Save model in /opt/ml/input/code/trained_model/[DeepLabV3Plus_efficientnet-b4]_[size:(512, 512)]_[loss:[(BCEWithLogitsLoss(), 0.5), (SmoothL1Loss(), 0.5)]]_[LR:0.0001]_[seed:21]_[epoch:50]\n",
      "2023-06-10 01:21:23 | Epoch [40/50], Step [0/80]\n",
      "2023-06-10 01:22:39 | Epoch [40/50], Step [25/80], Loss: 0.298\n",
      "2023-06-10 01:23:57 | Epoch [40/50], Step [50/80], Loss: 0.298\n",
      "2023-06-10 01:25:15 | Epoch [40/50], Step [75/80], Loss: 0.2979\n",
      "Start validation #40\n"
     ]
    },
    {
     "data": {
      "application/vnd.jupyter.widget-view+json": {
       "model_id": "e9fdd3a9d8da4f16b4e79f7bbe761004",
       "version_major": 2,
       "version_minor": 0
      },
      "text/plain": [
       "HBox(children=(HTML(value=''), FloatProgress(value=0.0, max=80.0), HTML(value='')))"
      ]
     },
     "metadata": {},
     "output_type": "display_data"
    },
    {
     "name": "stdout",
     "output_type": "stream",
     "text": [
      "\n",
      "finger-1    : 0.0000\n",
      "finger-2    : 0.6550\n",
      "finger-3    : 0.7431\n",
      "finger-4    : 0.0169\n",
      "finger-5    : 0.2995\n",
      "finger-6    : 0.7219\n",
      "finger-7    : 0.7643\n",
      "finger-8    : 0.1096\n",
      "finger-9    : 0.7538\n",
      "finger-10   : 0.7611\n",
      "finger-11   : 0.7641\n",
      "finger-12   : 0.0097\n",
      "finger-13   : 0.0032\n",
      "finger-14   : 0.7382\n",
      "finger-15   : 0.7568\n",
      "finger-16   : 0.0041\n",
      "finger-17   : 0.0000\n",
      "finger-18   : 0.5193\n",
      "finger-19   : 0.7679\n",
      "Trapezium   : 0.6688\n",
      "Trapezoid   : 0.6002\n",
      "Capitate    : 0.7407\n",
      "Hamate      : 0.7207\n",
      "Scaphoid    : 0.6850\n",
      "Lunate      : 0.5288\n",
      "Triquetrum  : 0.6813\n",
      "Pisiform    : 0.5989\n",
      "Radius      : 0.8560\n",
      "Ulna        : 0.7722\n",
      "Best performance at epoch: 40, 0.5021 -> 0.5256\n",
      "Save model in /opt/ml/input/code/trained_model/[DeepLabV3Plus_efficientnet-b4]_[size:(512, 512)]_[loss:[(BCEWithLogitsLoss(), 0.5), (SmoothL1Loss(), 0.5)]]_[LR:0.0001]_[seed:21]_[epoch:50]\n",
      "2023-06-10 01:26:35 | Epoch [41/50], Step [0/80]\n",
      "2023-06-10 01:27:54 | Epoch [41/50], Step [25/80], Loss: 0.2979\n",
      "2023-06-10 01:29:12 | Epoch [41/50], Step [50/80], Loss: 0.2979\n",
      "2023-06-10 01:30:29 | Epoch [41/50], Step [75/80], Loss: 0.2978\n",
      "Start validation #41\n"
     ]
    },
    {
     "data": {
      "application/vnd.jupyter.widget-view+json": {
       "model_id": "bb672370bbd140628aea19d344bbdbae",
       "version_major": 2,
       "version_minor": 0
      },
      "text/plain": [
       "HBox(children=(HTML(value=''), FloatProgress(value=0.0, max=80.0), HTML(value='')))"
      ]
     },
     "metadata": {},
     "output_type": "display_data"
    },
    {
     "name": "stdout",
     "output_type": "stream",
     "text": [
      "\n",
      "finger-1    : 0.0002\n",
      "finger-2    : 0.7184\n",
      "finger-3    : 0.7377\n",
      "finger-4    : 0.0256\n",
      "finger-5    : 0.4616\n",
      "finger-6    : 0.7196\n",
      "finger-7    : 0.7653\n",
      "finger-8    : 0.1258\n",
      "finger-9    : 0.7536\n",
      "finger-10   : 0.7610\n",
      "finger-11   : 0.7686\n",
      "finger-12   : 0.0113\n",
      "finger-13   : 0.0130\n",
      "finger-14   : 0.7369\n",
      "finger-15   : 0.7580\n",
      "finger-16   : 0.0041\n",
      "finger-17   : 0.0000\n",
      "finger-18   : 0.6525\n",
      "finger-19   : 0.7696\n",
      "Trapezium   : 0.6715\n",
      "Trapezoid   : 0.6370\n",
      "Capitate    : 0.7418\n",
      "Hamate      : 0.7217\n",
      "Scaphoid    : 0.6883\n",
      "Lunate      : 0.5657\n",
      "Triquetrum  : 0.7106\n",
      "Pisiform    : 0.6211\n",
      "Radius      : 0.8569\n",
      "Ulna        : 0.7745\n",
      "Best performance at epoch: 41, 0.5256 -> 0.5439\n",
      "Save model in /opt/ml/input/code/trained_model/[DeepLabV3Plus_efficientnet-b4]_[size:(512, 512)]_[loss:[(BCEWithLogitsLoss(), 0.5), (SmoothL1Loss(), 0.5)]]_[LR:0.0001]_[seed:21]_[epoch:50]\n",
      "2023-06-10 01:31:48 | Epoch [42/50], Step [0/80]\n",
      "2023-06-10 01:33:07 | Epoch [42/50], Step [25/80], Loss: 0.2978\n",
      "2023-06-10 01:34:24 | Epoch [42/50], Step [50/80], Loss: 0.2978\n",
      "2023-06-10 01:35:47 | Epoch [42/50], Step [75/80], Loss: 0.2977\n",
      "Start validation #42\n"
     ]
    },
    {
     "data": {
      "application/vnd.jupyter.widget-view+json": {
       "model_id": "6e59a3c177f245e98c4ab7249278a788",
       "version_major": 2,
       "version_minor": 0
      },
      "text/plain": [
       "HBox(children=(HTML(value=''), FloatProgress(value=0.0, max=80.0), HTML(value='')))"
      ]
     },
     "metadata": {},
     "output_type": "display_data"
    },
    {
     "name": "stdout",
     "output_type": "stream",
     "text": [
      "\n",
      "finger-1    : 0.0009\n",
      "finger-2    : 0.7485\n",
      "finger-3    : 0.7432\n",
      "finger-4    : 0.0392\n",
      "finger-5    : 0.5735\n",
      "finger-6    : 0.7197\n",
      "finger-7    : 0.7680\n",
      "finger-8    : 0.1485\n",
      "finger-9    : 0.7529\n",
      "finger-10   : 0.7628\n",
      "finger-11   : 0.7720\n",
      "finger-12   : 0.0145\n",
      "finger-13   : 0.0645\n",
      "finger-14   : 0.7352\n",
      "finger-15   : 0.7592\n",
      "finger-16   : 0.0047\n",
      "finger-17   : 0.0000\n",
      "finger-18   : 0.7215\n",
      "finger-19   : 0.7647\n",
      "Trapezium   : 0.6703\n",
      "Trapezoid   : 0.6627\n",
      "Capitate    : 0.7450\n",
      "Hamate      : 0.7259\n",
      "Scaphoid    : 0.6889\n",
      "Lunate      : 0.6034\n",
      "Triquetrum  : 0.7291\n",
      "Pisiform    : 0.6410\n",
      "Radius      : 0.8589\n",
      "Ulna        : 0.7800\n",
      "Best performance at epoch: 42, 0.5439 -> 0.5586\n",
      "Save model in /opt/ml/input/code/trained_model/[DeepLabV3Plus_efficientnet-b4]_[size:(512, 512)]_[loss:[(BCEWithLogitsLoss(), 0.5), (SmoothL1Loss(), 0.5)]]_[LR:0.0001]_[seed:21]_[epoch:50]\n",
      "2023-06-10 01:37:09 | Epoch [43/50], Step [0/80]\n",
      "2023-06-10 01:38:26 | Epoch [43/50], Step [25/80], Loss: 0.2978\n",
      "2023-06-10 01:39:41 | Epoch [43/50], Step [50/80], Loss: 0.2978\n",
      "2023-06-10 01:40:57 | Epoch [43/50], Step [75/80], Loss: 0.2977\n",
      "Start validation #43\n"
     ]
    },
    {
     "data": {
      "application/vnd.jupyter.widget-view+json": {
       "model_id": "8c0ee02466414be48eb2197667490038",
       "version_major": 2,
       "version_minor": 0
      },
      "text/plain": [
       "HBox(children=(HTML(value=''), FloatProgress(value=0.0, max=80.0), HTML(value='')))"
      ]
     },
     "metadata": {},
     "output_type": "display_data"
    },
    {
     "name": "stdout",
     "output_type": "stream",
     "text": [
      "\n",
      "finger-1    : 0.0038\n",
      "finger-2    : 0.7609\n",
      "finger-3    : 0.7375\n",
      "finger-4    : 0.0564\n",
      "finger-5    : 0.6475\n",
      "finger-6    : 0.7195\n",
      "finger-7    : 0.7696\n",
      "finger-8    : 0.1743\n",
      "finger-9    : 0.7503\n",
      "finger-10   : 0.7650\n",
      "finger-11   : 0.7759\n",
      "finger-12   : 0.0194\n",
      "finger-13   : 0.1788\n",
      "finger-14   : 0.7341\n",
      "finger-15   : 0.7601\n",
      "finger-16   : 0.0050\n",
      "finger-17   : 0.0000\n",
      "finger-18   : 0.7520\n",
      "finger-19   : 0.7582\n",
      "Trapezium   : 0.6699\n",
      "Trapezoid   : 0.6811\n",
      "Capitate    : 0.7448\n",
      "Hamate      : 0.7302\n",
      "Scaphoid    : 0.6906\n",
      "Lunate      : 0.6411\n",
      "Triquetrum  : 0.7366\n",
      "Pisiform    : 0.6579\n",
      "Radius      : 0.8596\n",
      "Ulna        : 0.7838\n",
      "Best performance at epoch: 43, 0.5586 -> 0.5712\n",
      "Save model in /opt/ml/input/code/trained_model/[DeepLabV3Plus_efficientnet-b4]_[size:(512, 512)]_[loss:[(BCEWithLogitsLoss(), 0.5), (SmoothL1Loss(), 0.5)]]_[LR:0.0001]_[seed:21]_[epoch:50]\n",
      "2023-06-10 01:42:18 | Epoch [44/50], Step [0/80]\n",
      "2023-06-10 01:43:34 | Epoch [44/50], Step [25/80], Loss: 0.2977\n",
      "2023-06-10 01:44:53 | Epoch [44/50], Step [50/80], Loss: 0.2977\n",
      "2023-06-10 01:46:11 | Epoch [44/50], Step [75/80], Loss: 0.2976\n",
      "Start validation #44\n"
     ]
    },
    {
     "data": {
      "application/vnd.jupyter.widget-view+json": {
       "model_id": "ef2fa866b2264105b9438d7c6a24e32b",
       "version_major": 2,
       "version_minor": 0
      },
      "text/plain": [
       "HBox(children=(HTML(value=''), FloatProgress(value=0.0, max=80.0), HTML(value='')))"
      ]
     },
     "metadata": {},
     "output_type": "display_data"
    },
    {
     "name": "stdout",
     "output_type": "stream",
     "text": [
      "\n",
      "finger-1    : 0.0114\n",
      "finger-2    : 0.7647\n",
      "finger-3    : 0.7422\n",
      "finger-4    : 0.0764\n",
      "finger-5    : 0.6910\n",
      "finger-6    : 0.7181\n",
      "finger-7    : 0.7725\n",
      "finger-8    : 0.2066\n",
      "finger-9    : 0.7470\n",
      "finger-10   : 0.7679\n",
      "finger-11   : 0.7799\n",
      "finger-12   : 0.0306\n",
      "finger-13   : 0.3458\n",
      "finger-14   : 0.7334\n",
      "finger-15   : 0.7605\n",
      "finger-16   : 0.0058\n",
      "finger-17   : 0.0000\n",
      "finger-18   : 0.7626\n",
      "finger-19   : 0.7501\n",
      "Trapezium   : 0.6691\n",
      "Trapezoid   : 0.6931\n",
      "Capitate    : 0.7472\n",
      "Hamate      : 0.7307\n",
      "Scaphoid    : 0.6906\n",
      "Lunate      : 0.6757\n",
      "Triquetrum  : 0.7389\n",
      "Pisiform    : 0.6746\n",
      "Radius      : 0.8611\n",
      "Ulna        : 0.7878\n",
      "Best performance at epoch: 44, 0.5712 -> 0.5840\n",
      "Save model in /opt/ml/input/code/trained_model/[DeepLabV3Plus_efficientnet-b4]_[size:(512, 512)]_[loss:[(BCEWithLogitsLoss(), 0.5), (SmoothL1Loss(), 0.5)]]_[LR:0.0001]_[seed:21]_[epoch:50]\n",
      "2023-06-10 01:47:32 | Epoch [45/50], Step [0/80]\n",
      "2023-06-10 01:48:51 | Epoch [45/50], Step [25/80], Loss: 0.2977\n",
      "2023-06-10 01:50:07 | Epoch [45/50], Step [50/80], Loss: 0.2977\n",
      "2023-06-10 01:51:24 | Epoch [45/50], Step [75/80], Loss: 0.2976\n",
      "Start validation #45\n"
     ]
    },
    {
     "data": {
      "application/vnd.jupyter.widget-view+json": {
       "model_id": "957c45eb338a4000a329f8fa38170109",
       "version_major": 2,
       "version_minor": 0
      },
      "text/plain": [
       "HBox(children=(HTML(value=''), FloatProgress(value=0.0, max=80.0), HTML(value='')))"
      ]
     },
     "metadata": {},
     "output_type": "display_data"
    },
    {
     "name": "stdout",
     "output_type": "stream",
     "text": [
      "\n",
      "finger-1    : 0.0256\n",
      "finger-2    : 0.7654\n",
      "finger-3    : 0.7424\n",
      "finger-4    : 0.1001\n",
      "finger-5    : 0.7151\n",
      "finger-6    : 0.7181\n",
      "finger-7    : 0.7753\n",
      "finger-8    : 0.2427\n",
      "finger-9    : 0.7433\n",
      "finger-10   : 0.7710\n",
      "finger-11   : 0.7823\n",
      "finger-12   : 0.0476\n",
      "finger-13   : 0.5328\n",
      "finger-14   : 0.7335\n",
      "finger-15   : 0.7601\n",
      "finger-16   : 0.0069\n",
      "finger-17   : 0.0000\n",
      "finger-18   : 0.7631\n",
      "finger-19   : 0.7427\n",
      "Trapezium   : 0.6676\n",
      "Trapezoid   : 0.6993\n",
      "Capitate    : 0.7489\n",
      "Hamate      : 0.7296\n",
      "Scaphoid    : 0.6899\n",
      "Lunate      : 0.6996\n",
      "Triquetrum  : 0.7359\n",
      "Pisiform    : 0.6885\n",
      "Radius      : 0.8622\n",
      "Ulna        : 0.7931\n",
      "Best performance at epoch: 45, 0.5840 -> 0.5960\n",
      "Save model in /opt/ml/input/code/trained_model/[DeepLabV3Plus_efficientnet-b4]_[size:(512, 512)]_[loss:[(BCEWithLogitsLoss(), 0.5), (SmoothL1Loss(), 0.5)]]_[LR:0.0001]_[seed:21]_[epoch:50]\n",
      "2023-06-10 01:52:44 | Epoch [46/50], Step [0/80]\n",
      "2023-06-10 01:54:03 | Epoch [46/50], Step [25/80], Loss: 0.2976\n",
      "2023-06-10 01:55:20 | Epoch [46/50], Step [50/80], Loss: 0.2976\n",
      "2023-06-10 01:56:35 | Epoch [46/50], Step [75/80], Loss: 0.2975\n",
      "Start validation #46\n"
     ]
    },
    {
     "data": {
      "application/vnd.jupyter.widget-view+json": {
       "model_id": "e7684608384342aa97a5e4182ccf5c23",
       "version_major": 2,
       "version_minor": 0
      },
      "text/plain": [
       "HBox(children=(HTML(value=''), FloatProgress(value=0.0, max=80.0), HTML(value='')))"
      ]
     },
     "metadata": {},
     "output_type": "display_data"
    },
    {
     "name": "stdout",
     "output_type": "stream",
     "text": [
      "\n",
      "finger-1    : 0.0502\n",
      "finger-2    : 0.7638\n",
      "finger-3    : 0.7420\n",
      "finger-4    : 0.1246\n",
      "finger-5    : 0.7270\n",
      "finger-6    : 0.7190\n",
      "finger-7    : 0.7772\n",
      "finger-8    : 0.2830\n",
      "finger-9    : 0.7403\n",
      "finger-10   : 0.7733\n",
      "finger-11   : 0.7846\n",
      "finger-12   : 0.0764\n",
      "finger-13   : 0.6569\n",
      "finger-14   : 0.7331\n",
      "finger-15   : 0.7597\n",
      "finger-16   : 0.0080\n",
      "finger-17   : 0.0000\n",
      "finger-18   : 0.7601\n",
      "finger-19   : 0.7359\n",
      "Trapezium   : 0.6654\n",
      "Trapezoid   : 0.7018\n",
      "Capitate    : 0.7510\n",
      "Hamate      : 0.7276\n",
      "Scaphoid    : 0.6892\n",
      "Lunate      : 0.7166\n",
      "Triquetrum  : 0.7297\n",
      "Pisiform    : 0.6998\n",
      "Radius      : 0.8631\n",
      "Ulna        : 0.7982\n",
      "Best performance at epoch: 46, 0.5960 -> 0.6054\n",
      "Save model in /opt/ml/input/code/trained_model/[DeepLabV3Plus_efficientnet-b4]_[size:(512, 512)]_[loss:[(BCEWithLogitsLoss(), 0.5), (SmoothL1Loss(), 0.5)]]_[LR:0.0001]_[seed:21]_[epoch:50]\n",
      "2023-06-10 01:57:54 | Epoch [47/50], Step [0/80]\n",
      "2023-06-10 01:59:10 | Epoch [47/50], Step [25/80], Loss: 0.2976\n",
      "2023-06-10 02:00:27 | Epoch [47/50], Step [50/80], Loss: 0.2976\n",
      "2023-06-10 02:01:43 | Epoch [47/50], Step [75/80], Loss: 0.2975\n",
      "Start validation #47\n"
     ]
    },
    {
     "data": {
      "application/vnd.jupyter.widget-view+json": {
       "model_id": "674f600bd0c24e37b8d3a202f455d052",
       "version_major": 2,
       "version_minor": 0
      },
      "text/plain": [
       "HBox(children=(HTML(value=''), FloatProgress(value=0.0, max=80.0), HTML(value='')))"
      ]
     },
     "metadata": {},
     "output_type": "display_data"
    },
    {
     "name": "stdout",
     "output_type": "stream",
     "text": [
      "\n",
      "finger-1    : 0.1010\n",
      "finger-2    : 0.7608\n",
      "finger-3    : 0.7431\n",
      "finger-4    : 0.1525\n",
      "finger-5    : 0.7333\n",
      "finger-6    : 0.7214\n",
      "finger-7    : 0.7792\n",
      "finger-8    : 0.3263\n",
      "finger-9    : 0.7382\n",
      "finger-10   : 0.7758\n",
      "finger-11   : 0.7864\n",
      "finger-12   : 0.1137\n",
      "finger-13   : 0.7114\n",
      "finger-14   : 0.7328\n",
      "finger-15   : 0.7603\n",
      "finger-16   : 0.0101\n",
      "finger-17   : 0.0008\n",
      "finger-18   : 0.7538\n",
      "finger-19   : 0.7311\n",
      "Trapezium   : 0.6629\n",
      "Trapezoid   : 0.7029\n",
      "Capitate    : 0.7517\n",
      "Hamate      : 0.7262\n",
      "Scaphoid    : 0.6898\n",
      "Lunate      : 0.7287\n",
      "Triquetrum  : 0.7222\n",
      "Pisiform    : 0.7090\n",
      "Radius      : 0.8641\n",
      "Ulna        : 0.8033\n",
      "Best performance at epoch: 47, 0.6054 -> 0.6135\n",
      "Save model in /opt/ml/input/code/trained_model/[DeepLabV3Plus_efficientnet-b4]_[size:(512, 512)]_[loss:[(BCEWithLogitsLoss(), 0.5), (SmoothL1Loss(), 0.5)]]_[LR:0.0001]_[seed:21]_[epoch:50]\n",
      "2023-06-10 02:03:02 | Epoch [48/50], Step [0/80]\n",
      "2023-06-10 02:04:20 | Epoch [48/50], Step [25/80], Loss: 0.2975\n",
      "2023-06-10 02:05:36 | Epoch [48/50], Step [50/80], Loss: 0.2975\n",
      "2023-06-10 02:06:53 | Epoch [48/50], Step [75/80], Loss: 0.2975\n",
      "Start validation #48\n"
     ]
    },
    {
     "data": {
      "application/vnd.jupyter.widget-view+json": {
       "model_id": "4b53a0664f4e4151ab871f6685262dc2",
       "version_major": 2,
       "version_minor": 0
      },
      "text/plain": [
       "HBox(children=(HTML(value=''), FloatProgress(value=0.0, max=80.0), HTML(value='')))"
      ]
     },
     "metadata": {},
     "output_type": "display_data"
    },
    {
     "name": "stdout",
     "output_type": "stream",
     "text": [
      "\n",
      "finger-1    : 0.1771\n",
      "finger-2    : 0.7574\n",
      "finger-3    : 0.7451\n",
      "finger-4    : 0.1801\n",
      "finger-5    : 0.7376\n",
      "finger-6    : 0.7246\n",
      "finger-7    : 0.7807\n",
      "finger-8    : 0.3719\n",
      "finger-9    : 0.7370\n",
      "finger-10   : 0.7783\n",
      "finger-11   : 0.7881\n",
      "finger-12   : 0.1531\n",
      "finger-13   : 0.7329\n",
      "finger-14   : 0.7333\n",
      "finger-15   : 0.7612\n",
      "finger-16   : 0.0130\n",
      "finger-17   : 0.0137\n",
      "finger-18   : 0.7475\n",
      "finger-19   : 0.7279\n",
      "Trapezium   : 0.6613\n",
      "Trapezoid   : 0.7016\n",
      "Capitate    : 0.7526\n",
      "Hamate      : 0.7252\n",
      "Scaphoid    : 0.6899\n",
      "Lunate      : 0.7366\n",
      "Triquetrum  : 0.7122\n",
      "Pisiform    : 0.7158\n",
      "Radius      : 0.8653\n",
      "Ulna        : 0.8081\n",
      "Best performance at epoch: 48, 0.6135 -> 0.6217\n",
      "Save model in /opt/ml/input/code/trained_model/[DeepLabV3Plus_efficientnet-b4]_[size:(512, 512)]_[loss:[(BCEWithLogitsLoss(), 0.5), (SmoothL1Loss(), 0.5)]]_[LR:0.0001]_[seed:21]_[epoch:50]\n",
      "2023-06-10 02:08:14 | Epoch [49/50], Step [0/80]\n",
      "2023-06-10 02:09:31 | Epoch [49/50], Step [25/80], Loss: 0.2975\n",
      "2023-06-10 02:10:47 | Epoch [49/50], Step [50/80], Loss: 0.2975\n",
      "2023-06-10 02:12:03 | Epoch [49/50], Step [75/80], Loss: 0.2974\n",
      "Start validation #49\n"
     ]
    },
    {
     "data": {
      "application/vnd.jupyter.widget-view+json": {
       "model_id": "a30071598b85435e81e59057c8d5deb2",
       "version_major": 2,
       "version_minor": 0
      },
      "text/plain": [
       "HBox(children=(HTML(value=''), FloatProgress(value=0.0, max=80.0), HTML(value='')))"
      ]
     },
     "metadata": {},
     "output_type": "display_data"
    },
    {
     "name": "stdout",
     "output_type": "stream",
     "text": [
      "\n",
      "finger-1    : 0.2660\n",
      "finger-2    : 0.7537\n",
      "finger-3    : 0.7466\n",
      "finger-4    : 0.2096\n",
      "finger-5    : 0.7390\n",
      "finger-6    : 0.7273\n",
      "finger-7    : 0.7827\n",
      "finger-8    : 0.4197\n",
      "finger-9    : 0.7367\n",
      "finger-10   : 0.7792\n",
      "finger-11   : 0.7907\n",
      "finger-12   : 0.1926\n",
      "finger-13   : 0.7430\n",
      "finger-14   : 0.7351\n",
      "finger-15   : 0.7622\n",
      "finger-16   : 0.0164\n",
      "finger-17   : 0.0523\n",
      "finger-18   : 0.7420\n",
      "finger-19   : 0.7264\n",
      "Trapezium   : 0.6609\n",
      "Trapezoid   : 0.7019\n",
      "Capitate    : 0.7544\n",
      "Hamate      : 0.7260\n",
      "Scaphoid    : 0.6907\n",
      "Lunate      : 0.7422\n",
      "Triquetrum  : 0.7050\n",
      "Pisiform    : 0.7194\n",
      "Radius      : 0.8667\n",
      "Ulna        : 0.8129\n",
      "Best performance at epoch: 49, 0.6217 -> 0.6311\n",
      "Save model in /opt/ml/input/code/trained_model/[DeepLabV3Plus_efficientnet-b4]_[size:(512, 512)]_[loss:[(BCEWithLogitsLoss(), 0.5), (SmoothL1Loss(), 0.5)]]_[LR:0.0001]_[seed:21]_[epoch:50]\n",
      "2023-06-10 02:13:23 | Epoch [50/50], Step [0/80]\n",
      "2023-06-10 02:14:41 | Epoch [50/50], Step [25/80], Loss: 0.2974\n",
      "2023-06-10 02:15:58 | Epoch [50/50], Step [50/80], Loss: 0.2974\n",
      "2023-06-10 02:17:13 | Epoch [50/50], Step [75/80], Loss: 0.2974\n",
      "Start validation #50\n"
     ]
    },
    {
     "data": {
      "application/vnd.jupyter.widget-view+json": {
       "model_id": "b75814fbae52487881a5c8e830ce474e",
       "version_major": 2,
       "version_minor": 0
      },
      "text/plain": [
       "HBox(children=(HTML(value=''), FloatProgress(value=0.0, max=80.0), HTML(value='')))"
      ]
     },
     "metadata": {},
     "output_type": "display_data"
    },
    {
     "name": "stdout",
     "output_type": "stream",
     "text": [
      "\n",
      "finger-1    : 0.3621\n",
      "finger-2    : 0.7484\n",
      "finger-3    : 0.7476\n",
      "finger-4    : 0.2397\n",
      "finger-5    : 0.7388\n",
      "finger-6    : 0.7292\n",
      "finger-7    : 0.7845\n",
      "finger-8    : 0.4690\n",
      "finger-9    : 0.7356\n",
      "finger-10   : 0.7794\n",
      "finger-11   : 0.7929\n",
      "finger-12   : 0.2329\n",
      "finger-13   : 0.7497\n",
      "finger-14   : 0.7357\n",
      "finger-15   : 0.7612\n",
      "finger-16   : 0.0202\n",
      "finger-17   : 0.1251\n",
      "finger-18   : 0.7356\n",
      "finger-19   : 0.7236\n",
      "Trapezium   : 0.6607\n",
      "Trapezoid   : 0.7004\n",
      "Capitate    : 0.7568\n",
      "Hamate      : 0.7261\n",
      "Scaphoid    : 0.6896\n",
      "Lunate      : 0.7466\n",
      "Triquetrum  : 0.6978\n",
      "Pisiform    : 0.7217\n",
      "Radius      : 0.8679\n",
      "Ulna        : 0.8168\n",
      "Best performance at epoch: 50, 0.6311 -> 0.6412\n",
      "Save model in /opt/ml/input/code/trained_model/[DeepLabV3Plus_efficientnet-b4]_[size:(512, 512)]_[loss:[(BCEWithLogitsLoss(), 0.5), (SmoothL1Loss(), 0.5)]]_[LR:0.0001]_[seed:21]_[epoch:50]\n"
     ]
    }
   ],
   "source": [
    "set_seed(RANDOM_SEED)\n",
    "\n",
    "folder_name = train(model, train_loader, valid_loader, criterion, optimizer, epoch, VAL_EVERY, folder_name)"
   ]
  },
  {
   "cell_type": "code",
   "execution_count": 14,
   "id": "c9a2c1a0-c9f8-4769-8298-00083f079a44",
   "metadata": {},
   "outputs": [],
   "source": [
    "#inference(folder_name, A.Resize(resize, resize))"
   ]
  }
 ],
 "metadata": {
  "kernelspec": {
   "display_name": "Python 3 (ipykernel)",
   "language": "python",
   "name": "python3"
  },
  "language_info": {
   "codemirror_mode": {
    "name": "ipython",
    "version": 3
   },
   "file_extension": ".py",
   "mimetype": "text/x-python",
   "name": "python",
   "nbconvert_exporter": "python",
   "pygments_lexer": "ipython3",
   "version": "3.8.5"
  }
 },
 "nbformat": 4,
 "nbformat_minor": 5
}
