{
 "cells": [
  {
   "cell_type": "code",
   "execution_count": null,
   "id": "6b629c8a-1bb5-4514-8da2-580055a064be",
   "metadata": {},
   "outputs": [],
   "source": [
    "import os\n",
    "import random\n",
    "from functools import partial\n",
    "from typing import List\n",
    "\n",
    "import torch\n",
    "import torch.nn as nn\n",
    "\n",
    "import numpy as np\n",
    "import albumentations as A"
   ]
  },
  {
   "cell_type": "code",
   "execution_count": null,
   "id": "16e3f182-0a11-44d9-9f5b-66fb66479ce5",
   "metadata": {},
   "outputs": [],
   "source": [
    "from torch.utils.data import DataLoader\n",
    "from resized_dataset import make_dataset\n",
    "from setseed import set_seed\n",
    "\n",
    "BATCH_SIZE = 8\n",
    "resize = 512\n",
    "RANDOM_SEED = 21\n",
    "augmentation = None\n",
    "set_seed(RANDOM_SEED)\n",
    "\n",
    "train_dataset, valid_dataset = make_dataset(RANDOM_SEED = RANDOM_SEED, augmentation=augmentation)\n",
    "\n",
    "train_loader = DataLoader(\n",
    "    dataset=train_dataset, \n",
    "    batch_size=BATCH_SIZE,\n",
    "    shuffle=True,\n",
    "    num_workers=6,\n",
    "    drop_last=True,\n",
    ")\n",
    "\n",
    "valid_loader = DataLoader(\n",
    "    dataset=valid_dataset, \n",
    "    batch_size=2,\n",
    "    shuffle=False,\n",
    "    num_workers=2,\n",
    "    drop_last=False\n",
    ")"
   ]
  },
  {
   "cell_type": "code",
   "execution_count": null,
   "id": "f52ebad2-8777-4ac1-a814-0b22bb56f4f3",
   "metadata": {},
   "outputs": [],
   "source": [
    "import timm\n",
    "import segmentation_models_pytorch as smp\n",
    "from segmentation_models_pytorch.encoders._base import EncoderMixin\n",
    "\n",
    "class hrnet_encoder(nn.Module, EncoderMixin):\n",
    "    def __init__(self, **kwargs):\n",
    "        super().__init__()\n",
    "        self.net = timm.create_model('hrnet_w18', pretrained=False, num_classes=29)\n",
    "\n",
    "    def forward(self, x):\n",
    "        out = self.net(x)\n",
    "\n",
    "        return out\n",
    "\n",
    "smp.encoders.encoders[\"hrnet_w18\"] = {\n",
    "    \"encoder\": hrnet_encoder, # encoder class here\n",
    "    \"pretrained_settings\": {\n",
    "        \"imagenet\": {\n",
    "            \"mean\": [0.485, 0.456, 0.406],\n",
    "            \"std\": [0.229, 0.224, 0.225],\n",
    "            \"url\": 'https://github.com/rwightman/pytorch-image-models/releases/download/v0.1-hrnet/hrnetv2_w18-8cb57bb9.pth',\n",
    "            \"input_space\": \"RGB\",\n",
    "            \"input_range\": [0, 1],\n",
    "        },\n",
    "    },\n",
    "    \"params\": {\n",
    "        \"pretrain_img_size\": 224,\n",
    "        \"crop_pct\": 0.95\n",
    "    }\n",
    "}"
   ]
  },
  {
   "cell_type": "code",
   "execution_count": null,
   "id": "5f966480-00a6-45e3-97c5-d591b91150f4",
   "metadata": {},
   "outputs": [],
   "source": [
    "import segmentation_models_pytorch as smp\n",
    "\n",
    "set_seed(RANDOM_SEED)\n",
    "\n",
    "model = smp.DeepLabV3Plus(\n",
    "    encoder_name=\"resnet50\",        # choose encoder, e.g. mobilenet_v2 or efficientnet-b7\n",
    "    encoder_weights=\"imagenet\",     # use `imagenet` pre-trained weights for encoder initialization\n",
    "    in_channels=3,                  # model input channels (1 for gray-scale images, 3 for RGB, etc.)\n",
    "    classes=29,                      # model output channels (number of classes in your dataset)\n",
    ")\n",
    "model.name = 'DeepLabV3Plus_resnet50'"
   ]
  },
  {
   "cell_type": "code",
   "execution_count": null,
   "id": "6e4e8b85-08b9-4b5a-883c-933fa6cd5b66",
   "metadata": {},
   "outputs": [],
   "source": [
    "LR = 1e-4\n",
    "epoch = 50\n",
    "VAL_EVERY = 1 # validation 주기"
   ]
  },
  {
   "cell_type": "code",
   "execution_count": null,
   "id": "0e982eb6-b744-498c-8cad-a81c9e944214",
   "metadata": {},
   "outputs": [],
   "source": [
    "import torch.optim as optim\n",
    "\n",
    "set_seed(RANDOM_SEED)\n",
    "\n",
    "optimizer = optim.Adam(params=model.parameters(), lr=LR, weight_decay=1e-6)"
   ]
  },
  {
   "cell_type": "code",
   "execution_count": null,
   "id": "b15bbccd-ffef-4645-b2c3-495f7ec26374",
   "metadata": {},
   "outputs": [],
   "source": [
    "from loss import FocalLoss, DiceLoss\n",
    "\n",
    "set_seed(RANDOM_SEED)\n",
    "\n",
    "#criterion = nn.BCEWithLogitsLoss()\n",
    "#criterion = nn.SmoothL1Loss()\n",
    "criterion = [(nn.BCEWithLogitsLoss(), 0.75), (DiceLoss(), 0.25)]\n",
    "#criterion = [(nn.BCEWithLogitsLoss(), 0.5), (nn.SmoothL1Loss(), 0.5)]"
   ]
  },
  {
   "cell_type": "code",
   "execution_count": null,
   "id": "22addc8d-99fc-49b5-b78c-c1f31b1556ef",
   "metadata": {},
   "outputs": [],
   "source": [
    "#모델 저장 경로 설정\n",
    "try:\n",
    "    folder_name = \"[{}]_[size:{}]_[loss:{}]_[LR:{}]_[seed:{}]_[epoch:{}]\".format(model.name, (resize, resize), criterion, LR, RANDOM_SEED, epoch)\n",
    "except:\n",
    "    folder_name = \"[{}]_[size:{}]_[loss:{}]_[LR:{}]_[seed:{}]_[epoch:{}]\".format(\"model\", (resize, resize), criterion, LR, RANDOM_SEED, epoch)"
   ]
  },
  {
   "cell_type": "code",
   "execution_count": null,
   "id": "2c36fe90-2e73-4f92-90e7-02a93078b84b",
   "metadata": {
    "scrolled": true
   },
   "outputs": [],
   "source": [
    "from train import train\n",
    "\n",
    "set_seed(RANDOM_SEED)\n",
    "\n",
    "folder_name = train(model, train_loader, valid_loader, criterion, optimizer, epoch, VAL_EVERY, folder_name)"
   ]
  },
  {
   "cell_type": "code",
   "execution_count": null,
   "id": "f2ae3415-43a2-4fb5-b566-2bab70e3cf42",
   "metadata": {},
   "outputs": [],
   "source": [
    "from inference import inference\n",
    "\n",
    "inference(folder_name, A.Resize(resize, resize))"
   ]
  },
  {
   "cell_type": "code",
   "execution_count": null,
   "id": "4498a594-b451-419f-9e57-b8012caa6e9a",
   "metadata": {},
   "outputs": [],
   "source": [
    "set_seed(RANDOM_SEED)\n",
    "\n",
    "model = smp.DeepLabV3Plus(\n",
    "    encoder_name=\"timm-efficientnet-b4\",        # choose encoder, e.g. mobilenet_v2 or efficientnet-b7\n",
    "    encoder_weights=\"imagenet\",     # use `imagenet` pre-trained weights for encoder initialization\n",
    "    in_channels=3,                  # model input channels (1 for gray-scale images, 3 for RGB, etc.)\n",
    "    classes=29,                      # model output channels (number of classes in your dataset)\n",
    ")\n",
    "model.name = 'DeepLabV3Plus_efficientnet-b4'\n",
    "\n",
    "optimizer = optim.Adam(params=model.parameters(), lr=LR, weight_decay=1e-6)\n",
    "\n",
    "criterion = [(nn.BCEWithLogitsLoss(), 0.5), (nn.SmoothL1Loss(), 0.5)]"
   ]
  },
  {
   "cell_type": "code",
   "execution_count": null,
   "id": "dd6ec680-76f3-4480-b2ab-9be0f5f6ce1a",
   "metadata": {},
   "outputs": [],
   "source": [
    "#모델 저장 경로 설정\n",
    "try:\n",
    "    folder_name = \"[{}]_[size:{}]_[loss:{}]_[LR:{}]_[seed:{}]_[epoch:{}]\".format(model.name, (resize, resize), criterion, LR, RANDOM_SEED, epoch)\n",
    "except:\n",
    "    folder_name = \"[{}]_[size:{}]_[loss:{}]_[LR:{}]_[seed:{}]_[epoch:{}]\".format(\"model\", (resize, resize), criterion, LR, RANDOM_SEED, epoch)"
   ]
  },
  {
   "cell_type": "code",
   "execution_count": null,
   "id": "24a0470e-f82c-4363-91b7-fdccf2498be4",
   "metadata": {
    "scrolled": true
   },
   "outputs": [],
   "source": [
    "set_seed(RANDOM_SEED)\n",
    "\n",
    "folder_name = train(model, train_loader, valid_loader, criterion, optimizer, epoch, VAL_EVERY, folder_name)"
   ]
  },
  {
   "cell_type": "code",
   "execution_count": null,
   "id": "c9a2c1a0-c9f8-4769-8298-00083f079a44",
   "metadata": {},
   "outputs": [],
   "source": [
    "#inference(folder_name, A.Resize(resize, resize))"
   ]
  }
 ],
 "metadata": {
  "kernelspec": {
   "display_name": "Python 3 (ipykernel)",
   "language": "python",
   "name": "python3"
  },
  "language_info": {
   "codemirror_mode": {
    "name": "ipython",
    "version": 3
   },
   "file_extension": ".py",
   "mimetype": "text/x-python",
   "name": "python",
   "nbconvert_exporter": "python",
   "pygments_lexer": "ipython3",
   "version": "3.11.0"
  }
 },
 "nbformat": 4,
 "nbformat_minor": 5
}
