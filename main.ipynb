{
 "cells": [
  {
   "cell_type": "code",
   "execution_count": 1,
   "id": "6b629c8a-1bb5-4514-8da2-580055a064be",
   "metadata": {},
   "outputs": [],
   "source": [
    "import os\n",
    "import random\n",
    "from functools import partial\n",
    "from typing import List\n",
    "\n",
    "import torch\n",
    "import torch.nn as nn\n",
    "\n",
    "import numpy as np\n",
    "import albumentations as A"
   ]
  },
  {
   "cell_type": "code",
   "execution_count": 2,
   "id": "16e3f182-0a11-44d9-9f5b-66fb66479ce5",
   "metadata": {},
   "outputs": [],
   "source": [
    "from torch.utils.data import DataLoader\n",
    "from resized_dataset import make_dataset\n",
    "from setseed import set_seed\n",
    "\n",
    "BATCH_SIZE = 8\n",
    "resize = 512\n",
    "RANDOM_SEED = 21\n",
    "\n",
    "set_seed(RANDOM_SEED)\n",
    "\n",
    "train_dataset, valid_dataset = make_dataset(RANDOM_SEED = RANDOM_SEED)\n",
    "\n",
    "train_loader = DataLoader(\n",
    "    dataset=train_dataset, \n",
    "    batch_size=BATCH_SIZE,\n",
    "    shuffle=True,\n",
    "    num_workers=6,\n",
    "    drop_last=True,\n",
    ")\n",
    "\n",
    "valid_loader = DataLoader(\n",
    "    dataset=valid_dataset, \n",
    "    batch_size=2,\n",
    "    shuffle=False,\n",
    "    num_workers=2,\n",
    "    drop_last=False\n",
    ")"
   ]
  },
  {
   "cell_type": "code",
   "execution_count": 3,
   "id": "f52ebad2-8777-4ac1-a814-0b22bb56f4f3",
   "metadata": {},
   "outputs": [],
   "source": [
    "import timm\n",
    "import segmentation_models_pytorch as smp\n",
    "from segmentation_models_pytorch.encoders._base import EncoderMixin\n",
    "\n",
    "class hrnet_encoder(nn.Module, EncoderMixin):\n",
    "    def __init__(self, **kwargs):\n",
    "        super().__init__()\n",
    "        self.net = timm.create_model('hrnet_w18', pretrained=False, num_classes=29)\n",
    "\n",
    "    def forward(self, x):\n",
    "        out = self.net(x)\n",
    "\n",
    "        return out\n",
    "\n",
    "smp.encoders.encoders[\"hrnet_w18\"] = {\n",
    "    \"encoder\": hrnet_encoder, # encoder class here\n",
    "    \"pretrained_settings\": {\n",
    "        \"imagenet\": {\n",
    "            \"mean\": [0.485, 0.456, 0.406],\n",
    "            \"std\": [0.229, 0.224, 0.225],\n",
    "            \"url\": 'https://github.com/rwightman/pytorch-image-models/releases/download/v0.1-hrnet/hrnetv2_w18-8cb57bb9.pth',\n",
    "            \"input_space\": \"RGB\",\n",
    "            \"input_range\": [0, 1],\n",
    "        },\n",
    "    },\n",
    "    \"params\": {\n",
    "        \"pretrain_img_size\": 224,\n",
    "        \"crop_pct\": 0.95\n",
    "    }\n",
    "}"
   ]
  },
  {
   "cell_type": "code",
   "execution_count": 4,
   "id": "5f966480-00a6-45e3-97c5-d591b91150f4",
   "metadata": {},
   "outputs": [],
   "source": [
    "set_seed(RANDOM_SEED)\n",
    "\n",
    "model = smp.DeepLabV3Plus(\n",
    "    encoder_name=\"resnet50\",        # choose encoder, e.g. mobilenet_v2 or efficientnet-b7\n",
    "    encoder_weights=\"imagenet\",     # use `imagenet` pre-trained weights for encoder initialization\n",
    "    in_channels=3,                  # model input channels (1 for gray-scale images, 3 for RGB, etc.)\n",
    "    classes=29,                      # model output channels (number of classes in your dataset)\n",
    ")\n",
    "model.name = 'DeepLabV3Plus_resnet50'"
   ]
  },
  {
   "cell_type": "code",
   "execution_count": 5,
   "id": "6e4e8b85-08b9-4b5a-883c-933fa6cd5b66",
   "metadata": {},
   "outputs": [],
   "source": [
    "LR = 1e-4\n",
    "epoch = 50\n",
    "VAL_EVERY = 1 # validation 주기"
   ]
  },
  {
   "cell_type": "code",
   "execution_count": 6,
   "id": "0e982eb6-b744-498c-8cad-a81c9e944214",
   "metadata": {},
   "outputs": [],
   "source": [
    "import torch.optim as optim\n",
    "\n",
    "set_seed(RANDOM_SEED)\n",
    "\n",
    "optimizer = optim.Adam(params=model.parameters(), lr=LR, weight_decay=1e-6)"
   ]
  },
  {
   "cell_type": "code",
   "execution_count": 7,
   "id": "b15bbccd-ffef-4645-b2c3-495f7ec26374",
   "metadata": {},
   "outputs": [],
   "source": [
    "from loss import FocalLoss, DiceLoss\n",
    "\n",
    "set_seed(RANDOM_SEED)\n",
    "\n",
    "#criterion = nn.BCEWithLogitsLoss()\n",
    "#criterion = nn.SmoothL1Loss()\n",
    "criterion = [(nn.BCEWithLogitsLoss(), 0.75), (DiceLoss(), 0.25)]\n",
    "#criterion = [(nn.BCEWithLogitsLoss(), 0.5), (nn.SmoothL1Loss(), 0.5)]"
   ]
  },
  {
   "cell_type": "code",
   "execution_count": 8,
   "id": "22addc8d-99fc-49b5-b78c-c1f31b1556ef",
   "metadata": {},
   "outputs": [],
   "source": [
    "#모델 저장 경로 설정\n",
    "try:\n",
    "    folder_name = \"[{}]_[size:{}]_[loss:{}]_[LR:{}]_[seed:{}]_[epoch:{}]\".format(model.name, (resize, resize), criterion, LR, RANDOM_SEED, epoch)\n",
    "except:\n",
    "    folder_name = \"[{}]_[size:{}]_[loss:{}]_[LR:{}]_[seed:{}]_[epoch:{}]\".format(\"model\", (resize, resize), criterion, LR, RANDOM_SEED, epoch)"
   ]
  },
  {
   "cell_type": "code",
   "execution_count": 9,
   "id": "2c36fe90-2e73-4f92-90e7-02a93078b84b",
   "metadata": {
    "scrolled": true
   },
   "outputs": [
    {
     "name": "stdout",
     "output_type": "stream",
     "text": [
      "Start training..\n",
      "result model will be saved in /opt/ml/input/code/trained_model/[DeepLabV3Plus_efficientnet-b4]_[size:(512, 512)]_[loss:[(BCEWithLogitsLoss(), 0.75), (DiceLoss(), 0.25)]]_[LR:0.0001]_[seed:21]_[epoch:50]\n"
     ]
    },
    {
     "name": "stderr",
     "output_type": "stream",
     "text": [
      "\u001b[34m\u001b[1mwandb\u001b[0m: Currently logged in as: \u001b[33mtjwlgns02\u001b[0m (\u001b[33msixseg\u001b[0m). Use \u001b[1m`wandb login --relogin`\u001b[0m to force relogin\n"
     ]
    },
    {
     "data": {
      "text/html": [
       "Tracking run with wandb version 0.15.4"
      ],
      "text/plain": [
       "<IPython.core.display.HTML object>"
      ]
     },
     "metadata": {},
     "output_type": "display_data"
    },
    {
     "data": {
      "text/html": [
       "Run data is saved locally in <code>/opt/ml/input/code/wandb/run-20230609_173258-rouz2h30</code>"
      ],
      "text/plain": [
       "<IPython.core.display.HTML object>"
      ]
     },
     "metadata": {},
     "output_type": "display_data"
    },
    {
     "data": {
      "text/html": [
       "Syncing run <strong><a href='https://wandb.ai/sixseg/boostcamp_level2_semantic_segmentation/runs/rouz2h30' target=\"_blank\">[DeepLabV3Plus_efficientnet-b4]_[size:(512, 512)]_[loss:[(BCEWithLogitsLoss(), 0.75), (DiceLoss(), 0.25)]]_[LR:0.0001]_[seed:21]_[epoch:50]</a></strong> to <a href='https://wandb.ai/sixseg/boostcamp_level2_semantic_segmentation' target=\"_blank\">Weights & Biases</a> (<a href='https://wandb.me/run' target=\"_blank\">docs</a>)<br/>"
      ],
      "text/plain": [
       "<IPython.core.display.HTML object>"
      ]
     },
     "metadata": {},
     "output_type": "display_data"
    },
    {
     "data": {
      "text/html": [
       " View project at <a href='https://wandb.ai/sixseg/boostcamp_level2_semantic_segmentation' target=\"_blank\">https://wandb.ai/sixseg/boostcamp_level2_semantic_segmentation</a>"
      ],
      "text/plain": [
       "<IPython.core.display.HTML object>"
      ]
     },
     "metadata": {},
     "output_type": "display_data"
    },
    {
     "data": {
      "text/html": [
       " View run at <a href='https://wandb.ai/sixseg/boostcamp_level2_semantic_segmentation/runs/rouz2h30' target=\"_blank\">https://wandb.ai/sixseg/boostcamp_level2_semantic_segmentation/runs/rouz2h30</a>"
      ],
      "text/plain": [
       "<IPython.core.display.HTML object>"
      ]
     },
     "metadata": {},
     "output_type": "display_data"
    },
    {
     "name": "stdout",
     "output_type": "stream",
     "text": [
      "2023-06-09 17:33:02 | Epoch [1/50], Step [0/80]\n",
      "2023-06-09 17:34:22 | Epoch [1/50], Step [25/80], Loss: 0.675\n",
      "2023-06-09 17:35:41 | Epoch [1/50], Step [50/80], Loss: 0.5911\n",
      "2023-06-09 17:36:58 | Epoch [1/50], Step [75/80], Loss: 0.5213\n",
      "Start validation # 1\n"
     ]
    },
    {
     "data": {
      "application/vnd.jupyter.widget-view+json": {
       "model_id": "ea5f3800bda14fb48d32ede6a0c0ae3e",
       "version_major": 2,
       "version_minor": 0
      },
      "text/plain": [
       "HBox(children=(HTML(value=''), FloatProgress(value=0.0, max=80.0), HTML(value='')))"
      ]
     },
     "metadata": {},
     "output_type": "display_data"
    },
    {
     "name": "stdout",
     "output_type": "stream",
     "text": [
      "\n",
      "finger-1    : 0.0000\n",
      "finger-2    : 0.0000\n",
      "finger-3    : 0.0156\n",
      "finger-4    : 0.0000\n",
      "finger-5    : 0.0000\n",
      "finger-6    : 0.0010\n",
      "finger-7    : 0.1648\n",
      "finger-8    : 0.0000\n",
      "finger-9    : 0.0000\n",
      "finger-10   : 0.0013\n",
      "finger-11   : 0.2051\n",
      "finger-12   : 0.0008\n",
      "finger-13   : 0.0002\n",
      "finger-14   : 0.0000\n",
      "finger-15   : 0.0033\n",
      "finger-16   : 0.0000\n",
      "finger-17   : 0.0000\n",
      "finger-18   : 0.0000\n",
      "finger-19   : 0.0000\n",
      "Trapezium   : 0.0036\n",
      "Trapezoid   : 0.0000\n",
      "Capitate    : 0.0696\n",
      "Hamate      : 0.0356\n",
      "Scaphoid    : 0.0052\n",
      "Lunate      : 0.0897\n",
      "Triquetrum  : 0.0000\n",
      "Pisiform    : 0.0000\n",
      "Radius      : 0.6005\n",
      "Ulna        : 0.0707\n",
      "Best performance at epoch: 1, 0.0000 -> 0.0437\n",
      "Save model in /opt/ml/input/code/trained_model/[DeepLabV3Plus_efficientnet-b4]_[size:(512, 512)]_[loss:[(BCEWithLogitsLoss(), 0.75), (DiceLoss(), 0.25)]]_[LR:0.0001]_[seed:21]_[epoch:50]\n",
      "2023-06-09 17:38:19 | Epoch [2/50], Step [0/80]\n",
      "2023-06-09 17:39:35 | Epoch [2/50], Step [25/80], Loss: 0.4578\n",
      "2023-06-09 17:40:51 | Epoch [2/50], Step [50/80], Loss: 0.4187\n",
      "2023-06-09 17:42:09 | Epoch [2/50], Step [75/80], Loss: 0.3883\n",
      "Start validation # 2\n"
     ]
    },
    {
     "data": {
      "application/vnd.jupyter.widget-view+json": {
       "model_id": "ae28069876014d70b45e2f58a72da987",
       "version_major": 2,
       "version_minor": 0
      },
      "text/plain": [
       "HBox(children=(HTML(value=''), FloatProgress(value=0.0, max=80.0), HTML(value='')))"
      ]
     },
     "metadata": {},
     "output_type": "display_data"
    },
    {
     "name": "stdout",
     "output_type": "stream",
     "text": [
      "\n",
      "finger-1    : 0.0000\n",
      "finger-2    : 0.0000\n",
      "finger-3    : 0.0000\n",
      "finger-4    : 0.0000\n",
      "finger-5    : 0.0000\n",
      "finger-6    : 0.0000\n",
      "finger-7    : 0.1005\n",
      "finger-8    : 0.0000\n",
      "finger-9    : 0.0000\n",
      "finger-10   : 0.0000\n",
      "finger-11   : 0.1016\n",
      "finger-12   : 0.0000\n",
      "finger-13   : 0.0000\n",
      "finger-14   : 0.0000\n",
      "finger-15   : 0.0000\n",
      "finger-16   : 0.0000\n",
      "finger-17   : 0.0000\n",
      "finger-18   : 0.0000\n",
      "finger-19   : 0.0000\n",
      "Trapezium   : 0.0000\n",
      "Trapezoid   : 0.0000\n",
      "Capitate    : 0.0000\n",
      "Hamate      : 0.0000\n",
      "Scaphoid    : 0.0000\n",
      "Lunate      : 0.0000\n",
      "Triquetrum  : 0.0000\n",
      "Pisiform    : 0.0000\n",
      "Radius      : 0.6514\n",
      "Ulna        : 0.0001\n",
      "2023-06-09 17:43:29 | Epoch [3/50], Step [0/80]\n",
      "2023-06-09 17:44:46 | Epoch [3/50], Step [25/80], Loss: 0.3602\n",
      "2023-06-09 17:46:03 | Epoch [3/50], Step [50/80], Loss: 0.342\n",
      "2023-06-09 17:47:18 | Epoch [3/50], Step [75/80], Loss: 0.327\n",
      "Start validation # 3\n"
     ]
    },
    {
     "data": {
      "application/vnd.jupyter.widget-view+json": {
       "model_id": "a0aac8ae86ea428bb07fca437395b385",
       "version_major": 2,
       "version_minor": 0
      },
      "text/plain": [
       "HBox(children=(HTML(value=''), FloatProgress(value=0.0, max=80.0), HTML(value='')))"
      ]
     },
     "metadata": {},
     "output_type": "display_data"
    },
    {
     "name": "stdout",
     "output_type": "stream",
     "text": [
      "\n",
      "finger-1    : 0.0000\n",
      "finger-2    : 0.0000\n",
      "finger-3    : 0.0000\n",
      "finger-4    : 0.0000\n",
      "finger-5    : 0.0000\n",
      "finger-6    : 0.0000\n",
      "finger-7    : 0.3493\n",
      "finger-8    : 0.0000\n",
      "finger-9    : 0.0000\n",
      "finger-10   : 0.0000\n",
      "finger-11   : 0.3656\n",
      "finger-12   : 0.0000\n",
      "finger-13   : 0.0000\n",
      "finger-14   : 0.0000\n",
      "finger-15   : 0.0000\n",
      "finger-16   : 0.0000\n",
      "finger-17   : 0.0000\n",
      "finger-18   : 0.0000\n",
      "finger-19   : 0.0000\n",
      "Trapezium   : 0.0000\n",
      "Trapezoid   : 0.0000\n",
      "Capitate    : 0.1719\n",
      "Hamate      : 0.0000\n",
      "Scaphoid    : 0.0000\n",
      "Lunate      : 0.0000\n",
      "Triquetrum  : 0.0000\n",
      "Pisiform    : 0.0000\n",
      "Radius      : 0.7578\n",
      "Ulna        : 0.4274\n",
      "Best performance at epoch: 3, 0.0437 -> 0.0714\n",
      "Save model in /opt/ml/input/code/trained_model/[DeepLabV3Plus_efficientnet-b4]_[size:(512, 512)]_[loss:[(BCEWithLogitsLoss(), 0.75), (DiceLoss(), 0.25)]]_[LR:0.0001]_[seed:21]_[epoch:50]\n",
      "2023-06-09 17:48:38 | Epoch [4/50], Step [0/80]\n",
      "2023-06-09 17:49:57 | Epoch [4/50], Step [25/80], Loss: 0.312\n",
      "2023-06-09 17:51:14 | Epoch [4/50], Step [50/80], Loss: 0.301\n",
      "2023-06-09 17:52:32 | Epoch [4/50], Step [75/80], Loss: 0.2907\n",
      "Start validation # 4\n"
     ]
    },
    {
     "data": {
      "application/vnd.jupyter.widget-view+json": {
       "model_id": "fd1f678540cf47b29e99061306155e6e",
       "version_major": 2,
       "version_minor": 0
      },
      "text/plain": [
       "HBox(children=(HTML(value=''), FloatProgress(value=0.0, max=80.0), HTML(value='')))"
      ]
     },
     "metadata": {},
     "output_type": "display_data"
    },
    {
     "name": "stdout",
     "output_type": "stream",
     "text": [
      "\n",
      "finger-1    : 0.0000\n",
      "finger-2    : 0.0108\n",
      "finger-3    : 0.7524\n",
      "finger-4    : 0.0000\n",
      "finger-5    : 0.0000\n",
      "finger-6    : 0.0000\n",
      "finger-7    : 0.7447\n",
      "finger-8    : 0.0000\n",
      "finger-9    : 0.0000\n",
      "finger-10   : 0.5439\n",
      "finger-11   : 0.7692\n",
      "finger-12   : 0.0000\n",
      "finger-13   : 0.0000\n",
      "finger-14   : 0.0000\n",
      "finger-15   : 0.0052\n",
      "finger-16   : 0.0000\n",
      "finger-17   : 0.0000\n",
      "finger-18   : 0.0000\n",
      "finger-19   : 0.7947\n",
      "Trapezium   : 0.0000\n",
      "Trapezoid   : 0.0000\n",
      "Capitate    : 0.7539\n",
      "Hamate      : 0.4671\n",
      "Scaphoid    : 0.0000\n",
      "Lunate      : 0.0000\n",
      "Triquetrum  : 0.0000\n",
      "Pisiform    : 0.0000\n",
      "Radius      : 0.8164\n",
      "Ulna        : 0.7725\n",
      "Best performance at epoch: 4, 0.0714 -> 0.2218\n",
      "Save model in /opt/ml/input/code/trained_model/[DeepLabV3Plus_efficientnet-b4]_[size:(512, 512)]_[loss:[(BCEWithLogitsLoss(), 0.75), (DiceLoss(), 0.25)]]_[LR:0.0001]_[seed:21]_[epoch:50]\n",
      "2023-06-09 17:53:52 | Epoch [5/50], Step [0/80]\n",
      "2023-06-09 17:55:11 | Epoch [5/50], Step [25/80], Loss: 0.279\n",
      "2023-06-09 17:56:29 | Epoch [5/50], Step [50/80], Loss: 0.2705\n",
      "2023-06-09 17:57:46 | Epoch [5/50], Step [75/80], Loss: 0.2617\n",
      "Start validation # 5\n"
     ]
    },
    {
     "data": {
      "application/vnd.jupyter.widget-view+json": {
       "model_id": "26f131d972ec4c1b9421455f871e4a3e",
       "version_major": 2,
       "version_minor": 0
      },
      "text/plain": [
       "HBox(children=(HTML(value=''), FloatProgress(value=0.0, max=80.0), HTML(value='')))"
      ]
     },
     "metadata": {},
     "output_type": "display_data"
    },
    {
     "name": "stdout",
     "output_type": "stream",
     "text": [
      "\n",
      "finger-1    : 0.0000\n",
      "finger-2    : 0.7846\n",
      "finger-3    : 0.7677\n",
      "finger-4    : 0.0000\n",
      "finger-5    : 0.0000\n",
      "finger-6    : 0.8365\n",
      "finger-7    : 0.8091\n",
      "finger-8    : 0.0000\n",
      "finger-9    : 0.0002\n",
      "finger-10   : 0.8133\n",
      "finger-11   : 0.7893\n",
      "finger-12   : 0.0000\n",
      "finger-13   : 0.0000\n",
      "finger-14   : 0.8323\n",
      "finger-15   : 0.7985\n",
      "finger-16   : 0.0000\n",
      "finger-17   : 0.0000\n",
      "finger-18   : 0.7932\n",
      "finger-19   : 0.7922\n",
      "Trapezium   : 0.3053\n",
      "Trapezoid   : 0.0000\n",
      "Capitate    : 0.7888\n",
      "Hamate      : 0.7721\n",
      "Scaphoid    : 0.5937\n",
      "Lunate      : 0.0000\n",
      "Triquetrum  : 0.0000\n",
      "Pisiform    : 0.0000\n",
      "Radius      : 0.8454\n",
      "Ulna        : 0.8162\n",
      "Best performance at epoch: 5, 0.2218 -> 0.4186\n",
      "Save model in /opt/ml/input/code/trained_model/[DeepLabV3Plus_efficientnet-b4]_[size:(512, 512)]_[loss:[(BCEWithLogitsLoss(), 0.75), (DiceLoss(), 0.25)]]_[LR:0.0001]_[seed:21]_[epoch:50]\n",
      "2023-06-09 17:59:05 | Epoch [6/50], Step [0/80]\n",
      "2023-06-09 18:00:27 | Epoch [6/50], Step [25/80], Loss: 0.2511\n",
      "2023-06-09 18:01:44 | Epoch [6/50], Step [50/80], Loss: 0.2434\n",
      "2023-06-09 18:03:01 | Epoch [6/50], Step [75/80], Loss: 0.2353\n",
      "Start validation # 6\n"
     ]
    },
    {
     "data": {
      "application/vnd.jupyter.widget-view+json": {
       "model_id": "08a6fcc00fa84dd087f7e229f26f2977",
       "version_major": 2,
       "version_minor": 0
      },
      "text/plain": [
       "HBox(children=(HTML(value=''), FloatProgress(value=0.0, max=80.0), HTML(value='')))"
      ]
     },
     "metadata": {},
     "output_type": "display_data"
    },
    {
     "name": "stdout",
     "output_type": "stream",
     "text": [
      "\n",
      "finger-1    : 0.0000\n",
      "finger-2    : 0.7759\n",
      "finger-3    : 0.8180\n",
      "finger-4    : 0.0000\n",
      "finger-5    : 0.0000\n",
      "finger-6    : 0.8335\n",
      "finger-7    : 0.8475\n",
      "finger-8    : 0.0000\n",
      "finger-9    : 0.7566\n",
      "finger-10   : 0.8515\n",
      "finger-11   : 0.8433\n",
      "finger-12   : 0.0000\n",
      "finger-13   : 0.0168\n",
      "finger-14   : 0.8236\n",
      "finger-15   : 0.8220\n",
      "finger-16   : 0.0000\n",
      "finger-17   : 0.0000\n",
      "finger-18   : 0.7817\n",
      "finger-19   : 0.8130\n",
      "Trapezium   : 0.7284\n",
      "Trapezoid   : 0.0000\n",
      "Capitate    : 0.8291\n",
      "Hamate      : 0.8032\n",
      "Scaphoid    : 0.7717\n",
      "Lunate      : 0.0961\n",
      "Triquetrum  : 0.7788\n",
      "Pisiform    : 0.0000\n",
      "Radius      : 0.8783\n",
      "Ulna        : 0.8569\n",
      "Best performance at epoch: 6, 0.4186 -> 0.5078\n",
      "Save model in /opt/ml/input/code/trained_model/[DeepLabV3Plus_efficientnet-b4]_[size:(512, 512)]_[loss:[(BCEWithLogitsLoss(), 0.75), (DiceLoss(), 0.25)]]_[LR:0.0001]_[seed:21]_[epoch:50]\n",
      "2023-06-09 18:04:21 | Epoch [7/50], Step [0/80]\n",
      "2023-06-09 18:05:38 | Epoch [7/50], Step [25/80], Loss: 0.2241\n",
      "2023-06-09 18:06:54 | Epoch [7/50], Step [50/80], Loss: 0.2164\n",
      "2023-06-09 18:08:09 | Epoch [7/50], Step [75/80], Loss: 0.2073\n",
      "Start validation # 7\n"
     ]
    },
    {
     "data": {
      "application/vnd.jupyter.widget-view+json": {
       "model_id": "64775eb6f4254e45a9ea4b6e739b12df",
       "version_major": 2,
       "version_minor": 0
      },
      "text/plain": [
       "HBox(children=(HTML(value=''), FloatProgress(value=0.0, max=80.0), HTML(value='')))"
      ]
     },
     "metadata": {},
     "output_type": "display_data"
    },
    {
     "name": "stdout",
     "output_type": "stream",
     "text": [
      "\n",
      "finger-1    : 0.2796\n",
      "finger-2    : 0.7899\n",
      "finger-3    : 0.8547\n",
      "finger-4    : 0.0000\n",
      "finger-5    : 0.0000\n",
      "finger-6    : 0.8674\n",
      "finger-7    : 0.8713\n",
      "finger-8    : 0.0000\n",
      "finger-9    : 0.8531\n",
      "finger-10   : 0.8797\n",
      "finger-11   : 0.8686\n",
      "finger-12   : 0.0000\n",
      "finger-13   : 0.7446\n",
      "finger-14   : 0.8579\n",
      "finger-15   : 0.8459\n",
      "finger-16   : 0.0000\n",
      "finger-17   : 0.0000\n",
      "finger-18   : 0.8061\n",
      "finger-19   : 0.8252\n",
      "Trapezium   : 0.8012\n",
      "Trapezoid   : 0.0000\n",
      "Capitate    : 0.8499\n",
      "Hamate      : 0.8424\n",
      "Scaphoid    : 0.8011\n",
      "Lunate      : 0.6854\n",
      "Triquetrum  : 0.8268\n",
      "Pisiform    : 0.0000\n",
      "Radius      : 0.9044\n",
      "Ulna        : 0.8881\n",
      "Best performance at epoch: 7, 0.5078 -> 0.5843\n",
      "Save model in /opt/ml/input/code/trained_model/[DeepLabV3Plus_efficientnet-b4]_[size:(512, 512)]_[loss:[(BCEWithLogitsLoss(), 0.75), (DiceLoss(), 0.25)]]_[LR:0.0001]_[seed:21]_[epoch:50]\n",
      "2023-06-09 18:09:28 | Epoch [8/50], Step [0/80]\n",
      "2023-06-09 18:10:45 | Epoch [8/50], Step [25/80], Loss: 0.1944\n",
      "2023-06-09 18:12:01 | Epoch [8/50], Step [50/80], Loss: 0.1853\n",
      "2023-06-09 18:13:17 | Epoch [8/50], Step [75/80], Loss: 0.175\n",
      "Start validation # 8\n"
     ]
    },
    {
     "data": {
      "application/vnd.jupyter.widget-view+json": {
       "model_id": "56bab7916d014848b4bc7160af24c242",
       "version_major": 2,
       "version_minor": 0
      },
      "text/plain": [
       "HBox(children=(HTML(value=''), FloatProgress(value=0.0, max=80.0), HTML(value='')))"
      ]
     },
     "metadata": {},
     "output_type": "display_data"
    },
    {
     "name": "stdout",
     "output_type": "stream",
     "text": [
      "\n",
      "finger-1    : 0.7927\n",
      "finger-2    : 0.8376\n",
      "finger-3    : 0.8723\n",
      "finger-4    : 0.0000\n",
      "finger-5    : 0.7921\n",
      "finger-6    : 0.9017\n",
      "finger-7    : 0.8924\n",
      "finger-8    : 0.0000\n",
      "finger-9    : 0.8792\n",
      "finger-10   : 0.9068\n",
      "finger-11   : 0.8999\n",
      "finger-12   : 0.0000\n",
      "finger-13   : 0.8571\n",
      "finger-14   : 0.8801\n",
      "finger-15   : 0.8723\n",
      "finger-16   : 0.0000\n",
      "finger-17   : 0.0000\n",
      "finger-18   : 0.8249\n",
      "finger-19   : 0.8510\n",
      "Trapezium   : 0.8216\n",
      "Trapezoid   : 0.0000\n",
      "Capitate    : 0.8709\n",
      "Hamate      : 0.8547\n",
      "Scaphoid    : 0.8216\n",
      "Lunate      : 0.7732\n",
      "Triquetrum  : 0.8284\n",
      "Pisiform    : 0.0000\n",
      "Radius      : 0.9292\n",
      "Ulna        : 0.9117\n",
      "Best performance at epoch: 8, 0.5843 -> 0.6507\n",
      "Save model in /opt/ml/input/code/trained_model/[DeepLabV3Plus_efficientnet-b4]_[size:(512, 512)]_[loss:[(BCEWithLogitsLoss(), 0.75), (DiceLoss(), 0.25)]]_[LR:0.0001]_[seed:21]_[epoch:50]\n",
      "2023-06-09 18:14:37 | Epoch [9/50], Step [0/80]\n",
      "2023-06-09 18:15:54 | Epoch [9/50], Step [25/80], Loss: 0.1609\n",
      "2023-06-09 18:17:10 | Epoch [9/50], Step [50/80], Loss: 0.1513\n",
      "2023-06-09 18:18:25 | Epoch [9/50], Step [75/80], Loss: 0.1404\n",
      "Start validation # 9\n"
     ]
    },
    {
     "data": {
      "application/vnd.jupyter.widget-view+json": {
       "model_id": "077ac826e8424a7bb253b90fbc4ea0a0",
       "version_major": 2,
       "version_minor": 0
      },
      "text/plain": [
       "HBox(children=(HTML(value=''), FloatProgress(value=0.0, max=80.0), HTML(value='')))"
      ]
     },
     "metadata": {},
     "output_type": "display_data"
    },
    {
     "name": "stdout",
     "output_type": "stream",
     "text": [
      "\n",
      "finger-1    : 0.8415\n",
      "finger-2    : 0.8816\n",
      "finger-3    : 0.9050\n",
      "finger-4    : 0.0000\n",
      "finger-5    : 0.8804\n",
      "finger-6    : 0.9222\n",
      "finger-7    : 0.9173\n",
      "finger-8    : 0.0000\n",
      "finger-9    : 0.8990\n",
      "finger-10   : 0.9253\n",
      "finger-11   : 0.9250\n",
      "finger-12   : 0.0000\n",
      "finger-13   : 0.8846\n",
      "finger-14   : 0.9059\n",
      "finger-15   : 0.8921\n",
      "finger-16   : 0.0000\n",
      "finger-17   : 0.0000\n",
      "finger-18   : 0.8633\n",
      "finger-19   : 0.8854\n",
      "Trapezium   : 0.8375\n",
      "Trapezoid   : 0.0000\n",
      "Capitate    : 0.8708\n",
      "Hamate      : 0.8477\n",
      "Scaphoid    : 0.8506\n",
      "Lunate      : 0.7670\n",
      "Triquetrum  : 0.8424\n",
      "Pisiform    : 0.0000\n",
      "Radius      : 0.9456\n",
      "Ulna        : 0.9411\n",
      "Best performance at epoch: 9, 0.6507 -> 0.6700\n",
      "Save model in /opt/ml/input/code/trained_model/[DeepLabV3Plus_efficientnet-b4]_[size:(512, 512)]_[loss:[(BCEWithLogitsLoss(), 0.75), (DiceLoss(), 0.25)]]_[LR:0.0001]_[seed:21]_[epoch:50]\n",
      "2023-06-09 18:19:44 | Epoch [10/50], Step [0/80]\n",
      "2023-06-09 18:21:04 | Epoch [10/50], Step [25/80], Loss: 0.1279\n",
      "2023-06-09 18:22:20 | Epoch [10/50], Step [50/80], Loss: 0.1189\n",
      "2023-06-09 18:23:37 | Epoch [10/50], Step [75/80], Loss: 0.109\n",
      "Start validation #10\n"
     ]
    },
    {
     "data": {
      "application/vnd.jupyter.widget-view+json": {
       "model_id": "88a987ca1a8740bca76268133e1b5b60",
       "version_major": 2,
       "version_minor": 0
      },
      "text/plain": [
       "HBox(children=(HTML(value=''), FloatProgress(value=0.0, max=80.0), HTML(value='')))"
      ]
     },
     "metadata": {},
     "output_type": "display_data"
    },
    {
     "name": "stdout",
     "output_type": "stream",
     "text": [
      "\n",
      "finger-1    : 0.8524\n",
      "finger-2    : 0.9090\n",
      "finger-3    : 0.9313\n",
      "finger-4    : 0.0000\n",
      "finger-5    : 0.9036\n",
      "finger-6    : 0.9366\n",
      "finger-7    : 0.9324\n",
      "finger-8    : 0.0000\n",
      "finger-9    : 0.9053\n",
      "finger-10   : 0.9325\n",
      "finger-11   : 0.9356\n",
      "finger-12   : 0.0000\n",
      "finger-13   : 0.9008\n",
      "finger-14   : 0.9328\n",
      "finger-15   : 0.9111\n",
      "finger-16   : 0.0000\n",
      "finger-17   : 0.0000\n",
      "finger-18   : 0.9072\n",
      "finger-19   : 0.9168\n",
      "Trapezium   : 0.8367\n",
      "Trapezoid   : 0.0000\n",
      "Capitate    : 0.8589\n",
      "Hamate      : 0.8606\n",
      "Scaphoid    : 0.8684\n",
      "Lunate      : 0.7795\n",
      "Triquetrum  : 0.8515\n",
      "Pisiform    : 0.0000\n",
      "Radius      : 0.9573\n",
      "Ulna        : 0.9466\n",
      "Best performance at epoch: 10, 0.6700 -> 0.6816\n",
      "Save model in /opt/ml/input/code/trained_model/[DeepLabV3Plus_efficientnet-b4]_[size:(512, 512)]_[loss:[(BCEWithLogitsLoss(), 0.75), (DiceLoss(), 0.25)]]_[LR:0.0001]_[seed:21]_[epoch:50]\n",
      "2023-06-09 18:24:56 | Epoch [11/50], Step [0/80]\n",
      "2023-06-09 18:26:15 | Epoch [11/50], Step [25/80], Loss: 0.098\n",
      "2023-06-09 18:27:31 | Epoch [11/50], Step [50/80], Loss: 0.0933\n",
      "2023-06-09 18:28:49 | Epoch [11/50], Step [75/80], Loss: 0.0866\n",
      "Start validation #11\n"
     ]
    },
    {
     "data": {
      "application/vnd.jupyter.widget-view+json": {
       "model_id": "95787d74b11b40b6ae722935e389ed3b",
       "version_major": 2,
       "version_minor": 0
      },
      "text/plain": [
       "HBox(children=(HTML(value=''), FloatProgress(value=0.0, max=80.0), HTML(value='')))"
      ]
     },
     "metadata": {},
     "output_type": "display_data"
    },
    {
     "name": "stdout",
     "output_type": "stream",
     "text": [
      "\n",
      "finger-1    : 0.8601\n",
      "finger-2    : 0.9090\n",
      "finger-3    : 0.9266\n",
      "finger-4    : 0.0000\n",
      "finger-5    : 0.9103\n",
      "finger-6    : 0.9392\n",
      "finger-7    : 0.9362\n",
      "finger-8    : 0.0000\n",
      "finger-9    : 0.9149\n",
      "finger-10   : 0.9357\n",
      "finger-11   : 0.9379\n",
      "finger-12   : 0.0000\n",
      "finger-13   : 0.9118\n",
      "finger-14   : 0.9156\n",
      "finger-15   : 0.9138\n",
      "finger-16   : 0.0000\n",
      "finger-17   : 0.0000\n",
      "finger-18   : 0.8989\n",
      "finger-19   : 0.9107\n",
      "Trapezium   : 0.8447\n",
      "Trapezoid   : 0.0000\n",
      "Capitate    : 0.8832\n",
      "Hamate      : 0.8500\n",
      "Scaphoid    : 0.8753\n",
      "Lunate      : 0.8261\n",
      "Triquetrum  : 0.8505\n",
      "Pisiform    : 0.0000\n",
      "Radius      : 0.9650\n",
      "Ulna        : 0.9578\n",
      "Best performance at epoch: 11, 0.6816 -> 0.6853\n",
      "Save model in /opt/ml/input/code/trained_model/[DeepLabV3Plus_efficientnet-b4]_[size:(512, 512)]_[loss:[(BCEWithLogitsLoss(), 0.75), (DiceLoss(), 0.25)]]_[LR:0.0001]_[seed:21]_[epoch:50]\n",
      "2023-06-09 18:30:11 | Epoch [12/50], Step [0/80]\n",
      "2023-06-09 18:31:29 | Epoch [12/50], Step [25/80], Loss: 0.0787\n",
      "2023-06-09 18:32:46 | Epoch [12/50], Step [50/80], Loss: 0.0749\n",
      "2023-06-09 18:34:03 | Epoch [12/50], Step [75/80], Loss: 0.071\n",
      "Start validation #12\n"
     ]
    },
    {
     "data": {
      "application/vnd.jupyter.widget-view+json": {
       "model_id": "8fabfc6e33e64777b852328cf78154b8",
       "version_major": 2,
       "version_minor": 0
      },
      "text/plain": [
       "HBox(children=(HTML(value=''), FloatProgress(value=0.0, max=80.0), HTML(value='')))"
      ]
     },
     "metadata": {},
     "output_type": "display_data"
    },
    {
     "name": "stdout",
     "output_type": "stream",
     "text": [
      "\n",
      "finger-1    : 0.8784\n",
      "finger-2    : 0.9106\n",
      "finger-3    : 0.9286\n",
      "finger-4    : 0.0000\n",
      "finger-5    : 0.9098\n",
      "finger-6    : 0.9388\n",
      "finger-7    : 0.9376\n",
      "finger-8    : 0.0000\n",
      "finger-9    : 0.9226\n",
      "finger-10   : 0.9440\n",
      "finger-11   : 0.9403\n",
      "finger-12   : 0.0000\n",
      "finger-13   : 0.9194\n",
      "finger-14   : 0.9266\n",
      "finger-15   : 0.9201\n",
      "finger-16   : 0.0000\n",
      "finger-17   : 0.0000\n",
      "finger-18   : 0.9177\n",
      "finger-19   : 0.9227\n",
      "Trapezium   : 0.8465\n",
      "Trapezoid   : 0.0000\n",
      "Capitate    : 0.8751\n",
      "Hamate      : 0.8364\n",
      "Scaphoid    : 0.8766\n",
      "Lunate      : 0.8006\n",
      "Triquetrum  : 0.8557\n",
      "Pisiform    : 0.0000\n",
      "Radius      : 0.9660\n",
      "Ulna        : 0.9639\n",
      "Best performance at epoch: 12, 0.6853 -> 0.6875\n",
      "Save model in /opt/ml/input/code/trained_model/[DeepLabV3Plus_efficientnet-b4]_[size:(512, 512)]_[loss:[(BCEWithLogitsLoss(), 0.75), (DiceLoss(), 0.25)]]_[LR:0.0001]_[seed:21]_[epoch:50]\n",
      "2023-06-09 18:35:25 | Epoch [13/50], Step [0/80]\n",
      "2023-06-09 18:36:44 | Epoch [13/50], Step [25/80], Loss: 0.0652\n",
      "2023-06-09 18:38:05 | Epoch [13/50], Step [50/80], Loss: 0.0628\n",
      "2023-06-09 18:39:25 | Epoch [13/50], Step [75/80], Loss: 0.0599\n",
      "Start validation #13\n"
     ]
    },
    {
     "data": {
      "application/vnd.jupyter.widget-view+json": {
       "model_id": "2345a131446a4ad7a1f7230f250d979d",
       "version_major": 2,
       "version_minor": 0
      },
      "text/plain": [
       "HBox(children=(HTML(value=''), FloatProgress(value=0.0, max=80.0), HTML(value='')))"
      ]
     },
     "metadata": {},
     "output_type": "display_data"
    },
    {
     "name": "stdout",
     "output_type": "stream",
     "text": [
      "\n",
      "finger-1    : 0.8973\n",
      "finger-2    : 0.9334\n",
      "finger-3    : 0.9477\n",
      "finger-4    : 0.0000\n",
      "finger-5    : 0.9261\n",
      "finger-6    : 0.9462\n",
      "finger-7    : 0.9450\n",
      "finger-8    : 0.0000\n",
      "finger-9    : 0.9373\n",
      "finger-10   : 0.9513\n",
      "finger-11   : 0.9445\n",
      "finger-12   : 0.0000\n",
      "finger-13   : 0.9294\n",
      "finger-14   : 0.9446\n",
      "finger-15   : 0.9375\n",
      "finger-16   : 0.0000\n",
      "finger-17   : 0.0393\n",
      "finger-18   : 0.9275\n",
      "finger-19   : 0.9397\n",
      "Trapezium   : 0.8375\n",
      "Trapezoid   : 0.0000\n",
      "Capitate    : 0.8920\n",
      "Hamate      : 0.8698\n",
      "Scaphoid    : 0.8622\n",
      "Lunate      : 0.8274\n",
      "Triquetrum  : 0.8667\n",
      "Pisiform    : 0.0000\n",
      "Radius      : 0.9708\n",
      "Ulna        : 0.9675\n",
      "Best performance at epoch: 13, 0.6875 -> 0.6979\n",
      "Save model in /opt/ml/input/code/trained_model/[DeepLabV3Plus_efficientnet-b4]_[size:(512, 512)]_[loss:[(BCEWithLogitsLoss(), 0.75), (DiceLoss(), 0.25)]]_[LR:0.0001]_[seed:21]_[epoch:50]\n",
      "2023-06-09 18:40:45 | Epoch [14/50], Step [0/80]\n",
      "2023-06-09 18:42:03 | Epoch [14/50], Step [25/80], Loss: 0.0567\n",
      "2023-06-09 18:43:22 | Epoch [14/50], Step [50/80], Loss: 0.0552\n",
      "2023-06-09 18:44:38 | Epoch [14/50], Step [75/80], Loss: 0.0533\n",
      "Start validation #14\n"
     ]
    },
    {
     "data": {
      "application/vnd.jupyter.widget-view+json": {
       "model_id": "1a62b33da700483a996bb0e2855bb0a1",
       "version_major": 2,
       "version_minor": 0
      },
      "text/plain": [
       "HBox(children=(HTML(value=''), FloatProgress(value=0.0, max=80.0), HTML(value='')))"
      ]
     },
     "metadata": {},
     "output_type": "display_data"
    },
    {
     "name": "stdout",
     "output_type": "stream",
     "text": [
      "\n",
      "finger-1    : 0.9055\n",
      "finger-2    : 0.9362\n",
      "finger-3    : 0.9472\n",
      "finger-4    : 0.0000\n",
      "finger-5    : 0.9283\n",
      "finger-6    : 0.9498\n",
      "finger-7    : 0.9464\n",
      "finger-8    : 0.0000\n",
      "finger-9    : 0.9382\n",
      "finger-10   : 0.9513\n",
      "finger-11   : 0.9448\n",
      "finger-12   : 0.0000\n",
      "finger-13   : 0.9351\n",
      "finger-14   : 0.9479\n",
      "finger-15   : 0.9340\n",
      "finger-16   : 0.0000\n",
      "finger-17   : 0.6607\n",
      "finger-18   : 0.9262\n",
      "finger-19   : 0.9319\n",
      "Trapezium   : 0.8315\n",
      "Trapezoid   : 0.0000\n",
      "Capitate    : 0.9014\n",
      "Hamate      : 0.8772\n",
      "Scaphoid    : 0.8657\n",
      "Lunate      : 0.8656\n",
      "Triquetrum  : 0.8755\n",
      "Pisiform    : 0.0000\n",
      "Radius      : 0.9744\n",
      "Ulna        : 0.9672\n",
      "Best performance at epoch: 14, 0.6979 -> 0.7221\n",
      "Save model in /opt/ml/input/code/trained_model/[DeepLabV3Plus_efficientnet-b4]_[size:(512, 512)]_[loss:[(BCEWithLogitsLoss(), 0.75), (DiceLoss(), 0.25)]]_[LR:0.0001]_[seed:21]_[epoch:50]\n",
      "2023-06-09 18:45:59 | Epoch [15/50], Step [0/80]\n",
      "2023-06-09 18:47:18 | Epoch [15/50], Step [25/80], Loss: 0.0498\n",
      "2023-06-09 18:48:34 | Epoch [15/50], Step [50/80], Loss: 0.0499\n",
      "2023-06-09 18:49:52 | Epoch [15/50], Step [75/80], Loss: 0.0478\n",
      "Start validation #15\n"
     ]
    },
    {
     "data": {
      "application/vnd.jupyter.widget-view+json": {
       "model_id": "c69b810fc6d147aea4ab33da3dc95129",
       "version_major": 2,
       "version_minor": 0
      },
      "text/plain": [
       "HBox(children=(HTML(value=''), FloatProgress(value=0.0, max=80.0), HTML(value='')))"
      ]
     },
     "metadata": {},
     "output_type": "display_data"
    },
    {
     "name": "stdout",
     "output_type": "stream",
     "text": [
      "\n",
      "finger-1    : 0.9136\n",
      "finger-2    : 0.9387\n",
      "finger-3    : 0.9530\n",
      "finger-4    : 0.0000\n",
      "finger-5    : 0.9153\n",
      "finger-6    : 0.9496\n",
      "finger-7    : 0.9527\n",
      "finger-8    : 0.0000\n",
      "finger-9    : 0.9257\n",
      "finger-10   : 0.9530\n",
      "finger-11   : 0.9534\n",
      "finger-12   : 0.0000\n",
      "finger-13   : 0.9223\n",
      "finger-14   : 0.9476\n",
      "finger-15   : 0.9400\n",
      "finger-16   : 0.0000\n",
      "finger-17   : 0.8135\n",
      "finger-18   : 0.9320\n",
      "finger-19   : 0.9349\n",
      "Trapezium   : 0.8727\n",
      "Trapezoid   : 0.0000\n",
      "Capitate    : 0.8993\n",
      "Hamate      : 0.8709\n",
      "Scaphoid    : 0.9000\n",
      "Lunate      : 0.8571\n",
      "Triquetrum  : 0.8582\n",
      "Pisiform    : 0.0000\n",
      "Radius      : 0.9747\n",
      "Ulna        : 0.9699\n",
      "Best performance at epoch: 15, 0.7221 -> 0.7292\n",
      "Save model in /opt/ml/input/code/trained_model/[DeepLabV3Plus_efficientnet-b4]_[size:(512, 512)]_[loss:[(BCEWithLogitsLoss(), 0.75), (DiceLoss(), 0.25)]]_[LR:0.0001]_[seed:21]_[epoch:50]\n",
      "2023-06-09 18:51:13 | Epoch [16/50], Step [0/80]\n",
      "2023-06-09 18:52:29 | Epoch [16/50], Step [25/80], Loss: 0.0449\n",
      "2023-06-09 18:53:45 | Epoch [16/50], Step [50/80], Loss: 0.0445\n",
      "2023-06-09 18:55:01 | Epoch [16/50], Step [75/80], Loss: 0.0431\n",
      "Start validation #16\n"
     ]
    },
    {
     "data": {
      "application/vnd.jupyter.widget-view+json": {
       "model_id": "d808e34052e34cf7878e65460be53890",
       "version_major": 2,
       "version_minor": 0
      },
      "text/plain": [
       "HBox(children=(HTML(value=''), FloatProgress(value=0.0, max=80.0), HTML(value='')))"
      ]
     },
     "metadata": {},
     "output_type": "display_data"
    },
    {
     "name": "stdout",
     "output_type": "stream",
     "text": [
      "\n",
      "finger-1    : 0.9146\n",
      "finger-2    : 0.9427\n",
      "finger-3    : 0.9533\n",
      "finger-4    : 0.0000\n",
      "finger-5    : 0.9397\n",
      "finger-6    : 0.9582\n",
      "finger-7    : 0.9479\n",
      "finger-8    : 0.0000\n",
      "finger-9    : 0.9455\n",
      "finger-10   : 0.9598\n",
      "finger-11   : 0.9470\n",
      "finger-12   : 0.0000\n",
      "finger-13   : 0.9374\n",
      "finger-14   : 0.9460\n",
      "finger-15   : 0.9336\n",
      "finger-16   : 0.0000\n",
      "finger-17   : 0.8763\n",
      "finger-18   : 0.9359\n",
      "finger-19   : 0.9416\n",
      "Trapezium   : 0.8723\n",
      "Trapezoid   : 0.0000\n",
      "Capitate    : 0.8959\n",
      "Hamate      : 0.8794\n",
      "Scaphoid    : 0.8893\n",
      "Lunate      : 0.8536\n",
      "Triquetrum  : 0.8768\n",
      "Pisiform    : 0.0000\n",
      "Radius      : 0.9746\n",
      "Ulna        : 0.9722\n",
      "Best performance at epoch: 16, 0.7292 -> 0.7343\n",
      "Save model in /opt/ml/input/code/trained_model/[DeepLabV3Plus_efficientnet-b4]_[size:(512, 512)]_[loss:[(BCEWithLogitsLoss(), 0.75), (DiceLoss(), 0.25)]]_[LR:0.0001]_[seed:21]_[epoch:50]\n",
      "2023-06-09 18:56:18 | Epoch [17/50], Step [0/80]\n",
      "2023-06-09 18:57:35 | Epoch [17/50], Step [25/80], Loss: 0.0414\n",
      "2023-06-09 18:58:53 | Epoch [17/50], Step [50/80], Loss: 0.0407\n",
      "2023-06-09 19:00:11 | Epoch [17/50], Step [75/80], Loss: 0.0397\n",
      "Start validation #17\n"
     ]
    },
    {
     "data": {
      "application/vnd.jupyter.widget-view+json": {
       "model_id": "7e49a1d1ae304e239cfd7018f5e8d31f",
       "version_major": 2,
       "version_minor": 0
      },
      "text/plain": [
       "HBox(children=(HTML(value=''), FloatProgress(value=0.0, max=80.0), HTML(value='')))"
      ]
     },
     "metadata": {},
     "output_type": "display_data"
    },
    {
     "name": "stdout",
     "output_type": "stream",
     "text": [
      "\n",
      "finger-1    : 0.9166\n",
      "finger-2    : 0.9443\n",
      "finger-3    : 0.9567\n",
      "finger-4    : 0.0000\n",
      "finger-5    : 0.9389\n",
      "finger-6    : 0.9579\n",
      "finger-7    : 0.9529\n",
      "finger-8    : 0.0000\n",
      "finger-9    : 0.9451\n",
      "finger-10   : 0.9602\n",
      "finger-11   : 0.9514\n",
      "finger-12   : 0.0000\n",
      "finger-13   : 0.9304\n",
      "finger-14   : 0.9457\n",
      "finger-15   : 0.9412\n",
      "finger-16   : 0.0000\n",
      "finger-17   : 0.8899\n",
      "finger-18   : 0.9378\n",
      "finger-19   : 0.9496\n",
      "Trapezium   : 0.8825\n",
      "Trapezoid   : 0.0000\n",
      "Capitate    : 0.9094\n",
      "Hamate      : 0.8895\n",
      "Scaphoid    : 0.9004\n",
      "Lunate      : 0.8794\n",
      "Triquetrum  : 0.8931\n",
      "Pisiform    : 0.0000\n",
      "Radius      : 0.9790\n",
      "Ulna        : 0.9713\n",
      "Best performance at epoch: 17, 0.7343 -> 0.7387\n",
      "Save model in /opt/ml/input/code/trained_model/[DeepLabV3Plus_efficientnet-b4]_[size:(512, 512)]_[loss:[(BCEWithLogitsLoss(), 0.75), (DiceLoss(), 0.25)]]_[LR:0.0001]_[seed:21]_[epoch:50]\n",
      "2023-06-09 19:01:32 | Epoch [18/50], Step [0/80]\n",
      "2023-06-09 19:02:51 | Epoch [18/50], Step [25/80], Loss: 0.0382\n",
      "2023-06-09 19:04:09 | Epoch [18/50], Step [50/80], Loss: 0.038\n",
      "2023-06-09 19:05:26 | Epoch [18/50], Step [75/80], Loss: 0.0366\n",
      "Start validation #18\n"
     ]
    },
    {
     "data": {
      "application/vnd.jupyter.widget-view+json": {
       "model_id": "a46cc3222cee49f4a9e4c67862eb2c41",
       "version_major": 2,
       "version_minor": 0
      },
      "text/plain": [
       "HBox(children=(HTML(value=''), FloatProgress(value=0.0, max=80.0), HTML(value='')))"
      ]
     },
     "metadata": {},
     "output_type": "display_data"
    },
    {
     "name": "stdout",
     "output_type": "stream",
     "text": [
      "\n",
      "finger-1    : 0.9201\n",
      "finger-2    : 0.9461\n",
      "finger-3    : 0.9557\n",
      "finger-4    : 0.0000\n",
      "finger-5    : 0.9420\n",
      "finger-6    : 0.9626\n",
      "finger-7    : 0.9559\n",
      "finger-8    : 0.0000\n",
      "finger-9    : 0.9492\n",
      "finger-10   : 0.9643\n",
      "finger-11   : 0.9552\n",
      "finger-12   : 0.0000\n",
      "finger-13   : 0.9431\n",
      "finger-14   : 0.9552\n",
      "finger-15   : 0.9488\n",
      "finger-16   : 0.0000\n",
      "finger-17   : 0.8781\n",
      "finger-18   : 0.9400\n",
      "finger-19   : 0.9531\n",
      "Trapezium   : 0.8754\n",
      "Trapezoid   : 0.0000\n",
      "Capitate    : 0.9044\n",
      "Hamate      : 0.8941\n",
      "Scaphoid    : 0.8984\n",
      "Lunate      : 0.8773\n",
      "Triquetrum  : 0.8891\n",
      "Pisiform    : 0.0000\n",
      "Radius      : 0.9780\n",
      "Ulna        : 0.9727\n",
      "Best performance at epoch: 18, 0.7387 -> 0.7400\n",
      "Save model in /opt/ml/input/code/trained_model/[DeepLabV3Plus_efficientnet-b4]_[size:(512, 512)]_[loss:[(BCEWithLogitsLoss(), 0.75), (DiceLoss(), 0.25)]]_[LR:0.0001]_[seed:21]_[epoch:50]\n",
      "2023-06-09 19:06:46 | Epoch [19/50], Step [0/80]\n",
      "2023-06-09 19:08:13 | Epoch [19/50], Step [25/80], Loss: 0.0364\n",
      "2023-06-09 19:09:30 | Epoch [19/50], Step [50/80], Loss: 0.0356\n",
      "2023-06-09 19:10:47 | Epoch [19/50], Step [75/80], Loss: 0.0349\n",
      "Start validation #19\n"
     ]
    },
    {
     "data": {
      "application/vnd.jupyter.widget-view+json": {
       "model_id": "ce5b36a39bd6462f96f03860f7419166",
       "version_major": 2,
       "version_minor": 0
      },
      "text/plain": [
       "HBox(children=(HTML(value=''), FloatProgress(value=0.0, max=80.0), HTML(value='')))"
      ]
     },
     "metadata": {},
     "output_type": "display_data"
    },
    {
     "name": "stdout",
     "output_type": "stream",
     "text": [
      "\n",
      "finger-1    : 0.9230\n",
      "finger-2    : 0.9491\n",
      "finger-3    : 0.9601\n",
      "finger-4    : 0.0000\n",
      "finger-5    : 0.9386\n",
      "finger-6    : 0.9604\n",
      "finger-7    : 0.9577\n",
      "finger-8    : 0.0000\n",
      "finger-9    : 0.9463\n",
      "finger-10   : 0.9628\n",
      "finger-11   : 0.9573\n",
      "finger-12   : 0.0000\n",
      "finger-13   : 0.9394\n",
      "finger-14   : 0.9558\n",
      "finger-15   : 0.9508\n",
      "finger-16   : 0.0000\n",
      "finger-17   : 0.8793\n",
      "finger-18   : 0.9430\n",
      "finger-19   : 0.9546\n",
      "Trapezium   : 0.8845\n",
      "Trapezoid   : 0.0000\n",
      "Capitate    : 0.9119\n",
      "Hamate      : 0.8968\n",
      "Scaphoid    : 0.9126\n",
      "Lunate      : 0.8717\n",
      "Triquetrum  : 0.8864\n",
      "Pisiform    : 0.0000\n",
      "Radius      : 0.9798\n",
      "Ulna        : 0.9754\n",
      "Best performance at epoch: 19, 0.7400 -> 0.7413\n",
      "Save model in /opt/ml/input/code/trained_model/[DeepLabV3Plus_efficientnet-b4]_[size:(512, 512)]_[loss:[(BCEWithLogitsLoss(), 0.75), (DiceLoss(), 0.25)]]_[LR:0.0001]_[seed:21]_[epoch:50]\n",
      "2023-06-09 19:12:07 | Epoch [20/50], Step [0/80]\n",
      "2023-06-09 19:13:26 | Epoch [20/50], Step [25/80], Loss: 0.0337\n",
      "2023-06-09 19:14:44 | Epoch [20/50], Step [50/80], Loss: 0.0338\n",
      "2023-06-09 19:16:01 | Epoch [20/50], Step [75/80], Loss: 0.0327\n",
      "Start validation #20\n"
     ]
    },
    {
     "data": {
      "application/vnd.jupyter.widget-view+json": {
       "model_id": "5d984bbea3f144ca9b171f19a9422c4d",
       "version_major": 2,
       "version_minor": 0
      },
      "text/plain": [
       "HBox(children=(HTML(value=''), FloatProgress(value=0.0, max=80.0), HTML(value='')))"
      ]
     },
     "metadata": {},
     "output_type": "display_data"
    },
    {
     "name": "stdout",
     "output_type": "stream",
     "text": [
      "\n",
      "finger-1    : 0.9266\n",
      "finger-2    : 0.9518\n",
      "finger-3    : 0.9608\n",
      "finger-4    : 0.0000\n",
      "finger-5    : 0.9368\n",
      "finger-6    : 0.9583\n",
      "finger-7    : 0.9538\n",
      "finger-8    : 0.0000\n",
      "finger-9    : 0.9491\n",
      "finger-10   : 0.9626\n",
      "finger-11   : 0.9539\n",
      "finger-12   : 0.0000\n",
      "finger-13   : 0.9416\n",
      "finger-14   : 0.9564\n",
      "finger-15   : 0.9445\n",
      "finger-16   : 0.0000\n",
      "finger-17   : 0.9001\n",
      "finger-18   : 0.9473\n",
      "finger-19   : 0.9514\n",
      "Trapezium   : 0.8827\n",
      "Trapezoid   : 0.0000\n",
      "Capitate    : 0.9100\n",
      "Hamate      : 0.8893\n",
      "Scaphoid    : 0.9069\n",
      "Lunate      : 0.8738\n",
      "Triquetrum  : 0.8856\n",
      "Pisiform    : 0.5729\n",
      "Radius      : 0.9795\n",
      "Ulna        : 0.9762\n",
      "Best performance at epoch: 20, 0.7413 -> 0.7611\n",
      "Save model in /opt/ml/input/code/trained_model/[DeepLabV3Plus_efficientnet-b4]_[size:(512, 512)]_[loss:[(BCEWithLogitsLoss(), 0.75), (DiceLoss(), 0.25)]]_[LR:0.0001]_[seed:21]_[epoch:50]\n",
      "2023-06-09 19:17:21 | Epoch [21/50], Step [0/80]\n",
      "2023-06-09 19:18:41 | Epoch [21/50], Step [25/80], Loss: 0.0322\n",
      "2023-06-09 19:20:03 | Epoch [21/50], Step [50/80], Loss: 0.0319\n",
      "2023-06-09 19:21:19 | Epoch [21/50], Step [75/80], Loss: 0.0318\n",
      "Start validation #21\n"
     ]
    },
    {
     "data": {
      "application/vnd.jupyter.widget-view+json": {
       "model_id": "7aa05c188e8f472a9b4998de650f4e39",
       "version_major": 2,
       "version_minor": 0
      },
      "text/plain": [
       "HBox(children=(HTML(value=''), FloatProgress(value=0.0, max=80.0), HTML(value='')))"
      ]
     },
     "metadata": {},
     "output_type": "display_data"
    },
    {
     "name": "stdout",
     "output_type": "stream",
     "text": [
      "\n",
      "finger-1    : 0.9249\n",
      "finger-2    : 0.9516\n",
      "finger-3    : 0.9617\n",
      "finger-4    : 0.0000\n",
      "finger-5    : 0.9460\n",
      "finger-6    : 0.9621\n",
      "finger-7    : 0.9523\n",
      "finger-8    : 0.0000\n",
      "finger-9    : 0.9548\n",
      "finger-10   : 0.9672\n",
      "finger-11   : 0.9533\n",
      "finger-12   : 0.0000\n",
      "finger-13   : 0.9448\n",
      "finger-14   : 0.9583\n",
      "finger-15   : 0.9395\n",
      "finger-16   : 0.0000\n",
      "finger-17   : 0.9078\n",
      "finger-18   : 0.9502\n",
      "finger-19   : 0.9440\n",
      "Trapezium   : 0.8880\n",
      "Trapezoid   : 0.0000\n",
      "Capitate    : 0.9025\n",
      "Hamate      : 0.8635\n",
      "Scaphoid    : 0.8836\n",
      "Lunate      : 0.8546\n",
      "Triquetrum  : 0.8744\n",
      "Pisiform    : 0.7464\n",
      "Radius      : 0.9758\n",
      "Ulna        : 0.9735\n",
      "Best performance at epoch: 21, 0.7611 -> 0.7649\n",
      "Save model in /opt/ml/input/code/trained_model/[DeepLabV3Plus_efficientnet-b4]_[size:(512, 512)]_[loss:[(BCEWithLogitsLoss(), 0.75), (DiceLoss(), 0.25)]]_[LR:0.0001]_[seed:21]_[epoch:50]\n",
      "2023-06-09 19:22:39 | Epoch [22/50], Step [0/80]\n",
      "2023-06-09 19:23:55 | Epoch [22/50], Step [25/80], Loss: 0.0307\n",
      "2023-06-09 19:25:12 | Epoch [22/50], Step [50/80], Loss: 0.0306\n",
      "2023-06-09 19:26:28 | Epoch [22/50], Step [75/80], Loss: 0.031\n",
      "Start validation #22\n"
     ]
    },
    {
     "data": {
      "application/vnd.jupyter.widget-view+json": {
       "model_id": "67b58334795f44d88275c888734b5a8e",
       "version_major": 2,
       "version_minor": 0
      },
      "text/plain": [
       "HBox(children=(HTML(value=''), FloatProgress(value=0.0, max=80.0), HTML(value='')))"
      ]
     },
     "metadata": {},
     "output_type": "display_data"
    },
    {
     "name": "stdout",
     "output_type": "stream",
     "text": [
      "\n",
      "finger-1    : 0.9283\n",
      "finger-2    : 0.9525\n",
      "finger-3    : 0.9614\n",
      "finger-4    : 0.0000\n",
      "finger-5    : 0.9474\n",
      "finger-6    : 0.9649\n",
      "finger-7    : 0.9572\n",
      "finger-8    : 0.0000\n",
      "finger-9    : 0.9491\n",
      "finger-10   : 0.9656\n",
      "finger-11   : 0.9550\n",
      "finger-12   : 0.0000\n",
      "finger-13   : 0.9373\n",
      "finger-14   : 0.9536\n",
      "finger-15   : 0.9475\n",
      "finger-16   : 0.0000\n",
      "finger-17   : 0.9026\n",
      "finger-18   : 0.9406\n",
      "finger-19   : 0.9482\n",
      "Trapezium   : 0.8862\n",
      "Trapezoid   : 0.0026\n",
      "Capitate    : 0.9135\n",
      "Hamate      : 0.9045\n",
      "Scaphoid    : 0.8965\n",
      "Lunate      : 0.8835\n",
      "Triquetrum  : 0.8918\n",
      "Pisiform    : 0.7737\n",
      "Radius      : 0.9800\n",
      "Ulna        : 0.9740\n",
      "Best performance at epoch: 22, 0.7649 -> 0.7696\n",
      "Save model in /opt/ml/input/code/trained_model/[DeepLabV3Plus_efficientnet-b4]_[size:(512, 512)]_[loss:[(BCEWithLogitsLoss(), 0.75), (DiceLoss(), 0.25)]]_[LR:0.0001]_[seed:21]_[epoch:50]\n",
      "2023-06-09 19:27:54 | Epoch [23/50], Step [0/80]\n",
      "2023-06-09 19:29:10 | Epoch [23/50], Step [25/80], Loss: 0.03\n",
      "2023-06-09 19:30:25 | Epoch [23/50], Step [50/80], Loss: 0.029\n",
      "2023-06-09 19:31:41 | Epoch [23/50], Step [75/80], Loss: 0.0284\n",
      "Start validation #23\n"
     ]
    },
    {
     "data": {
      "application/vnd.jupyter.widget-view+json": {
       "model_id": "cc878d0d965e44268c716650827e4af9",
       "version_major": 2,
       "version_minor": 0
      },
      "text/plain": [
       "HBox(children=(HTML(value=''), FloatProgress(value=0.0, max=80.0), HTML(value='')))"
      ]
     },
     "metadata": {},
     "output_type": "display_data"
    },
    {
     "name": "stdout",
     "output_type": "stream",
     "text": [
      "\n",
      "finger-1    : 0.9033\n",
      "finger-2    : 0.9335\n",
      "finger-3    : 0.9534\n",
      "finger-4    : 0.0000\n",
      "finger-5    : 0.9443\n",
      "finger-6    : 0.9623\n",
      "finger-7    : 0.9571\n",
      "finger-8    : 0.0000\n",
      "finger-9    : 0.9472\n",
      "finger-10   : 0.9623\n",
      "finger-11   : 0.9525\n",
      "finger-12   : 0.0000\n",
      "finger-13   : 0.9378\n",
      "finger-14   : 0.9507\n",
      "finger-15   : 0.9431\n",
      "finger-16   : 0.0000\n",
      "finger-17   : 0.9011\n",
      "finger-18   : 0.9361\n",
      "finger-19   : 0.9490\n",
      "Trapezium   : 0.8577\n",
      "Trapezoid   : 0.7649\n",
      "Capitate    : 0.9095\n",
      "Hamate      : 0.8949\n",
      "Scaphoid    : 0.8807\n",
      "Lunate      : 0.8756\n",
      "Triquetrum  : 0.8844\n",
      "Pisiform    : 0.7671\n",
      "Radius      : 0.9775\n",
      "Ulna        : 0.9741\n",
      "Best performance at epoch: 23, 0.7696 -> 0.7903\n",
      "Save model in /opt/ml/input/code/trained_model/[DeepLabV3Plus_efficientnet-b4]_[size:(512, 512)]_[loss:[(BCEWithLogitsLoss(), 0.75), (DiceLoss(), 0.25)]]_[LR:0.0001]_[seed:21]_[epoch:50]\n",
      "2023-06-09 19:32:59 | Epoch [24/50], Step [0/80]\n",
      "2023-06-09 19:34:18 | Epoch [24/50], Step [25/80], Loss: 0.0282\n",
      "2023-06-09 19:35:35 | Epoch [24/50], Step [50/80], Loss: 0.0276\n",
      "2023-06-09 19:36:50 | Epoch [24/50], Step [75/80], Loss: 0.0274\n",
      "Start validation #24\n"
     ]
    },
    {
     "data": {
      "application/vnd.jupyter.widget-view+json": {
       "model_id": "d96975eb95354ba0afe63db4dbe1cfa5",
       "version_major": 2,
       "version_minor": 0
      },
      "text/plain": [
       "HBox(children=(HTML(value=''), FloatProgress(value=0.0, max=80.0), HTML(value='')))"
      ]
     },
     "metadata": {},
     "output_type": "display_data"
    },
    {
     "name": "stdout",
     "output_type": "stream",
     "text": [
      "\n",
      "finger-1    : 0.9165\n",
      "finger-2    : 0.9428\n",
      "finger-3    : 0.9523\n",
      "finger-4    : 0.0000\n",
      "finger-5    : 0.9342\n",
      "finger-6    : 0.9595\n",
      "finger-7    : 0.9552\n",
      "finger-8    : 0.0000\n",
      "finger-9    : 0.9436\n",
      "finger-10   : 0.9639\n",
      "finger-11   : 0.9536\n",
      "finger-12   : 0.0000\n",
      "finger-13   : 0.9365\n",
      "finger-14   : 0.9539\n",
      "finger-15   : 0.9465\n",
      "finger-16   : 0.0000\n",
      "finger-17   : 0.8879\n",
      "finger-18   : 0.9330\n",
      "finger-19   : 0.9529\n",
      "Trapezium   : 0.8499\n",
      "Trapezoid   : 0.8083\n",
      "Capitate    : 0.8859\n",
      "Hamate      : 0.9011\n",
      "Scaphoid    : 0.8599\n",
      "Lunate      : 0.8510\n",
      "Triquetrum  : 0.8895\n",
      "Pisiform    : 0.7761\n",
      "Radius      : 0.9746\n",
      "Ulna        : 0.9737\n",
      "2023-06-09 19:38:09 | Epoch [25/50], Step [0/80]\n",
      "2023-06-09 19:39:26 | Epoch [25/50], Step [25/80], Loss: 0.0269\n",
      "2023-06-09 19:40:41 | Epoch [25/50], Step [50/80], Loss: 0.0265\n",
      "2023-06-09 19:41:57 | Epoch [25/50], Step [75/80], Loss: 0.0266\n",
      "Start validation #25\n"
     ]
    },
    {
     "data": {
      "application/vnd.jupyter.widget-view+json": {
       "model_id": "11d73a39567a4b65bbcfc702be18446a",
       "version_major": 2,
       "version_minor": 0
      },
      "text/plain": [
       "HBox(children=(HTML(value=''), FloatProgress(value=0.0, max=80.0), HTML(value='')))"
      ]
     },
     "metadata": {},
     "output_type": "display_data"
    },
    {
     "name": "stdout",
     "output_type": "stream",
     "text": [
      "\n",
      "finger-1    : 0.9304\n",
      "finger-2    : 0.9508\n",
      "finger-3    : 0.9599\n",
      "finger-4    : 0.0000\n",
      "finger-5    : 0.9481\n",
      "finger-6    : 0.9665\n",
      "finger-7    : 0.9554\n",
      "finger-8    : 0.0000\n",
      "finger-9    : 0.9520\n",
      "finger-10   : 0.9680\n",
      "finger-11   : 0.9549\n",
      "finger-12   : 0.0000\n",
      "finger-13   : 0.9504\n",
      "finger-14   : 0.9624\n",
      "finger-15   : 0.9540\n",
      "finger-16   : 0.0000\n",
      "finger-17   : 0.9118\n",
      "finger-18   : 0.9465\n",
      "finger-19   : 0.9579\n",
      "Trapezium   : 0.8829\n",
      "Trapezoid   : 0.8395\n",
      "Capitate    : 0.8936\n",
      "Hamate      : 0.9091\n",
      "Scaphoid    : 0.8929\n",
      "Lunate      : 0.8687\n",
      "Triquetrum  : 0.8962\n",
      "Pisiform    : 0.7864\n",
      "Radius      : 0.9774\n",
      "Ulna        : 0.9775\n",
      "Best performance at epoch: 25, 0.7903 -> 0.7998\n",
      "Save model in /opt/ml/input/code/trained_model/[DeepLabV3Plus_efficientnet-b4]_[size:(512, 512)]_[loss:[(BCEWithLogitsLoss(), 0.75), (DiceLoss(), 0.25)]]_[LR:0.0001]_[seed:21]_[epoch:50]\n",
      "2023-06-09 19:43:16 | Epoch [26/50], Step [0/80]\n",
      "2023-06-09 19:44:33 | Epoch [26/50], Step [25/80], Loss: 0.0257\n",
      "2023-06-09 19:45:49 | Epoch [26/50], Step [50/80], Loss: 0.0255\n",
      "2023-06-09 19:47:05 | Epoch [26/50], Step [75/80], Loss: 0.0252\n",
      "Start validation #26\n"
     ]
    },
    {
     "data": {
      "application/vnd.jupyter.widget-view+json": {
       "model_id": "9a2eda907d244d648c8e760c2f58a182",
       "version_major": 2,
       "version_minor": 0
      },
      "text/plain": [
       "HBox(children=(HTML(value=''), FloatProgress(value=0.0, max=80.0), HTML(value='')))"
      ]
     },
     "metadata": {},
     "output_type": "display_data"
    },
    {
     "name": "stdout",
     "output_type": "stream",
     "text": [
      "\n",
      "finger-1    : 0.9347\n",
      "finger-2    : 0.9577\n",
      "finger-3    : 0.9651\n",
      "finger-4    : 0.0000\n",
      "finger-5    : 0.9515\n",
      "finger-6    : 0.9683\n",
      "finger-7    : 0.9556\n",
      "finger-8    : 0.0000\n",
      "finger-9    : 0.9579\n",
      "finger-10   : 0.9704\n",
      "finger-11   : 0.9548\n",
      "finger-12   : 0.0000\n",
      "finger-13   : 0.9512\n",
      "finger-14   : 0.9615\n",
      "finger-15   : 0.9540\n",
      "finger-16   : 0.0000\n",
      "finger-17   : 0.9078\n",
      "finger-18   : 0.9479\n",
      "finger-19   : 0.9570\n",
      "Trapezium   : 0.8955\n",
      "Trapezoid   : 0.8425\n",
      "Capitate    : 0.9070\n",
      "Hamate      : 0.9043\n",
      "Scaphoid    : 0.9097\n",
      "Lunate      : 0.8851\n",
      "Triquetrum  : 0.8958\n",
      "Pisiform    : 0.7912\n",
      "Radius      : 0.9791\n",
      "Ulna        : 0.9780\n",
      "Best performance at epoch: 26, 0.7998 -> 0.8029\n",
      "Save model in /opt/ml/input/code/trained_model/[DeepLabV3Plus_efficientnet-b4]_[size:(512, 512)]_[loss:[(BCEWithLogitsLoss(), 0.75), (DiceLoss(), 0.25)]]_[LR:0.0001]_[seed:21]_[epoch:50]\n",
      "2023-06-09 19:48:24 | Epoch [27/50], Step [0/80]\n",
      "2023-06-09 19:49:42 | Epoch [27/50], Step [25/80], Loss: 0.0252\n",
      "2023-06-09 19:50:57 | Epoch [27/50], Step [50/80], Loss: 0.0244\n",
      "2023-06-09 19:52:12 | Epoch [27/50], Step [75/80], Loss: 0.0242\n",
      "Start validation #27\n"
     ]
    },
    {
     "data": {
      "application/vnd.jupyter.widget-view+json": {
       "model_id": "72acf9b5f3a447f6a21578a1d8713d1d",
       "version_major": 2,
       "version_minor": 0
      },
      "text/plain": [
       "HBox(children=(HTML(value=''), FloatProgress(value=0.0, max=80.0), HTML(value='')))"
      ]
     },
     "metadata": {},
     "output_type": "display_data"
    },
    {
     "name": "stdout",
     "output_type": "stream",
     "text": [
      "\n",
      "finger-1    : 0.9333\n",
      "finger-2    : 0.9572\n",
      "finger-3    : 0.9613\n",
      "finger-4    : 0.0000\n",
      "finger-5    : 0.9513\n",
      "finger-6    : 0.9666\n",
      "finger-7    : 0.9599\n",
      "finger-8    : 0.0000\n",
      "finger-9    : 0.9569\n",
      "finger-10   : 0.9695\n",
      "finger-11   : 0.9582\n",
      "finger-12   : 0.0000\n",
      "finger-13   : 0.9526\n",
      "finger-14   : 0.9587\n",
      "finger-15   : 0.9519\n",
      "finger-16   : 0.0000\n",
      "finger-17   : 0.9065\n",
      "finger-18   : 0.9422\n",
      "finger-19   : 0.9556\n",
      "Trapezium   : 0.8868\n",
      "Trapezoid   : 0.8151\n",
      "Capitate    : 0.9008\n",
      "Hamate      : 0.8884\n",
      "Scaphoid    : 0.9092\n",
      "Lunate      : 0.8769\n",
      "Triquetrum  : 0.8961\n",
      "Pisiform    : 0.7905\n",
      "Radius      : 0.9796\n",
      "Ulna        : 0.9757\n",
      "2023-06-09 19:53:30 | Epoch [28/50], Step [0/80]\n",
      "2023-06-09 19:54:46 | Epoch [28/50], Step [25/80], Loss: 0.0243\n",
      "2023-06-09 19:56:02 | Epoch [28/50], Step [50/80], Loss: 0.0246\n",
      "2023-06-09 19:57:20 | Epoch [28/50], Step [75/80], Loss: 0.0239\n",
      "Start validation #28\n"
     ]
    },
    {
     "data": {
      "application/vnd.jupyter.widget-view+json": {
       "model_id": "179d79da82a84c72ad2a0f8e20971125",
       "version_major": 2,
       "version_minor": 0
      },
      "text/plain": [
       "HBox(children=(HTML(value=''), FloatProgress(value=0.0, max=80.0), HTML(value='')))"
      ]
     },
     "metadata": {},
     "output_type": "display_data"
    },
    {
     "name": "stdout",
     "output_type": "stream",
     "text": [
      "\n",
      "finger-1    : 0.9310\n",
      "finger-2    : 0.9458\n",
      "finger-3    : 0.9582\n",
      "finger-4    : 0.0000\n",
      "finger-5    : 0.9485\n",
      "finger-6    : 0.9600\n",
      "finger-7    : 0.9604\n",
      "finger-8    : 0.0000\n",
      "finger-9    : 0.9554\n",
      "finger-10   : 0.9694\n",
      "finger-11   : 0.9556\n",
      "finger-12   : 0.0000\n",
      "finger-13   : 0.9502\n",
      "finger-14   : 0.9630\n",
      "finger-15   : 0.9517\n",
      "finger-16   : 0.0000\n",
      "finger-17   : 0.9188\n",
      "finger-18   : 0.9473\n",
      "finger-19   : 0.9585\n",
      "Trapezium   : 0.8963\n",
      "Trapezoid   : 0.8377\n",
      "Capitate    : 0.9100\n",
      "Hamate      : 0.9039\n",
      "Scaphoid    : 0.9139\n",
      "Lunate      : 0.8945\n",
      "Triquetrum  : 0.8980\n",
      "Pisiform    : 0.8003\n",
      "Radius      : 0.9813\n",
      "Ulna        : 0.9729\n",
      "2023-06-09 19:58:39 | Epoch [29/50], Step [0/80]\n",
      "2023-06-09 19:59:56 | Epoch [29/50], Step [25/80], Loss: 0.0233\n",
      "2023-06-09 20:01:12 | Epoch [29/50], Step [50/80], Loss: 0.024\n",
      "2023-06-09 20:02:30 | Epoch [29/50], Step [75/80], Loss: 0.0226\n",
      "Start validation #29\n"
     ]
    },
    {
     "data": {
      "application/vnd.jupyter.widget-view+json": {
       "model_id": "9125e24561a1414daa3d41ee52f11344",
       "version_major": 2,
       "version_minor": 0
      },
      "text/plain": [
       "HBox(children=(HTML(value=''), FloatProgress(value=0.0, max=80.0), HTML(value='')))"
      ]
     },
     "metadata": {},
     "output_type": "display_data"
    },
    {
     "name": "stdout",
     "output_type": "stream",
     "text": [
      "\n",
      "finger-1    : 0.9323\n",
      "finger-2    : 0.9557\n",
      "finger-3    : 0.9647\n",
      "finger-4    : 0.0000\n",
      "finger-5    : 0.9527\n",
      "finger-6    : 0.9655\n",
      "finger-7    : 0.9617\n",
      "finger-8    : 0.5620\n",
      "finger-9    : 0.9558\n",
      "finger-10   : 0.9711\n",
      "finger-11   : 0.9581\n",
      "finger-12   : 0.0000\n",
      "finger-13   : 0.9514\n",
      "finger-14   : 0.9644\n",
      "finger-15   : 0.9513\n",
      "finger-16   : 0.0000\n",
      "finger-17   : 0.9225\n",
      "finger-18   : 0.9534\n",
      "finger-19   : 0.9573\n",
      "Trapezium   : 0.9021\n",
      "Trapezoid   : 0.8493\n",
      "Capitate    : 0.9143\n",
      "Hamate      : 0.9061\n",
      "Scaphoid    : 0.9207\n",
      "Lunate      : 0.9006\n",
      "Triquetrum  : 0.8981\n",
      "Pisiform    : 0.8107\n",
      "Radius      : 0.9816\n",
      "Ulna        : 0.9758\n",
      "Best performance at epoch: 29, 0.8029 -> 0.8255\n",
      "Save model in /opt/ml/input/code/trained_model/[DeepLabV3Plus_efficientnet-b4]_[size:(512, 512)]_[loss:[(BCEWithLogitsLoss(), 0.75), (DiceLoss(), 0.25)]]_[LR:0.0001]_[seed:21]_[epoch:50]\n",
      "2023-06-09 20:03:49 | Epoch [30/50], Step [0/80]\n",
      "2023-06-09 20:05:05 | Epoch [30/50], Step [25/80], Loss: 0.0218\n",
      "2023-06-09 20:06:23 | Epoch [30/50], Step [50/80], Loss: 0.0221\n",
      "2023-06-09 20:07:40 | Epoch [30/50], Step [75/80], Loss: 0.0215\n",
      "Start validation #30\n"
     ]
    },
    {
     "data": {
      "application/vnd.jupyter.widget-view+json": {
       "model_id": "bc7bef97819a4053b788ba23acff0156",
       "version_major": 2,
       "version_minor": 0
      },
      "text/plain": [
       "HBox(children=(HTML(value=''), FloatProgress(value=0.0, max=80.0), HTML(value='')))"
      ]
     },
     "metadata": {},
     "output_type": "display_data"
    },
    {
     "name": "stdout",
     "output_type": "stream",
     "text": [
      "\n",
      "finger-1    : 0.9292\n",
      "finger-2    : 0.9531\n",
      "finger-3    : 0.9601\n",
      "finger-4    : 0.0000\n",
      "finger-5    : 0.9535\n",
      "finger-6    : 0.9667\n",
      "finger-7    : 0.9614\n",
      "finger-8    : 0.9148\n",
      "finger-9    : 0.9579\n",
      "finger-10   : 0.9704\n",
      "finger-11   : 0.9586\n",
      "finger-12   : 0.0001\n",
      "finger-13   : 0.9522\n",
      "finger-14   : 0.9630\n",
      "finger-15   : 0.9560\n",
      "finger-16   : 0.0000\n",
      "finger-17   : 0.9130\n",
      "finger-18   : 0.9514\n",
      "finger-19   : 0.9605\n",
      "Trapezium   : 0.9002\n",
      "Trapezoid   : 0.8552\n",
      "Capitate    : 0.9089\n",
      "Hamate      : 0.9046\n",
      "Scaphoid    : 0.9115\n",
      "Lunate      : 0.8878\n",
      "Triquetrum  : 0.8943\n",
      "Pisiform    : 0.8109\n",
      "Radius      : 0.9810\n",
      "Ulna        : 0.9768\n",
      "Best performance at epoch: 30, 0.8255 -> 0.8363\n",
      "Save model in /opt/ml/input/code/trained_model/[DeepLabV3Plus_efficientnet-b4]_[size:(512, 512)]_[loss:[(BCEWithLogitsLoss(), 0.75), (DiceLoss(), 0.25)]]_[LR:0.0001]_[seed:21]_[epoch:50]\n",
      "2023-06-09 20:09:04 | Epoch [31/50], Step [0/80]\n",
      "2023-06-09 20:10:24 | Epoch [31/50], Step [25/80], Loss: 0.0205\n",
      "2023-06-09 20:11:40 | Epoch [31/50], Step [50/80], Loss: 0.02\n",
      "2023-06-09 20:12:56 | Epoch [31/50], Step [75/80], Loss: 0.0195\n",
      "Start validation #31\n"
     ]
    },
    {
     "data": {
      "application/vnd.jupyter.widget-view+json": {
       "model_id": "4c937deb64a5498d822943d8aebdc00d",
       "version_major": 2,
       "version_minor": 0
      },
      "text/plain": [
       "HBox(children=(HTML(value=''), FloatProgress(value=0.0, max=80.0), HTML(value='')))"
      ]
     },
     "metadata": {},
     "output_type": "display_data"
    },
    {
     "name": "stdout",
     "output_type": "stream",
     "text": [
      "\n",
      "finger-1    : 0.9260\n",
      "finger-2    : 0.9559\n",
      "finger-3    : 0.9615\n",
      "finger-4    : 0.8438\n",
      "finger-5    : 0.9441\n",
      "finger-6    : 0.9647\n",
      "finger-7    : 0.9642\n",
      "finger-8    : 0.9125\n",
      "finger-9    : 0.9470\n",
      "finger-10   : 0.9686\n",
      "finger-11   : 0.9599\n",
      "finger-12   : 0.8949\n",
      "finger-13   : 0.9455\n",
      "finger-14   : 0.9589\n",
      "finger-15   : 0.9486\n",
      "finger-16   : 0.0000\n",
      "finger-17   : 0.9137\n",
      "finger-18   : 0.9476\n",
      "finger-19   : 0.9530\n",
      "Trapezium   : 0.9022\n",
      "Trapezoid   : 0.8574\n",
      "Capitate    : 0.9121\n",
      "Hamate      : 0.8932\n",
      "Scaphoid    : 0.9224\n",
      "Lunate      : 0.8970\n",
      "Triquetrum  : 0.8979\n",
      "Pisiform    : 0.8140\n",
      "Radius      : 0.9810\n",
      "Ulna        : 0.9762\n",
      "Best performance at epoch: 31, 0.8363 -> 0.8953\n",
      "Save model in /opt/ml/input/code/trained_model/[DeepLabV3Plus_efficientnet-b4]_[size:(512, 512)]_[loss:[(BCEWithLogitsLoss(), 0.75), (DiceLoss(), 0.25)]]_[LR:0.0001]_[seed:21]_[epoch:50]\n",
      "2023-06-09 20:14:16 | Epoch [32/50], Step [0/80]\n",
      "2023-06-09 20:15:32 | Epoch [32/50], Step [25/80], Loss: 0.0184\n",
      "2023-06-09 20:16:48 | Epoch [32/50], Step [50/80], Loss: 0.0184\n",
      "2023-06-09 20:18:04 | Epoch [32/50], Step [75/80], Loss: 0.0186\n",
      "Start validation #32\n"
     ]
    },
    {
     "data": {
      "application/vnd.jupyter.widget-view+json": {
       "model_id": "52b2d4e513cf4e5481a8a804d1fc350a",
       "version_major": 2,
       "version_minor": 0
      },
      "text/plain": [
       "HBox(children=(HTML(value=''), FloatProgress(value=0.0, max=80.0), HTML(value='')))"
      ]
     },
     "metadata": {},
     "output_type": "display_data"
    },
    {
     "name": "stdout",
     "output_type": "stream",
     "text": [
      "\n",
      "finger-1    : 0.9291\n",
      "finger-2    : 0.9575\n",
      "finger-3    : 0.9656\n",
      "finger-4    : 0.9100\n",
      "finger-5    : 0.9438\n",
      "finger-6    : 0.9634\n",
      "finger-7    : 0.9638\n",
      "finger-8    : 0.9268\n",
      "finger-9    : 0.9448\n",
      "finger-10   : 0.9665\n",
      "finger-11   : 0.9581\n",
      "finger-12   : 0.9256\n",
      "finger-13   : 0.9418\n",
      "finger-14   : 0.9569\n",
      "finger-15   : 0.9522\n",
      "finger-16   : 0.0000\n",
      "finger-17   : 0.9095\n",
      "finger-18   : 0.9438\n",
      "finger-19   : 0.9560\n",
      "Trapezium   : 0.8984\n",
      "Trapezoid   : 0.8501\n",
      "Capitate    : 0.9225\n",
      "Hamate      : 0.9080\n",
      "Scaphoid    : 0.9164\n",
      "Lunate      : 0.9042\n",
      "Triquetrum  : 0.9051\n",
      "Pisiform    : 0.8158\n",
      "Radius      : 0.9820\n",
      "Ulna        : 0.9762\n",
      "Best performance at epoch: 32, 0.8953 -> 0.8998\n",
      "Save model in /opt/ml/input/code/trained_model/[DeepLabV3Plus_efficientnet-b4]_[size:(512, 512)]_[loss:[(BCEWithLogitsLoss(), 0.75), (DiceLoss(), 0.25)]]_[LR:0.0001]_[seed:21]_[epoch:50]\n",
      "2023-06-09 20:19:24 | Epoch [33/50], Step [0/80]\n",
      "2023-06-09 20:20:44 | Epoch [33/50], Step [25/80], Loss: 0.0176\n",
      "2023-06-09 20:22:01 | Epoch [33/50], Step [50/80], Loss: 0.0176\n",
      "2023-06-09 20:23:16 | Epoch [33/50], Step [75/80], Loss: 0.018\n",
      "Start validation #33\n"
     ]
    },
    {
     "data": {
      "application/vnd.jupyter.widget-view+json": {
       "model_id": "a155c1124c524373a3f8967364d916ae",
       "version_major": 2,
       "version_minor": 0
      },
      "text/plain": [
       "HBox(children=(HTML(value=''), FloatProgress(value=0.0, max=80.0), HTML(value='')))"
      ]
     },
     "metadata": {},
     "output_type": "display_data"
    },
    {
     "name": "stdout",
     "output_type": "stream",
     "text": [
      "\n",
      "finger-1    : 0.9369\n",
      "finger-2    : 0.9599\n",
      "finger-3    : 0.9639\n",
      "finger-4    : 0.9283\n",
      "finger-5    : 0.9498\n",
      "finger-6    : 0.9679\n",
      "finger-7    : 0.9645\n",
      "finger-8    : 0.9300\n",
      "finger-9    : 0.9507\n",
      "finger-10   : 0.9696\n",
      "finger-11   : 0.9594\n",
      "finger-12   : 0.9162\n",
      "finger-13   : 0.9408\n",
      "finger-14   : 0.9611\n",
      "finger-15   : 0.9522\n",
      "finger-16   : 0.0000\n",
      "finger-17   : 0.9077\n",
      "finger-18   : 0.9486\n",
      "finger-19   : 0.9563\n",
      "Trapezium   : 0.8918\n",
      "Trapezoid   : 0.8467\n",
      "Capitate    : 0.9162\n",
      "Hamate      : 0.8990\n",
      "Scaphoid    : 0.9089\n",
      "Lunate      : 0.8995\n",
      "Triquetrum  : 0.8943\n",
      "Pisiform    : 0.8114\n",
      "Radius      : 0.9816\n",
      "Ulna        : 0.9760\n",
      "2023-06-09 20:24:34 | Epoch [34/50], Step [0/80]\n",
      "2023-06-09 20:25:51 | Epoch [34/50], Step [25/80], Loss: 0.0171\n",
      "2023-06-09 20:27:11 | Epoch [34/50], Step [50/80], Loss: 0.0171\n",
      "2023-06-09 20:28:27 | Epoch [34/50], Step [75/80], Loss: 0.0173\n",
      "Start validation #34\n"
     ]
    },
    {
     "data": {
      "application/vnd.jupyter.widget-view+json": {
       "model_id": "6a039d1d47e14aee83f011f6ec330ca1",
       "version_major": 2,
       "version_minor": 0
      },
      "text/plain": [
       "HBox(children=(HTML(value=''), FloatProgress(value=0.0, max=80.0), HTML(value='')))"
      ]
     },
     "metadata": {},
     "output_type": "display_data"
    },
    {
     "name": "stdout",
     "output_type": "stream",
     "text": [
      "\n",
      "finger-1    : 0.9390\n",
      "finger-2    : 0.9602\n",
      "finger-3    : 0.9601\n",
      "finger-4    : 0.9288\n",
      "finger-5    : 0.9507\n",
      "finger-6    : 0.9701\n",
      "finger-7    : 0.9631\n",
      "finger-8    : 0.9330\n",
      "finger-9    : 0.9559\n",
      "finger-10   : 0.9714\n",
      "finger-11   : 0.9575\n",
      "finger-12   : 0.9158\n",
      "finger-13   : 0.9450\n",
      "finger-14   : 0.9638\n",
      "finger-15   : 0.9499\n",
      "finger-16   : 0.0000\n",
      "finger-17   : 0.9147\n",
      "finger-18   : 0.9496\n",
      "finger-19   : 0.9535\n",
      "Trapezium   : 0.8811\n",
      "Trapezoid   : 0.8465\n",
      "Capitate    : 0.9055\n",
      "Hamate      : 0.8921\n",
      "Scaphoid    : 0.9071\n",
      "Lunate      : 0.9002\n",
      "Triquetrum  : 0.8903\n",
      "Pisiform    : 0.8148\n",
      "Radius      : 0.9811\n",
      "Ulna        : 0.9759\n",
      "2023-06-09 20:29:44 | Epoch [35/50], Step [0/80]\n",
      "2023-06-09 20:31:00 | Epoch [35/50], Step [25/80], Loss: 0.0166\n",
      "2023-06-09 20:32:17 | Epoch [35/50], Step [50/80], Loss: 0.0165\n",
      "2023-06-09 20:33:35 | Epoch [35/50], Step [75/80], Loss: 0.0165\n",
      "Start validation #35\n"
     ]
    },
    {
     "data": {
      "application/vnd.jupyter.widget-view+json": {
       "model_id": "8aeff858be28491db7f2ef23e789bf86",
       "version_major": 2,
       "version_minor": 0
      },
      "text/plain": [
       "HBox(children=(HTML(value=''), FloatProgress(value=0.0, max=80.0), HTML(value='')))"
      ]
     },
     "metadata": {},
     "output_type": "display_data"
    },
    {
     "name": "stdout",
     "output_type": "stream",
     "text": [
      "\n",
      "finger-1    : 0.9383\n",
      "finger-2    : 0.9599\n",
      "finger-3    : 0.9509\n",
      "finger-4    : 0.9329\n",
      "finger-5    : 0.9537\n",
      "finger-6    : 0.9711\n",
      "finger-7    : 0.9609\n",
      "finger-8    : 0.9404\n",
      "finger-9    : 0.9596\n",
      "finger-10   : 0.9723\n",
      "finger-11   : 0.9542\n",
      "finger-12   : 0.9291\n",
      "finger-13   : 0.9544\n",
      "finger-14   : 0.9653\n",
      "finger-15   : 0.9526\n",
      "finger-16   : 0.0000\n",
      "finger-17   : 0.9238\n",
      "finger-18   : 0.9529\n",
      "finger-19   : 0.9582\n",
      "Trapezium   : 0.8701\n",
      "Trapezoid   : 0.8214\n",
      "Capitate    : 0.8956\n",
      "Hamate      : 0.9101\n",
      "Scaphoid    : 0.9092\n",
      "Lunate      : 0.9047\n",
      "Triquetrum  : 0.9019\n",
      "Pisiform    : 0.8258\n",
      "Radius      : 0.9829\n",
      "Ulna        : 0.9737\n",
      "Best performance at epoch: 35, 0.8998 -> 0.9009\n",
      "Save model in /opt/ml/input/code/trained_model/[DeepLabV3Plus_efficientnet-b4]_[size:(512, 512)]_[loss:[(BCEWithLogitsLoss(), 0.75), (DiceLoss(), 0.25)]]_[LR:0.0001]_[seed:21]_[epoch:50]\n",
      "2023-06-09 20:34:55 | Epoch [36/50], Step [0/80]\n",
      "2023-06-09 20:36:11 | Epoch [36/50], Step [25/80], Loss: 0.0162\n",
      "2023-06-09 20:37:27 | Epoch [36/50], Step [50/80], Loss: 0.0159\n",
      "2023-06-09 20:38:44 | Epoch [36/50], Step [75/80], Loss: 0.0163\n",
      "Start validation #36\n"
     ]
    },
    {
     "data": {
      "application/vnd.jupyter.widget-view+json": {
       "model_id": "425c8a65f9644f178a3e132a5c9fbfc4",
       "version_major": 2,
       "version_minor": 0
      },
      "text/plain": [
       "HBox(children=(HTML(value=''), FloatProgress(value=0.0, max=80.0), HTML(value='')))"
      ]
     },
     "metadata": {},
     "output_type": "display_data"
    },
    {
     "name": "stdout",
     "output_type": "stream",
     "text": [
      "\n",
      "finger-1    : 0.9315\n",
      "finger-2    : 0.9567\n",
      "finger-3    : 0.9568\n",
      "finger-4    : 0.9356\n",
      "finger-5    : 0.9556\n",
      "finger-6    : 0.9715\n",
      "finger-7    : 0.9658\n",
      "finger-8    : 0.9428\n",
      "finger-9    : 0.9615\n",
      "finger-10   : 0.9710\n",
      "finger-11   : 0.9580\n",
      "finger-12   : 0.9336\n",
      "finger-13   : 0.9571\n",
      "finger-14   : 0.9676\n",
      "finger-15   : 0.9515\n",
      "finger-16   : 0.0000\n",
      "finger-17   : 0.9256\n",
      "finger-18   : 0.9568\n",
      "finger-19   : 0.9578\n",
      "Trapezium   : 0.8952\n",
      "Trapezoid   : 0.8509\n",
      "Capitate    : 0.9024\n",
      "Hamate      : 0.8932\n",
      "Scaphoid    : 0.9137\n",
      "Lunate      : 0.8925\n",
      "Triquetrum  : 0.8880\n",
      "Pisiform    : 0.8229\n",
      "Radius      : 0.9827\n",
      "Ulna        : 0.9756\n",
      "Best performance at epoch: 36, 0.9009 -> 0.9025\n",
      "Save model in /opt/ml/input/code/trained_model/[DeepLabV3Plus_efficientnet-b4]_[size:(512, 512)]_[loss:[(BCEWithLogitsLoss(), 0.75), (DiceLoss(), 0.25)]]_[LR:0.0001]_[seed:21]_[epoch:50]\n",
      "2023-06-09 20:40:04 | Epoch [37/50], Step [0/80]\n",
      "2023-06-09 20:41:20 | Epoch [37/50], Step [25/80], Loss: 0.0158\n",
      "2023-06-09 20:42:37 | Epoch [37/50], Step [50/80], Loss: 0.0154\n",
      "2023-06-09 20:43:54 | Epoch [37/50], Step [75/80], Loss: 0.0156\n",
      "Start validation #37\n"
     ]
    },
    {
     "data": {
      "application/vnd.jupyter.widget-view+json": {
       "model_id": "fa9f9213462d4adda651227f7e348de9",
       "version_major": 2,
       "version_minor": 0
      },
      "text/plain": [
       "HBox(children=(HTML(value=''), FloatProgress(value=0.0, max=80.0), HTML(value='')))"
      ]
     },
     "metadata": {},
     "output_type": "display_data"
    },
    {
     "name": "stdout",
     "output_type": "stream",
     "text": [
      "\n",
      "finger-1    : 0.9346\n",
      "finger-2    : 0.9597\n",
      "finger-3    : 0.9653\n",
      "finger-4    : 0.9370\n",
      "finger-5    : 0.9560\n",
      "finger-6    : 0.9705\n",
      "finger-7    : 0.9628\n",
      "finger-8    : 0.9431\n",
      "finger-9    : 0.9605\n",
      "finger-10   : 0.9733\n",
      "finger-11   : 0.9585\n",
      "finger-12   : 0.9336\n",
      "finger-13   : 0.9561\n",
      "finger-14   : 0.9672\n",
      "finger-15   : 0.9517\n",
      "finger-16   : 0.5458\n",
      "finger-17   : 0.9179\n",
      "finger-18   : 0.9562\n",
      "finger-19   : 0.9593\n",
      "Trapezium   : 0.8973\n",
      "Trapezoid   : 0.8441\n",
      "Capitate    : 0.9155\n",
      "Hamate      : 0.8993\n",
      "Scaphoid    : 0.9156\n",
      "Lunate      : 0.8997\n",
      "Triquetrum  : 0.8919\n",
      "Pisiform    : 0.8310\n",
      "Radius      : 0.9800\n",
      "Ulna        : 0.9771\n",
      "Best performance at epoch: 37, 0.9025 -> 0.9228\n",
      "Save model in /opt/ml/input/code/trained_model/[DeepLabV3Plus_efficientnet-b4]_[size:(512, 512)]_[loss:[(BCEWithLogitsLoss(), 0.75), (DiceLoss(), 0.25)]]_[LR:0.0001]_[seed:21]_[epoch:50]\n",
      "2023-06-09 20:45:13 | Epoch [38/50], Step [0/80]\n",
      "2023-06-09 20:46:30 | Epoch [38/50], Step [25/80], Loss: 0.0155\n",
      "2023-06-09 20:47:49 | Epoch [38/50], Step [50/80], Loss: 0.0146\n",
      "2023-06-09 20:49:06 | Epoch [38/50], Step [75/80], Loss: 0.0143\n",
      "Start validation #38\n"
     ]
    },
    {
     "data": {
      "application/vnd.jupyter.widget-view+json": {
       "model_id": "5e5ca72b44454ed898cc21a1c444fef3",
       "version_major": 2,
       "version_minor": 0
      },
      "text/plain": [
       "HBox(children=(HTML(value=''), FloatProgress(value=0.0, max=80.0), HTML(value='')))"
      ]
     },
     "metadata": {},
     "output_type": "display_data"
    },
    {
     "name": "stdout",
     "output_type": "stream",
     "text": [
      "\n",
      "finger-1    : 0.9369\n",
      "finger-2    : 0.9591\n",
      "finger-3    : 0.9663\n",
      "finger-4    : 0.9373\n",
      "finger-5    : 0.9549\n",
      "finger-6    : 0.9693\n",
      "finger-7    : 0.9614\n",
      "finger-8    : 0.9419\n",
      "finger-9    : 0.9589\n",
      "finger-10   : 0.9717\n",
      "finger-11   : 0.9580\n",
      "finger-12   : 0.9355\n",
      "finger-13   : 0.9563\n",
      "finger-14   : 0.9635\n",
      "finger-15   : 0.9551\n",
      "finger-16   : 0.8691\n",
      "finger-17   : 0.9183\n",
      "finger-18   : 0.9559\n",
      "finger-19   : 0.9620\n",
      "Trapezium   : 0.8995\n",
      "Trapezoid   : 0.8481\n",
      "Capitate    : 0.9158\n",
      "Hamate      : 0.9059\n",
      "Scaphoid    : 0.9087\n",
      "Lunate      : 0.8886\n",
      "Triquetrum  : 0.8984\n",
      "Pisiform    : 0.8386\n",
      "Radius      : 0.9810\n",
      "Ulna        : 0.9763\n",
      "Best performance at epoch: 38, 0.9228 -> 0.9342\n",
      "Save model in /opt/ml/input/code/trained_model/[DeepLabV3Plus_efficientnet-b4]_[size:(512, 512)]_[loss:[(BCEWithLogitsLoss(), 0.75), (DiceLoss(), 0.25)]]_[LR:0.0001]_[seed:21]_[epoch:50]\n",
      "2023-06-09 20:50:28 | Epoch [39/50], Step [0/80]\n",
      "2023-06-09 20:51:44 | Epoch [39/50], Step [25/80], Loss: 0.0144\n",
      "2023-06-09 20:53:00 | Epoch [39/50], Step [50/80], Loss: 0.0143\n",
      "2023-06-09 20:54:20 | Epoch [39/50], Step [75/80], Loss: 0.0138\n",
      "Start validation #39\n"
     ]
    },
    {
     "data": {
      "application/vnd.jupyter.widget-view+json": {
       "model_id": "64d3ed109f2f47af9fea1f1e7b9956b3",
       "version_major": 2,
       "version_minor": 0
      },
      "text/plain": [
       "HBox(children=(HTML(value=''), FloatProgress(value=0.0, max=80.0), HTML(value='')))"
      ]
     },
     "metadata": {},
     "output_type": "display_data"
    },
    {
     "name": "stdout",
     "output_type": "stream",
     "text": [
      "\n",
      "finger-1    : 0.9376\n",
      "finger-2    : 0.9602\n",
      "finger-3    : 0.9668\n",
      "finger-4    : 0.9374\n",
      "finger-5    : 0.9535\n",
      "finger-6    : 0.9706\n",
      "finger-7    : 0.9661\n",
      "finger-8    : 0.9425\n",
      "finger-9    : 0.9604\n",
      "finger-10   : 0.9728\n",
      "finger-11   : 0.9620\n",
      "finger-12   : 0.9367\n",
      "finger-13   : 0.9570\n",
      "finger-14   : 0.9653\n",
      "finger-15   : 0.9576\n",
      "finger-16   : 0.8912\n",
      "finger-17   : 0.9182\n",
      "finger-18   : 0.9556\n",
      "finger-19   : 0.9622\n",
      "Trapezium   : 0.9087\n",
      "Trapezoid   : 0.8601\n",
      "Capitate    : 0.9256\n",
      "Hamate      : 0.9121\n",
      "Scaphoid    : 0.9229\n",
      "Lunate      : 0.9028\n",
      "Triquetrum  : 0.9030\n",
      "Pisiform    : 0.8400\n",
      "Radius      : 0.9827\n",
      "Ulna        : 0.9763\n",
      "Best performance at epoch: 39, 0.9342 -> 0.9382\n",
      "Save model in /opt/ml/input/code/trained_model/[DeepLabV3Plus_efficientnet-b4]_[size:(512, 512)]_[loss:[(BCEWithLogitsLoss(), 0.75), (DiceLoss(), 0.25)]]_[LR:0.0001]_[seed:21]_[epoch:50]\n",
      "2023-06-09 20:55:38 | Epoch [40/50], Step [0/80]\n",
      "2023-06-09 20:56:56 | Epoch [40/50], Step [25/80], Loss: 0.0139\n",
      "2023-06-09 20:58:14 | Epoch [40/50], Step [50/80], Loss: 0.0137\n",
      "2023-06-09 20:59:34 | Epoch [40/50], Step [75/80], Loss: 0.0134\n",
      "Start validation #40\n"
     ]
    },
    {
     "data": {
      "application/vnd.jupyter.widget-view+json": {
       "model_id": "5c2119075ad64cfc93f50f587b4a58f8",
       "version_major": 2,
       "version_minor": 0
      },
      "text/plain": [
       "HBox(children=(HTML(value=''), FloatProgress(value=0.0, max=80.0), HTML(value='')))"
      ]
     },
     "metadata": {},
     "output_type": "display_data"
    },
    {
     "name": "stdout",
     "output_type": "stream",
     "text": [
      "\n",
      "finger-1    : 0.9367\n",
      "finger-2    : 0.9593\n",
      "finger-3    : 0.9642\n",
      "finger-4    : 0.9386\n",
      "finger-5    : 0.9530\n",
      "finger-6    : 0.9698\n",
      "finger-7    : 0.9674\n",
      "finger-8    : 0.9416\n",
      "finger-9    : 0.9597\n",
      "finger-10   : 0.9739\n",
      "finger-11   : 0.9616\n",
      "finger-12   : 0.9372\n",
      "finger-13   : 0.9562\n",
      "finger-14   : 0.9673\n",
      "finger-15   : 0.9563\n",
      "finger-16   : 0.8921\n",
      "finger-17   : 0.9161\n",
      "finger-18   : 0.9560\n",
      "finger-19   : 0.9611\n",
      "Trapezium   : 0.9083\n",
      "Trapezoid   : 0.8623\n",
      "Capitate    : 0.9254\n",
      "Hamate      : 0.9089\n",
      "Scaphoid    : 0.9243\n",
      "Lunate      : 0.9017\n",
      "Triquetrum  : 0.8936\n",
      "Pisiform    : 0.8363\n",
      "Radius      : 0.9807\n",
      "Ulna        : 0.9788\n",
      "2023-06-09 21:00:56 | Epoch [41/50], Step [0/80]\n",
      "2023-06-09 21:02:13 | Epoch [41/50], Step [25/80], Loss: 0.0134\n",
      "2023-06-09 21:03:37 | Epoch [41/50], Step [50/80], Loss: 0.014\n",
      "2023-06-09 21:04:53 | Epoch [41/50], Step [75/80], Loss: 0.0138\n",
      "Start validation #41\n"
     ]
    },
    {
     "data": {
      "application/vnd.jupyter.widget-view+json": {
       "model_id": "aed009aba7984079823bfa6940d964b9",
       "version_major": 2,
       "version_minor": 0
      },
      "text/plain": [
       "HBox(children=(HTML(value=''), FloatProgress(value=0.0, max=80.0), HTML(value='')))"
      ]
     },
     "metadata": {},
     "output_type": "display_data"
    },
    {
     "name": "stdout",
     "output_type": "stream",
     "text": [
      "\n",
      "finger-1    : 0.9359\n",
      "finger-2    : 0.9510\n",
      "finger-3    : 0.9604\n",
      "finger-4    : 0.9394\n",
      "finger-5    : 0.9545\n",
      "finger-6    : 0.9670\n",
      "finger-7    : 0.9639\n",
      "finger-8    : 0.9432\n",
      "finger-9    : 0.9600\n",
      "finger-10   : 0.9732\n",
      "finger-11   : 0.9572\n",
      "finger-12   : 0.9369\n",
      "finger-13   : 0.9576\n",
      "finger-14   : 0.9656\n",
      "finger-15   : 0.9486\n",
      "finger-16   : 0.8999\n",
      "finger-17   : 0.9195\n",
      "finger-18   : 0.9569\n",
      "finger-19   : 0.9567\n",
      "Trapezium   : 0.8980\n",
      "Trapezoid   : 0.8484\n",
      "Capitate    : 0.9137\n",
      "Hamate      : 0.9038\n",
      "Scaphoid    : 0.9108\n",
      "Lunate      : 0.8978\n",
      "Triquetrum  : 0.8920\n",
      "Pisiform    : 0.8343\n",
      "Radius      : 0.9816\n",
      "Ulna        : 0.9780\n",
      "2023-06-09 21:06:13 | Epoch [42/50], Step [0/80]\n",
      "2023-06-09 21:07:31 | Epoch [42/50], Step [25/80], Loss: 0.0132\n",
      "2023-06-09 21:08:47 | Epoch [42/50], Step [50/80], Loss: 0.0137\n",
      "2023-06-09 21:10:04 | Epoch [42/50], Step [75/80], Loss: 0.0135\n",
      "Start validation #42\n"
     ]
    },
    {
     "data": {
      "application/vnd.jupyter.widget-view+json": {
       "model_id": "6cd62bdbe4ec41248698bfd4cd87221b",
       "version_major": 2,
       "version_minor": 0
      },
      "text/plain": [
       "HBox(children=(HTML(value=''), FloatProgress(value=0.0, max=80.0), HTML(value='')))"
      ]
     },
     "metadata": {},
     "output_type": "display_data"
    },
    {
     "name": "stdout",
     "output_type": "stream",
     "text": [
      "\n",
      "finger-1    : 0.9332\n",
      "finger-2    : 0.9466\n",
      "finger-3    : 0.9597\n",
      "finger-4    : 0.9397\n",
      "finger-5    : 0.9555\n",
      "finger-6    : 0.9642\n",
      "finger-7    : 0.9636\n",
      "finger-8    : 0.9433\n",
      "finger-9    : 0.9602\n",
      "finger-10   : 0.9703\n",
      "finger-11   : 0.9576\n",
      "finger-12   : 0.9359\n",
      "finger-13   : 0.9522\n",
      "finger-14   : 0.9579\n",
      "finger-15   : 0.9512\n",
      "finger-16   : 0.9015\n",
      "finger-17   : 0.9220\n",
      "finger-18   : 0.9535\n",
      "finger-19   : 0.9598\n",
      "Trapezium   : 0.8903\n",
      "Trapezoid   : 0.8482\n",
      "Capitate    : 0.9113\n",
      "Hamate      : 0.9089\n",
      "Scaphoid    : 0.9098\n",
      "Lunate      : 0.8992\n",
      "Triquetrum  : 0.9051\n",
      "Pisiform    : 0.8463\n",
      "Radius      : 0.9813\n",
      "Ulna        : 0.9753\n",
      "2023-06-09 21:11:24 | Epoch [43/50], Step [0/80]\n",
      "2023-06-09 21:12:46 | Epoch [43/50], Step [25/80], Loss: 0.013\n",
      "2023-06-09 21:14:04 | Epoch [43/50], Step [50/80], Loss: 0.0129\n",
      "2023-06-09 21:15:21 | Epoch [43/50], Step [75/80], Loss: 0.0135\n",
      "Start validation #43\n"
     ]
    },
    {
     "data": {
      "application/vnd.jupyter.widget-view+json": {
       "model_id": "c3dc7a6d2eb6479d90e37378c0a12869",
       "version_major": 2,
       "version_minor": 0
      },
      "text/plain": [
       "HBox(children=(HTML(value=''), FloatProgress(value=0.0, max=80.0), HTML(value='')))"
      ]
     },
     "metadata": {},
     "output_type": "display_data"
    },
    {
     "name": "stdout",
     "output_type": "stream",
     "text": [
      "\n",
      "finger-1    : 0.9374\n",
      "finger-2    : 0.9597\n",
      "finger-3    : 0.9655\n",
      "finger-4    : 0.9357\n",
      "finger-5    : 0.9474\n",
      "finger-6    : 0.9657\n",
      "finger-7    : 0.9621\n",
      "finger-8    : 0.9387\n",
      "finger-9    : 0.9538\n",
      "finger-10   : 0.9709\n",
      "finger-11   : 0.9564\n",
      "finger-12   : 0.9262\n",
      "finger-13   : 0.9448\n",
      "finger-14   : 0.9575\n",
      "finger-15   : 0.9512\n",
      "finger-16   : 0.9000\n",
      "finger-17   : 0.9169\n",
      "finger-18   : 0.9537\n",
      "finger-19   : 0.9608\n",
      "Trapezium   : 0.8924\n",
      "Trapezoid   : 0.8374\n",
      "Capitate    : 0.9136\n",
      "Hamate      : 0.9066\n",
      "Scaphoid    : 0.9103\n",
      "Lunate      : 0.9068\n",
      "Triquetrum  : 0.9038\n",
      "Pisiform    : 0.8428\n",
      "Radius      : 0.9830\n",
      "Ulna        : 0.9760\n",
      "2023-06-09 21:16:41 | Epoch [44/50], Step [0/80]\n",
      "2023-06-09 21:17:59 | Epoch [44/50], Step [25/80], Loss: 0.0126\n",
      "2023-06-09 21:19:17 | Epoch [44/50], Step [50/80], Loss: 0.013\n",
      "2023-06-09 21:20:35 | Epoch [44/50], Step [75/80], Loss: 0.0132\n",
      "Start validation #44\n"
     ]
    },
    {
     "data": {
      "application/vnd.jupyter.widget-view+json": {
       "model_id": "5f8807b3a6a74dccb592fc1b94900bdf",
       "version_major": 2,
       "version_minor": 0
      },
      "text/plain": [
       "HBox(children=(HTML(value=''), FloatProgress(value=0.0, max=80.0), HTML(value='')))"
      ]
     },
     "metadata": {},
     "output_type": "display_data"
    },
    {
     "name": "stdout",
     "output_type": "stream",
     "text": [
      "\n",
      "finger-1    : 0.9412\n",
      "finger-2    : 0.9602\n",
      "finger-3    : 0.9655\n",
      "finger-4    : 0.9416\n",
      "finger-5    : 0.9542\n",
      "finger-6    : 0.9711\n",
      "finger-7    : 0.9659\n",
      "finger-8    : 0.9453\n",
      "finger-9    : 0.9605\n",
      "finger-10   : 0.9747\n",
      "finger-11   : 0.9595\n",
      "finger-12   : 0.9364\n",
      "finger-13   : 0.9578\n",
      "finger-14   : 0.9661\n",
      "finger-15   : 0.9539\n",
      "finger-16   : 0.9070\n",
      "finger-17   : 0.9290\n",
      "finger-18   : 0.9604\n",
      "finger-19   : 0.9636\n",
      "Trapezium   : 0.9091\n",
      "Trapezoid   : 0.8629\n",
      "Capitate    : 0.9182\n",
      "Hamate      : 0.9042\n",
      "Scaphoid    : 0.9230\n",
      "Lunate      : 0.9014\n",
      "Triquetrum  : 0.9047\n",
      "Pisiform    : 0.8442\n",
      "Radius      : 0.9817\n",
      "Ulna        : 0.9797\n",
      "Best performance at epoch: 44, 0.9382 -> 0.9394\n",
      "Save model in /opt/ml/input/code/trained_model/[DeepLabV3Plus_efficientnet-b4]_[size:(512, 512)]_[loss:[(BCEWithLogitsLoss(), 0.75), (DiceLoss(), 0.25)]]_[LR:0.0001]_[seed:21]_[epoch:50]\n",
      "2023-06-09 21:21:55 | Epoch [45/50], Step [0/80]\n",
      "2023-06-09 21:23:12 | Epoch [45/50], Step [25/80], Loss: 0.0126\n",
      "2023-06-09 21:24:29 | Epoch [45/50], Step [50/80], Loss: 0.013\n",
      "2023-06-09 21:25:44 | Epoch [45/50], Step [75/80], Loss: 0.0124\n",
      "Start validation #45\n"
     ]
    },
    {
     "data": {
      "application/vnd.jupyter.widget-view+json": {
       "model_id": "db0495c72bcb4e21941e942af196083e",
       "version_major": 2,
       "version_minor": 0
      },
      "text/plain": [
       "HBox(children=(HTML(value=''), FloatProgress(value=0.0, max=80.0), HTML(value='')))"
      ]
     },
     "metadata": {},
     "output_type": "display_data"
    },
    {
     "name": "stdout",
     "output_type": "stream",
     "text": [
      "\n",
      "finger-1    : 0.9416\n",
      "finger-2    : 0.9598\n",
      "finger-3    : 0.9582\n",
      "finger-4    : 0.9415\n",
      "finger-5    : 0.9552\n",
      "finger-6    : 0.9712\n",
      "finger-7    : 0.9674\n",
      "finger-8    : 0.9429\n",
      "finger-9    : 0.9585\n",
      "finger-10   : 0.9736\n",
      "finger-11   : 0.9607\n",
      "finger-12   : 0.9352\n",
      "finger-13   : 0.9517\n",
      "finger-14   : 0.9653\n",
      "finger-15   : 0.9540\n",
      "finger-16   : 0.9118\n",
      "finger-17   : 0.9287\n",
      "finger-18   : 0.9599\n",
      "finger-19   : 0.9646\n",
      "Trapezium   : 0.9040\n",
      "Trapezoid   : 0.8617\n",
      "Capitate    : 0.9196\n",
      "Hamate      : 0.9108\n",
      "Scaphoid    : 0.9170\n",
      "Lunate      : 0.9061\n",
      "Triquetrum  : 0.9117\n",
      "Pisiform    : 0.8486\n",
      "Radius      : 0.9806\n",
      "Ulna        : 0.9793\n",
      "2023-06-09 21:27:03 | Epoch [46/50], Step [0/80]\n",
      "2023-06-09 21:28:19 | Epoch [46/50], Step [25/80], Loss: 0.0122\n",
      "2023-06-09 21:29:35 | Epoch [46/50], Step [50/80], Loss: 0.0122\n",
      "2023-06-09 21:30:51 | Epoch [46/50], Step [75/80], Loss: 0.0124\n",
      "Start validation #46\n"
     ]
    },
    {
     "data": {
      "application/vnd.jupyter.widget-view+json": {
       "model_id": "3c95b5abfe0d4a81a91da5d34d261f69",
       "version_major": 2,
       "version_minor": 0
      },
      "text/plain": [
       "HBox(children=(HTML(value=''), FloatProgress(value=0.0, max=80.0), HTML(value='')))"
      ]
     },
     "metadata": {},
     "output_type": "display_data"
    },
    {
     "name": "stdout",
     "output_type": "stream",
     "text": [
      "\n",
      "finger-1    : 0.9403\n",
      "finger-2    : 0.9629\n",
      "finger-3    : 0.9586\n",
      "finger-4    : 0.9307\n",
      "finger-5    : 0.9455\n",
      "finger-6    : 0.9698\n",
      "finger-7    : 0.9673\n",
      "finger-8    : 0.9366\n",
      "finger-9    : 0.9583\n",
      "finger-10   : 0.9741\n",
      "finger-11   : 0.9621\n",
      "finger-12   : 0.9265\n",
      "finger-13   : 0.9468\n",
      "finger-14   : 0.9653\n",
      "finger-15   : 0.9574\n",
      "finger-16   : 0.9075\n",
      "finger-17   : 0.9250\n",
      "finger-18   : 0.9589\n",
      "finger-19   : 0.9640\n",
      "Trapezium   : 0.8950\n",
      "Trapezoid   : 0.8533\n",
      "Capitate    : 0.9272\n",
      "Hamate      : 0.9151\n",
      "Scaphoid    : 0.9094\n",
      "Lunate      : 0.9065\n",
      "Triquetrum  : 0.9070\n",
      "Pisiform    : 0.8522\n",
      "Radius      : 0.9820\n",
      "Ulna        : 0.9774\n",
      "2023-06-09 21:32:10 | Epoch [47/50], Step [0/80]\n",
      "2023-06-09 21:33:27 | Epoch [47/50], Step [25/80], Loss: 0.0119\n",
      "2023-06-09 21:34:44 | Epoch [47/50], Step [50/80], Loss: 0.012\n",
      "2023-06-09 21:36:01 | Epoch [47/50], Step [75/80], Loss: 0.012\n",
      "Start validation #47\n"
     ]
    },
    {
     "data": {
      "application/vnd.jupyter.widget-view+json": {
       "model_id": "c745882cafa344cd923c4abf17d1e352",
       "version_major": 2,
       "version_minor": 0
      },
      "text/plain": [
       "HBox(children=(HTML(value=''), FloatProgress(value=0.0, max=80.0), HTML(value='')))"
      ]
     },
     "metadata": {},
     "output_type": "display_data"
    },
    {
     "name": "stdout",
     "output_type": "stream",
     "text": [
      "\n",
      "finger-1    : 0.9344\n",
      "finger-2    : 0.9603\n",
      "finger-3    : 0.9595\n",
      "finger-4    : 0.9270\n",
      "finger-5    : 0.9513\n",
      "finger-6    : 0.9718\n",
      "finger-7    : 0.9644\n",
      "finger-8    : 0.9434\n",
      "finger-9    : 0.9614\n",
      "finger-10   : 0.9727\n",
      "finger-11   : 0.9585\n",
      "finger-12   : 0.9313\n",
      "finger-13   : 0.9569\n",
      "finger-14   : 0.9656\n",
      "finger-15   : 0.9577\n",
      "finger-16   : 0.9113\n",
      "finger-17   : 0.9247\n",
      "finger-18   : 0.9530\n",
      "finger-19   : 0.9632\n",
      "Trapezium   : 0.8962\n",
      "Trapezoid   : 0.8526\n",
      "Capitate    : 0.9209\n",
      "Hamate      : 0.9109\n",
      "Scaphoid    : 0.9175\n",
      "Lunate      : 0.9001\n",
      "Triquetrum  : 0.9109\n",
      "Pisiform    : 0.8513\n",
      "Radius      : 0.9815\n",
      "Ulna        : 0.9766\n",
      "2023-06-09 21:37:20 | Epoch [48/50], Step [0/80]\n",
      "2023-06-09 21:38:39 | Epoch [48/50], Step [25/80], Loss: 0.0115\n",
      "2023-06-09 21:39:56 | Epoch [48/50], Step [50/80], Loss: 0.0119\n",
      "2023-06-09 21:41:14 | Epoch [48/50], Step [75/80], Loss: 0.0121\n",
      "Start validation #48\n"
     ]
    },
    {
     "data": {
      "application/vnd.jupyter.widget-view+json": {
       "model_id": "644bf50e8d2b4393b80a9f445a53acea",
       "version_major": 2,
       "version_minor": 0
      },
      "text/plain": [
       "HBox(children=(HTML(value=''), FloatProgress(value=0.0, max=80.0), HTML(value='')))"
      ]
     },
     "metadata": {},
     "output_type": "display_data"
    },
    {
     "name": "stdout",
     "output_type": "stream",
     "text": [
      "\n",
      "finger-1    : 0.9333\n",
      "finger-2    : 0.9617\n",
      "finger-3    : 0.9661\n",
      "finger-4    : 0.9356\n",
      "finger-5    : 0.9506\n",
      "finger-6    : 0.9679\n",
      "finger-7    : 0.9666\n",
      "finger-8    : 0.9457\n",
      "finger-9    : 0.9549\n",
      "finger-10   : 0.9694\n",
      "finger-11   : 0.9595\n",
      "finger-12   : 0.9379\n",
      "finger-13   : 0.9504\n",
      "finger-14   : 0.9627\n",
      "finger-15   : 0.9553\n",
      "finger-16   : 0.9105\n",
      "finger-17   : 0.9228\n",
      "finger-18   : 0.9517\n",
      "finger-19   : 0.9615\n",
      "Trapezium   : 0.9110\n",
      "Trapezoid   : 0.8618\n",
      "Capitate    : 0.9204\n",
      "Hamate      : 0.9161\n",
      "Scaphoid    : 0.9264\n",
      "Lunate      : 0.8946\n",
      "Triquetrum  : 0.9142\n",
      "Pisiform    : 0.8504\n",
      "Radius      : 0.9821\n",
      "Ulna        : 0.9777\n",
      "2023-06-09 21:42:33 | Epoch [49/50], Step [0/80]\n",
      "2023-06-09 21:43:50 | Epoch [49/50], Step [25/80], Loss: 0.0115\n",
      "2023-06-09 21:45:06 | Epoch [49/50], Step [50/80], Loss: 0.0117\n",
      "2023-06-09 21:46:21 | Epoch [49/50], Step [75/80], Loss: 0.0118\n",
      "Start validation #49\n"
     ]
    },
    {
     "data": {
      "application/vnd.jupyter.widget-view+json": {
       "model_id": "4c646a8c24a142c9ba3d7dd6c2c08e2b",
       "version_major": 2,
       "version_minor": 0
      },
      "text/plain": [
       "HBox(children=(HTML(value=''), FloatProgress(value=0.0, max=80.0), HTML(value='')))"
      ]
     },
     "metadata": {},
     "output_type": "display_data"
    },
    {
     "name": "stdout",
     "output_type": "stream",
     "text": [
      "\n",
      "finger-1    : 0.9383\n",
      "finger-2    : 0.9593\n",
      "finger-3    : 0.9685\n",
      "finger-4    : 0.9401\n",
      "finger-5    : 0.9431\n",
      "finger-6    : 0.9636\n",
      "finger-7    : 0.9666\n",
      "finger-8    : 0.9435\n",
      "finger-9    : 0.9547\n",
      "finger-10   : 0.9678\n",
      "finger-11   : 0.9606\n",
      "finger-12   : 0.9370\n",
      "finger-13   : 0.9497\n",
      "finger-14   : 0.9628\n",
      "finger-15   : 0.9535\n",
      "finger-16   : 0.9094\n",
      "finger-17   : 0.9286\n",
      "finger-18   : 0.9557\n",
      "finger-19   : 0.9557\n",
      "Trapezium   : 0.9088\n",
      "Trapezoid   : 0.8583\n",
      "Capitate    : 0.9096\n",
      "Hamate      : 0.8941\n",
      "Scaphoid    : 0.9275\n",
      "Lunate      : 0.9027\n",
      "Triquetrum  : 0.9078\n",
      "Pisiform    : 0.8471\n",
      "Radius      : 0.9826\n",
      "Ulna        : 0.9785\n",
      "2023-06-09 21:47:41 | Epoch [50/50], Step [0/80]\n",
      "2023-06-09 21:49:00 | Epoch [50/50], Step [25/80], Loss: 0.0114\n",
      "2023-06-09 21:50:15 | Epoch [50/50], Step [50/80], Loss: 0.0113\n",
      "2023-06-09 21:51:31 | Epoch [50/50], Step [75/80], Loss: 0.0118\n",
      "Start validation #50\n"
     ]
    },
    {
     "data": {
      "application/vnd.jupyter.widget-view+json": {
       "model_id": "75f4c8ea08eb4307b8705c41eec8026f",
       "version_major": 2,
       "version_minor": 0
      },
      "text/plain": [
       "HBox(children=(HTML(value=''), FloatProgress(value=0.0, max=80.0), HTML(value='')))"
      ]
     },
     "metadata": {},
     "output_type": "display_data"
    },
    {
     "name": "stdout",
     "output_type": "stream",
     "text": [
      "\n",
      "finger-1    : 0.9423\n",
      "finger-2    : 0.9588\n",
      "finger-3    : 0.9645\n",
      "finger-4    : 0.9437\n",
      "finger-5    : 0.9567\n",
      "finger-6    : 0.9728\n",
      "finger-7    : 0.9631\n",
      "finger-8    : 0.9445\n",
      "finger-9    : 0.9600\n",
      "finger-10   : 0.9728\n",
      "finger-11   : 0.9575\n",
      "finger-12   : 0.9382\n",
      "finger-13   : 0.9556\n",
      "finger-14   : 0.9670\n",
      "finger-15   : 0.9531\n",
      "finger-16   : 0.9108\n",
      "finger-17   : 0.9298\n",
      "finger-18   : 0.9599\n",
      "finger-19   : 0.9597\n",
      "Trapezium   : 0.8998\n",
      "Trapezoid   : 0.8497\n",
      "Capitate    : 0.9070\n",
      "Hamate      : 0.8910\n",
      "Scaphoid    : 0.9194\n",
      "Lunate      : 0.8978\n",
      "Triquetrum  : 0.9068\n",
      "Pisiform    : 0.8512\n",
      "Radius      : 0.9802\n",
      "Ulna        : 0.9784\n"
     ]
    }
   ],
   "source": [
    "from train import train\n",
    "\n",
    "set_seed(RANDOM_SEED)\n",
    "\n",
    "folder_name = train(model, train_loader, valid_loader, criterion, optimizer, epoch, VAL_EVERY, folder_name)"
   ]
  },
  {
   "cell_type": "code",
   "execution_count": 10,
   "id": "f2ae3415-43a2-4fb5-b566-2bab70e3cf42",
   "metadata": {},
   "outputs": [
    {
     "data": {
      "application/vnd.jupyter.widget-view+json": {
       "model_id": "e099491ba7524575a43ec2ef8e2c0c32",
       "version_major": 2,
       "version_minor": 0
      },
      "text/plain": [
       "HBox(children=(HTML(value=''), FloatProgress(value=0.0, max=150.0), HTML(value='')))"
      ]
     },
     "metadata": {},
     "output_type": "display_data"
    },
    {
     "name": "stdout",
     "output_type": "stream",
     "text": [
      "\n"
     ]
    }
   ],
   "source": [
    "from inference import inference\n",
    "\n",
    "inference(folder_name, A.Resize(resize, resize))"
   ]
  },
  {
   "cell_type": "code",
   "execution_count": 11,
   "id": "4498a594-b451-419f-9e57-b8012caa6e9a",
   "metadata": {},
   "outputs": [],
   "source": [
    "set_seed(RANDOM_SEED)\n",
    "\n",
    "model = smp.DeepLabV3Plus(\n",
    "    encoder_name=\"timm-efficientnet-b4\",        # choose encoder, e.g. mobilenet_v2 or efficientnet-b7\n",
    "    encoder_weights=\"imagenet\",     # use `imagenet` pre-trained weights for encoder initialization\n",
    "    in_channels=3,                  # model input channels (1 for gray-scale images, 3 for RGB, etc.)\n",
    "    classes=29,                      # model output channels (number of classes in your dataset)\n",
    ")\n",
    "model.name = 'DeepLabV3Plus_efficientnet-b4'\n",
    "\n",
    "optimizer = optim.Adam(params=model.parameters(), lr=LR, weight_decay=1e-6)\n",
    "\n",
    "criterion = [(nn.BCEWithLogitsLoss(), 0.5), (nn.SmoothL1Loss(), 0.5)]"
   ]
  },
  {
   "cell_type": "code",
   "execution_count": 12,
   "id": "dd6ec680-76f3-4480-b2ab-9be0f5f6ce1a",
   "metadata": {},
   "outputs": [],
   "source": [
    "#모델 저장 경로 설정\n",
    "try:\n",
    "    folder_name = \"[{}]_[size:{}]_[loss:{}]_[LR:{}]_[seed:{}]_[epoch:{}]\".format(model.name, (resize, resize), criterion, LR, RANDOM_SEED, epoch)\n",
    "except:\n",
    "    folder_name = \"[{}]_[size:{}]_[loss:{}]_[LR:{}]_[seed:{}]_[epoch:{}]\".format(\"model\", (resize, resize), criterion, LR, RANDOM_SEED, epoch)"
   ]
  },
  {
   "cell_type": "code",
   "execution_count": 13,
   "id": "24a0470e-f82c-4363-91b7-fdccf2498be4",
   "metadata": {
    "scrolled": true
   },
   "outputs": [
    {
     "name": "stdout",
     "output_type": "stream",
     "text": [
      "Start training..\n",
      "result model will be saved in /opt/ml/input/code/trained_model/[DeepLabV3Plus_efficientnet-b4]_[size:(512, 512)]_[loss:[(BCEWithLogitsLoss(), 0.5), (SmoothL1Loss(), 0.5)]]_[LR:0.0001]_[seed:21]_[epoch:50]\n"
     ]
    },
    {
     "data": {
      "text/html": [
       "Finishing last run (ID:rouz2h30) before initializing another..."
      ],
      "text/plain": [
       "<IPython.core.display.HTML object>"
      ]
     },
     "metadata": {},
     "output_type": "display_data"
    },
    {
     "data": {
      "text/html": [
       "Waiting for W&B process to finish... <strong style=\"color:green\">(success).</strong>"
      ],
      "text/plain": [
       "<IPython.core.display.HTML object>"
      ]
     },
     "metadata": {},
     "output_type": "display_data"
    },
    {
     "data": {
      "application/vnd.jupyter.widget-view+json": {
       "model_id": "50ebea6264d94a7784f3fe0caaaeaf7c",
       "version_major": 2,
       "version_minor": 0
      },
      "text/plain": [
       "VBox(children=(Label(value='0.002 MB of 0.002 MB uploaded (0.000 MB deduped)\\r'), FloatProgress(value=1.0, max…"
      ]
     },
     "metadata": {},
     "output_type": "display_data"
    },
    {
     "data": {
      "text/html": [
       "<style>\n",
       "    table.wandb td:nth-child(1) { padding: 0 10px; text-align: left ; width: auto;} td:nth-child(2) {text-align: left ; width: 100%}\n",
       "    .wandb-row { display: flex; flex-direction: row; flex-wrap: wrap; justify-content: flex-start; width: 100% }\n",
       "    .wandb-col { display: flex; flex-direction: column; flex-basis: 100%; flex: 1; padding: 10px; }\n",
       "    </style>\n",
       "<div class=\"wandb-row\"><div class=\"wandb-col\"><h3>Run history:</h3><br/><table class=\"wandb\"><tr><td>parameter/lr</td><td>▁▁▁▁▁▁▁▁▁▁▁▁▁▁▁▁▁▁▁▁▁▁▁▁▁▁▁▁▁▁▁▁▁▁▁▁▁▁▁▁</td></tr><tr><td>sum/dice_coef</td><td>▁▁▁▂▅▅▆▆▆▆▆▆▆▆▆▆▇▇▇▇▇▇▇▇████████████████</td></tr><tr><td>sum/train_loss</td><td>█▆▅▅▄▄▃▃▂▂▂▂▂▂▁▁▁▁▁▁▁▁▁▁▁▁▁▁▁▁▁▁▁▁▁▁▁▁▁▁</td></tr><tr><td>sum/valid loss</td><td>█▆▆▅▄▄▃▃▂▂▂▂▁▁▁▁▁▁▁▁▁▁▁▁▁▁▁▁▁▁▁▁▁▁▁▁▁▁▁▁</td></tr></table><br/></div><div class=\"wandb-col\"><h3>Run summary:</h3><br/><table class=\"wandb\"><tr><td>parameter/lr</td><td>0.0001</td></tr><tr><td>sum/dice_coef</td><td>0.93766</td></tr><tr><td>sum/train_loss</td><td>0.01324</td></tr><tr><td>sum/valid loss</td><td>0.01492</td></tr></table><br/></div></div>"
      ],
      "text/plain": [
       "<IPython.core.display.HTML object>"
      ]
     },
     "metadata": {},
     "output_type": "display_data"
    },
    {
     "data": {
      "text/html": [
       " View run <strong style=\"color:#cdcd00\">[DeepLabV3Plus_efficientnet-b4]_[size:(512, 512)]_[loss:[(BCEWithLogitsLoss(), 0.75), (DiceLoss(), 0.25)]]_[LR:0.0001]_[seed:21]_[epoch:50]</strong> at: <a href='https://wandb.ai/sixseg/boostcamp_level2_semantic_segmentation/runs/rouz2h30' target=\"_blank\">https://wandb.ai/sixseg/boostcamp_level2_semantic_segmentation/runs/rouz2h30</a><br/>Synced 5 W&B file(s), 0 media file(s), 0 artifact file(s) and 0 other file(s)"
      ],
      "text/plain": [
       "<IPython.core.display.HTML object>"
      ]
     },
     "metadata": {},
     "output_type": "display_data"
    },
    {
     "data": {
      "text/html": [
       "Find logs at: <code>./wandb/run-20230609_173258-rouz2h30/logs</code>"
      ],
      "text/plain": [
       "<IPython.core.display.HTML object>"
      ]
     },
     "metadata": {},
     "output_type": "display_data"
    },
    {
     "data": {
      "text/html": [
       "Successfully finished last run (ID:rouz2h30). Initializing new run:<br/>"
      ],
      "text/plain": [
       "<IPython.core.display.HTML object>"
      ]
     },
     "metadata": {},
     "output_type": "display_data"
    },
    {
     "data": {
      "application/vnd.jupyter.widget-view+json": {
       "model_id": "74df302ae1f74c018fa20ea1d5b8ca3b",
       "version_major": 2,
       "version_minor": 0
      },
      "text/plain": [
       "VBox(children=(Label(value='Waiting for wandb.init()...\\r'), FloatProgress(value=0.016668696080644925, max=1.0…"
      ]
     },
     "metadata": {},
     "output_type": "display_data"
    },
    {
     "data": {
      "text/html": [
       "Tracking run with wandb version 0.15.4"
      ],
      "text/plain": [
       "<IPython.core.display.HTML object>"
      ]
     },
     "metadata": {},
     "output_type": "display_data"
    },
    {
     "data": {
      "text/html": [
       "Run data is saved locally in <code>/opt/ml/input/code/wandb/run-20230609_215710-4wju15wi</code>"
      ],
      "text/plain": [
       "<IPython.core.display.HTML object>"
      ]
     },
     "metadata": {},
     "output_type": "display_data"
    },
    {
     "data": {
      "text/html": [
       "Syncing run <strong><a href='https://wandb.ai/sixseg/boostcamp_level2_semantic_segmentation/runs/4wju15wi' target=\"_blank\">[DeepLabV3Plus_efficientnet-b4]_[size:(512, 512)]_[loss:[(BCEWithLogitsLoss(), 0.5), (SmoothL1Loss(), 0.5)]]_[LR:0.0001]_[seed:21]_[epoch:50]</a></strong> to <a href='https://wandb.ai/sixseg/boostcamp_level2_semantic_segmentation' target=\"_blank\">Weights & Biases</a> (<a href='https://wandb.me/run' target=\"_blank\">docs</a>)<br/>"
      ],
      "text/plain": [
       "<IPython.core.display.HTML object>"
      ]
     },
     "metadata": {},
     "output_type": "display_data"
    },
    {
     "data": {
      "text/html": [
       " View project at <a href='https://wandb.ai/sixseg/boostcamp_level2_semantic_segmentation' target=\"_blank\">https://wandb.ai/sixseg/boostcamp_level2_semantic_segmentation</a>"
      ],
      "text/plain": [
       "<IPython.core.display.HTML object>"
      ]
     },
     "metadata": {},
     "output_type": "display_data"
    },
    {
     "data": {
      "text/html": [
       " View run at <a href='https://wandb.ai/sixseg/boostcamp_level2_semantic_segmentation/runs/4wju15wi' target=\"_blank\">https://wandb.ai/sixseg/boostcamp_level2_semantic_segmentation/runs/4wju15wi</a>"
      ],
      "text/plain": [
       "<IPython.core.display.HTML object>"
      ]
     },
     "metadata": {},
     "output_type": "display_data"
    },
    {
     "name": "stdout",
     "output_type": "stream",
     "text": [
      "2023-06-09 21:57:20 | Epoch [1/50], Step [0/80]\n",
      "2023-06-09 21:58:38 | Epoch [1/50], Step [25/80], Loss: 3.0925\n",
      "2023-06-09 21:59:56 | Epoch [1/50], Step [50/80], Loss: 2.4369\n",
      "2023-06-09 22:01:13 | Epoch [1/50], Step [75/80], Loss: 1.7549\n",
      "Start validation # 1\n"
     ]
    },
    {
     "data": {
      "application/vnd.jupyter.widget-view+json": {
       "model_id": "ebdaf8b581be486e993ca316bcdc417d",
       "version_major": 2,
       "version_minor": 0
      },
      "text/plain": [
       "HBox(children=(HTML(value=''), FloatProgress(value=0.0, max=80.0), HTML(value='')))"
      ]
     },
     "metadata": {},
     "output_type": "display_data"
    },
    {
     "name": "stdout",
     "output_type": "stream",
     "text": [
      "\n",
      "finger-1    : 0.0000\n",
      "finger-2    : 0.0000\n",
      "finger-3    : 0.0000\n",
      "finger-4    : 0.0000\n",
      "finger-5    : 0.0000\n",
      "finger-6    : 0.0000\n",
      "finger-7    : 0.0006\n",
      "finger-8    : 0.0000\n",
      "finger-9    : 0.0000\n",
      "finger-10   : 0.0000\n",
      "finger-11   : 0.0022\n",
      "finger-12   : 0.0000\n",
      "finger-13   : 0.0000\n",
      "finger-14   : 0.0000\n",
      "finger-15   : 0.0001\n",
      "finger-16   : 0.0000\n",
      "finger-17   : 0.0000\n",
      "finger-18   : 0.0000\n",
      "finger-19   : 0.0000\n",
      "Trapezium   : 0.0000\n",
      "Trapezoid   : 0.0000\n",
      "Capitate    : 0.0000\n",
      "Hamate      : 0.0000\n",
      "Scaphoid    : 0.0000\n",
      "Lunate      : 0.0000\n",
      "Triquetrum  : 0.0012\n",
      "Pisiform    : 0.0000\n",
      "Radius      : 0.0207\n",
      "Ulna        : 0.0096\n",
      "Best performance at epoch: 1, 0.0000 -> 0.0012\n",
      "Save model in /opt/ml/input/code/trained_model/[DeepLabV3Plus_efficientnet-b4]_[size:(512, 512)]_[loss:[(BCEWithLogitsLoss(), 0.5), (SmoothL1Loss(), 0.5)]]_[LR:0.0001]_[seed:21]_[epoch:50]\n",
      "2023-06-09 22:02:34 | Epoch [2/50], Step [0/80]\n",
      "2023-06-09 22:03:52 | Epoch [2/50], Step [25/80], Loss: 1.4739\n",
      "2023-06-09 22:05:09 | Epoch [2/50], Step [50/80], Loss: 1.2868\n",
      "2023-06-09 22:06:25 | Epoch [2/50], Step [75/80], Loss: 1.2153\n",
      "Start validation # 2\n"
     ]
    },
    {
     "data": {
      "application/vnd.jupyter.widget-view+json": {
       "model_id": "c1a39d2fc1804672baf5e607714bcb23",
       "version_major": 2,
       "version_minor": 0
      },
      "text/plain": [
       "HBox(children=(HTML(value=''), FloatProgress(value=0.0, max=80.0), HTML(value='')))"
      ]
     },
     "metadata": {},
     "output_type": "display_data"
    },
    {
     "name": "stdout",
     "output_type": "stream",
     "text": [
      "\n",
      "finger-1    : 0.0000\n",
      "finger-2    : 0.0000\n",
      "finger-3    : 0.0010\n",
      "finger-4    : 0.0000\n",
      "finger-5    : 0.0000\n",
      "finger-6    : 0.0000\n",
      "finger-7    : 0.0000\n",
      "finger-8    : 0.0000\n",
      "finger-9    : 0.0000\n",
      "finger-10   : 0.0000\n",
      "finger-11   : 0.0023\n",
      "finger-12   : 0.0000\n",
      "finger-13   : 0.0000\n",
      "finger-14   : 0.0000\n",
      "finger-15   : 0.0000\n",
      "finger-16   : 0.0000\n",
      "finger-17   : 0.0000\n",
      "finger-18   : 0.0005\n",
      "finger-19   : 0.0001\n",
      "Trapezium   : 0.0000\n",
      "Trapezoid   : 0.0000\n",
      "Capitate    : 0.0000\n",
      "Hamate      : 0.0000\n",
      "Scaphoid    : 0.0000\n",
      "Lunate      : 0.0000\n",
      "Triquetrum  : 0.0000\n",
      "Pisiform    : 0.0000\n",
      "Radius      : 0.0017\n",
      "Ulna        : 0.0038\n",
      "2023-06-09 22:07:57 | Epoch [3/50], Step [0/80]\n",
      "2023-06-09 22:09:14 | Epoch [3/50], Step [25/80], Loss: 1.1325\n",
      "2023-06-09 22:10:30 | Epoch [3/50], Step [50/80], Loss: 1.0457\n",
      "2023-06-09 22:11:47 | Epoch [3/50], Step [75/80], Loss: 0.9839\n",
      "Start validation # 3\n"
     ]
    },
    {
     "data": {
      "application/vnd.jupyter.widget-view+json": {
       "model_id": "a20aa70c58114b3b9c2e105ee8212243",
       "version_major": 2,
       "version_minor": 0
      },
      "text/plain": [
       "HBox(children=(HTML(value=''), FloatProgress(value=0.0, max=80.0), HTML(value='')))"
      ]
     },
     "metadata": {},
     "output_type": "display_data"
    },
    {
     "name": "stdout",
     "output_type": "stream",
     "text": [
      "\n",
      "finger-1    : 0.0000\n",
      "finger-2    : 0.0000\n",
      "finger-3    : 0.0005\n",
      "finger-4    : 0.0000\n",
      "finger-5    : 0.0000\n",
      "finger-6    : 0.0000\n",
      "finger-7    : 0.0000\n",
      "finger-8    : 0.0000\n",
      "finger-9    : 0.0000\n",
      "finger-10   : 0.0000\n",
      "finger-11   : 0.0010\n",
      "finger-12   : 0.0000\n",
      "finger-13   : 0.0000\n",
      "finger-14   : 0.0000\n",
      "finger-15   : 0.0000\n",
      "finger-16   : 0.0000\n",
      "finger-17   : 0.0000\n",
      "finger-18   : 0.0068\n",
      "finger-19   : 0.0007\n",
      "Trapezium   : 0.0000\n",
      "Trapezoid   : 0.0000\n",
      "Capitate    : 0.0000\n",
      "Hamate      : 0.0000\n",
      "Scaphoid    : 0.0000\n",
      "Lunate      : 0.0000\n",
      "Triquetrum  : 0.0000\n",
      "Pisiform    : 0.0000\n",
      "Radius      : 0.0014\n",
      "Ulna        : 0.0272\n",
      "Best performance at epoch: 3, 0.0012 -> 0.0013\n",
      "Save model in /opt/ml/input/code/trained_model/[DeepLabV3Plus_efficientnet-b4]_[size:(512, 512)]_[loss:[(BCEWithLogitsLoss(), 0.5), (SmoothL1Loss(), 0.5)]]_[LR:0.0001]_[seed:21]_[epoch:50]\n",
      "2023-06-09 22:13:08 | Epoch [4/50], Step [0/80]\n",
      "2023-06-09 22:14:27 | Epoch [4/50], Step [25/80], Loss: 0.9162\n",
      "2023-06-09 22:15:43 | Epoch [4/50], Step [50/80], Loss: 0.8619\n",
      "2023-06-09 22:17:00 | Epoch [4/50], Step [75/80], Loss: 0.8108\n",
      "Start validation # 4\n"
     ]
    },
    {
     "data": {
      "application/vnd.jupyter.widget-view+json": {
       "model_id": "7090f0ea609a4885b1f3f971191016eb",
       "version_major": 2,
       "version_minor": 0
      },
      "text/plain": [
       "HBox(children=(HTML(value=''), FloatProgress(value=0.0, max=80.0), HTML(value='')))"
      ]
     },
     "metadata": {},
     "output_type": "display_data"
    },
    {
     "name": "stdout",
     "output_type": "stream",
     "text": [
      "\n",
      "finger-1    : 0.0001\n",
      "finger-2    : 0.0000\n",
      "finger-3    : 0.0003\n",
      "finger-4    : 0.0000\n",
      "finger-5    : 0.0000\n",
      "finger-6    : 0.0000\n",
      "finger-7    : 0.0004\n",
      "finger-8    : 0.0000\n",
      "finger-9    : 0.0000\n",
      "finger-10   : 0.0000\n",
      "finger-11   : 0.0066\n",
      "finger-12   : 0.0000\n",
      "finger-13   : 0.0084\n",
      "finger-14   : 0.0022\n",
      "finger-15   : 0.0000\n",
      "finger-16   : 0.0001\n",
      "finger-17   : 0.0000\n",
      "finger-18   : 0.0035\n",
      "finger-19   : 0.0002\n",
      "Trapezium   : 0.0000\n",
      "Trapezoid   : 0.0000\n",
      "Capitate    : 0.0000\n",
      "Hamate      : 0.0000\n",
      "Scaphoid    : 0.0000\n",
      "Lunate      : 0.0000\n",
      "Triquetrum  : 0.0000\n",
      "Pisiform    : 0.0000\n",
      "Radius      : 0.0229\n",
      "Ulna        : 0.1646\n",
      "Best performance at epoch: 4, 0.0013 -> 0.0072\n",
      "Save model in /opt/ml/input/code/trained_model/[DeepLabV3Plus_efficientnet-b4]_[size:(512, 512)]_[loss:[(BCEWithLogitsLoss(), 0.5), (SmoothL1Loss(), 0.5)]]_[LR:0.0001]_[seed:21]_[epoch:50]\n",
      "2023-06-09 22:18:19 | Epoch [5/50], Step [0/80]\n",
      "2023-06-09 22:19:38 | Epoch [5/50], Step [25/80], Loss: 0.7591\n",
      "2023-06-09 22:20:56 | Epoch [5/50], Step [50/80], Loss: 0.7045\n",
      "2023-06-09 22:22:13 | Epoch [5/50], Step [75/80], Loss: 0.6698\n",
      "Start validation # 5\n"
     ]
    },
    {
     "data": {
      "application/vnd.jupyter.widget-view+json": {
       "model_id": "030866b00615436baa04db95d738b3a6",
       "version_major": 2,
       "version_minor": 0
      },
      "text/plain": [
       "HBox(children=(HTML(value=''), FloatProgress(value=0.0, max=80.0), HTML(value='')))"
      ]
     },
     "metadata": {},
     "output_type": "display_data"
    },
    {
     "name": "stdout",
     "output_type": "stream",
     "text": [
      "\n",
      "finger-1    : 0.0028\n",
      "finger-2    : 0.0000\n",
      "finger-3    : 0.0010\n",
      "finger-4    : 0.0000\n",
      "finger-5    : 0.0002\n",
      "finger-6    : 0.0037\n",
      "finger-7    : 0.0048\n",
      "finger-8    : 0.0000\n",
      "finger-9    : 0.0000\n",
      "finger-10   : 0.0000\n",
      "finger-11   : 0.0135\n",
      "finger-12   : 0.0002\n",
      "finger-13   : 0.0425\n",
      "finger-14   : 0.0035\n",
      "finger-15   : 0.0000\n",
      "finger-16   : 0.0004\n",
      "finger-17   : 0.0000\n",
      "finger-18   : 0.0176\n",
      "finger-19   : 0.0014\n",
      "Trapezium   : 0.0000\n",
      "Trapezoid   : 0.0000\n",
      "Capitate    : 0.0000\n",
      "Hamate      : 0.0000\n",
      "Scaphoid    : 0.0000\n",
      "Lunate      : 0.0000\n",
      "Triquetrum  : 0.0000\n",
      "Pisiform    : 0.0000\n",
      "Radius      : 0.0786\n",
      "Ulna        : 0.2008\n",
      "Best performance at epoch: 5, 0.0072 -> 0.0128\n",
      "Save model in /opt/ml/input/code/trained_model/[DeepLabV3Plus_efficientnet-b4]_[size:(512, 512)]_[loss:[(BCEWithLogitsLoss(), 0.5), (SmoothL1Loss(), 0.5)]]_[LR:0.0001]_[seed:21]_[epoch:50]\n",
      "2023-06-09 22:23:33 | Epoch [6/50], Step [0/80]\n",
      "2023-06-09 22:24:52 | Epoch [6/50], Step [25/80], Loss: 0.6131\n",
      "2023-06-09 22:26:09 | Epoch [6/50], Step [50/80], Loss: 0.5762\n",
      "2023-06-09 22:27:38 | Epoch [6/50], Step [75/80], Loss: 0.544\n",
      "Start validation # 6\n"
     ]
    },
    {
     "data": {
      "application/vnd.jupyter.widget-view+json": {
       "model_id": "58d0a29bab80412ab0f0a146c0419e9f",
       "version_major": 2,
       "version_minor": 0
      },
      "text/plain": [
       "HBox(children=(HTML(value=''), FloatProgress(value=0.0, max=80.0), HTML(value='')))"
      ]
     },
     "metadata": {},
     "output_type": "display_data"
    },
    {
     "name": "stdout",
     "output_type": "stream",
     "text": [
      "\n",
      "finger-1    : 0.0062\n",
      "finger-2    : 0.0001\n",
      "finger-3    : 0.0065\n",
      "finger-4    : 0.0000\n",
      "finger-5    : 0.0011\n",
      "finger-6    : 0.0124\n",
      "finger-7    : 0.0181\n",
      "finger-8    : 0.0000\n",
      "finger-9    : 0.0002\n",
      "finger-10   : 0.0000\n",
      "finger-11   : 0.0283\n",
      "finger-12   : 0.0163\n",
      "finger-13   : 0.0517\n",
      "finger-14   : 0.0119\n",
      "finger-15   : 0.0000\n",
      "finger-16   : 0.0169\n",
      "finger-17   : 0.0000\n",
      "finger-18   : 0.0286\n",
      "finger-19   : 0.0166\n",
      "Trapezium   : 0.0000\n",
      "Trapezoid   : 0.0000\n",
      "Capitate    : 0.0000\n",
      "Hamate      : 0.0000\n",
      "Scaphoid    : 0.0000\n",
      "Lunate      : 0.0000\n",
      "Triquetrum  : 0.0000\n",
      "Pisiform    : 0.0000\n",
      "Radius      : 0.1336\n",
      "Ulna        : 0.2057\n",
      "Best performance at epoch: 6, 0.0128 -> 0.0191\n",
      "Save model in /opt/ml/input/code/trained_model/[DeepLabV3Plus_efficientnet-b4]_[size:(512, 512)]_[loss:[(BCEWithLogitsLoss(), 0.5), (SmoothL1Loss(), 0.5)]]_[LR:0.0001]_[seed:21]_[epoch:50]\n",
      "2023-06-09 22:28:59 | Epoch [7/50], Step [0/80]\n",
      "2023-06-09 22:30:15 | Epoch [7/50], Step [25/80], Loss: 0.507\n",
      "2023-06-09 22:31:35 | Epoch [7/50], Step [50/80], Loss: 0.4815\n",
      "2023-06-09 22:32:53 | Epoch [7/50], Step [75/80], Loss: 0.4617\n",
      "Start validation # 7\n"
     ]
    },
    {
     "data": {
      "application/vnd.jupyter.widget-view+json": {
       "model_id": "c3de1d67f42944e28977617ea77ac0db",
       "version_major": 2,
       "version_minor": 0
      },
      "text/plain": [
       "HBox(children=(HTML(value=''), FloatProgress(value=0.0, max=80.0), HTML(value='')))"
      ]
     },
     "metadata": {},
     "output_type": "display_data"
    },
    {
     "name": "stdout",
     "output_type": "stream",
     "text": [
      "\n",
      "finger-1    : 0.0039\n",
      "finger-2    : 0.0005\n",
      "finger-3    : 0.0237\n",
      "finger-4    : 0.0000\n",
      "finger-5    : 0.0135\n",
      "finger-6    : 0.0374\n",
      "finger-7    : 0.0376\n",
      "finger-8    : 0.0013\n",
      "finger-9    : 0.0027\n",
      "finger-10   : 0.0005\n",
      "finger-11   : 0.0463\n",
      "finger-12   : 0.1091\n",
      "finger-13   : 0.0458\n",
      "finger-14   : 0.0297\n",
      "finger-15   : 0.0011\n",
      "finger-16   : 0.0972\n",
      "finger-17   : 0.0001\n",
      "finger-18   : 0.0078\n",
      "finger-19   : 0.0620\n",
      "Trapezium   : 0.0001\n",
      "Trapezoid   : 0.0000\n",
      "Capitate    : 0.0000\n",
      "Hamate      : 0.0039\n",
      "Scaphoid    : 0.0000\n",
      "Lunate      : 0.0000\n",
      "Triquetrum  : 0.0003\n",
      "Pisiform    : 0.0000\n",
      "Radius      : 0.3544\n",
      "Ulna        : 0.2229\n",
      "Best performance at epoch: 7, 0.0191 -> 0.0380\n",
      "Save model in /opt/ml/input/code/trained_model/[DeepLabV3Plus_efficientnet-b4]_[size:(512, 512)]_[loss:[(BCEWithLogitsLoss(), 0.5), (SmoothL1Loss(), 0.5)]]_[LR:0.0001]_[seed:21]_[epoch:50]\n",
      "2023-06-09 22:34:16 | Epoch [8/50], Step [0/80]\n",
      "2023-06-09 22:35:35 | Epoch [8/50], Step [25/80], Loss: 0.444\n",
      "2023-06-09 22:36:54 | Epoch [8/50], Step [50/80], Loss: 0.4223\n",
      "2023-06-09 22:38:13 | Epoch [8/50], Step [75/80], Loss: 0.4069\n",
      "Start validation # 8\n"
     ]
    },
    {
     "data": {
      "application/vnd.jupyter.widget-view+json": {
       "model_id": "a20412c6f3bb493d8550cc5ae1b3129e",
       "version_major": 2,
       "version_minor": 0
      },
      "text/plain": [
       "HBox(children=(HTML(value=''), FloatProgress(value=0.0, max=80.0), HTML(value='')))"
      ]
     },
     "metadata": {},
     "output_type": "display_data"
    },
    {
     "name": "stdout",
     "output_type": "stream",
     "text": [
      "\n",
      "finger-1    : 0.0026\n",
      "finger-2    : 0.0002\n",
      "finger-3    : 0.0317\n",
      "finger-4    : 0.0116\n",
      "finger-5    : 0.0434\n",
      "finger-6    : 0.0713\n",
      "finger-7    : 0.0542\n",
      "finger-8    : 0.0402\n",
      "finger-9    : 0.0059\n",
      "finger-10   : 0.0030\n",
      "finger-11   : 0.0731\n",
      "finger-12   : 0.1843\n",
      "finger-13   : 0.0270\n",
      "finger-14   : 0.0331\n",
      "finger-15   : 0.0132\n",
      "finger-16   : 0.1368\n",
      "finger-17   : 0.0007\n",
      "finger-18   : 0.0004\n",
      "finger-19   : 0.0700\n",
      "Trapezium   : 0.0003\n",
      "Trapezoid   : 0.0000\n",
      "Capitate    : 0.0001\n",
      "Hamate      : 0.0002\n",
      "Scaphoid    : 0.0000\n",
      "Lunate      : 0.0000\n",
      "Triquetrum  : 0.0633\n",
      "Pisiform    : 0.0113\n",
      "Radius      : 0.4472\n",
      "Ulna        : 0.2262\n",
      "Best performance at epoch: 8, 0.0380 -> 0.0535\n",
      "Save model in /opt/ml/input/code/trained_model/[DeepLabV3Plus_efficientnet-b4]_[size:(512, 512)]_[loss:[(BCEWithLogitsLoss(), 0.5), (SmoothL1Loss(), 0.5)]]_[LR:0.0001]_[seed:21]_[epoch:50]\n",
      "2023-06-09 22:39:33 | Epoch [9/50], Step [0/80]\n",
      "2023-06-09 22:40:52 | Epoch [9/50], Step [25/80], Loss: 0.4003\n",
      "2023-06-09 22:42:09 | Epoch [9/50], Step [50/80], Loss: 0.3863\n",
      "2023-06-09 22:43:28 | Epoch [9/50], Step [75/80], Loss: 0.3788\n",
      "Start validation # 9\n"
     ]
    },
    {
     "data": {
      "application/vnd.jupyter.widget-view+json": {
       "model_id": "05eb31b2fb434cc79549800b839ea757",
       "version_major": 2,
       "version_minor": 0
      },
      "text/plain": [
       "HBox(children=(HTML(value=''), FloatProgress(value=0.0, max=80.0), HTML(value='')))"
      ]
     },
     "metadata": {},
     "output_type": "display_data"
    },
    {
     "name": "stdout",
     "output_type": "stream",
     "text": [
      "\n",
      "finger-1    : 0.0075\n",
      "finger-2    : 0.0002\n",
      "finger-3    : 0.0664\n",
      "finger-4    : 0.1257\n",
      "finger-5    : 0.0530\n",
      "finger-6    : 0.0847\n",
      "finger-7    : 0.0722\n",
      "finger-8    : 0.1464\n",
      "finger-9    : 0.0197\n",
      "finger-10   : 0.0191\n",
      "finger-11   : 0.1224\n",
      "finger-12   : 0.2053\n",
      "finger-13   : 0.0225\n",
      "finger-14   : 0.0483\n",
      "finger-15   : 0.0400\n",
      "finger-16   : 0.1748\n",
      "finger-17   : 0.0024\n",
      "finger-18   : 0.0009\n",
      "finger-19   : 0.0702\n",
      "Trapezium   : 0.0006\n",
      "Trapezoid   : 0.0000\n",
      "Capitate    : 0.0030\n",
      "Hamate      : 0.0063\n",
      "Scaphoid    : 0.0009\n",
      "Lunate      : 0.0000\n",
      "Triquetrum  : 0.0947\n",
      "Pisiform    : 0.2199\n",
      "Radius      : 0.4925\n",
      "Ulna        : 0.2597\n",
      "Best performance at epoch: 9, 0.0535 -> 0.0814\n",
      "Save model in /opt/ml/input/code/trained_model/[DeepLabV3Plus_efficientnet-b4]_[size:(512, 512)]_[loss:[(BCEWithLogitsLoss(), 0.5), (SmoothL1Loss(), 0.5)]]_[LR:0.0001]_[seed:21]_[epoch:50]\n",
      "2023-06-09 22:44:51 | Epoch [10/50], Step [0/80]\n",
      "2023-06-09 22:46:09 | Epoch [10/50], Step [25/80], Loss: 0.3947\n",
      "2023-06-09 22:47:26 | Epoch [10/50], Step [50/80], Loss: 0.3683\n",
      "2023-06-09 22:48:44 | Epoch [10/50], Step [75/80], Loss: 0.3605\n",
      "Start validation #10\n"
     ]
    },
    {
     "data": {
      "application/vnd.jupyter.widget-view+json": {
       "model_id": "d156742bda1b496db96cea75ea4475ff",
       "version_major": 2,
       "version_minor": 0
      },
      "text/plain": [
       "HBox(children=(HTML(value=''), FloatProgress(value=0.0, max=80.0), HTML(value='')))"
      ]
     },
     "metadata": {},
     "output_type": "display_data"
    },
    {
     "name": "stdout",
     "output_type": "stream",
     "text": [
      "\n",
      "finger-1    : 0.0048\n",
      "finger-2    : 0.0001\n",
      "finger-3    : 0.0911\n",
      "finger-4    : 0.2044\n",
      "finger-5    : 0.0510\n",
      "finger-6    : 0.0662\n",
      "finger-7    : 0.0881\n",
      "finger-8    : 0.1843\n",
      "finger-9    : 0.0275\n",
      "finger-10   : 0.0401\n",
      "finger-11   : 0.0950\n",
      "finger-12   : 0.2053\n",
      "finger-13   : 0.0107\n",
      "finger-14   : 0.0409\n",
      "finger-15   : 0.0737\n",
      "finger-16   : 0.1946\n",
      "finger-17   : 0.0014\n",
      "finger-18   : 0.0013\n",
      "finger-19   : 0.0421\n",
      "Trapezium   : 0.0046\n",
      "Trapezoid   : 0.0004\n",
      "Capitate    : 0.0133\n",
      "Hamate      : 0.0220\n",
      "Scaphoid    : 0.0129\n",
      "Lunate      : 0.0028\n",
      "Triquetrum  : 0.0340\n",
      "Pisiform    : 0.3466\n",
      "Radius      : 0.5116\n",
      "Ulna        : 0.1846\n",
      "Best performance at epoch: 10, 0.0814 -> 0.0881\n",
      "Save model in /opt/ml/input/code/trained_model/[DeepLabV3Plus_efficientnet-b4]_[size:(512, 512)]_[loss:[(BCEWithLogitsLoss(), 0.5), (SmoothL1Loss(), 0.5)]]_[LR:0.0001]_[seed:21]_[epoch:50]\n",
      "2023-06-09 22:50:04 | Epoch [11/50], Step [0/80]\n",
      "2023-06-09 22:51:23 | Epoch [11/50], Step [25/80], Loss: 0.3568\n",
      "2023-06-09 22:52:40 | Epoch [11/50], Step [50/80], Loss: 0.3556\n",
      "2023-06-09 22:53:58 | Epoch [11/50], Step [75/80], Loss: 0.3499\n",
      "Start validation #11\n"
     ]
    },
    {
     "data": {
      "application/vnd.jupyter.widget-view+json": {
       "model_id": "3b468d0c214b4671aad8090eb1e9f9f1",
       "version_major": 2,
       "version_minor": 0
      },
      "text/plain": [
       "HBox(children=(HTML(value=''), FloatProgress(value=0.0, max=80.0), HTML(value='')))"
      ]
     },
     "metadata": {},
     "output_type": "display_data"
    },
    {
     "name": "stdout",
     "output_type": "stream",
     "text": [
      "\n",
      "finger-1    : 0.0108\n",
      "finger-2    : 0.0003\n",
      "finger-3    : 0.1283\n",
      "finger-4    : 0.2260\n",
      "finger-5    : 0.0513\n",
      "finger-6    : 0.0951\n",
      "finger-7    : 0.1114\n",
      "finger-8    : 0.1994\n",
      "finger-9    : 0.0380\n",
      "finger-10   : 0.0967\n",
      "finger-11   : 0.1978\n",
      "finger-12   : 0.2077\n",
      "finger-13   : 0.0058\n",
      "finger-14   : 0.0512\n",
      "finger-15   : 0.1200\n",
      "finger-16   : 0.2247\n",
      "finger-17   : 0.0016\n",
      "finger-18   : 0.0024\n",
      "finger-19   : 0.0315\n",
      "Trapezium   : 0.0006\n",
      "Trapezoid   : 0.0001\n",
      "Capitate    : 0.0156\n",
      "Hamate      : 0.0101\n",
      "Scaphoid    : 0.0095\n",
      "Lunate      : 0.0001\n",
      "Triquetrum  : 0.0109\n",
      "Pisiform    : 0.4582\n",
      "Radius      : 0.5596\n",
      "Ulna        : 0.3341\n",
      "Best performance at epoch: 11, 0.0881 -> 0.1103\n",
      "Save model in /opt/ml/input/code/trained_model/[DeepLabV3Plus_efficientnet-b4]_[size:(512, 512)]_[loss:[(BCEWithLogitsLoss(), 0.5), (SmoothL1Loss(), 0.5)]]_[LR:0.0001]_[seed:21]_[epoch:50]\n",
      "2023-06-09 22:55:18 | Epoch [12/50], Step [0/80]\n",
      "2023-06-09 22:56:36 | Epoch [12/50], Step [25/80], Loss: 0.3477\n",
      "2023-06-09 22:57:55 | Epoch [12/50], Step [50/80], Loss: 0.3454\n",
      "2023-06-09 22:59:13 | Epoch [12/50], Step [75/80], Loss: 0.3428\n",
      "Start validation #12\n"
     ]
    },
    {
     "data": {
      "application/vnd.jupyter.widget-view+json": {
       "model_id": "ed4773d79191492eb60426abc88e339b",
       "version_major": 2,
       "version_minor": 0
      },
      "text/plain": [
       "HBox(children=(HTML(value=''), FloatProgress(value=0.0, max=80.0), HTML(value='')))"
      ]
     },
     "metadata": {},
     "output_type": "display_data"
    },
    {
     "name": "stdout",
     "output_type": "stream",
     "text": [
      "\n",
      "finger-1    : 0.0056\n",
      "finger-2    : 0.0004\n",
      "finger-3    : 0.1515\n",
      "finger-4    : 0.2251\n",
      "finger-5    : 0.0558\n",
      "finger-6    : 0.0978\n",
      "finger-7    : 0.1497\n",
      "finger-8    : 0.2002\n",
      "finger-9    : 0.0433\n",
      "finger-10   : 0.1736\n",
      "finger-11   : 0.3652\n",
      "finger-12   : 0.1911\n",
      "finger-13   : 0.0026\n",
      "finger-14   : 0.0612\n",
      "finger-15   : 0.1353\n",
      "finger-16   : 0.2347\n",
      "finger-17   : 0.0009\n",
      "finger-18   : 0.0007\n",
      "finger-19   : 0.0258\n",
      "Trapezium   : 0.0022\n",
      "Trapezoid   : 0.0001\n",
      "Capitate    : 0.0225\n",
      "Hamate      : 0.0091\n",
      "Scaphoid    : 0.0127\n",
      "Lunate      : 0.0006\n",
      "Triquetrum  : 0.0086\n",
      "Pisiform    : 0.4749\n",
      "Radius      : 0.5717\n",
      "Ulna        : 0.4347\n",
      "Best performance at epoch: 12, 0.1103 -> 0.1261\n",
      "Save model in /opt/ml/input/code/trained_model/[DeepLabV3Plus_efficientnet-b4]_[size:(512, 512)]_[loss:[(BCEWithLogitsLoss(), 0.5), (SmoothL1Loss(), 0.5)]]_[LR:0.0001]_[seed:21]_[epoch:50]\n",
      "2023-06-09 23:00:32 | Epoch [13/50], Step [0/80]\n",
      "2023-06-09 23:01:54 | Epoch [13/50], Step [25/80], Loss: 0.3409\n",
      "2023-06-09 23:03:11 | Epoch [13/50], Step [50/80], Loss: 0.3388\n",
      "2023-06-09 23:04:28 | Epoch [13/50], Step [75/80], Loss: 0.3476\n",
      "Start validation #13\n"
     ]
    },
    {
     "data": {
      "application/vnd.jupyter.widget-view+json": {
       "model_id": "8cd3ae24b8cc47669330a3266819084b",
       "version_major": 2,
       "version_minor": 0
      },
      "text/plain": [
       "HBox(children=(HTML(value=''), FloatProgress(value=0.0, max=80.0), HTML(value='')))"
      ]
     },
     "metadata": {},
     "output_type": "display_data"
    },
    {
     "name": "stdout",
     "output_type": "stream",
     "text": [
      "\n",
      "finger-1    : 0.0017\n",
      "finger-2    : 0.0001\n",
      "finger-3    : 0.0870\n",
      "finger-4    : 0.2203\n",
      "finger-5    : 0.0267\n",
      "finger-6    : 0.0557\n",
      "finger-7    : 0.0509\n",
      "finger-8    : 0.1963\n",
      "finger-9    : 0.0152\n",
      "finger-10   : 0.0551\n",
      "finger-11   : 0.1024\n",
      "finger-12   : 0.1625\n",
      "finger-13   : 0.0004\n",
      "finger-14   : 0.0177\n",
      "finger-15   : 0.0342\n",
      "finger-16   : 0.1941\n",
      "finger-17   : 0.0001\n",
      "finger-18   : 0.0001\n",
      "finger-19   : 0.0035\n",
      "Trapezium   : 0.0000\n",
      "Trapezoid   : 0.0000\n",
      "Capitate    : 0.0009\n",
      "Hamate      : 0.0013\n",
      "Scaphoid    : 0.0010\n",
      "Lunate      : 0.0000\n",
      "Triquetrum  : 0.0000\n",
      "Pisiform    : 0.2378\n",
      "Radius      : 0.6274\n",
      "Ulna        : 0.4191\n",
      "2023-06-09 23:05:46 | Epoch [14/50], Step [0/80]\n",
      "2023-06-09 23:07:03 | Epoch [14/50], Step [25/80], Loss: 0.346\n",
      "2023-06-09 23:08:18 | Epoch [14/50], Step [50/80], Loss: 0.3418\n",
      "2023-06-09 23:09:34 | Epoch [14/50], Step [75/80], Loss: 0.336\n",
      "Start validation #14\n"
     ]
    },
    {
     "data": {
      "application/vnd.jupyter.widget-view+json": {
       "model_id": "0c0a15ad586a49eaa1255076db45a5de",
       "version_major": 2,
       "version_minor": 0
      },
      "text/plain": [
       "HBox(children=(HTML(value=''), FloatProgress(value=0.0, max=80.0), HTML(value='')))"
      ]
     },
     "metadata": {},
     "output_type": "display_data"
    },
    {
     "name": "stdout",
     "output_type": "stream",
     "text": [
      "\n",
      "finger-1    : 0.0070\n",
      "finger-2    : 0.0003\n",
      "finger-3    : 0.1361\n",
      "finger-4    : 0.2269\n",
      "finger-5    : 0.0590\n",
      "finger-6    : 0.0939\n",
      "finger-7    : 0.0998\n",
      "finger-8    : 0.2022\n",
      "finger-9    : 0.0244\n",
      "finger-10   : 0.1337\n",
      "finger-11   : 0.1883\n",
      "finger-12   : 0.2179\n",
      "finger-13   : 0.0010\n",
      "finger-14   : 0.0629\n",
      "finger-15   : 0.0706\n",
      "finger-16   : 0.2571\n",
      "finger-17   : 0.0003\n",
      "finger-18   : 0.0002\n",
      "finger-19   : 0.0187\n",
      "Trapezium   : 0.0007\n",
      "Trapezoid   : 0.0000\n",
      "Capitate    : 0.0040\n",
      "Hamate      : 0.0040\n",
      "Scaphoid    : 0.0082\n",
      "Lunate      : 0.0021\n",
      "Triquetrum  : 0.0009\n",
      "Pisiform    : 0.4401\n",
      "Radius      : 0.5514\n",
      "Ulna        : 0.3909\n",
      "2023-06-09 23:10:53 | Epoch [15/50], Step [0/80]\n",
      "2023-06-09 23:12:09 | Epoch [15/50], Step [25/80], Loss: 0.3352\n",
      "2023-06-09 23:13:27 | Epoch [15/50], Step [50/80], Loss: 0.3336\n",
      "2023-06-09 23:14:43 | Epoch [15/50], Step [75/80], Loss: 0.3286\n",
      "Start validation #15\n"
     ]
    },
    {
     "data": {
      "application/vnd.jupyter.widget-view+json": {
       "model_id": "51fdac5dfc734801bc1cdec625f77ba5",
       "version_major": 2,
       "version_minor": 0
      },
      "text/plain": [
       "HBox(children=(HTML(value=''), FloatProgress(value=0.0, max=80.0), HTML(value='')))"
      ]
     },
     "metadata": {},
     "output_type": "display_data"
    },
    {
     "name": "stdout",
     "output_type": "stream",
     "text": [
      "\n",
      "finger-1    : 0.0130\n",
      "finger-2    : 0.0006\n",
      "finger-3    : 0.1269\n",
      "finger-4    : 0.2257\n",
      "finger-5    : 0.0583\n",
      "finger-6    : 0.1080\n",
      "finger-7    : 0.1767\n",
      "finger-8    : 0.1979\n",
      "finger-9    : 0.0275\n",
      "finger-10   : 0.1511\n",
      "finger-11   : 0.1893\n",
      "finger-12   : 0.2157\n",
      "finger-13   : 0.0012\n",
      "finger-14   : 0.0683\n",
      "finger-15   : 0.0662\n",
      "finger-16   : 0.2637\n",
      "finger-17   : 0.0002\n",
      "finger-18   : 0.0007\n",
      "finger-19   : 0.0214\n",
      "Trapezium   : 0.0001\n",
      "Trapezoid   : 0.0000\n",
      "Capitate    : 0.0053\n",
      "Hamate      : 0.0080\n",
      "Scaphoid    : 0.0089\n",
      "Lunate      : 0.0112\n",
      "Triquetrum  : 0.0066\n",
      "Pisiform    : 0.4567\n",
      "Radius      : 0.5890\n",
      "Ulna        : 0.4067\n",
      "2023-06-09 23:16:00 | Epoch [16/50], Step [0/80]\n",
      "2023-06-09 23:17:16 | Epoch [16/50], Step [25/80], Loss: 0.3222\n",
      "2023-06-09 23:18:34 | Epoch [16/50], Step [50/80], Loss: 0.3173\n",
      "2023-06-09 23:19:51 | Epoch [16/50], Step [75/80], Loss: 0.3142\n",
      "Start validation #16\n"
     ]
    },
    {
     "data": {
      "application/vnd.jupyter.widget-view+json": {
       "model_id": "9f7f7f2deeb141b7a1d24c369839ae16",
       "version_major": 2,
       "version_minor": 0
      },
      "text/plain": [
       "HBox(children=(HTML(value=''), FloatProgress(value=0.0, max=80.0), HTML(value='')))"
      ]
     },
     "metadata": {},
     "output_type": "display_data"
    },
    {
     "name": "stdout",
     "output_type": "stream",
     "text": [
      "\n",
      "finger-1    : 0.0234\n",
      "finger-2    : 0.0006\n",
      "finger-3    : 0.1291\n",
      "finger-4    : 0.2283\n",
      "finger-5    : 0.0716\n",
      "finger-6    : 0.1174\n",
      "finger-7    : 0.1177\n",
      "finger-8    : 0.2004\n",
      "finger-9    : 0.0236\n",
      "finger-10   : 0.1692\n",
      "finger-11   : 0.2258\n",
      "finger-12   : 0.2215\n",
      "finger-13   : 0.0018\n",
      "finger-14   : 0.0833\n",
      "finger-15   : 0.0869\n",
      "finger-16   : 0.2410\n",
      "finger-17   : 0.0009\n",
      "finger-18   : 0.0029\n",
      "finger-19   : 0.0364\n",
      "Trapezium   : 0.0017\n",
      "Trapezoid   : 0.0002\n",
      "Capitate    : 0.0426\n",
      "Hamate      : 0.0215\n",
      "Scaphoid    : 0.0450\n",
      "Lunate      : 0.0379\n",
      "Triquetrum  : 0.0461\n",
      "Pisiform    : 0.4057\n",
      "Radius      : 0.5772\n",
      "Ulna        : 0.3849\n",
      "2023-06-09 23:21:09 | Epoch [17/50], Step [0/80]\n",
      "2023-06-09 23:22:27 | Epoch [17/50], Step [25/80], Loss: 0.3112\n",
      "2023-06-09 23:23:43 | Epoch [17/50], Step [50/80], Loss: 0.3106\n",
      "2023-06-09 23:24:58 | Epoch [17/50], Step [75/80], Loss: 0.3049\n",
      "Start validation #17\n"
     ]
    },
    {
     "data": {
      "application/vnd.jupyter.widget-view+json": {
       "model_id": "c2d67d42486f4274a875e447458818bb",
       "version_major": 2,
       "version_minor": 0
      },
      "text/plain": [
       "HBox(children=(HTML(value=''), FloatProgress(value=0.0, max=80.0), HTML(value='')))"
      ]
     },
     "metadata": {},
     "output_type": "display_data"
    },
    {
     "name": "stdout",
     "output_type": "stream",
     "text": [
      "\n",
      "finger-1    : 0.0079\n",
      "finger-2    : 0.0001\n",
      "finger-3    : 0.1015\n",
      "finger-4    : 0.2266\n",
      "finger-5    : 0.0442\n",
      "finger-6    : 0.0537\n",
      "finger-7    : 0.1291\n",
      "finger-8    : 0.2065\n",
      "finger-9    : 0.0100\n",
      "finger-10   : 0.1484\n",
      "finger-11   : 0.3650\n",
      "finger-12   : 0.1909\n",
      "finger-13   : 0.0005\n",
      "finger-14   : 0.0480\n",
      "finger-15   : 0.0623\n",
      "finger-16   : 0.2485\n",
      "finger-17   : 0.0002\n",
      "finger-18   : 0.0001\n",
      "finger-19   : 0.0198\n",
      "Trapezium   : 0.0009\n",
      "Trapezoid   : 0.0014\n",
      "Capitate    : 0.0371\n",
      "Hamate      : 0.0165\n",
      "Scaphoid    : 0.0316\n",
      "Lunate      : 0.0407\n",
      "Triquetrum  : 0.0323\n",
      "Pisiform    : 0.4515\n",
      "Radius      : 0.6343\n",
      "Ulna        : 0.4689\n",
      "2023-06-09 23:26:18 | Epoch [18/50], Step [0/80]\n",
      "2023-06-09 23:27:35 | Epoch [18/50], Step [25/80], Loss: 0.3037\n",
      "2023-06-09 23:28:50 | Epoch [18/50], Step [50/80], Loss: 0.3036\n",
      "2023-06-09 23:30:06 | Epoch [18/50], Step [75/80], Loss: 0.3025\n",
      "Start validation #18\n"
     ]
    },
    {
     "data": {
      "application/vnd.jupyter.widget-view+json": {
       "model_id": "dfa29614303b4ed1a0b74b6f67380ae6",
       "version_major": 2,
       "version_minor": 0
      },
      "text/plain": [
       "HBox(children=(HTML(value=''), FloatProgress(value=0.0, max=80.0), HTML(value='')))"
      ]
     },
     "metadata": {},
     "output_type": "display_data"
    },
    {
     "name": "stdout",
     "output_type": "stream",
     "text": [
      "\n",
      "finger-1    : 0.0023\n",
      "finger-2    : 0.0000\n",
      "finger-3    : 0.0762\n",
      "finger-4    : 0.2015\n",
      "finger-5    : 0.0191\n",
      "finger-6    : 0.0216\n",
      "finger-7    : 0.1809\n",
      "finger-8    : 0.1915\n",
      "finger-9    : 0.0041\n",
      "finger-10   : 0.1397\n",
      "finger-11   : 0.4530\n",
      "finger-12   : 0.1580\n",
      "finger-13   : 0.0000\n",
      "finger-14   : 0.0247\n",
      "finger-15   : 0.0451\n",
      "finger-16   : 0.2141\n",
      "finger-17   : 0.0000\n",
      "finger-18   : 0.0000\n",
      "finger-19   : 0.0068\n",
      "Trapezium   : 0.0023\n",
      "Trapezoid   : 0.0062\n",
      "Capitate    : 0.0358\n",
      "Hamate      : 0.0146\n",
      "Scaphoid    : 0.0254\n",
      "Lunate      : 0.0205\n",
      "Triquetrum  : 0.0152\n",
      "Pisiform    : 0.4583\n",
      "Radius      : 0.6782\n",
      "Ulna        : 0.5663\n",
      "2023-06-09 23:31:25 | Epoch [19/50], Step [0/80]\n",
      "2023-06-09 23:32:42 | Epoch [19/50], Step [25/80], Loss: 0.3023\n",
      "2023-06-09 23:33:58 | Epoch [19/50], Step [50/80], Loss: 0.3025\n",
      "2023-06-09 23:35:13 | Epoch [19/50], Step [75/80], Loss: 0.3013\n",
      "Start validation #19\n"
     ]
    },
    {
     "data": {
      "application/vnd.jupyter.widget-view+json": {
       "model_id": "3919cbf206aa4516b16bca0fe5dca530",
       "version_major": 2,
       "version_minor": 0
      },
      "text/plain": [
       "HBox(children=(HTML(value=''), FloatProgress(value=0.0, max=80.0), HTML(value='')))"
      ]
     },
     "metadata": {},
     "output_type": "display_data"
    },
    {
     "name": "stdout",
     "output_type": "stream",
     "text": [
      "\n",
      "finger-1    : 0.0002\n",
      "finger-2    : 0.0000\n",
      "finger-3    : 0.0537\n",
      "finger-4    : 0.1607\n",
      "finger-5    : 0.0103\n",
      "finger-6    : 0.0091\n",
      "finger-7    : 0.2948\n",
      "finger-8    : 0.1685\n",
      "finger-9    : 0.0017\n",
      "finger-10   : 0.1691\n",
      "finger-11   : 0.5125\n",
      "finger-12   : 0.1276\n",
      "finger-13   : 0.0000\n",
      "finger-14   : 0.0157\n",
      "finger-15   : 0.0313\n",
      "finger-16   : 0.1726\n",
      "finger-17   : 0.0000\n",
      "finger-18   : 0.0000\n",
      "finger-19   : 0.0027\n",
      "Trapezium   : 0.0045\n",
      "Trapezoid   : 0.0094\n",
      "Capitate    : 0.0373\n",
      "Hamate      : 0.0150\n",
      "Scaphoid    : 0.0276\n",
      "Lunate      : 0.0107\n",
      "Triquetrum  : 0.0072\n",
      "Pisiform    : 0.4395\n",
      "Radius      : 0.6964\n",
      "Ulna        : 0.6508\n",
      "2023-06-09 23:36:33 | Epoch [20/50], Step [0/80]\n",
      "2023-06-09 23:37:50 | Epoch [20/50], Step [25/80], Loss: 0.3014\n",
      "2023-06-09 23:39:06 | Epoch [20/50], Step [50/80], Loss: 0.3013\n",
      "2023-06-09 23:40:22 | Epoch [20/50], Step [75/80], Loss: 0.3006\n",
      "Start validation #20\n"
     ]
    },
    {
     "data": {
      "application/vnd.jupyter.widget-view+json": {
       "model_id": "164b351a52dc4425a11552b21911f6dd",
       "version_major": 2,
       "version_minor": 0
      },
      "text/plain": [
       "HBox(children=(HTML(value=''), FloatProgress(value=0.0, max=80.0), HTML(value='')))"
      ]
     },
     "metadata": {},
     "output_type": "display_data"
    },
    {
     "name": "stdout",
     "output_type": "stream",
     "text": [
      "\n",
      "finger-1    : 0.0000\n",
      "finger-2    : 0.0000\n",
      "finger-3    : 0.0410\n",
      "finger-4    : 0.1199\n",
      "finger-5    : 0.0058\n",
      "finger-6    : 0.0046\n",
      "finger-7    : 0.4120\n",
      "finger-8    : 0.1481\n",
      "finger-9    : 0.0009\n",
      "finger-10   : 0.2335\n",
      "finger-11   : 0.5660\n",
      "finger-12   : 0.1012\n",
      "finger-13   : 0.0000\n",
      "finger-14   : 0.0112\n",
      "finger-15   : 0.0240\n",
      "finger-16   : 0.1359\n",
      "finger-17   : 0.0000\n",
      "finger-18   : 0.0000\n",
      "finger-19   : 0.0013\n",
      "Trapezium   : 0.0041\n",
      "Trapezoid   : 0.0113\n",
      "Capitate    : 0.0416\n",
      "Hamate      : 0.0149\n",
      "Scaphoid    : 0.0347\n",
      "Lunate      : 0.0055\n",
      "Triquetrum  : 0.0056\n",
      "Pisiform    : 0.4079\n",
      "Radius      : 0.7146\n",
      "Ulna        : 0.7208\n",
      "Best performance at epoch: 20, 0.1261 -> 0.1299\n",
      "Save model in /opt/ml/input/code/trained_model/[DeepLabV3Plus_efficientnet-b4]_[size:(512, 512)]_[loss:[(BCEWithLogitsLoss(), 0.5), (SmoothL1Loss(), 0.5)]]_[LR:0.0001]_[seed:21]_[epoch:50]\n",
      "2023-06-09 23:41:43 | Epoch [21/50], Step [0/80]\n",
      "2023-06-09 23:43:03 | Epoch [21/50], Step [25/80], Loss: 0.3008\n",
      "2023-06-09 23:44:19 | Epoch [21/50], Step [50/80], Loss: 0.3006\n",
      "2023-06-09 23:45:35 | Epoch [21/50], Step [75/80], Loss: 0.3002\n",
      "Start validation #21\n"
     ]
    },
    {
     "data": {
      "application/vnd.jupyter.widget-view+json": {
       "model_id": "899fe555691e4122946f756abc503910",
       "version_major": 2,
       "version_minor": 0
      },
      "text/plain": [
       "HBox(children=(HTML(value=''), FloatProgress(value=0.0, max=80.0), HTML(value='')))"
      ]
     },
     "metadata": {},
     "output_type": "display_data"
    },
    {
     "name": "stdout",
     "output_type": "stream",
     "text": [
      "\n",
      "finger-1    : 0.0000\n",
      "finger-2    : 0.0000\n",
      "finger-3    : 0.0317\n",
      "finger-4    : 0.0863\n",
      "finger-5    : 0.0035\n",
      "finger-6    : 0.0024\n",
      "finger-7    : 0.5145\n",
      "finger-8    : 0.1303\n",
      "finger-9    : 0.0006\n",
      "finger-10   : 0.3447\n",
      "finger-11   : 0.6076\n",
      "finger-12   : 0.0811\n",
      "finger-13   : 0.0000\n",
      "finger-14   : 0.0078\n",
      "finger-15   : 0.0201\n",
      "finger-16   : 0.1071\n",
      "finger-17   : 0.0000\n",
      "finger-18   : 0.0000\n",
      "finger-19   : 0.0009\n",
      "Trapezium   : 0.0035\n",
      "Trapezoid   : 0.0131\n",
      "Capitate    : 0.0486\n",
      "Hamate      : 0.0145\n",
      "Scaphoid    : 0.0417\n",
      "Lunate      : 0.0033\n",
      "Triquetrum  : 0.0054\n",
      "Pisiform    : 0.3735\n",
      "Radius      : 0.7356\n",
      "Ulna        : 0.7641\n",
      "Best performance at epoch: 21, 0.1299 -> 0.1359\n",
      "Save model in /opt/ml/input/code/trained_model/[DeepLabV3Plus_efficientnet-b4]_[size:(512, 512)]_[loss:[(BCEWithLogitsLoss(), 0.5), (SmoothL1Loss(), 0.5)]]_[LR:0.0001]_[seed:21]_[epoch:50]\n",
      "2023-06-09 23:46:54 | Epoch [22/50], Step [0/80]\n",
      "2023-06-09 23:48:16 | Epoch [22/50], Step [25/80], Loss: 0.3003\n",
      "2023-06-09 23:49:33 | Epoch [22/50], Step [50/80], Loss: 0.3002\n",
      "2023-06-09 23:50:55 | Epoch [22/50], Step [75/80], Loss: 0.2998\n",
      "Start validation #22\n"
     ]
    },
    {
     "data": {
      "application/vnd.jupyter.widget-view+json": {
       "model_id": "7d6737fe90514711b7ed66bce9ef9b50",
       "version_major": 2,
       "version_minor": 0
      },
      "text/plain": [
       "HBox(children=(HTML(value=''), FloatProgress(value=0.0, max=80.0), HTML(value='')))"
      ]
     },
     "metadata": {},
     "output_type": "display_data"
    },
    {
     "name": "stdout",
     "output_type": "stream",
     "text": [
      "\n",
      "finger-1    : 0.0000\n",
      "finger-2    : 0.0000\n",
      "finger-3    : 0.0248\n",
      "finger-4    : 0.0635\n",
      "finger-5    : 0.0022\n",
      "finger-6    : 0.0015\n",
      "finger-7    : 0.5895\n",
      "finger-8    : 0.1150\n",
      "finger-9    : 0.0003\n",
      "finger-10   : 0.4817\n",
      "finger-11   : 0.6396\n",
      "finger-12   : 0.0666\n",
      "finger-13   : 0.0000\n",
      "finger-14   : 0.0067\n",
      "finger-15   : 0.0202\n",
      "finger-16   : 0.0867\n",
      "finger-17   : 0.0000\n",
      "finger-18   : 0.0000\n",
      "finger-19   : 0.0007\n",
      "Trapezium   : 0.0031\n",
      "Trapezoid   : 0.0128\n",
      "Capitate    : 0.0629\n",
      "Hamate      : 0.0142\n",
      "Scaphoid    : 0.0537\n",
      "Lunate      : 0.0023\n",
      "Triquetrum  : 0.0053\n",
      "Pisiform    : 0.3436\n",
      "Radius      : 0.7542\n",
      "Ulna        : 0.7844\n",
      "Best performance at epoch: 22, 0.1359 -> 0.1426\n",
      "Save model in /opt/ml/input/code/trained_model/[DeepLabV3Plus_efficientnet-b4]_[size:(512, 512)]_[loss:[(BCEWithLogitsLoss(), 0.5), (SmoothL1Loss(), 0.5)]]_[LR:0.0001]_[seed:21]_[epoch:50]\n",
      "2023-06-09 23:52:13 | Epoch [23/50], Step [0/80]\n",
      "2023-06-09 23:53:32 | Epoch [23/50], Step [25/80], Loss: 0.3\n",
      "2023-06-09 23:54:50 | Epoch [23/50], Step [50/80], Loss: 0.2999\n",
      "2023-06-09 23:56:06 | Epoch [23/50], Step [75/80], Loss: 0.2996\n",
      "Start validation #23\n"
     ]
    },
    {
     "data": {
      "application/vnd.jupyter.widget-view+json": {
       "model_id": "357f31cc072740549c6e1127646d0697",
       "version_major": 2,
       "version_minor": 0
      },
      "text/plain": [
       "HBox(children=(HTML(value=''), FloatProgress(value=0.0, max=80.0), HTML(value='')))"
      ]
     },
     "metadata": {},
     "output_type": "display_data"
    },
    {
     "name": "stdout",
     "output_type": "stream",
     "text": [
      "\n",
      "finger-1    : 0.0000\n",
      "finger-2    : 0.0000\n",
      "finger-3    : 0.0200\n",
      "finger-4    : 0.0470\n",
      "finger-5    : 0.0014\n",
      "finger-6    : 0.0012\n",
      "finger-7    : 0.6472\n",
      "finger-8    : 0.0994\n",
      "finger-9    : 0.0003\n",
      "finger-10   : 0.6064\n",
      "finger-11   : 0.6637\n",
      "finger-12   : 0.0546\n",
      "finger-13   : 0.0000\n",
      "finger-14   : 0.0084\n",
      "finger-15   : 0.0250\n",
      "finger-16   : 0.0713\n",
      "finger-17   : 0.0000\n",
      "finger-18   : 0.0000\n",
      "finger-19   : 0.0006\n",
      "Trapezium   : 0.0028\n",
      "Trapezoid   : 0.0121\n",
      "Capitate    : 0.0884\n",
      "Hamate      : 0.0143\n",
      "Scaphoid    : 0.0741\n",
      "Lunate      : 0.0018\n",
      "Triquetrum  : 0.0057\n",
      "Pisiform    : 0.3203\n",
      "Radius      : 0.7708\n",
      "Ulna        : 0.7871\n",
      "Best performance at epoch: 23, 0.1426 -> 0.1491\n",
      "Save model in /opt/ml/input/code/trained_model/[DeepLabV3Plus_efficientnet-b4]_[size:(512, 512)]_[loss:[(BCEWithLogitsLoss(), 0.5), (SmoothL1Loss(), 0.5)]]_[LR:0.0001]_[seed:21]_[epoch:50]\n",
      "2023-06-09 23:57:26 | Epoch [24/50], Step [0/80]\n",
      "2023-06-09 23:58:49 | Epoch [24/50], Step [25/80], Loss: 0.2997\n",
      "2023-06-10 00:00:09 | Epoch [24/50], Step [50/80], Loss: 0.2996\n",
      "2023-06-10 00:01:28 | Epoch [24/50], Step [75/80], Loss: 0.2994\n",
      "Start validation #24\n"
     ]
    },
    {
     "data": {
      "application/vnd.jupyter.widget-view+json": {
       "model_id": "1499e0cccda84adda97a398a89c5b937",
       "version_major": 2,
       "version_minor": 0
      },
      "text/plain": [
       "HBox(children=(HTML(value=''), FloatProgress(value=0.0, max=80.0), HTML(value='')))"
      ]
     },
     "metadata": {},
     "output_type": "display_data"
    },
    {
     "name": "stdout",
     "output_type": "stream",
     "text": [
      "\n",
      "finger-1    : 0.0000\n",
      "finger-2    : 0.0000\n",
      "finger-3    : 0.0179\n",
      "finger-4    : 0.0335\n",
      "finger-5    : 0.0008\n",
      "finger-6    : 0.0014\n",
      "finger-7    : 0.6913\n",
      "finger-8    : 0.0843\n",
      "finger-9    : 0.0004\n",
      "finger-10   : 0.6961\n",
      "finger-11   : 0.6802\n",
      "finger-12   : 0.0453\n",
      "finger-13   : 0.0000\n",
      "finger-14   : 0.0155\n",
      "finger-15   : 0.0457\n",
      "finger-16   : 0.0592\n",
      "finger-17   : 0.0000\n",
      "finger-18   : 0.0000\n",
      "finger-19   : 0.0004\n",
      "Trapezium   : 0.0027\n",
      "Trapezoid   : 0.0118\n",
      "Capitate    : 0.1387\n",
      "Hamate      : 0.0147\n",
      "Scaphoid    : 0.1086\n",
      "Lunate      : 0.0017\n",
      "Triquetrum  : 0.0068\n",
      "Pisiform    : 0.3032\n",
      "Radius      : 0.7854\n",
      "Ulna        : 0.7811\n",
      "Best performance at epoch: 24, 0.1491 -> 0.1561\n",
      "Save model in /opt/ml/input/code/trained_model/[DeepLabV3Plus_efficientnet-b4]_[size:(512, 512)]_[loss:[(BCEWithLogitsLoss(), 0.5), (SmoothL1Loss(), 0.5)]]_[LR:0.0001]_[seed:21]_[epoch:50]\n",
      "2023-06-10 00:02:50 | Epoch [25/50], Step [0/80]\n",
      "2023-06-10 00:04:08 | Epoch [25/50], Step [25/80], Loss: 0.2995\n",
      "2023-06-10 00:05:24 | Epoch [25/50], Step [50/80], Loss: 0.2995\n",
      "2023-06-10 00:06:41 | Epoch [25/50], Step [75/80], Loss: 0.2993\n",
      "Start validation #25\n"
     ]
    },
    {
     "data": {
      "application/vnd.jupyter.widget-view+json": {
       "model_id": "75d75f65f61a4765870351c9aa25a41b",
       "version_major": 2,
       "version_minor": 0
      },
      "text/plain": [
       "HBox(children=(HTML(value=''), FloatProgress(value=0.0, max=80.0), HTML(value='')))"
      ]
     },
     "metadata": {},
     "output_type": "display_data"
    },
    {
     "name": "stdout",
     "output_type": "stream",
     "text": [
      "\n",
      "finger-1    : 0.0000\n",
      "finger-2    : 0.0000\n",
      "finger-3    : 0.0174\n",
      "finger-4    : 0.0247\n",
      "finger-5    : 0.0004\n",
      "finger-6    : 0.0021\n",
      "finger-7    : 0.7212\n",
      "finger-8    : 0.0728\n",
      "finger-9    : 0.0017\n",
      "finger-10   : 0.7540\n",
      "finger-11   : 0.6922\n",
      "finger-12   : 0.0372\n",
      "finger-13   : 0.0000\n",
      "finger-14   : 0.0378\n",
      "finger-15   : 0.1202\n",
      "finger-16   : 0.0483\n",
      "finger-17   : 0.0000\n",
      "finger-18   : 0.0000\n",
      "finger-19   : 0.0004\n",
      "Trapezium   : 0.0027\n",
      "Trapezoid   : 0.0116\n",
      "Capitate    : 0.2243\n",
      "Hamate      : 0.0153\n",
      "Scaphoid    : 0.1616\n",
      "Lunate      : 0.0017\n",
      "Triquetrum  : 0.0086\n",
      "Pisiform    : 0.2920\n",
      "Radius      : 0.7973\n",
      "Ulna        : 0.7719\n",
      "Best performance at epoch: 25, 0.1561 -> 0.1661\n",
      "Save model in /opt/ml/input/code/trained_model/[DeepLabV3Plus_efficientnet-b4]_[size:(512, 512)]_[loss:[(BCEWithLogitsLoss(), 0.5), (SmoothL1Loss(), 0.5)]]_[LR:0.0001]_[seed:21]_[epoch:50]\n",
      "2023-06-10 00:08:01 | Epoch [26/50], Step [0/80]\n",
      "2023-06-10 00:09:21 | Epoch [26/50], Step [25/80], Loss: 0.2993\n",
      "2023-06-10 00:10:38 | Epoch [26/50], Step [50/80], Loss: 0.2993\n",
      "2023-06-10 00:11:55 | Epoch [26/50], Step [75/80], Loss: 0.2991\n",
      "Start validation #26\n"
     ]
    },
    {
     "data": {
      "application/vnd.jupyter.widget-view+json": {
       "model_id": "70fcfe3225b0486a81e67d6586758a99",
       "version_major": 2,
       "version_minor": 0
      },
      "text/plain": [
       "HBox(children=(HTML(value=''), FloatProgress(value=0.0, max=80.0), HTML(value='')))"
      ]
     },
     "metadata": {},
     "output_type": "display_data"
    },
    {
     "name": "stdout",
     "output_type": "stream",
     "text": [
      "\n",
      "finger-1    : 0.0000\n",
      "finger-2    : 0.0000\n",
      "finger-3    : 0.0183\n",
      "finger-4    : 0.0185\n",
      "finger-5    : 0.0002\n",
      "finger-6    : 0.0056\n",
      "finger-7    : 0.7384\n",
      "finger-8    : 0.0655\n",
      "finger-9    : 0.0056\n",
      "finger-10   : 0.7797\n",
      "finger-11   : 0.6999\n",
      "finger-12   : 0.0319\n",
      "finger-13   : 0.0000\n",
      "finger-14   : 0.0861\n",
      "finger-15   : 0.2272\n",
      "finger-16   : 0.0400\n",
      "finger-17   : 0.0000\n",
      "finger-18   : 0.0000\n",
      "finger-19   : 0.0003\n",
      "Trapezium   : 0.0029\n",
      "Trapezoid   : 0.0115\n",
      "Capitate    : 0.3377\n",
      "Hamate      : 0.0159\n",
      "Scaphoid    : 0.2313\n",
      "Lunate      : 0.0021\n",
      "Triquetrum  : 0.0116\n",
      "Pisiform    : 0.2833\n",
      "Radius      : 0.8067\n",
      "Ulna        : 0.7647\n",
      "Best performance at epoch: 26, 0.1661 -> 0.1788\n",
      "Save model in /opt/ml/input/code/trained_model/[DeepLabV3Plus_efficientnet-b4]_[size:(512, 512)]_[loss:[(BCEWithLogitsLoss(), 0.5), (SmoothL1Loss(), 0.5)]]_[LR:0.0001]_[seed:21]_[epoch:50]\n",
      "2023-06-10 00:13:13 | Epoch [27/50], Step [0/80]\n",
      "2023-06-10 00:14:32 | Epoch [27/50], Step [25/80], Loss: 0.2992\n",
      "2023-06-10 00:15:49 | Epoch [27/50], Step [50/80], Loss: 0.2992\n",
      "2023-06-10 00:17:06 | Epoch [27/50], Step [75/80], Loss: 0.299\n",
      "Start validation #27\n"
     ]
    },
    {
     "data": {
      "application/vnd.jupyter.widget-view+json": {
       "model_id": "365e62aa6155469dbc9b66a2b95db0f3",
       "version_major": 2,
       "version_minor": 0
      },
      "text/plain": [
       "HBox(children=(HTML(value=''), FloatProgress(value=0.0, max=80.0), HTML(value='')))"
      ]
     },
     "metadata": {},
     "output_type": "display_data"
    },
    {
     "name": "stdout",
     "output_type": "stream",
     "text": [
      "\n",
      "finger-1    : 0.0000\n",
      "finger-2    : 0.0000\n",
      "finger-3    : 0.0218\n",
      "finger-4    : 0.0136\n",
      "finger-5    : 0.0001\n",
      "finger-6    : 0.0182\n",
      "finger-7    : 0.7463\n",
      "finger-8    : 0.0605\n",
      "finger-9    : 0.0191\n",
      "finger-10   : 0.7896\n",
      "finger-11   : 0.7051\n",
      "finger-12   : 0.0279\n",
      "finger-13   : 0.0000\n",
      "finger-14   : 0.1607\n",
      "finger-15   : 0.3036\n",
      "finger-16   : 0.0333\n",
      "finger-17   : 0.0000\n",
      "finger-18   : 0.0000\n",
      "finger-19   : 0.0002\n",
      "Trapezium   : 0.0073\n",
      "Trapezoid   : 0.0117\n",
      "Capitate    : 0.4573\n",
      "Hamate      : 0.0166\n",
      "Scaphoid    : 0.3071\n",
      "Lunate      : 0.0033\n",
      "Triquetrum  : 0.0184\n",
      "Pisiform    : 0.2839\n",
      "Radius      : 0.8138\n",
      "Ulna        : 0.7613\n",
      "Best performance at epoch: 27, 0.1788 -> 0.1924\n",
      "Save model in /opt/ml/input/code/trained_model/[DeepLabV3Plus_efficientnet-b4]_[size:(512, 512)]_[loss:[(BCEWithLogitsLoss(), 0.5), (SmoothL1Loss(), 0.5)]]_[LR:0.0001]_[seed:21]_[epoch:50]\n",
      "2023-06-10 00:18:26 | Epoch [28/50], Step [0/80]\n",
      "2023-06-10 00:19:54 | Epoch [28/50], Step [25/80], Loss: 0.299\n",
      "2023-06-10 00:21:16 | Epoch [28/50], Step [50/80], Loss: 0.2991\n",
      "2023-06-10 00:22:34 | Epoch [28/50], Step [75/80], Loss: 0.2989\n",
      "Start validation #28\n"
     ]
    },
    {
     "data": {
      "application/vnd.jupyter.widget-view+json": {
       "model_id": "f01e44223d7d4641b43c066b440ad697",
       "version_major": 2,
       "version_minor": 0
      },
      "text/plain": [
       "HBox(children=(HTML(value=''), FloatProgress(value=0.0, max=80.0), HTML(value='')))"
      ]
     },
     "metadata": {},
     "output_type": "display_data"
    },
    {
     "name": "stdout",
     "output_type": "stream",
     "text": [
      "\n",
      "finger-1    : 0.0000\n",
      "finger-2    : 0.0000\n",
      "finger-3    : 0.0315\n",
      "finger-4    : 0.0106\n",
      "finger-5    : 0.0000\n",
      "finger-6    : 0.0514\n",
      "finger-7    : 0.7480\n",
      "finger-8    : 0.0573\n",
      "finger-9    : 0.0496\n",
      "finger-10   : 0.7911\n",
      "finger-11   : 0.7099\n",
      "finger-12   : 0.0244\n",
      "finger-13   : 0.0000\n",
      "finger-14   : 0.2538\n",
      "finger-15   : 0.3446\n",
      "finger-16   : 0.0279\n",
      "finger-17   : 0.0000\n",
      "finger-18   : 0.0000\n",
      "finger-19   : 0.0002\n",
      "Trapezium   : 0.0286\n",
      "Trapezoid   : 0.0125\n",
      "Capitate    : 0.5662\n",
      "Hamate      : 0.0177\n",
      "Scaphoid    : 0.3725\n",
      "Lunate      : 0.0075\n",
      "Triquetrum  : 0.0298\n",
      "Pisiform    : 0.2931\n",
      "Radius      : 0.8196\n",
      "Ulna        : 0.7591\n",
      "Best performance at epoch: 28, 0.1924 -> 0.2071\n",
      "Save model in /opt/ml/input/code/trained_model/[DeepLabV3Plus_efficientnet-b4]_[size:(512, 512)]_[loss:[(BCEWithLogitsLoss(), 0.5), (SmoothL1Loss(), 0.5)]]_[LR:0.0001]_[seed:21]_[epoch:50]\n",
      "2023-06-10 00:23:54 | Epoch [29/50], Step [0/80]\n",
      "2023-06-10 00:25:12 | Epoch [29/50], Step [25/80], Loss: 0.2989\n",
      "2023-06-10 00:26:28 | Epoch [29/50], Step [50/80], Loss: 0.2989\n",
      "2023-06-10 00:27:49 | Epoch [29/50], Step [75/80], Loss: 0.2988\n",
      "Start validation #29\n"
     ]
    },
    {
     "data": {
      "application/vnd.jupyter.widget-view+json": {
       "model_id": "ab66fd8ff1b9454d935b216115785087",
       "version_major": 2,
       "version_minor": 0
      },
      "text/plain": [
       "HBox(children=(HTML(value=''), FloatProgress(value=0.0, max=80.0), HTML(value='')))"
      ]
     },
     "metadata": {},
     "output_type": "display_data"
    },
    {
     "name": "stdout",
     "output_type": "stream",
     "text": [
      "\n",
      "finger-1    : 0.0000\n",
      "finger-2    : 0.0000\n",
      "finger-3    : 0.0643\n",
      "finger-4    : 0.0085\n",
      "finger-5    : 0.0000\n",
      "finger-6    : 0.1251\n",
      "finger-7    : 0.7462\n",
      "finger-8    : 0.0567\n",
      "finger-9    : 0.1198\n",
      "finger-10   : 0.7884\n",
      "finger-11   : 0.7128\n",
      "finger-12   : 0.0217\n",
      "finger-13   : 0.0000\n",
      "finger-14   : 0.3472\n",
      "finger-15   : 0.3672\n",
      "finger-16   : 0.0233\n",
      "finger-17   : 0.0000\n",
      "finger-18   : 0.0000\n",
      "finger-19   : 0.0002\n",
      "Trapezium   : 0.1164\n",
      "Trapezoid   : 0.0202\n",
      "Capitate    : 0.6504\n",
      "Hamate      : 0.0196\n",
      "Scaphoid    : 0.4291\n",
      "Lunate      : 0.0205\n",
      "Triquetrum  : 0.0491\n",
      "Pisiform    : 0.3100\n",
      "Radius      : 0.8243\n",
      "Ulna        : 0.7575\n",
      "Best performance at epoch: 29, 0.2071 -> 0.2268\n",
      "Save model in /opt/ml/input/code/trained_model/[DeepLabV3Plus_efficientnet-b4]_[size:(512, 512)]_[loss:[(BCEWithLogitsLoss(), 0.5), (SmoothL1Loss(), 0.5)]]_[LR:0.0001]_[seed:21]_[epoch:50]\n",
      "2023-06-10 00:29:09 | Epoch [30/50], Step [0/80]\n",
      "2023-06-10 00:30:28 | Epoch [30/50], Step [25/80], Loss: 0.2988\n",
      "2023-06-10 00:31:45 | Epoch [30/50], Step [50/80], Loss: 0.2988\n",
      "2023-06-10 00:33:02 | Epoch [30/50], Step [75/80], Loss: 0.2987\n",
      "Start validation #30\n"
     ]
    },
    {
     "data": {
      "application/vnd.jupyter.widget-view+json": {
       "model_id": "fcb50a30ed3d479d8d0bc5f95f9308f8",
       "version_major": 2,
       "version_minor": 0
      },
      "text/plain": [
       "HBox(children=(HTML(value=''), FloatProgress(value=0.0, max=80.0), HTML(value='')))"
      ]
     },
     "metadata": {},
     "output_type": "display_data"
    },
    {
     "name": "stdout",
     "output_type": "stream",
     "text": [
      "\n",
      "finger-1    : 0.0000\n",
      "finger-2    : 0.0000\n",
      "finger-3    : 0.1736\n",
      "finger-4    : 0.0073\n",
      "finger-5    : 0.0000\n",
      "finger-6    : 0.2642\n",
      "finger-7    : 0.7444\n",
      "finger-8    : 0.0570\n",
      "finger-9    : 0.2452\n",
      "finger-10   : 0.7841\n",
      "finger-11   : 0.7152\n",
      "finger-12   : 0.0195\n",
      "finger-13   : 0.0000\n",
      "finger-14   : 0.4565\n",
      "finger-15   : 0.3784\n",
      "finger-16   : 0.0198\n",
      "finger-17   : 0.0000\n",
      "finger-18   : 0.0000\n",
      "finger-19   : 0.0003\n",
      "Trapezium   : 0.2273\n",
      "Trapezoid   : 0.0383\n",
      "Capitate    : 0.7023\n",
      "Hamate      : 0.0240\n",
      "Scaphoid    : 0.4799\n",
      "Lunate      : 0.0428\n",
      "Triquetrum  : 0.0796\n",
      "Pisiform    : 0.3363\n",
      "Radius      : 0.8283\n",
      "Ulna        : 0.7565\n",
      "Best performance at epoch: 30, 0.2268 -> 0.2545\n",
      "Save model in /opt/ml/input/code/trained_model/[DeepLabV3Plus_efficientnet-b4]_[size:(512, 512)]_[loss:[(BCEWithLogitsLoss(), 0.5), (SmoothL1Loss(), 0.5)]]_[LR:0.0001]_[seed:21]_[epoch:50]\n",
      "2023-06-10 00:34:22 | Epoch [31/50], Step [0/80]\n",
      "2023-06-10 00:35:39 | Epoch [31/50], Step [25/80], Loss: 0.2987\n",
      "2023-06-10 00:36:54 | Epoch [31/50], Step [50/80], Loss: 0.2987\n",
      "2023-06-10 00:38:10 | Epoch [31/50], Step [75/80], Loss: 0.2986\n",
      "Start validation #31\n"
     ]
    },
    {
     "data": {
      "application/vnd.jupyter.widget-view+json": {
       "model_id": "47cbbb1d49484795ac323fef28b3b65c",
       "version_major": 2,
       "version_minor": 0
      },
      "text/plain": [
       "HBox(children=(HTML(value=''), FloatProgress(value=0.0, max=80.0), HTML(value='')))"
      ]
     },
     "metadata": {},
     "output_type": "display_data"
    },
    {
     "name": "stdout",
     "output_type": "stream",
     "text": [
      "\n",
      "finger-1    : 0.0000\n",
      "finger-2    : 0.0000\n",
      "finger-3    : 0.3537\n",
      "finger-4    : 0.0067\n",
      "finger-5    : 0.0000\n",
      "finger-6    : 0.4622\n",
      "finger-7    : 0.7446\n",
      "finger-8    : 0.0581\n",
      "finger-9    : 0.3883\n",
      "finger-10   : 0.7792\n",
      "finger-11   : 0.7175\n",
      "finger-12   : 0.0173\n",
      "finger-13   : 0.0000\n",
      "finger-14   : 0.5589\n",
      "finger-15   : 0.3862\n",
      "finger-16   : 0.0171\n",
      "finger-17   : 0.0000\n",
      "finger-18   : 0.0000\n",
      "finger-19   : 0.0005\n",
      "Trapezium   : 0.3311\n",
      "Trapezoid   : 0.0748\n",
      "Capitate    : 0.7270\n",
      "Hamate      : 0.0367\n",
      "Scaphoid    : 0.5255\n",
      "Lunate      : 0.0843\n",
      "Triquetrum  : 0.1260\n",
      "Pisiform    : 0.3697\n",
      "Radius      : 0.8321\n",
      "Ulna        : 0.7561\n",
      "Best performance at epoch: 31, 0.2545 -> 0.2881\n",
      "Save model in /opt/ml/input/code/trained_model/[DeepLabV3Plus_efficientnet-b4]_[size:(512, 512)]_[loss:[(BCEWithLogitsLoss(), 0.5), (SmoothL1Loss(), 0.5)]]_[LR:0.0001]_[seed:21]_[epoch:50]\n",
      "2023-06-10 00:39:28 | Epoch [32/50], Step [0/80]\n",
      "2023-06-10 00:40:47 | Epoch [32/50], Step [25/80], Loss: 0.2986\n",
      "2023-06-10 00:42:04 | Epoch [32/50], Step [50/80], Loss: 0.2986\n",
      "2023-06-10 00:43:21 | Epoch [32/50], Step [75/80], Loss: 0.2985\n",
      "Start validation #32\n"
     ]
    },
    {
     "data": {
      "application/vnd.jupyter.widget-view+json": {
       "model_id": "af5b2f7b12d84abcbab02adbe6aa4b6b",
       "version_major": 2,
       "version_minor": 0
      },
      "text/plain": [
       "HBox(children=(HTML(value=''), FloatProgress(value=0.0, max=80.0), HTML(value='')))"
      ]
     },
     "metadata": {},
     "output_type": "display_data"
    },
    {
     "name": "stdout",
     "output_type": "stream",
     "text": [
      "\n",
      "finger-1    : 0.0000\n",
      "finger-2    : 0.0000\n",
      "finger-3    : 0.5057\n",
      "finger-4    : 0.0061\n",
      "finger-5    : 0.0000\n",
      "finger-6    : 0.6085\n",
      "finger-7    : 0.7461\n",
      "finger-8    : 0.0597\n",
      "finger-9    : 0.5116\n",
      "finger-10   : 0.7745\n",
      "finger-11   : 0.7211\n",
      "finger-12   : 0.0154\n",
      "finger-13   : 0.0000\n",
      "finger-14   : 0.6346\n",
      "finger-15   : 0.4803\n",
      "finger-16   : 0.0141\n",
      "finger-17   : 0.0000\n",
      "finger-18   : 0.0000\n",
      "finger-19   : 0.0011\n",
      "Trapezium   : 0.4194\n",
      "Trapezoid   : 0.1268\n",
      "Capitate    : 0.7377\n",
      "Hamate      : 0.0734\n",
      "Scaphoid    : 0.5653\n",
      "Lunate      : 0.1406\n",
      "Triquetrum  : 0.1831\n",
      "Pisiform    : 0.4024\n",
      "Radius      : 0.8349\n",
      "Ulna        : 0.7568\n",
      "Best performance at epoch: 32, 0.2881 -> 0.3213\n",
      "Save model in /opt/ml/input/code/trained_model/[DeepLabV3Plus_efficientnet-b4]_[size:(512, 512)]_[loss:[(BCEWithLogitsLoss(), 0.5), (SmoothL1Loss(), 0.5)]]_[LR:0.0001]_[seed:21]_[epoch:50]\n",
      "2023-06-10 00:44:42 | Epoch [33/50], Step [0/80]\n",
      "2023-06-10 00:46:01 | Epoch [33/50], Step [25/80], Loss: 0.2985\n",
      "2023-06-10 00:47:17 | Epoch [33/50], Step [50/80], Loss: 0.2985\n",
      "2023-06-10 00:48:33 | Epoch [33/50], Step [75/80], Loss: 0.2984\n",
      "Start validation #33\n"
     ]
    },
    {
     "data": {
      "application/vnd.jupyter.widget-view+json": {
       "model_id": "c925a387ec0f4b1695ecf20b87e52931",
       "version_major": 2,
       "version_minor": 0
      },
      "text/plain": [
       "HBox(children=(HTML(value=''), FloatProgress(value=0.0, max=80.0), HTML(value='')))"
      ]
     },
     "metadata": {},
     "output_type": "display_data"
    },
    {
     "name": "stdout",
     "output_type": "stream",
     "text": [
      "\n",
      "finger-1    : 0.0000\n",
      "finger-2    : 0.0000\n",
      "finger-3    : 0.6396\n",
      "finger-4    : 0.0054\n",
      "finger-5    : 0.0000\n",
      "finger-6    : 0.6765\n",
      "finger-7    : 0.7472\n",
      "finger-8    : 0.0609\n",
      "finger-9    : 0.6013\n",
      "finger-10   : 0.7704\n",
      "finger-11   : 0.7256\n",
      "finger-12   : 0.0136\n",
      "finger-13   : 0.0000\n",
      "finger-14   : 0.6763\n",
      "finger-15   : 0.6275\n",
      "finger-16   : 0.0114\n",
      "finger-17   : 0.0000\n",
      "finger-18   : 0.0000\n",
      "finger-19   : 0.0102\n",
      "Trapezium   : 0.4961\n",
      "Trapezoid   : 0.1768\n",
      "Capitate    : 0.7390\n",
      "Hamate      : 0.1405\n",
      "Scaphoid    : 0.5965\n",
      "Lunate      : 0.2016\n",
      "Triquetrum  : 0.2550\n",
      "Pisiform    : 0.4355\n",
      "Radius      : 0.8380\n",
      "Ulna        : 0.7579\n",
      "Best performance at epoch: 33, 0.3213 -> 0.3518\n",
      "Save model in /opt/ml/input/code/trained_model/[DeepLabV3Plus_efficientnet-b4]_[size:(512, 512)]_[loss:[(BCEWithLogitsLoss(), 0.5), (SmoothL1Loss(), 0.5)]]_[LR:0.0001]_[seed:21]_[epoch:50]\n",
      "2023-06-10 00:49:52 | Epoch [34/50], Step [0/80]\n",
      "2023-06-10 00:51:09 | Epoch [34/50], Step [25/80], Loss: 0.2984\n",
      "2023-06-10 00:52:27 | Epoch [34/50], Step [50/80], Loss: 0.2984\n",
      "2023-06-10 00:53:43 | Epoch [34/50], Step [75/80], Loss: 0.2983\n",
      "Start validation #34\n"
     ]
    },
    {
     "data": {
      "application/vnd.jupyter.widget-view+json": {
       "model_id": "45b0389052214061ae71ea2f95e2f6fc",
       "version_major": 2,
       "version_minor": 0
      },
      "text/plain": [
       "HBox(children=(HTML(value=''), FloatProgress(value=0.0, max=80.0), HTML(value='')))"
      ]
     },
     "metadata": {},
     "output_type": "display_data"
    },
    {
     "name": "stdout",
     "output_type": "stream",
     "text": [
      "\n",
      "finger-1    : 0.0000\n",
      "finger-2    : 0.0015\n",
      "finger-3    : 0.7047\n",
      "finger-4    : 0.0051\n",
      "finger-5    : 0.0001\n",
      "finger-6    : 0.7110\n",
      "finger-7    : 0.7502\n",
      "finger-8    : 0.0628\n",
      "finger-9    : 0.6616\n",
      "finger-10   : 0.7674\n",
      "finger-11   : 0.7316\n",
      "finger-12   : 0.0121\n",
      "finger-13   : 0.0000\n",
      "finger-14   : 0.6981\n",
      "finger-15   : 0.7043\n",
      "finger-16   : 0.0096\n",
      "finger-17   : 0.0000\n",
      "finger-18   : 0.0003\n",
      "finger-19   : 0.1302\n",
      "Trapezium   : 0.5489\n",
      "Trapezoid   : 0.2232\n",
      "Capitate    : 0.7369\n",
      "Hamate      : 0.2654\n",
      "Scaphoid    : 0.6236\n",
      "Lunate      : 0.2669\n",
      "Triquetrum  : 0.3276\n",
      "Pisiform    : 0.4654\n",
      "Radius      : 0.8421\n",
      "Ulna        : 0.7589\n",
      "Best performance at epoch: 34, 0.3518 -> 0.3796\n",
      "Save model in /opt/ml/input/code/trained_model/[DeepLabV3Plus_efficientnet-b4]_[size:(512, 512)]_[loss:[(BCEWithLogitsLoss(), 0.5), (SmoothL1Loss(), 0.5)]]_[LR:0.0001]_[seed:21]_[epoch:50]\n",
      "2023-06-10 00:55:03 | Epoch [35/50], Step [0/80]\n",
      "2023-06-10 00:56:21 | Epoch [35/50], Step [25/80], Loss: 0.2983\n",
      "2023-06-10 00:57:39 | Epoch [35/50], Step [50/80], Loss: 0.2983\n",
      "2023-06-10 00:58:56 | Epoch [35/50], Step [75/80], Loss: 0.2982\n",
      "Start validation #35\n"
     ]
    },
    {
     "data": {
      "application/vnd.jupyter.widget-view+json": {
       "model_id": "e76690da0dcc42f3b9839815813addb0",
       "version_major": 2,
       "version_minor": 0
      },
      "text/plain": [
       "HBox(children=(HTML(value=''), FloatProgress(value=0.0, max=80.0), HTML(value='')))"
      ]
     },
     "metadata": {},
     "output_type": "display_data"
    },
    {
     "name": "stdout",
     "output_type": "stream",
     "text": [
      "\n",
      "finger-1    : 0.0000\n",
      "finger-2    : 0.0199\n",
      "finger-3    : 0.7325\n",
      "finger-4    : 0.0051\n",
      "finger-5    : 0.0004\n",
      "finger-6    : 0.7260\n",
      "finger-7    : 0.7490\n",
      "finger-8    : 0.0652\n",
      "finger-9    : 0.6994\n",
      "finger-10   : 0.7656\n",
      "finger-11   : 0.7376\n",
      "finger-12   : 0.0106\n",
      "finger-13   : 0.0000\n",
      "finger-14   : 0.7116\n",
      "finger-15   : 0.7334\n",
      "finger-16   : 0.0074\n",
      "finger-17   : 0.0000\n",
      "finger-18   : 0.0052\n",
      "finger-19   : 0.3039\n",
      "Trapezium   : 0.5897\n",
      "Trapezoid   : 0.2661\n",
      "Capitate    : 0.7347\n",
      "Hamate      : 0.4403\n",
      "Scaphoid    : 0.6478\n",
      "Lunate      : 0.3266\n",
      "Triquetrum  : 0.3955\n",
      "Pisiform    : 0.4931\n",
      "Radius      : 0.8443\n",
      "Ulna        : 0.7591\n",
      "Best performance at epoch: 35, 0.3796 -> 0.4059\n",
      "Save model in /opt/ml/input/code/trained_model/[DeepLabV3Plus_efficientnet-b4]_[size:(512, 512)]_[loss:[(BCEWithLogitsLoss(), 0.5), (SmoothL1Loss(), 0.5)]]_[LR:0.0001]_[seed:21]_[epoch:50]\n",
      "2023-06-10 01:00:15 | Epoch [36/50], Step [0/80]\n",
      "2023-06-10 01:01:32 | Epoch [36/50], Step [25/80], Loss: 0.2983\n",
      "2023-06-10 01:02:49 | Epoch [36/50], Step [50/80], Loss: 0.2983\n",
      "2023-06-10 01:04:11 | Epoch [36/50], Step [75/80], Loss: 0.2981\n",
      "Start validation #36\n"
     ]
    },
    {
     "data": {
      "application/vnd.jupyter.widget-view+json": {
       "model_id": "dbbc6d71285f4a4c8f6d79fb279a5d2c",
       "version_major": 2,
       "version_minor": 0
      },
      "text/plain": [
       "HBox(children=(HTML(value=''), FloatProgress(value=0.0, max=80.0), HTML(value='')))"
      ]
     },
     "metadata": {},
     "output_type": "display_data"
    },
    {
     "name": "stdout",
     "output_type": "stream",
     "text": [
      "\n",
      "finger-1    : 0.0000\n",
      "finger-2    : 0.0953\n",
      "finger-3    : 0.7462\n",
      "finger-4    : 0.0051\n",
      "finger-5    : 0.0023\n",
      "finger-6    : 0.7339\n",
      "finger-7    : 0.7536\n",
      "finger-8    : 0.0689\n",
      "finger-9    : 0.7227\n",
      "finger-10   : 0.7644\n",
      "finger-11   : 0.7441\n",
      "finger-12   : 0.0097\n",
      "finger-13   : 0.0000\n",
      "finger-14   : 0.7218\n",
      "finger-15   : 0.7448\n",
      "finger-16   : 0.0072\n",
      "finger-17   : 0.0000\n",
      "finger-18   : 0.0287\n",
      "finger-19   : 0.3814\n",
      "Trapezium   : 0.6242\n",
      "Trapezoid   : 0.3324\n",
      "Capitate    : 0.7340\n",
      "Hamate      : 0.5912\n",
      "Scaphoid    : 0.6639\n",
      "Lunate      : 0.3738\n",
      "Triquetrum  : 0.4592\n",
      "Pisiform    : 0.5141\n",
      "Radius      : 0.8469\n",
      "Ulna        : 0.7618\n",
      "Best performance at epoch: 36, 0.4059 -> 0.4287\n",
      "Save model in /opt/ml/input/code/trained_model/[DeepLabV3Plus_efficientnet-b4]_[size:(512, 512)]_[loss:[(BCEWithLogitsLoss(), 0.5), (SmoothL1Loss(), 0.5)]]_[LR:0.0001]_[seed:21]_[epoch:50]\n",
      "2023-06-10 01:05:31 | Epoch [37/50], Step [0/80]\n",
      "2023-06-10 01:06:50 | Epoch [37/50], Step [25/80], Loss: 0.2982\n",
      "2023-06-10 01:08:13 | Epoch [37/50], Step [50/80], Loss: 0.2982\n",
      "2023-06-10 01:09:33 | Epoch [37/50], Step [75/80], Loss: 0.2981\n",
      "Start validation #37\n"
     ]
    },
    {
     "data": {
      "application/vnd.jupyter.widget-view+json": {
       "model_id": "d4cd1e306a594dd7b1f5fecc3450c321",
       "version_major": 2,
       "version_minor": 0
      },
      "text/plain": [
       "HBox(children=(HTML(value=''), FloatProgress(value=0.0, max=80.0), HTML(value='')))"
      ]
     },
     "metadata": {},
     "output_type": "display_data"
    },
    {
     "name": "stdout",
     "output_type": "stream",
     "text": [
      "\n",
      "finger-1    : 0.0000\n",
      "finger-2    : 0.2477\n",
      "finger-3    : 0.7477\n",
      "finger-4    : 0.0062\n",
      "finger-5    : 0.0123\n",
      "finger-6    : 0.7335\n",
      "finger-7    : 0.7588\n",
      "finger-8    : 0.0747\n",
      "finger-9    : 0.7376\n",
      "finger-10   : 0.7628\n",
      "finger-11   : 0.7492\n",
      "finger-12   : 0.0089\n",
      "finger-13   : 0.0000\n",
      "finger-14   : 0.7304\n",
      "finger-15   : 0.7496\n",
      "finger-16   : 0.0061\n",
      "finger-17   : 0.0000\n",
      "finger-18   : 0.0796\n",
      "finger-19   : 0.4611\n",
      "Trapezium   : 0.6444\n",
      "Trapezoid   : 0.4164\n",
      "Capitate    : 0.7349\n",
      "Hamate      : 0.6668\n",
      "Scaphoid    : 0.6722\n",
      "Lunate      : 0.4171\n",
      "Triquetrum  : 0.5258\n",
      "Pisiform    : 0.5364\n",
      "Radius      : 0.8499\n",
      "Ulna        : 0.7635\n",
      "Best performance at epoch: 37, 0.4287 -> 0.4515\n",
      "Save model in /opt/ml/input/code/trained_model/[DeepLabV3Plus_efficientnet-b4]_[size:(512, 512)]_[loss:[(BCEWithLogitsLoss(), 0.5), (SmoothL1Loss(), 0.5)]]_[LR:0.0001]_[seed:21]_[epoch:50]\n",
      "2023-06-10 01:10:53 | Epoch [38/50], Step [0/80]\n",
      "2023-06-10 01:12:12 | Epoch [38/50], Step [25/80], Loss: 0.2981\n",
      "2023-06-10 01:13:32 | Epoch [38/50], Step [50/80], Loss: 0.2981\n",
      "2023-06-10 01:14:49 | Epoch [38/50], Step [75/80], Loss: 0.298\n",
      "Start validation #38\n"
     ]
    },
    {
     "data": {
      "application/vnd.jupyter.widget-view+json": {
       "model_id": "f4abe61cc65c46a3b3bac4f3e6a5c6a0",
       "version_major": 2,
       "version_minor": 0
      },
      "text/plain": [
       "HBox(children=(HTML(value=''), FloatProgress(value=0.0, max=80.0), HTML(value='')))"
      ]
     },
     "metadata": {},
     "output_type": "display_data"
    },
    {
     "name": "stdout",
     "output_type": "stream",
     "text": [
      "\n",
      "finger-1    : 0.0000\n",
      "finger-2    : 0.3991\n",
      "finger-3    : 0.7451\n",
      "finger-4    : 0.0076\n",
      "finger-5    : 0.0535\n",
      "finger-6    : 0.7304\n",
      "finger-7    : 0.7605\n",
      "finger-8    : 0.0833\n",
      "finger-9    : 0.7472\n",
      "finger-10   : 0.7626\n",
      "finger-11   : 0.7543\n",
      "finger-12   : 0.0087\n",
      "finger-13   : 0.0002\n",
      "finger-14   : 0.7359\n",
      "finger-15   : 0.7522\n",
      "finger-16   : 0.0052\n",
      "finger-17   : 0.0000\n",
      "finger-18   : 0.1737\n",
      "finger-19   : 0.6530\n",
      "Trapezium   : 0.6548\n",
      "Trapezoid   : 0.4897\n",
      "Capitate    : 0.7363\n",
      "Hamate      : 0.7016\n",
      "Scaphoid    : 0.6791\n",
      "Lunate      : 0.4538\n",
      "Triquetrum  : 0.5835\n",
      "Pisiform    : 0.5574\n",
      "Radius      : 0.8520\n",
      "Ulna        : 0.7657\n",
      "Best performance at epoch: 38, 0.4515 -> 0.4775\n",
      "Save model in /opt/ml/input/code/trained_model/[DeepLabV3Plus_efficientnet-b4]_[size:(512, 512)]_[loss:[(BCEWithLogitsLoss(), 0.5), (SmoothL1Loss(), 0.5)]]_[LR:0.0001]_[seed:21]_[epoch:50]\n",
      "2023-06-10 01:16:09 | Epoch [39/50], Step [0/80]\n",
      "2023-06-10 01:17:27 | Epoch [39/50], Step [25/80], Loss: 0.298\n",
      "2023-06-10 01:18:45 | Epoch [39/50], Step [50/80], Loss: 0.298\n",
      "2023-06-10 01:20:02 | Epoch [39/50], Step [75/80], Loss: 0.2979\n",
      "Start validation #39\n"
     ]
    },
    {
     "data": {
      "application/vnd.jupyter.widget-view+json": {
       "model_id": "9034c183d24c42d7a9085d6195a907a6",
       "version_major": 2,
       "version_minor": 0
      },
      "text/plain": [
       "HBox(children=(HTML(value=''), FloatProgress(value=0.0, max=80.0), HTML(value='')))"
      ]
     },
     "metadata": {},
     "output_type": "display_data"
    },
    {
     "name": "stdout",
     "output_type": "stream",
     "text": [
      "\n",
      "finger-1    : 0.0000\n",
      "finger-2    : 0.5447\n",
      "finger-3    : 0.7408\n",
      "finger-4    : 0.0105\n",
      "finger-5    : 0.1447\n",
      "finger-6    : 0.7265\n",
      "finger-7    : 0.7622\n",
      "finger-8    : 0.0947\n",
      "finger-9    : 0.7528\n",
      "finger-10   : 0.7625\n",
      "finger-11   : 0.7590\n",
      "finger-12   : 0.0087\n",
      "finger-13   : 0.0009\n",
      "finger-14   : 0.7383\n",
      "finger-15   : 0.7540\n",
      "finger-16   : 0.0042\n",
      "finger-17   : 0.0000\n",
      "finger-18   : 0.3252\n",
      "finger-19   : 0.7478\n",
      "Trapezium   : 0.6624\n",
      "Trapezoid   : 0.5510\n",
      "Capitate    : 0.7381\n",
      "Hamate      : 0.7169\n",
      "Scaphoid    : 0.6838\n",
      "Lunate      : 0.4921\n",
      "Triquetrum  : 0.6395\n",
      "Pisiform    : 0.5789\n",
      "Radius      : 0.8537\n",
      "Ulna        : 0.7677\n",
      "Best performance at epoch: 39, 0.4775 -> 0.5021\n",
      "Save model in /opt/ml/input/code/trained_model/[DeepLabV3Plus_efficientnet-b4]_[size:(512, 512)]_[loss:[(BCEWithLogitsLoss(), 0.5), (SmoothL1Loss(), 0.5)]]_[LR:0.0001]_[seed:21]_[epoch:50]\n",
      "2023-06-10 01:21:23 | Epoch [40/50], Step [0/80]\n",
      "2023-06-10 01:22:39 | Epoch [40/50], Step [25/80], Loss: 0.298\n",
      "2023-06-10 01:23:57 | Epoch [40/50], Step [50/80], Loss: 0.298\n",
      "2023-06-10 01:25:15 | Epoch [40/50], Step [75/80], Loss: 0.2979\n",
      "Start validation #40\n"
     ]
    },
    {
     "data": {
      "application/vnd.jupyter.widget-view+json": {
       "model_id": "e9fdd3a9d8da4f16b4e79f7bbe761004",
       "version_major": 2,
       "version_minor": 0
      },
      "text/plain": [
       "HBox(children=(HTML(value=''), FloatProgress(value=0.0, max=80.0), HTML(value='')))"
      ]
     },
     "metadata": {},
     "output_type": "display_data"
    },
    {
     "name": "stdout",
     "output_type": "stream",
     "text": [
      "\n",
      "finger-1    : 0.0000\n",
      "finger-2    : 0.6550\n",
      "finger-3    : 0.7431\n",
      "finger-4    : 0.0169\n",
      "finger-5    : 0.2995\n",
      "finger-6    : 0.7219\n",
      "finger-7    : 0.7643\n",
      "finger-8    : 0.1096\n",
      "finger-9    : 0.7538\n",
      "finger-10   : 0.7611\n",
      "finger-11   : 0.7641\n",
      "finger-12   : 0.0097\n",
      "finger-13   : 0.0032\n",
      "finger-14   : 0.7382\n",
      "finger-15   : 0.7568\n",
      "finger-16   : 0.0041\n",
      "finger-17   : 0.0000\n",
      "finger-18   : 0.5193\n",
      "finger-19   : 0.7679\n",
      "Trapezium   : 0.6688\n",
      "Trapezoid   : 0.6002\n",
      "Capitate    : 0.7407\n",
      "Hamate      : 0.7207\n",
      "Scaphoid    : 0.6850\n",
      "Lunate      : 0.5288\n",
      "Triquetrum  : 0.6813\n",
      "Pisiform    : 0.5989\n",
      "Radius      : 0.8560\n",
      "Ulna        : 0.7722\n",
      "Best performance at epoch: 40, 0.5021 -> 0.5256\n",
      "Save model in /opt/ml/input/code/trained_model/[DeepLabV3Plus_efficientnet-b4]_[size:(512, 512)]_[loss:[(BCEWithLogitsLoss(), 0.5), (SmoothL1Loss(), 0.5)]]_[LR:0.0001]_[seed:21]_[epoch:50]\n",
      "2023-06-10 01:26:35 | Epoch [41/50], Step [0/80]\n",
      "2023-06-10 01:27:54 | Epoch [41/50], Step [25/80], Loss: 0.2979\n",
      "2023-06-10 01:29:12 | Epoch [41/50], Step [50/80], Loss: 0.2979\n",
      "2023-06-10 01:30:29 | Epoch [41/50], Step [75/80], Loss: 0.2978\n",
      "Start validation #41\n"
     ]
    },
    {
     "data": {
      "application/vnd.jupyter.widget-view+json": {
       "model_id": "bb672370bbd140628aea19d344bbdbae",
       "version_major": 2,
       "version_minor": 0
      },
      "text/plain": [
       "HBox(children=(HTML(value=''), FloatProgress(value=0.0, max=80.0), HTML(value='')))"
      ]
     },
     "metadata": {},
     "output_type": "display_data"
    },
    {
     "name": "stdout",
     "output_type": "stream",
     "text": [
      "\n",
      "finger-1    : 0.0002\n",
      "finger-2    : 0.7184\n",
      "finger-3    : 0.7377\n",
      "finger-4    : 0.0256\n",
      "finger-5    : 0.4616\n",
      "finger-6    : 0.7196\n",
      "finger-7    : 0.7653\n",
      "finger-8    : 0.1258\n",
      "finger-9    : 0.7536\n",
      "finger-10   : 0.7610\n",
      "finger-11   : 0.7686\n",
      "finger-12   : 0.0113\n",
      "finger-13   : 0.0130\n",
      "finger-14   : 0.7369\n",
      "finger-15   : 0.7580\n",
      "finger-16   : 0.0041\n",
      "finger-17   : 0.0000\n",
      "finger-18   : 0.6525\n",
      "finger-19   : 0.7696\n",
      "Trapezium   : 0.6715\n",
      "Trapezoid   : 0.6370\n",
      "Capitate    : 0.7418\n",
      "Hamate      : 0.7217\n",
      "Scaphoid    : 0.6883\n",
      "Lunate      : 0.5657\n",
      "Triquetrum  : 0.7106\n",
      "Pisiform    : 0.6211\n",
      "Radius      : 0.8569\n",
      "Ulna        : 0.7745\n",
      "Best performance at epoch: 41, 0.5256 -> 0.5439\n",
      "Save model in /opt/ml/input/code/trained_model/[DeepLabV3Plus_efficientnet-b4]_[size:(512, 512)]_[loss:[(BCEWithLogitsLoss(), 0.5), (SmoothL1Loss(), 0.5)]]_[LR:0.0001]_[seed:21]_[epoch:50]\n",
      "2023-06-10 01:31:48 | Epoch [42/50], Step [0/80]\n",
      "2023-06-10 01:33:07 | Epoch [42/50], Step [25/80], Loss: 0.2978\n",
      "2023-06-10 01:34:24 | Epoch [42/50], Step [50/80], Loss: 0.2978\n",
      "2023-06-10 01:35:47 | Epoch [42/50], Step [75/80], Loss: 0.2977\n",
      "Start validation #42\n"
     ]
    },
    {
     "data": {
      "application/vnd.jupyter.widget-view+json": {
       "model_id": "6e59a3c177f245e98c4ab7249278a788",
       "version_major": 2,
       "version_minor": 0
      },
      "text/plain": [
       "HBox(children=(HTML(value=''), FloatProgress(value=0.0, max=80.0), HTML(value='')))"
      ]
     },
     "metadata": {},
     "output_type": "display_data"
    },
    {
     "name": "stdout",
     "output_type": "stream",
     "text": [
      "\n",
      "finger-1    : 0.0009\n",
      "finger-2    : 0.7485\n",
      "finger-3    : 0.7432\n",
      "finger-4    : 0.0392\n",
      "finger-5    : 0.5735\n",
      "finger-6    : 0.7197\n",
      "finger-7    : 0.7680\n",
      "finger-8    : 0.1485\n",
      "finger-9    : 0.7529\n",
      "finger-10   : 0.7628\n",
      "finger-11   : 0.7720\n",
      "finger-12   : 0.0145\n",
      "finger-13   : 0.0645\n",
      "finger-14   : 0.7352\n",
      "finger-15   : 0.7592\n",
      "finger-16   : 0.0047\n",
      "finger-17   : 0.0000\n",
      "finger-18   : 0.7215\n",
      "finger-19   : 0.7647\n",
      "Trapezium   : 0.6703\n",
      "Trapezoid   : 0.6627\n",
      "Capitate    : 0.7450\n",
      "Hamate      : 0.7259\n",
      "Scaphoid    : 0.6889\n",
      "Lunate      : 0.6034\n",
      "Triquetrum  : 0.7291\n",
      "Pisiform    : 0.6410\n",
      "Radius      : 0.8589\n",
      "Ulna        : 0.7800\n",
      "Best performance at epoch: 42, 0.5439 -> 0.5586\n",
      "Save model in /opt/ml/input/code/trained_model/[DeepLabV3Plus_efficientnet-b4]_[size:(512, 512)]_[loss:[(BCEWithLogitsLoss(), 0.5), (SmoothL1Loss(), 0.5)]]_[LR:0.0001]_[seed:21]_[epoch:50]\n",
      "2023-06-10 01:37:09 | Epoch [43/50], Step [0/80]\n",
      "2023-06-10 01:38:26 | Epoch [43/50], Step [25/80], Loss: 0.2978\n",
      "2023-06-10 01:39:41 | Epoch [43/50], Step [50/80], Loss: 0.2978\n",
      "2023-06-10 01:40:57 | Epoch [43/50], Step [75/80], Loss: 0.2977\n",
      "Start validation #43\n"
     ]
    },
    {
     "data": {
      "application/vnd.jupyter.widget-view+json": {
       "model_id": "8c0ee02466414be48eb2197667490038",
       "version_major": 2,
       "version_minor": 0
      },
      "text/plain": [
       "HBox(children=(HTML(value=''), FloatProgress(value=0.0, max=80.0), HTML(value='')))"
      ]
     },
     "metadata": {},
     "output_type": "display_data"
    },
    {
     "name": "stdout",
     "output_type": "stream",
     "text": [
      "\n",
      "finger-1    : 0.0038\n",
      "finger-2    : 0.7609\n",
      "finger-3    : 0.7375\n",
      "finger-4    : 0.0564\n",
      "finger-5    : 0.6475\n",
      "finger-6    : 0.7195\n",
      "finger-7    : 0.7696\n",
      "finger-8    : 0.1743\n",
      "finger-9    : 0.7503\n",
      "finger-10   : 0.7650\n",
      "finger-11   : 0.7759\n",
      "finger-12   : 0.0194\n",
      "finger-13   : 0.1788\n",
      "finger-14   : 0.7341\n",
      "finger-15   : 0.7601\n",
      "finger-16   : 0.0050\n",
      "finger-17   : 0.0000\n",
      "finger-18   : 0.7520\n",
      "finger-19   : 0.7582\n",
      "Trapezium   : 0.6699\n",
      "Trapezoid   : 0.6811\n",
      "Capitate    : 0.7448\n",
      "Hamate      : 0.7302\n",
      "Scaphoid    : 0.6906\n",
      "Lunate      : 0.6411\n",
      "Triquetrum  : 0.7366\n",
      "Pisiform    : 0.6579\n",
      "Radius      : 0.8596\n",
      "Ulna        : 0.7838\n",
      "Best performance at epoch: 43, 0.5586 -> 0.5712\n",
      "Save model in /opt/ml/input/code/trained_model/[DeepLabV3Plus_efficientnet-b4]_[size:(512, 512)]_[loss:[(BCEWithLogitsLoss(), 0.5), (SmoothL1Loss(), 0.5)]]_[LR:0.0001]_[seed:21]_[epoch:50]\n",
      "2023-06-10 01:42:18 | Epoch [44/50], Step [0/80]\n",
      "2023-06-10 01:43:34 | Epoch [44/50], Step [25/80], Loss: 0.2977\n",
      "2023-06-10 01:44:53 | Epoch [44/50], Step [50/80], Loss: 0.2977\n",
      "2023-06-10 01:46:11 | Epoch [44/50], Step [75/80], Loss: 0.2976\n",
      "Start validation #44\n"
     ]
    },
    {
     "data": {
      "application/vnd.jupyter.widget-view+json": {
       "model_id": "ef2fa866b2264105b9438d7c6a24e32b",
       "version_major": 2,
       "version_minor": 0
      },
      "text/plain": [
       "HBox(children=(HTML(value=''), FloatProgress(value=0.0, max=80.0), HTML(value='')))"
      ]
     },
     "metadata": {},
     "output_type": "display_data"
    },
    {
     "name": "stdout",
     "output_type": "stream",
     "text": [
      "\n",
      "finger-1    : 0.0114\n",
      "finger-2    : 0.7647\n",
      "finger-3    : 0.7422\n",
      "finger-4    : 0.0764\n",
      "finger-5    : 0.6910\n",
      "finger-6    : 0.7181\n",
      "finger-7    : 0.7725\n",
      "finger-8    : 0.2066\n",
      "finger-9    : 0.7470\n",
      "finger-10   : 0.7679\n",
      "finger-11   : 0.7799\n",
      "finger-12   : 0.0306\n",
      "finger-13   : 0.3458\n",
      "finger-14   : 0.7334\n",
      "finger-15   : 0.7605\n",
      "finger-16   : 0.0058\n",
      "finger-17   : 0.0000\n",
      "finger-18   : 0.7626\n",
      "finger-19   : 0.7501\n",
      "Trapezium   : 0.6691\n",
      "Trapezoid   : 0.6931\n",
      "Capitate    : 0.7472\n",
      "Hamate      : 0.7307\n",
      "Scaphoid    : 0.6906\n",
      "Lunate      : 0.6757\n",
      "Triquetrum  : 0.7389\n",
      "Pisiform    : 0.6746\n",
      "Radius      : 0.8611\n",
      "Ulna        : 0.7878\n",
      "Best performance at epoch: 44, 0.5712 -> 0.5840\n",
      "Save model in /opt/ml/input/code/trained_model/[DeepLabV3Plus_efficientnet-b4]_[size:(512, 512)]_[loss:[(BCEWithLogitsLoss(), 0.5), (SmoothL1Loss(), 0.5)]]_[LR:0.0001]_[seed:21]_[epoch:50]\n",
      "2023-06-10 01:47:32 | Epoch [45/50], Step [0/80]\n",
      "2023-06-10 01:48:51 | Epoch [45/50], Step [25/80], Loss: 0.2977\n",
      "2023-06-10 01:50:07 | Epoch [45/50], Step [50/80], Loss: 0.2977\n",
      "2023-06-10 01:51:24 | Epoch [45/50], Step [75/80], Loss: 0.2976\n",
      "Start validation #45\n"
     ]
    },
    {
     "data": {
      "application/vnd.jupyter.widget-view+json": {
       "model_id": "957c45eb338a4000a329f8fa38170109",
       "version_major": 2,
       "version_minor": 0
      },
      "text/plain": [
       "HBox(children=(HTML(value=''), FloatProgress(value=0.0, max=80.0), HTML(value='')))"
      ]
     },
     "metadata": {},
     "output_type": "display_data"
    },
    {
     "name": "stdout",
     "output_type": "stream",
     "text": [
      "\n",
      "finger-1    : 0.0256\n",
      "finger-2    : 0.7654\n",
      "finger-3    : 0.7424\n",
      "finger-4    : 0.1001\n",
      "finger-5    : 0.7151\n",
      "finger-6    : 0.7181\n",
      "finger-7    : 0.7753\n",
      "finger-8    : 0.2427\n",
      "finger-9    : 0.7433\n",
      "finger-10   : 0.7710\n",
      "finger-11   : 0.7823\n",
      "finger-12   : 0.0476\n",
      "finger-13   : 0.5328\n",
      "finger-14   : 0.7335\n",
      "finger-15   : 0.7601\n",
      "finger-16   : 0.0069\n",
      "finger-17   : 0.0000\n",
      "finger-18   : 0.7631\n",
      "finger-19   : 0.7427\n",
      "Trapezium   : 0.6676\n",
      "Trapezoid   : 0.6993\n",
      "Capitate    : 0.7489\n",
      "Hamate      : 0.7296\n",
      "Scaphoid    : 0.6899\n",
      "Lunate      : 0.6996\n",
      "Triquetrum  : 0.7359\n",
      "Pisiform    : 0.6885\n",
      "Radius      : 0.8622\n",
      "Ulna        : 0.7931\n",
      "Best performance at epoch: 45, 0.5840 -> 0.5960\n",
      "Save model in /opt/ml/input/code/trained_model/[DeepLabV3Plus_efficientnet-b4]_[size:(512, 512)]_[loss:[(BCEWithLogitsLoss(), 0.5), (SmoothL1Loss(), 0.5)]]_[LR:0.0001]_[seed:21]_[epoch:50]\n",
      "2023-06-10 01:52:44 | Epoch [46/50], Step [0/80]\n",
      "2023-06-10 01:54:03 | Epoch [46/50], Step [25/80], Loss: 0.2976\n",
      "2023-06-10 01:55:20 | Epoch [46/50], Step [50/80], Loss: 0.2976\n",
      "2023-06-10 01:56:35 | Epoch [46/50], Step [75/80], Loss: 0.2975\n",
      "Start validation #46\n"
     ]
    },
    {
     "data": {
      "application/vnd.jupyter.widget-view+json": {
       "model_id": "e7684608384342aa97a5e4182ccf5c23",
       "version_major": 2,
       "version_minor": 0
      },
      "text/plain": [
       "HBox(children=(HTML(value=''), FloatProgress(value=0.0, max=80.0), HTML(value='')))"
      ]
     },
     "metadata": {},
     "output_type": "display_data"
    },
    {
     "name": "stdout",
     "output_type": "stream",
     "text": [
      "\n",
      "finger-1    : 0.0502\n",
      "finger-2    : 0.7638\n",
      "finger-3    : 0.7420\n",
      "finger-4    : 0.1246\n",
      "finger-5    : 0.7270\n",
      "finger-6    : 0.7190\n",
      "finger-7    : 0.7772\n",
      "finger-8    : 0.2830\n",
      "finger-9    : 0.7403\n",
      "finger-10   : 0.7733\n",
      "finger-11   : 0.7846\n",
      "finger-12   : 0.0764\n",
      "finger-13   : 0.6569\n",
      "finger-14   : 0.7331\n",
      "finger-15   : 0.7597\n",
      "finger-16   : 0.0080\n",
      "finger-17   : 0.0000\n",
      "finger-18   : 0.7601\n",
      "finger-19   : 0.7359\n",
      "Trapezium   : 0.6654\n",
      "Trapezoid   : 0.7018\n",
      "Capitate    : 0.7510\n",
      "Hamate      : 0.7276\n",
      "Scaphoid    : 0.6892\n",
      "Lunate      : 0.7166\n",
      "Triquetrum  : 0.7297\n",
      "Pisiform    : 0.6998\n",
      "Radius      : 0.8631\n",
      "Ulna        : 0.7982\n",
      "Best performance at epoch: 46, 0.5960 -> 0.6054\n",
      "Save model in /opt/ml/input/code/trained_model/[DeepLabV3Plus_efficientnet-b4]_[size:(512, 512)]_[loss:[(BCEWithLogitsLoss(), 0.5), (SmoothL1Loss(), 0.5)]]_[LR:0.0001]_[seed:21]_[epoch:50]\n",
      "2023-06-10 01:57:54 | Epoch [47/50], Step [0/80]\n",
      "2023-06-10 01:59:10 | Epoch [47/50], Step [25/80], Loss: 0.2976\n",
      "2023-06-10 02:00:27 | Epoch [47/50], Step [50/80], Loss: 0.2976\n",
      "2023-06-10 02:01:43 | Epoch [47/50], Step [75/80], Loss: 0.2975\n",
      "Start validation #47\n"
     ]
    },
    {
     "data": {
      "application/vnd.jupyter.widget-view+json": {
       "model_id": "674f600bd0c24e37b8d3a202f455d052",
       "version_major": 2,
       "version_minor": 0
      },
      "text/plain": [
       "HBox(children=(HTML(value=''), FloatProgress(value=0.0, max=80.0), HTML(value='')))"
      ]
     },
     "metadata": {},
     "output_type": "display_data"
    },
    {
     "name": "stdout",
     "output_type": "stream",
     "text": [
      "\n",
      "finger-1    : 0.1010\n",
      "finger-2    : 0.7608\n",
      "finger-3    : 0.7431\n",
      "finger-4    : 0.1525\n",
      "finger-5    : 0.7333\n",
      "finger-6    : 0.7214\n",
      "finger-7    : 0.7792\n",
      "finger-8    : 0.3263\n",
      "finger-9    : 0.7382\n",
      "finger-10   : 0.7758\n",
      "finger-11   : 0.7864\n",
      "finger-12   : 0.1137\n",
      "finger-13   : 0.7114\n",
      "finger-14   : 0.7328\n",
      "finger-15   : 0.7603\n",
      "finger-16   : 0.0101\n",
      "finger-17   : 0.0008\n",
      "finger-18   : 0.7538\n",
      "finger-19   : 0.7311\n",
      "Trapezium   : 0.6629\n",
      "Trapezoid   : 0.7029\n",
      "Capitate    : 0.7517\n",
      "Hamate      : 0.7262\n",
      "Scaphoid    : 0.6898\n",
      "Lunate      : 0.7287\n",
      "Triquetrum  : 0.7222\n",
      "Pisiform    : 0.7090\n",
      "Radius      : 0.8641\n",
      "Ulna        : 0.8033\n",
      "Best performance at epoch: 47, 0.6054 -> 0.6135\n",
      "Save model in /opt/ml/input/code/trained_model/[DeepLabV3Plus_efficientnet-b4]_[size:(512, 512)]_[loss:[(BCEWithLogitsLoss(), 0.5), (SmoothL1Loss(), 0.5)]]_[LR:0.0001]_[seed:21]_[epoch:50]\n",
      "2023-06-10 02:03:02 | Epoch [48/50], Step [0/80]\n",
      "2023-06-10 02:04:20 | Epoch [48/50], Step [25/80], Loss: 0.2975\n",
      "2023-06-10 02:05:36 | Epoch [48/50], Step [50/80], Loss: 0.2975\n",
      "2023-06-10 02:06:53 | Epoch [48/50], Step [75/80], Loss: 0.2975\n",
      "Start validation #48\n"
     ]
    },
    {
     "data": {
      "application/vnd.jupyter.widget-view+json": {
       "model_id": "4b53a0664f4e4151ab871f6685262dc2",
       "version_major": 2,
       "version_minor": 0
      },
      "text/plain": [
       "HBox(children=(HTML(value=''), FloatProgress(value=0.0, max=80.0), HTML(value='')))"
      ]
     },
     "metadata": {},
     "output_type": "display_data"
    },
    {
     "name": "stdout",
     "output_type": "stream",
     "text": [
      "\n",
      "finger-1    : 0.1771\n",
      "finger-2    : 0.7574\n",
      "finger-3    : 0.7451\n",
      "finger-4    : 0.1801\n",
      "finger-5    : 0.7376\n",
      "finger-6    : 0.7246\n",
      "finger-7    : 0.7807\n",
      "finger-8    : 0.3719\n",
      "finger-9    : 0.7370\n",
      "finger-10   : 0.7783\n",
      "finger-11   : 0.7881\n",
      "finger-12   : 0.1531\n",
      "finger-13   : 0.7329\n",
      "finger-14   : 0.7333\n",
      "finger-15   : 0.7612\n",
      "finger-16   : 0.0130\n",
      "finger-17   : 0.0137\n",
      "finger-18   : 0.7475\n",
      "finger-19   : 0.7279\n",
      "Trapezium   : 0.6613\n",
      "Trapezoid   : 0.7016\n",
      "Capitate    : 0.7526\n",
      "Hamate      : 0.7252\n",
      "Scaphoid    : 0.6899\n",
      "Lunate      : 0.7366\n",
      "Triquetrum  : 0.7122\n",
      "Pisiform    : 0.7158\n",
      "Radius      : 0.8653\n",
      "Ulna        : 0.8081\n",
      "Best performance at epoch: 48, 0.6135 -> 0.6217\n",
      "Save model in /opt/ml/input/code/trained_model/[DeepLabV3Plus_efficientnet-b4]_[size:(512, 512)]_[loss:[(BCEWithLogitsLoss(), 0.5), (SmoothL1Loss(), 0.5)]]_[LR:0.0001]_[seed:21]_[epoch:50]\n",
      "2023-06-10 02:08:14 | Epoch [49/50], Step [0/80]\n",
      "2023-06-10 02:09:31 | Epoch [49/50], Step [25/80], Loss: 0.2975\n",
      "2023-06-10 02:10:47 | Epoch [49/50], Step [50/80], Loss: 0.2975\n",
      "2023-06-10 02:12:03 | Epoch [49/50], Step [75/80], Loss: 0.2974\n",
      "Start validation #49\n"
     ]
    },
    {
     "data": {
      "application/vnd.jupyter.widget-view+json": {
       "model_id": "a30071598b85435e81e59057c8d5deb2",
       "version_major": 2,
       "version_minor": 0
      },
      "text/plain": [
       "HBox(children=(HTML(value=''), FloatProgress(value=0.0, max=80.0), HTML(value='')))"
      ]
     },
     "metadata": {},
     "output_type": "display_data"
    },
    {
     "name": "stdout",
     "output_type": "stream",
     "text": [
      "\n",
      "finger-1    : 0.2660\n",
      "finger-2    : 0.7537\n",
      "finger-3    : 0.7466\n",
      "finger-4    : 0.2096\n",
      "finger-5    : 0.7390\n",
      "finger-6    : 0.7273\n",
      "finger-7    : 0.7827\n",
      "finger-8    : 0.4197\n",
      "finger-9    : 0.7367\n",
      "finger-10   : 0.7792\n",
      "finger-11   : 0.7907\n",
      "finger-12   : 0.1926\n",
      "finger-13   : 0.7430\n",
      "finger-14   : 0.7351\n",
      "finger-15   : 0.7622\n",
      "finger-16   : 0.0164\n",
      "finger-17   : 0.0523\n",
      "finger-18   : 0.7420\n",
      "finger-19   : 0.7264\n",
      "Trapezium   : 0.6609\n",
      "Trapezoid   : 0.7019\n",
      "Capitate    : 0.7544\n",
      "Hamate      : 0.7260\n",
      "Scaphoid    : 0.6907\n",
      "Lunate      : 0.7422\n",
      "Triquetrum  : 0.7050\n",
      "Pisiform    : 0.7194\n",
      "Radius      : 0.8667\n",
      "Ulna        : 0.8129\n",
      "Best performance at epoch: 49, 0.6217 -> 0.6311\n",
      "Save model in /opt/ml/input/code/trained_model/[DeepLabV3Plus_efficientnet-b4]_[size:(512, 512)]_[loss:[(BCEWithLogitsLoss(), 0.5), (SmoothL1Loss(), 0.5)]]_[LR:0.0001]_[seed:21]_[epoch:50]\n",
      "2023-06-10 02:13:23 | Epoch [50/50], Step [0/80]\n",
      "2023-06-10 02:14:41 | Epoch [50/50], Step [25/80], Loss: 0.2974\n",
      "2023-06-10 02:15:58 | Epoch [50/50], Step [50/80], Loss: 0.2974\n",
      "2023-06-10 02:17:13 | Epoch [50/50], Step [75/80], Loss: 0.2974\n",
      "Start validation #50\n"
     ]
    },
    {
     "data": {
      "application/vnd.jupyter.widget-view+json": {
       "model_id": "b75814fbae52487881a5c8e830ce474e",
       "version_major": 2,
       "version_minor": 0
      },
      "text/plain": [
       "HBox(children=(HTML(value=''), FloatProgress(value=0.0, max=80.0), HTML(value='')))"
      ]
     },
     "metadata": {},
     "output_type": "display_data"
    },
    {
     "name": "stdout",
     "output_type": "stream",
     "text": [
      "\n",
      "finger-1    : 0.3621\n",
      "finger-2    : 0.7484\n",
      "finger-3    : 0.7476\n",
      "finger-4    : 0.2397\n",
      "finger-5    : 0.7388\n",
      "finger-6    : 0.7292\n",
      "finger-7    : 0.7845\n",
      "finger-8    : 0.4690\n",
      "finger-9    : 0.7356\n",
      "finger-10   : 0.7794\n",
      "finger-11   : 0.7929\n",
      "finger-12   : 0.2329\n",
      "finger-13   : 0.7497\n",
      "finger-14   : 0.7357\n",
      "finger-15   : 0.7612\n",
      "finger-16   : 0.0202\n",
      "finger-17   : 0.1251\n",
      "finger-18   : 0.7356\n",
      "finger-19   : 0.7236\n",
      "Trapezium   : 0.6607\n",
      "Trapezoid   : 0.7004\n",
      "Capitate    : 0.7568\n",
      "Hamate      : 0.7261\n",
      "Scaphoid    : 0.6896\n",
      "Lunate      : 0.7466\n",
      "Triquetrum  : 0.6978\n",
      "Pisiform    : 0.7217\n",
      "Radius      : 0.8679\n",
      "Ulna        : 0.8168\n",
      "Best performance at epoch: 50, 0.6311 -> 0.6412\n",
      "Save model in /opt/ml/input/code/trained_model/[DeepLabV3Plus_efficientnet-b4]_[size:(512, 512)]_[loss:[(BCEWithLogitsLoss(), 0.5), (SmoothL1Loss(), 0.5)]]_[LR:0.0001]_[seed:21]_[epoch:50]\n"
     ]
    }
   ],
   "source": [
    "set_seed(RANDOM_SEED)\n",
    "\n",
    "folder_name = train(model, train_loader, valid_loader, criterion, optimizer, epoch, VAL_EVERY, folder_name)"
   ]
  },
  {
   "cell_type": "code",
   "execution_count": 14,
   "id": "c9a2c1a0-c9f8-4769-8298-00083f079a44",
   "metadata": {},
   "outputs": [],
   "source": [
    "#inference(folder_name, A.Resize(resize, resize))"
   ]
  }
 ],
 "metadata": {
  "kernelspec": {
   "display_name": "Python 3 (ipykernel)",
   "language": "python",
   "name": "python3"
  },
  "language_info": {
   "codemirror_mode": {
    "name": "ipython",
    "version": 3
   },
   "file_extension": ".py",
   "mimetype": "text/x-python",
   "name": "python",
   "nbconvert_exporter": "python",
   "pygments_lexer": "ipython3",
   "version": "3.8.5"
  }
 },
 "nbformat": 4,
 "nbformat_minor": 5
}
